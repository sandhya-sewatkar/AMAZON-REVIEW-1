{
 "cells": [
  {
   "cell_type": "code",
   "execution_count": 1,
   "id": "adf56cb0",
   "metadata": {
    "_cell_guid": "b1076dfc-b9ad-4769-8c92-a6c4dae69d19",
    "_uuid": "8f2839f25d086af736a60e9eeb907d3b93b6e0e5",
    "papermill": {
     "duration": 0.090772,
     "end_time": "2022-11-03T21:06:38.748767",
     "exception": false,
     "start_time": "2022-11-03T21:06:38.657995",
     "status": "completed"
    },
    "tags": []
   },
   "outputs": [],
   "source": [
    "import numpy as np \n",
    "import pandas as pd "
   ]
  },
  {
   "cell_type": "code",
   "execution_count": 2,
   "id": "ff45ad5b",
   "metadata": {
    "papermill": {
     "duration": 1.420042,
     "end_time": "2022-11-03T21:06:40.215414",
     "exception": false,
     "start_time": "2022-11-03T21:06:38.795372",
     "status": "completed"
    },
    "tags": []
   },
   "outputs": [],
   "source": [
    "import numpy as np\n",
    "import pandas as pd\n",
    "import matplotlib.pyplot as plt\n",
    "import seaborn as sns \n",
    "plt.style.use(\"dark_background\")"
   ]
  },
  {
   "cell_type": "code",
   "execution_count": 3,
   "id": "4d763af4",
   "metadata": {
    "papermill": {
     "duration": 0.103593,
     "end_time": "2022-11-03T21:06:40.362802",
     "exception": false,
     "start_time": "2022-11-03T21:06:40.259209",
     "status": "completed"
    },
    "tags": []
   },
   "outputs": [],
   "source": [
    "d_books=pd.read_csv(r\"C:\\Users\\LENOVO\\Downloads\\amazon_books_Data.csv\")\n",
    "d_ebook=pd.read_csv(r\"C:\\Users\\LENOVO\\Downloads\\amazon_ebook_Data.csv\")\n",
    "d_grocery=pd.read_csv(r\"C:\\Users\\LENOVO\\Downloads\\amazon_grocery_Data.csv\")\n",
    "d_jwellery= pd.read_csv(r\"C:\\Users\\LENOVO\\Downloads\\amazon_jwellery_Data.csv\")\n",
    "d_pc=pd.read_csv(r\"C:\\Users\\LENOVO\\Downloads\\amazon_pc_Data.csv\")"
   ]
  },
  {
   "cell_type": "markdown",
   "id": "f2d7c51d",
   "metadata": {
    "papermill": {
     "duration": 0.038803,
     "end_time": "2022-11-03T21:06:40.442873",
     "exception": false,
     "start_time": "2022-11-03T21:06:40.404070",
     "status": "completed"
    },
    "tags": []
   },
   "source": [
    "# Analysing books reviews"
   ]
  },
  {
   "cell_type": "code",
   "execution_count": 4,
   "id": "dba7f2c0",
   "metadata": {
    "papermill": {
     "duration": 0.078038,
     "end_time": "2022-11-03T21:06:40.560361",
     "exception": false,
     "start_time": "2022-11-03T21:06:40.482323",
     "status": "completed"
    },
    "tags": []
   },
   "outputs": [
    {
     "data": {
      "text/html": [
       "<div>\n",
       "<style scoped>\n",
       "    .dataframe tbody tr th:only-of-type {\n",
       "        vertical-align: middle;\n",
       "    }\n",
       "\n",
       "    .dataframe tbody tr th {\n",
       "        vertical-align: top;\n",
       "    }\n",
       "\n",
       "    .dataframe thead th {\n",
       "        text-align: right;\n",
       "    }\n",
       "</style>\n",
       "<table border=\"1\" class=\"dataframe\">\n",
       "  <thead>\n",
       "    <tr style=\"text-align: right;\">\n",
       "      <th></th>\n",
       "      <th>Unnamed: 0</th>\n",
       "      <th>market_place</th>\n",
       "      <th>customer_id</th>\n",
       "      <th>review_id</th>\n",
       "      <th>product_id</th>\n",
       "      <th>product_parent</th>\n",
       "      <th>product_title</th>\n",
       "      <th>product_category</th>\n",
       "      <th>star_rating</th>\n",
       "      <th>helpful_votes</th>\n",
       "      <th>total_votes</th>\n",
       "      <th>vine</th>\n",
       "      <th>verified_purchase</th>\n",
       "      <th>review_headline</th>\n",
       "      <th>review_body</th>\n",
       "      <th>review_date</th>\n",
       "      <th>Sentiment_books</th>\n",
       "      <th>review_month</th>\n",
       "      <th>review_day</th>\n",
       "      <th>review_year</th>\n",
       "    </tr>\n",
       "  </thead>\n",
       "  <tbody>\n",
       "    <tr>\n",
       "      <th>0</th>\n",
       "      <td>0</td>\n",
       "      <td>\"US\"</td>\n",
       "      <td>\"25933450\"</td>\n",
       "      <td>\"RJOVP071AVAJO\"</td>\n",
       "      <td>\"0439873800\"</td>\n",
       "      <td>\"84656342\"</td>\n",
       "      <td>\"There Was an Old Lady Who Swallowed a Shell!\"</td>\n",
       "      <td>\"Books\"</td>\n",
       "      <td>1</td>\n",
       "      <td>0</td>\n",
       "      <td>0</td>\n",
       "      <td>0 \\t(N)</td>\n",
       "      <td>1 \\t(Y)</td>\n",
       "      <td>\"Five Stars\"</td>\n",
       "      <td>\"I love it and so does my students!\"</td>\n",
       "      <td>2015-08-31</td>\n",
       "      <td>positive</td>\n",
       "      <td>August</td>\n",
       "      <td>Monday</td>\n",
       "      <td>2015</td>\n",
       "    </tr>\n",
       "    <tr>\n",
       "      <th>1</th>\n",
       "      <td>1</td>\n",
       "      <td>\"US\"</td>\n",
       "      <td>\"1801372\"</td>\n",
       "      <td>\"R1ORGBETCDW3AI\"</td>\n",
       "      <td>\"1623953553\"</td>\n",
       "      <td>\"729938122\"</td>\n",
       "      <td>\"I Saw a Friend\"</td>\n",
       "      <td>\"Books\"</td>\n",
       "      <td>1</td>\n",
       "      <td>0</td>\n",
       "      <td>0</td>\n",
       "      <td>0 \\t(N)</td>\n",
       "      <td>1 \\t(Y)</td>\n",
       "      <td>\"Please buy \"I Saw a Friend\"! Your children wi...</td>\n",
       "      <td>\"My wife and I ordered 2 books and gave them a...</td>\n",
       "      <td>2015-08-31</td>\n",
       "      <td>positive</td>\n",
       "      <td>August</td>\n",
       "      <td>Monday</td>\n",
       "      <td>2015</td>\n",
       "    </tr>\n",
       "    <tr>\n",
       "      <th>2</th>\n",
       "      <td>2</td>\n",
       "      <td>\"US\"</td>\n",
       "      <td>\"5782091\"</td>\n",
       "      <td>\"R7TNRFQAOUTX5\"</td>\n",
       "      <td>\"142151981X\"</td>\n",
       "      <td>\"678139048\"</td>\n",
       "      <td>\"Black Lagoon, Vol. 6\"</td>\n",
       "      <td>\"Books\"</td>\n",
       "      <td>1</td>\n",
       "      <td>0</td>\n",
       "      <td>0</td>\n",
       "      <td>0 \\t(N)</td>\n",
       "      <td>1 \\t(Y)</td>\n",
       "      <td>\"Shipped fast.\"</td>\n",
       "      <td>\"Great book just like all the others in the se...</td>\n",
       "      <td>2015-08-31</td>\n",
       "      <td>positive</td>\n",
       "      <td>August</td>\n",
       "      <td>Monday</td>\n",
       "      <td>2015</td>\n",
       "    </tr>\n",
       "    <tr>\n",
       "      <th>3</th>\n",
       "      <td>3</td>\n",
       "      <td>\"US\"</td>\n",
       "      <td>\"32715830\"</td>\n",
       "      <td>\"R2GANXKDIFZ6OI\"</td>\n",
       "      <td>\"014241543X\"</td>\n",
       "      <td>\"712432151\"</td>\n",
       "      <td>\"If I Stay\"</td>\n",
       "      <td>\"Books\"</td>\n",
       "      <td>1</td>\n",
       "      <td>0</td>\n",
       "      <td>0</td>\n",
       "      <td>0 \\t(N)</td>\n",
       "      <td>0 \\t(N)</td>\n",
       "      <td>\"Five Stars\"</td>\n",
       "      <td>\"So beautiful\"</td>\n",
       "      <td>2015-08-31</td>\n",
       "      <td>positive</td>\n",
       "      <td>August</td>\n",
       "      <td>Monday</td>\n",
       "      <td>2015</td>\n",
       "    </tr>\n",
       "    <tr>\n",
       "      <th>4</th>\n",
       "      <td>4</td>\n",
       "      <td>\"US\"</td>\n",
       "      <td>\"14005703\"</td>\n",
       "      <td>\"R2NYB6C3R8LVN6\"</td>\n",
       "      <td>\"1604600527\"</td>\n",
       "      <td>\"800572372\"</td>\n",
       "      <td>\"Stars 'N Strips Forever\"</td>\n",
       "      <td>\"Books\"</td>\n",
       "      <td>1</td>\n",
       "      <td>2</td>\n",
       "      <td>2</td>\n",
       "      <td>0 \\t(N)</td>\n",
       "      <td>1 \\t(Y)</td>\n",
       "      <td>\"Five Stars\"</td>\n",
       "      <td>\"Enjoyed the author's story and his quilts are...</td>\n",
       "      <td>2015-08-31</td>\n",
       "      <td>positive</td>\n",
       "      <td>August</td>\n",
       "      <td>Monday</td>\n",
       "      <td>2015</td>\n",
       "    </tr>\n",
       "  </tbody>\n",
       "</table>\n",
       "</div>"
      ],
      "text/plain": [
       "   Unnamed: 0 market_place customer_id         review_id    product_id  \\\n",
       "0           0         \"US\"  \"25933450\"   \"RJOVP071AVAJO\"  \"0439873800\"   \n",
       "1           1         \"US\"   \"1801372\"  \"R1ORGBETCDW3AI\"  \"1623953553\"   \n",
       "2           2         \"US\"   \"5782091\"   \"R7TNRFQAOUTX5\"  \"142151981X\"   \n",
       "3           3         \"US\"  \"32715830\"  \"R2GANXKDIFZ6OI\"  \"014241543X\"   \n",
       "4           4         \"US\"  \"14005703\"  \"R2NYB6C3R8LVN6\"  \"1604600527\"   \n",
       "\n",
       "  product_parent                                   product_title  \\\n",
       "0     \"84656342\"  \"There Was an Old Lady Who Swallowed a Shell!\"   \n",
       "1    \"729938122\"                                \"I Saw a Friend\"   \n",
       "2    \"678139048\"                          \"Black Lagoon, Vol. 6\"   \n",
       "3    \"712432151\"                                     \"If I Stay\"   \n",
       "4    \"800572372\"                       \"Stars 'N Strips Forever\"   \n",
       "\n",
       "  product_category  star_rating  helpful_votes  total_votes     vine  \\\n",
       "0          \"Books\"            1              0            0  0 \\t(N)   \n",
       "1          \"Books\"            1              0            0  0 \\t(N)   \n",
       "2          \"Books\"            1              0            0  0 \\t(N)   \n",
       "3          \"Books\"            1              0            0  0 \\t(N)   \n",
       "4          \"Books\"            1              2            2  0 \\t(N)   \n",
       "\n",
       "  verified_purchase                                    review_headline  \\\n",
       "0           1 \\t(Y)                                       \"Five Stars\"   \n",
       "1           1 \\t(Y)  \"Please buy \"I Saw a Friend\"! Your children wi...   \n",
       "2           1 \\t(Y)                                    \"Shipped fast.\"   \n",
       "3           0 \\t(N)                                       \"Five Stars\"   \n",
       "4           1 \\t(Y)                                       \"Five Stars\"   \n",
       "\n",
       "                                         review_body review_date  \\\n",
       "0               \"I love it and so does my students!\"  2015-08-31   \n",
       "1  \"My wife and I ordered 2 books and gave them a...  2015-08-31   \n",
       "2  \"Great book just like all the others in the se...  2015-08-31   \n",
       "3                                     \"So beautiful\"  2015-08-31   \n",
       "4  \"Enjoyed the author's story and his quilts are...  2015-08-31   \n",
       "\n",
       "  Sentiment_books review_month review_day  review_year  \n",
       "0        positive       August     Monday         2015  \n",
       "1        positive       August     Monday         2015  \n",
       "2        positive       August     Monday         2015  \n",
       "3        positive       August     Monday         2015  \n",
       "4        positive       August     Monday         2015  "
      ]
     },
     "execution_count": 4,
     "metadata": {},
     "output_type": "execute_result"
    }
   ],
   "source": [
    "d_books.head()"
   ]
  },
  {
   "cell_type": "code",
   "execution_count": 5,
   "id": "b8ef00e8",
   "metadata": {
    "papermill": {
     "duration": 0.072833,
     "end_time": "2022-11-03T21:06:40.673600",
     "exception": false,
     "start_time": "2022-11-03T21:06:40.600767",
     "status": "completed"
    },
    "tags": []
   },
   "outputs": [
    {
     "data": {
      "text/html": [
       "<div>\n",
       "<style scoped>\n",
       "    .dataframe tbody tr th:only-of-type {\n",
       "        vertical-align: middle;\n",
       "    }\n",
       "\n",
       "    .dataframe tbody tr th {\n",
       "        vertical-align: top;\n",
       "    }\n",
       "\n",
       "    .dataframe thead th {\n",
       "        text-align: right;\n",
       "    }\n",
       "</style>\n",
       "<table border=\"1\" class=\"dataframe\">\n",
       "  <thead>\n",
       "    <tr style=\"text-align: right;\">\n",
       "      <th></th>\n",
       "      <th>market_place</th>\n",
       "      <th>customer_id</th>\n",
       "      <th>review_id</th>\n",
       "      <th>product_id</th>\n",
       "      <th>product_parent</th>\n",
       "      <th>product_title</th>\n",
       "      <th>product_category</th>\n",
       "      <th>star_rating</th>\n",
       "      <th>helpful_votes</th>\n",
       "      <th>total_votes</th>\n",
       "      <th>vine</th>\n",
       "      <th>verified_purchase</th>\n",
       "      <th>review_headline</th>\n",
       "      <th>review_body</th>\n",
       "      <th>review_date</th>\n",
       "      <th>Sentiment_books</th>\n",
       "      <th>review_month</th>\n",
       "      <th>review_day</th>\n",
       "      <th>review_year</th>\n",
       "    </tr>\n",
       "  </thead>\n",
       "  <tbody>\n",
       "    <tr>\n",
       "      <th>0</th>\n",
       "      <td>\"US\"</td>\n",
       "      <td>\"25933450\"</td>\n",
       "      <td>\"RJOVP071AVAJO\"</td>\n",
       "      <td>\"0439873800\"</td>\n",
       "      <td>\"84656342\"</td>\n",
       "      <td>\"There Was an Old Lady Who Swallowed a Shell!\"</td>\n",
       "      <td>\"Books\"</td>\n",
       "      <td>1</td>\n",
       "      <td>0</td>\n",
       "      <td>0</td>\n",
       "      <td>0 \\t(N)</td>\n",
       "      <td>1 \\t(Y)</td>\n",
       "      <td>\"Five Stars\"</td>\n",
       "      <td>\"I love it and so does my students!\"</td>\n",
       "      <td>2015-08-31</td>\n",
       "      <td>positive</td>\n",
       "      <td>August</td>\n",
       "      <td>Monday</td>\n",
       "      <td>2015</td>\n",
       "    </tr>\n",
       "    <tr>\n",
       "      <th>1</th>\n",
       "      <td>\"US\"</td>\n",
       "      <td>\"1801372\"</td>\n",
       "      <td>\"R1ORGBETCDW3AI\"</td>\n",
       "      <td>\"1623953553\"</td>\n",
       "      <td>\"729938122\"</td>\n",
       "      <td>\"I Saw a Friend\"</td>\n",
       "      <td>\"Books\"</td>\n",
       "      <td>1</td>\n",
       "      <td>0</td>\n",
       "      <td>0</td>\n",
       "      <td>0 \\t(N)</td>\n",
       "      <td>1 \\t(Y)</td>\n",
       "      <td>\"Please buy \"I Saw a Friend\"! Your children wi...</td>\n",
       "      <td>\"My wife and I ordered 2 books and gave them a...</td>\n",
       "      <td>2015-08-31</td>\n",
       "      <td>positive</td>\n",
       "      <td>August</td>\n",
       "      <td>Monday</td>\n",
       "      <td>2015</td>\n",
       "    </tr>\n",
       "    <tr>\n",
       "      <th>2</th>\n",
       "      <td>\"US\"</td>\n",
       "      <td>\"5782091\"</td>\n",
       "      <td>\"R7TNRFQAOUTX5\"</td>\n",
       "      <td>\"142151981X\"</td>\n",
       "      <td>\"678139048\"</td>\n",
       "      <td>\"Black Lagoon, Vol. 6\"</td>\n",
       "      <td>\"Books\"</td>\n",
       "      <td>1</td>\n",
       "      <td>0</td>\n",
       "      <td>0</td>\n",
       "      <td>0 \\t(N)</td>\n",
       "      <td>1 \\t(Y)</td>\n",
       "      <td>\"Shipped fast.\"</td>\n",
       "      <td>\"Great book just like all the others in the se...</td>\n",
       "      <td>2015-08-31</td>\n",
       "      <td>positive</td>\n",
       "      <td>August</td>\n",
       "      <td>Monday</td>\n",
       "      <td>2015</td>\n",
       "    </tr>\n",
       "    <tr>\n",
       "      <th>3</th>\n",
       "      <td>\"US\"</td>\n",
       "      <td>\"32715830\"</td>\n",
       "      <td>\"R2GANXKDIFZ6OI\"</td>\n",
       "      <td>\"014241543X\"</td>\n",
       "      <td>\"712432151\"</td>\n",
       "      <td>\"If I Stay\"</td>\n",
       "      <td>\"Books\"</td>\n",
       "      <td>1</td>\n",
       "      <td>0</td>\n",
       "      <td>0</td>\n",
       "      <td>0 \\t(N)</td>\n",
       "      <td>0 \\t(N)</td>\n",
       "      <td>\"Five Stars\"</td>\n",
       "      <td>\"So beautiful\"</td>\n",
       "      <td>2015-08-31</td>\n",
       "      <td>positive</td>\n",
       "      <td>August</td>\n",
       "      <td>Monday</td>\n",
       "      <td>2015</td>\n",
       "    </tr>\n",
       "    <tr>\n",
       "      <th>4</th>\n",
       "      <td>\"US\"</td>\n",
       "      <td>\"14005703\"</td>\n",
       "      <td>\"R2NYB6C3R8LVN6\"</td>\n",
       "      <td>\"1604600527\"</td>\n",
       "      <td>\"800572372\"</td>\n",
       "      <td>\"Stars 'N Strips Forever\"</td>\n",
       "      <td>\"Books\"</td>\n",
       "      <td>1</td>\n",
       "      <td>2</td>\n",
       "      <td>2</td>\n",
       "      <td>0 \\t(N)</td>\n",
       "      <td>1 \\t(Y)</td>\n",
       "      <td>\"Five Stars\"</td>\n",
       "      <td>\"Enjoyed the author's story and his quilts are...</td>\n",
       "      <td>2015-08-31</td>\n",
       "      <td>positive</td>\n",
       "      <td>August</td>\n",
       "      <td>Monday</td>\n",
       "      <td>2015</td>\n",
       "    </tr>\n",
       "  </tbody>\n",
       "</table>\n",
       "</div>"
      ],
      "text/plain": [
       "  market_place customer_id         review_id    product_id product_parent  \\\n",
       "0         \"US\"  \"25933450\"   \"RJOVP071AVAJO\"  \"0439873800\"     \"84656342\"   \n",
       "1         \"US\"   \"1801372\"  \"R1ORGBETCDW3AI\"  \"1623953553\"    \"729938122\"   \n",
       "2         \"US\"   \"5782091\"   \"R7TNRFQAOUTX5\"  \"142151981X\"    \"678139048\"   \n",
       "3         \"US\"  \"32715830\"  \"R2GANXKDIFZ6OI\"  \"014241543X\"    \"712432151\"   \n",
       "4         \"US\"  \"14005703\"  \"R2NYB6C3R8LVN6\"  \"1604600527\"    \"800572372\"   \n",
       "\n",
       "                                    product_title product_category  \\\n",
       "0  \"There Was an Old Lady Who Swallowed a Shell!\"          \"Books\"   \n",
       "1                                \"I Saw a Friend\"          \"Books\"   \n",
       "2                          \"Black Lagoon, Vol. 6\"          \"Books\"   \n",
       "3                                     \"If I Stay\"          \"Books\"   \n",
       "4                       \"Stars 'N Strips Forever\"          \"Books\"   \n",
       "\n",
       "   star_rating  helpful_votes  total_votes     vine verified_purchase  \\\n",
       "0            1              0            0  0 \\t(N)           1 \\t(Y)   \n",
       "1            1              0            0  0 \\t(N)           1 \\t(Y)   \n",
       "2            1              0            0  0 \\t(N)           1 \\t(Y)   \n",
       "3            1              0            0  0 \\t(N)           0 \\t(N)   \n",
       "4            1              2            2  0 \\t(N)           1 \\t(Y)   \n",
       "\n",
       "                                     review_headline  \\\n",
       "0                                       \"Five Stars\"   \n",
       "1  \"Please buy \"I Saw a Friend\"! Your children wi...   \n",
       "2                                    \"Shipped fast.\"   \n",
       "3                                       \"Five Stars\"   \n",
       "4                                       \"Five Stars\"   \n",
       "\n",
       "                                         review_body review_date  \\\n",
       "0               \"I love it and so does my students!\"  2015-08-31   \n",
       "1  \"My wife and I ordered 2 books and gave them a...  2015-08-31   \n",
       "2  \"Great book just like all the others in the se...  2015-08-31   \n",
       "3                                     \"So beautiful\"  2015-08-31   \n",
       "4  \"Enjoyed the author's story and his quilts are...  2015-08-31   \n",
       "\n",
       "  Sentiment_books review_month review_day  review_year  \n",
       "0        positive       August     Monday         2015  \n",
       "1        positive       August     Monday         2015  \n",
       "2        positive       August     Monday         2015  \n",
       "3        positive       August     Monday         2015  \n",
       "4        positive       August     Monday         2015  "
      ]
     },
     "execution_count": 5,
     "metadata": {},
     "output_type": "execute_result"
    }
   ],
   "source": [
    "d_books.drop(columns='Unnamed: 0',inplace=True)\n",
    "d_books.head()"
   ]
  },
  {
   "cell_type": "code",
   "execution_count": 6,
   "id": "2699fc04",
   "metadata": {
    "papermill": {
     "duration": 0.051483,
     "end_time": "2022-11-03T21:06:40.765804",
     "exception": false,
     "start_time": "2022-11-03T21:06:40.714321",
     "status": "completed"
    },
    "tags": []
   },
   "outputs": [
    {
     "data": {
      "text/plain": [
       "(100, 19)"
      ]
     },
     "execution_count": 6,
     "metadata": {},
     "output_type": "execute_result"
    }
   ],
   "source": [
    "d_books.shape"
   ]
  },
  {
   "cell_type": "code",
   "execution_count": 7,
   "id": "5b0b519c",
   "metadata": {
    "papermill": {
     "duration": 0.073799,
     "end_time": "2022-11-03T21:06:40.880125",
     "exception": false,
     "start_time": "2022-11-03T21:06:40.806326",
     "status": "completed"
    },
    "tags": []
   },
   "outputs": [
    {
     "name": "stdout",
     "output_type": "stream",
     "text": [
      "<class 'pandas.core.frame.DataFrame'>\n",
      "RangeIndex: 100 entries, 0 to 99\n",
      "Data columns (total 19 columns):\n",
      " #   Column             Non-Null Count  Dtype \n",
      "---  ------             --------------  ----- \n",
      " 0   market_place       100 non-null    object\n",
      " 1   customer_id        100 non-null    object\n",
      " 2   review_id          100 non-null    object\n",
      " 3   product_id         100 non-null    object\n",
      " 4   product_parent     100 non-null    object\n",
      " 5   product_title      100 non-null    object\n",
      " 6   product_category   100 non-null    object\n",
      " 7   star_rating        100 non-null    int64 \n",
      " 8   helpful_votes      100 non-null    int64 \n",
      " 9   total_votes        100 non-null    int64 \n",
      " 10  vine               100 non-null    object\n",
      " 11  verified_purchase  100 non-null    object\n",
      " 12  review_headline    100 non-null    object\n",
      " 13  review_body        100 non-null    object\n",
      " 14  review_date        100 non-null    object\n",
      " 15  Sentiment_books    100 non-null    object\n",
      " 16  review_month       100 non-null    object\n",
      " 17  review_day         100 non-null    object\n",
      " 18  review_year        100 non-null    int64 \n",
      "dtypes: int64(4), object(15)\n",
      "memory usage: 15.0+ KB\n"
     ]
    }
   ],
   "source": [
    "d_books.info()"
   ]
  },
  {
   "cell_type": "markdown",
   "id": "16f9c634",
   "metadata": {
    "papermill": {
     "duration": 0.040431,
     "end_time": "2022-11-03T21:06:41.061590",
     "exception": false,
     "start_time": "2022-11-03T21:06:41.021159",
     "status": "completed"
    },
    "tags": []
   },
   "source": [
    "# Droping columns which are not required"
   ]
  },
  {
   "cell_type": "code",
   "execution_count": 9,
   "id": "d2fa6892",
   "metadata": {
    "papermill": {
     "duration": 0.066462,
     "end_time": "2022-11-03T21:06:41.171591",
     "exception": false,
     "start_time": "2022-11-03T21:06:41.105129",
     "status": "completed"
    },
    "tags": []
   },
   "outputs": [
    {
     "data": {
      "text/plain": [
       "market_place           1\n",
       "customer_id           96\n",
       "review_id            100\n",
       "product_id           100\n",
       "product_parent       100\n",
       "product_title        100\n",
       "product_category       1\n",
       "star_rating            2\n",
       "helpful_votes          6\n",
       "total_votes            8\n",
       "vine                   1\n",
       "verified_purchase      2\n",
       "review_headline       65\n",
       "review_body           97\n",
       "review_date            1\n",
       "Sentiment_books        2\n",
       "review_month           1\n",
       "review_day             1\n",
       "review_year            1\n",
       "dtype: int64"
      ]
     },
     "execution_count": 9,
     "metadata": {},
     "output_type": "execute_result"
    }
   ],
   "source": [
    "d_books['product_id'].nunique()\n",
    "d_books.nunique()\n"
   ]
  },
  {
   "cell_type": "code",
   "execution_count": 10,
   "id": "1050d08a",
   "metadata": {
    "execution": {
     "iopub.execute_input": "2022-11-03T21:06:41.258283Z",
     "iopub.status.busy": "2022-11-03T21:06:41.257813Z",
     "iopub.status.idle": "2022-11-03T21:06:41.263835Z",
     "shell.execute_reply": "2022-11-03T21:06:41.262088Z"
    },
    "papermill": {
     "duration": 0.053465,
     "end_time": "2022-11-03T21:06:41.266692",
     "exception": false,
     "start_time": "2022-11-03T21:06:41.213227",
     "status": "completed"
    },
    "tags": []
   },
   "outputs": [],
   "source": [
    "#dropping the columns which are not necessary\n",
    "#market_place --> since all the values are same we already know that the market place is US.\n",
    "\n",
    "#review_id --> all the values are unique and hence it won't help in the analysis.\n",
    "\n",
    "#product_id --> all the values are unique and hence every product is different. We can drop this column too as it \n",
    "#won't help in analysis\n",
    "\n",
    "#similarly for product_parent\n",
    "\n",
    "#we also drop columns which have texts as we don't need them for our analysis."
   ]
  },
  {
   "cell_type": "code",
   "execution_count": 10,
   "id": "b8d916c6",
   "metadata": {
    "papermill": {
     "duration": 0.055667,
     "end_time": "2022-11-03T21:06:41.365058",
     "exception": false,
     "start_time": "2022-11-03T21:06:41.309391",
     "status": "completed"
    },
    "tags": []
   },
   "outputs": [],
   "source": [
    "d_books.drop(columns=['review_id','product_id','vine','product_parent','review_headline','review_body'],inplace=True)\n"
   ]
  },
  {
   "cell_type": "code",
   "execution_count": 11,
   "id": "34bc7cca",
   "metadata": {
    "papermill": {
     "duration": 0.064835,
     "end_time": "2022-11-03T21:06:41.472377",
     "exception": false,
     "start_time": "2022-11-03T21:06:41.407542",
     "status": "completed"
    },
    "tags": []
   },
   "outputs": [
    {
     "data": {
      "text/html": [
       "<div>\n",
       "<style scoped>\n",
       "    .dataframe tbody tr th:only-of-type {\n",
       "        vertical-align: middle;\n",
       "    }\n",
       "\n",
       "    .dataframe tbody tr th {\n",
       "        vertical-align: top;\n",
       "    }\n",
       "\n",
       "    .dataframe thead th {\n",
       "        text-align: right;\n",
       "    }\n",
       "</style>\n",
       "<table border=\"1\" class=\"dataframe\">\n",
       "  <thead>\n",
       "    <tr style=\"text-align: right;\">\n",
       "      <th></th>\n",
       "      <th>market_place</th>\n",
       "      <th>customer_id</th>\n",
       "      <th>product_title</th>\n",
       "      <th>product_category</th>\n",
       "      <th>star_rating</th>\n",
       "      <th>helpful_votes</th>\n",
       "      <th>total_votes</th>\n",
       "      <th>verified_purchase</th>\n",
       "      <th>review_date</th>\n",
       "      <th>Sentiment_books</th>\n",
       "      <th>review_month</th>\n",
       "      <th>review_day</th>\n",
       "      <th>review_year</th>\n",
       "    </tr>\n",
       "  </thead>\n",
       "  <tbody>\n",
       "    <tr>\n",
       "      <th>0</th>\n",
       "      <td>\"US\"</td>\n",
       "      <td>\"25933450\"</td>\n",
       "      <td>\"There Was an Old Lady Who Swallowed a Shell!\"</td>\n",
       "      <td>\"Books\"</td>\n",
       "      <td>1</td>\n",
       "      <td>0</td>\n",
       "      <td>0</td>\n",
       "      <td>1 \\t(Y)</td>\n",
       "      <td>2015-08-31</td>\n",
       "      <td>positive</td>\n",
       "      <td>August</td>\n",
       "      <td>Monday</td>\n",
       "      <td>2015</td>\n",
       "    </tr>\n",
       "    <tr>\n",
       "      <th>1</th>\n",
       "      <td>\"US\"</td>\n",
       "      <td>\"1801372\"</td>\n",
       "      <td>\"I Saw a Friend\"</td>\n",
       "      <td>\"Books\"</td>\n",
       "      <td>1</td>\n",
       "      <td>0</td>\n",
       "      <td>0</td>\n",
       "      <td>1 \\t(Y)</td>\n",
       "      <td>2015-08-31</td>\n",
       "      <td>positive</td>\n",
       "      <td>August</td>\n",
       "      <td>Monday</td>\n",
       "      <td>2015</td>\n",
       "    </tr>\n",
       "    <tr>\n",
       "      <th>2</th>\n",
       "      <td>\"US\"</td>\n",
       "      <td>\"5782091\"</td>\n",
       "      <td>\"Black Lagoon, Vol. 6\"</td>\n",
       "      <td>\"Books\"</td>\n",
       "      <td>1</td>\n",
       "      <td>0</td>\n",
       "      <td>0</td>\n",
       "      <td>1 \\t(Y)</td>\n",
       "      <td>2015-08-31</td>\n",
       "      <td>positive</td>\n",
       "      <td>August</td>\n",
       "      <td>Monday</td>\n",
       "      <td>2015</td>\n",
       "    </tr>\n",
       "    <tr>\n",
       "      <th>3</th>\n",
       "      <td>\"US\"</td>\n",
       "      <td>\"32715830\"</td>\n",
       "      <td>\"If I Stay\"</td>\n",
       "      <td>\"Books\"</td>\n",
       "      <td>1</td>\n",
       "      <td>0</td>\n",
       "      <td>0</td>\n",
       "      <td>0 \\t(N)</td>\n",
       "      <td>2015-08-31</td>\n",
       "      <td>positive</td>\n",
       "      <td>August</td>\n",
       "      <td>Monday</td>\n",
       "      <td>2015</td>\n",
       "    </tr>\n",
       "    <tr>\n",
       "      <th>4</th>\n",
       "      <td>\"US\"</td>\n",
       "      <td>\"14005703\"</td>\n",
       "      <td>\"Stars 'N Strips Forever\"</td>\n",
       "      <td>\"Books\"</td>\n",
       "      <td>1</td>\n",
       "      <td>2</td>\n",
       "      <td>2</td>\n",
       "      <td>1 \\t(Y)</td>\n",
       "      <td>2015-08-31</td>\n",
       "      <td>positive</td>\n",
       "      <td>August</td>\n",
       "      <td>Monday</td>\n",
       "      <td>2015</td>\n",
       "    </tr>\n",
       "  </tbody>\n",
       "</table>\n",
       "</div>"
      ],
      "text/plain": [
       "  market_place customer_id                                   product_title  \\\n",
       "0         \"US\"  \"25933450\"  \"There Was an Old Lady Who Swallowed a Shell!\"   \n",
       "1         \"US\"   \"1801372\"                                \"I Saw a Friend\"   \n",
       "2         \"US\"   \"5782091\"                          \"Black Lagoon, Vol. 6\"   \n",
       "3         \"US\"  \"32715830\"                                     \"If I Stay\"   \n",
       "4         \"US\"  \"14005703\"                       \"Stars 'N Strips Forever\"   \n",
       "\n",
       "  product_category  star_rating  helpful_votes  total_votes verified_purchase  \\\n",
       "0          \"Books\"            1              0            0           1 \\t(Y)   \n",
       "1          \"Books\"            1              0            0           1 \\t(Y)   \n",
       "2          \"Books\"            1              0            0           1 \\t(Y)   \n",
       "3          \"Books\"            1              0            0           0 \\t(N)   \n",
       "4          \"Books\"            1              2            2           1 \\t(Y)   \n",
       "\n",
       "  review_date Sentiment_books review_month review_day  review_year  \n",
       "0  2015-08-31        positive       August     Monday         2015  \n",
       "1  2015-08-31        positive       August     Monday         2015  \n",
       "2  2015-08-31        positive       August     Monday         2015  \n",
       "3  2015-08-31        positive       August     Monday         2015  \n",
       "4  2015-08-31        positive       August     Monday         2015  "
      ]
     },
     "execution_count": 11,
     "metadata": {},
     "output_type": "execute_result"
    }
   ],
   "source": [
    "d_books.head()"
   ]
  },
  {
   "cell_type": "code",
   "execution_count": null,
   "id": "2fafad6e-4504-4c54-9253-fd29bc3c7ae9",
   "metadata": {},
   "outputs": [],
   "source": []
  },
  {
   "cell_type": "markdown",
   "id": "5c3fdb47",
   "metadata": {
    "papermill": {
     "duration": 0.046312,
     "end_time": "2022-11-03T21:06:41.741785",
     "exception": false,
     "start_time": "2022-11-03T21:06:41.695473",
     "status": "completed"
    },
    "tags": []
   },
   "source": [
    "# Detail Handleing each column one by one , making it ready for analysis."
   ]
  },
  {
   "cell_type": "markdown",
   "id": "fdb38005",
   "metadata": {
    "papermill": {
     "duration": 0.044754,
     "end_time": "2022-11-03T21:06:41.832319",
     "exception": false,
     "start_time": "2022-11-03T21:06:41.787565",
     "status": "completed"
    },
    "tags": []
   },
   "source": [
    "# Column market_place"
   ]
  },
  {
   "cell_type": "code",
   "execution_count": 12,
   "id": "967060d3",
   "metadata": {
    "papermill": {
     "duration": 0.057965,
     "end_time": "2022-11-03T21:06:41.934341",
     "exception": false,
     "start_time": "2022-11-03T21:06:41.876376",
     "status": "completed"
    },
    "tags": []
   },
   "outputs": [
    {
     "data": {
      "text/plain": [
       "array(['\"US\"'], dtype=object)"
      ]
     },
     "execution_count": 12,
     "metadata": {},
     "output_type": "execute_result"
    }
   ],
   "source": [
    "d_books.market_place.unique()"
   ]
  },
  {
   "cell_type": "code",
   "execution_count": 13,
   "id": "70b5bd2a",
   "metadata": {
    "papermill": {
     "duration": 0.060145,
     "end_time": "2022-11-03T21:06:42.040979",
     "exception": false,
     "start_time": "2022-11-03T21:06:41.980834",
     "status": "completed"
    },
    "tags": []
   },
   "outputs": [
    {
     "data": {
      "text/plain": [
       "market_place\n",
       "\"US\"    100\n",
       "Name: count, dtype: int64"
      ]
     },
     "execution_count": 13,
     "metadata": {},
     "output_type": "execute_result"
    }
   ],
   "source": [
    "d_books.market_place.value_counts()\n",
    "#here we can see that all the values of column market_place is \"US\", hence this column is noy\n",
    "#needed and we will drop this column."
   ]
  },
  {
   "cell_type": "code",
   "execution_count": 14,
   "id": "e47c51ee",
   "metadata": {
    "papermill": {
     "duration": 0.056016,
     "end_time": "2022-11-03T21:06:42.139437",
     "exception": false,
     "start_time": "2022-11-03T21:06:42.083421",
     "status": "completed"
    },
    "tags": []
   },
   "outputs": [],
   "source": [
    "d_books.drop(columns=['market_place'],inplace=True)"
   ]
  },
  {
   "cell_type": "code",
   "execution_count": 15,
   "id": "f2a91709",
   "metadata": {
    "papermill": {
     "duration": 0.066575,
     "end_time": "2022-11-03T21:06:42.249816",
     "exception": false,
     "start_time": "2022-11-03T21:06:42.183241",
     "status": "completed"
    },
    "tags": []
   },
   "outputs": [
    {
     "data": {
      "text/html": [
       "<div>\n",
       "<style scoped>\n",
       "    .dataframe tbody tr th:only-of-type {\n",
       "        vertical-align: middle;\n",
       "    }\n",
       "\n",
       "    .dataframe tbody tr th {\n",
       "        vertical-align: top;\n",
       "    }\n",
       "\n",
       "    .dataframe thead th {\n",
       "        text-align: right;\n",
       "    }\n",
       "</style>\n",
       "<table border=\"1\" class=\"dataframe\">\n",
       "  <thead>\n",
       "    <tr style=\"text-align: right;\">\n",
       "      <th></th>\n",
       "      <th>customer_id</th>\n",
       "      <th>product_title</th>\n",
       "      <th>product_category</th>\n",
       "      <th>star_rating</th>\n",
       "      <th>helpful_votes</th>\n",
       "      <th>total_votes</th>\n",
       "      <th>verified_purchase</th>\n",
       "      <th>review_date</th>\n",
       "      <th>Sentiment_books</th>\n",
       "      <th>review_month</th>\n",
       "      <th>review_day</th>\n",
       "      <th>review_year</th>\n",
       "    </tr>\n",
       "  </thead>\n",
       "  <tbody>\n",
       "    <tr>\n",
       "      <th>0</th>\n",
       "      <td>\"25933450\"</td>\n",
       "      <td>\"There Was an Old Lady Who Swallowed a Shell!\"</td>\n",
       "      <td>\"Books\"</td>\n",
       "      <td>1</td>\n",
       "      <td>0</td>\n",
       "      <td>0</td>\n",
       "      <td>1 \\t(Y)</td>\n",
       "      <td>2015-08-31</td>\n",
       "      <td>positive</td>\n",
       "      <td>August</td>\n",
       "      <td>Monday</td>\n",
       "      <td>2015</td>\n",
       "    </tr>\n",
       "    <tr>\n",
       "      <th>1</th>\n",
       "      <td>\"1801372\"</td>\n",
       "      <td>\"I Saw a Friend\"</td>\n",
       "      <td>\"Books\"</td>\n",
       "      <td>1</td>\n",
       "      <td>0</td>\n",
       "      <td>0</td>\n",
       "      <td>1 \\t(Y)</td>\n",
       "      <td>2015-08-31</td>\n",
       "      <td>positive</td>\n",
       "      <td>August</td>\n",
       "      <td>Monday</td>\n",
       "      <td>2015</td>\n",
       "    </tr>\n",
       "    <tr>\n",
       "      <th>2</th>\n",
       "      <td>\"5782091\"</td>\n",
       "      <td>\"Black Lagoon, Vol. 6\"</td>\n",
       "      <td>\"Books\"</td>\n",
       "      <td>1</td>\n",
       "      <td>0</td>\n",
       "      <td>0</td>\n",
       "      <td>1 \\t(Y)</td>\n",
       "      <td>2015-08-31</td>\n",
       "      <td>positive</td>\n",
       "      <td>August</td>\n",
       "      <td>Monday</td>\n",
       "      <td>2015</td>\n",
       "    </tr>\n",
       "    <tr>\n",
       "      <th>3</th>\n",
       "      <td>\"32715830\"</td>\n",
       "      <td>\"If I Stay\"</td>\n",
       "      <td>\"Books\"</td>\n",
       "      <td>1</td>\n",
       "      <td>0</td>\n",
       "      <td>0</td>\n",
       "      <td>0 \\t(N)</td>\n",
       "      <td>2015-08-31</td>\n",
       "      <td>positive</td>\n",
       "      <td>August</td>\n",
       "      <td>Monday</td>\n",
       "      <td>2015</td>\n",
       "    </tr>\n",
       "    <tr>\n",
       "      <th>4</th>\n",
       "      <td>\"14005703\"</td>\n",
       "      <td>\"Stars 'N Strips Forever\"</td>\n",
       "      <td>\"Books\"</td>\n",
       "      <td>1</td>\n",
       "      <td>2</td>\n",
       "      <td>2</td>\n",
       "      <td>1 \\t(Y)</td>\n",
       "      <td>2015-08-31</td>\n",
       "      <td>positive</td>\n",
       "      <td>August</td>\n",
       "      <td>Monday</td>\n",
       "      <td>2015</td>\n",
       "    </tr>\n",
       "  </tbody>\n",
       "</table>\n",
       "</div>"
      ],
      "text/plain": [
       "  customer_id                                   product_title  \\\n",
       "0  \"25933450\"  \"There Was an Old Lady Who Swallowed a Shell!\"   \n",
       "1   \"1801372\"                                \"I Saw a Friend\"   \n",
       "2   \"5782091\"                          \"Black Lagoon, Vol. 6\"   \n",
       "3  \"32715830\"                                     \"If I Stay\"   \n",
       "4  \"14005703\"                       \"Stars 'N Strips Forever\"   \n",
       "\n",
       "  product_category  star_rating  helpful_votes  total_votes verified_purchase  \\\n",
       "0          \"Books\"            1              0            0           1 \\t(Y)   \n",
       "1          \"Books\"            1              0            0           1 \\t(Y)   \n",
       "2          \"Books\"            1              0            0           1 \\t(Y)   \n",
       "3          \"Books\"            1              0            0           0 \\t(N)   \n",
       "4          \"Books\"            1              2            2           1 \\t(Y)   \n",
       "\n",
       "  review_date Sentiment_books review_month review_day  review_year  \n",
       "0  2015-08-31        positive       August     Monday         2015  \n",
       "1  2015-08-31        positive       August     Monday         2015  \n",
       "2  2015-08-31        positive       August     Monday         2015  \n",
       "3  2015-08-31        positive       August     Monday         2015  \n",
       "4  2015-08-31        positive       August     Monday         2015  "
      ]
     },
     "execution_count": 15,
     "metadata": {},
     "output_type": "execute_result"
    }
   ],
   "source": [
    "d_books.head()"
   ]
  },
  {
   "cell_type": "markdown",
   "id": "bea74612",
   "metadata": {
    "papermill": {
     "duration": 0.044358,
     "end_time": "2022-11-03T21:06:42.338299",
     "exception": false,
     "start_time": "2022-11-03T21:06:42.293941",
     "status": "completed"
    },
    "tags": []
   },
   "source": [
    "# Column product_title"
   ]
  },
  {
   "cell_type": "code",
   "execution_count": 16,
   "id": "7315a5ad",
   "metadata": {
    "papermill": {
     "duration": 0.055389,
     "end_time": "2022-11-03T21:06:42.438004",
     "exception": false,
     "start_time": "2022-11-03T21:06:42.382615",
     "status": "completed"
    },
    "tags": []
   },
   "outputs": [
    {
     "data": {
      "text/plain": [
       "100"
      ]
     },
     "execution_count": 16,
     "metadata": {},
     "output_type": "execute_result"
    }
   ],
   "source": [
    "d_books.product_title.nunique()"
   ]
  },
  {
   "cell_type": "code",
   "execution_count": 17,
   "id": "a79d81cd",
   "metadata": {
    "papermill": {
     "duration": 0.050774,
     "end_time": "2022-11-03T21:06:42.530149",
     "exception": false,
     "start_time": "2022-11-03T21:06:42.479375",
     "status": "completed"
    },
    "tags": []
   },
   "outputs": [],
   "source": [
    "#we can see that the no of unique values is equal to number of row, which means all the values are\n",
    "#unique. Therefore no duplicate.\n",
    "\n",
    "#here we can see that there are quotes along with the name, let us clean that."
   ]
  },
  {
   "cell_type": "code",
   "execution_count": 18,
   "id": "54ec0a16",
   "metadata": {
    "papermill": {
     "duration": 0.070663,
     "end_time": "2022-11-03T21:06:42.645815",
     "exception": false,
     "start_time": "2022-11-03T21:06:42.575152",
     "status": "completed"
    },
    "tags": []
   },
   "outputs": [
    {
     "data": {
      "text/html": [
       "<div>\n",
       "<style scoped>\n",
       "    .dataframe tbody tr th:only-of-type {\n",
       "        vertical-align: middle;\n",
       "    }\n",
       "\n",
       "    .dataframe tbody tr th {\n",
       "        vertical-align: top;\n",
       "    }\n",
       "\n",
       "    .dataframe thead th {\n",
       "        text-align: right;\n",
       "    }\n",
       "</style>\n",
       "<table border=\"1\" class=\"dataframe\">\n",
       "  <thead>\n",
       "    <tr style=\"text-align: right;\">\n",
       "      <th></th>\n",
       "      <th>customer_id</th>\n",
       "      <th>product_title</th>\n",
       "      <th>product_category</th>\n",
       "      <th>star_rating</th>\n",
       "      <th>helpful_votes</th>\n",
       "      <th>total_votes</th>\n",
       "      <th>verified_purchase</th>\n",
       "      <th>review_date</th>\n",
       "      <th>Sentiment_books</th>\n",
       "      <th>review_month</th>\n",
       "      <th>review_day</th>\n",
       "      <th>review_year</th>\n",
       "    </tr>\n",
       "  </thead>\n",
       "  <tbody>\n",
       "    <tr>\n",
       "      <th>0</th>\n",
       "      <td>\"25933450\"</td>\n",
       "      <td>There Was an Old Lady Who Swallowed a Shell!</td>\n",
       "      <td>\"Books\"</td>\n",
       "      <td>1</td>\n",
       "      <td>0</td>\n",
       "      <td>0</td>\n",
       "      <td>1 \\t(Y)</td>\n",
       "      <td>2015-08-31</td>\n",
       "      <td>positive</td>\n",
       "      <td>August</td>\n",
       "      <td>Monday</td>\n",
       "      <td>2015</td>\n",
       "    </tr>\n",
       "    <tr>\n",
       "      <th>1</th>\n",
       "      <td>\"1801372\"</td>\n",
       "      <td>I Saw a Friend</td>\n",
       "      <td>\"Books\"</td>\n",
       "      <td>1</td>\n",
       "      <td>0</td>\n",
       "      <td>0</td>\n",
       "      <td>1 \\t(Y)</td>\n",
       "      <td>2015-08-31</td>\n",
       "      <td>positive</td>\n",
       "      <td>August</td>\n",
       "      <td>Monday</td>\n",
       "      <td>2015</td>\n",
       "    </tr>\n",
       "    <tr>\n",
       "      <th>2</th>\n",
       "      <td>\"5782091\"</td>\n",
       "      <td>Black Lagoon, Vol. 6</td>\n",
       "      <td>\"Books\"</td>\n",
       "      <td>1</td>\n",
       "      <td>0</td>\n",
       "      <td>0</td>\n",
       "      <td>1 \\t(Y)</td>\n",
       "      <td>2015-08-31</td>\n",
       "      <td>positive</td>\n",
       "      <td>August</td>\n",
       "      <td>Monday</td>\n",
       "      <td>2015</td>\n",
       "    </tr>\n",
       "    <tr>\n",
       "      <th>3</th>\n",
       "      <td>\"32715830\"</td>\n",
       "      <td>If I Stay</td>\n",
       "      <td>\"Books\"</td>\n",
       "      <td>1</td>\n",
       "      <td>0</td>\n",
       "      <td>0</td>\n",
       "      <td>0 \\t(N)</td>\n",
       "      <td>2015-08-31</td>\n",
       "      <td>positive</td>\n",
       "      <td>August</td>\n",
       "      <td>Monday</td>\n",
       "      <td>2015</td>\n",
       "    </tr>\n",
       "    <tr>\n",
       "      <th>4</th>\n",
       "      <td>\"14005703\"</td>\n",
       "      <td>Stars 'N Strips Forever</td>\n",
       "      <td>\"Books\"</td>\n",
       "      <td>1</td>\n",
       "      <td>2</td>\n",
       "      <td>2</td>\n",
       "      <td>1 \\t(Y)</td>\n",
       "      <td>2015-08-31</td>\n",
       "      <td>positive</td>\n",
       "      <td>August</td>\n",
       "      <td>Monday</td>\n",
       "      <td>2015</td>\n",
       "    </tr>\n",
       "  </tbody>\n",
       "</table>\n",
       "</div>"
      ],
      "text/plain": [
       "  customer_id                                 product_title product_category  \\\n",
       "0  \"25933450\"  There Was an Old Lady Who Swallowed a Shell!          \"Books\"   \n",
       "1   \"1801372\"                                I Saw a Friend          \"Books\"   \n",
       "2   \"5782091\"                          Black Lagoon, Vol. 6          \"Books\"   \n",
       "3  \"32715830\"                                     If I Stay          \"Books\"   \n",
       "4  \"14005703\"                       Stars 'N Strips Forever          \"Books\"   \n",
       "\n",
       "   star_rating  helpful_votes  total_votes verified_purchase review_date  \\\n",
       "0            1              0            0           1 \\t(Y)  2015-08-31   \n",
       "1            1              0            0           1 \\t(Y)  2015-08-31   \n",
       "2            1              0            0           1 \\t(Y)  2015-08-31   \n",
       "3            1              0            0           0 \\t(N)  2015-08-31   \n",
       "4            1              2            2           1 \\t(Y)  2015-08-31   \n",
       "\n",
       "  Sentiment_books review_month review_day  review_year  \n",
       "0        positive       August     Monday         2015  \n",
       "1        positive       August     Monday         2015  \n",
       "2        positive       August     Monday         2015  \n",
       "3        positive       August     Monday         2015  \n",
       "4        positive       August     Monday         2015  "
      ]
     },
     "execution_count": 18,
     "metadata": {},
     "output_type": "execute_result"
    }
   ],
   "source": [
    "def handle_quotation_marks(value):\n",
    "    value=str(value)\n",
    "    value=value.split('\"')\n",
    "    value=value[1]\n",
    "    return value\n",
    "d_books['product_title']=d_books['product_title'].apply(handle_quotation_marks)\n",
    "d_books.head()"
   ]
  },
  {
   "cell_type": "code",
   "execution_count": 19,
   "id": "b5b7e6d4",
   "metadata": {
    "papermill": {
     "duration": 0.053909,
     "end_time": "2022-11-03T21:06:42.742258",
     "exception": false,
     "start_time": "2022-11-03T21:06:42.688349",
     "status": "completed"
    },
    "tags": []
   },
   "outputs": [],
   "source": [
    "#here now we can see the first column is clean."
   ]
  },
  {
   "cell_type": "markdown",
   "id": "943cb59a",
   "metadata": {
    "papermill": {
     "duration": 0.046342,
     "end_time": "2022-11-03T21:06:42.832962",
     "exception": false,
     "start_time": "2022-11-03T21:06:42.786620",
     "status": "completed"
    },
    "tags": []
   },
   "source": [
    "# Column product_category"
   ]
  },
  {
   "cell_type": "code",
   "execution_count": 20,
   "id": "b7a0cffb",
   "metadata": {
    "papermill": {
     "duration": 0.060179,
     "end_time": "2022-11-03T21:06:42.946418",
     "exception": false,
     "start_time": "2022-11-03T21:06:42.886239",
     "status": "completed"
    },
    "tags": []
   },
   "outputs": [
    {
     "data": {
      "text/plain": [
       "1"
      ]
     },
     "execution_count": 20,
     "metadata": {},
     "output_type": "execute_result"
    }
   ],
   "source": [
    "d_books.product_category.nunique()"
   ]
  },
  {
   "cell_type": "markdown",
   "id": "f08fec18",
   "metadata": {
    "papermill": {
     "duration": 0.045086,
     "end_time": "2022-11-03T21:06:43.035323",
     "exception": false,
     "start_time": "2022-11-03T21:06:42.990237",
     "status": "completed"
    },
    "tags": []
   },
   "source": [
    " Since the above value is 1, we can say that every row for the column product_category has \"books\" as values. We will remove the quotation marks by using handle_quotation_marks function but we will not drop this column as it might be needed later if we combine all the datasets"
   ]
  },
  {
   "cell_type": "code",
   "execution_count": null,
   "id": "99fe96fb",
   "metadata": {
    "papermill": {
     "duration": 0.044768,
     "end_time": "2022-11-03T21:06:43.123740",
     "exception": false,
     "start_time": "2022-11-03T21:06:43.078972",
     "status": "completed"
    },
    "tags": []
   },
   "outputs": [],
   "source": []
  },
  {
   "cell_type": "code",
   "execution_count": null,
   "id": "1f022642",
   "metadata": {
    "papermill": {
     "duration": 0.048055,
     "end_time": "2022-11-03T21:06:43.218457",
     "exception": false,
     "start_time": "2022-11-03T21:06:43.170402",
     "status": "completed"
    },
    "tags": []
   },
   "outputs": [],
   "source": []
  },
  {
   "cell_type": "code",
   "execution_count": 21,
   "id": "027abd9f",
   "metadata": {
    "papermill": {
     "duration": 0.067655,
     "end_time": "2022-11-03T21:06:43.328847",
     "exception": false,
     "start_time": "2022-11-03T21:06:43.261192",
     "status": "completed"
    },
    "tags": []
   },
   "outputs": [
    {
     "data": {
      "text/html": [
       "<div>\n",
       "<style scoped>\n",
       "    .dataframe tbody tr th:only-of-type {\n",
       "        vertical-align: middle;\n",
       "    }\n",
       "\n",
       "    .dataframe tbody tr th {\n",
       "        vertical-align: top;\n",
       "    }\n",
       "\n",
       "    .dataframe thead th {\n",
       "        text-align: right;\n",
       "    }\n",
       "</style>\n",
       "<table border=\"1\" class=\"dataframe\">\n",
       "  <thead>\n",
       "    <tr style=\"text-align: right;\">\n",
       "      <th></th>\n",
       "      <th>customer_id</th>\n",
       "      <th>product_title</th>\n",
       "      <th>product_category</th>\n",
       "      <th>star_rating</th>\n",
       "      <th>helpful_votes</th>\n",
       "      <th>total_votes</th>\n",
       "      <th>verified_purchase</th>\n",
       "      <th>review_date</th>\n",
       "      <th>Sentiment_books</th>\n",
       "      <th>review_month</th>\n",
       "      <th>review_day</th>\n",
       "      <th>review_year</th>\n",
       "    </tr>\n",
       "  </thead>\n",
       "  <tbody>\n",
       "    <tr>\n",
       "      <th>0</th>\n",
       "      <td>\"25933450\"</td>\n",
       "      <td>There Was an Old Lady Who Swallowed a Shell!</td>\n",
       "      <td>Books</td>\n",
       "      <td>1</td>\n",
       "      <td>0</td>\n",
       "      <td>0</td>\n",
       "      <td>1 \\t(Y)</td>\n",
       "      <td>2015-08-31</td>\n",
       "      <td>positive</td>\n",
       "      <td>August</td>\n",
       "      <td>Monday</td>\n",
       "      <td>2015</td>\n",
       "    </tr>\n",
       "    <tr>\n",
       "      <th>1</th>\n",
       "      <td>\"1801372\"</td>\n",
       "      <td>I Saw a Friend</td>\n",
       "      <td>Books</td>\n",
       "      <td>1</td>\n",
       "      <td>0</td>\n",
       "      <td>0</td>\n",
       "      <td>1 \\t(Y)</td>\n",
       "      <td>2015-08-31</td>\n",
       "      <td>positive</td>\n",
       "      <td>August</td>\n",
       "      <td>Monday</td>\n",
       "      <td>2015</td>\n",
       "    </tr>\n",
       "    <tr>\n",
       "      <th>2</th>\n",
       "      <td>\"5782091\"</td>\n",
       "      <td>Black Lagoon, Vol. 6</td>\n",
       "      <td>Books</td>\n",
       "      <td>1</td>\n",
       "      <td>0</td>\n",
       "      <td>0</td>\n",
       "      <td>1 \\t(Y)</td>\n",
       "      <td>2015-08-31</td>\n",
       "      <td>positive</td>\n",
       "      <td>August</td>\n",
       "      <td>Monday</td>\n",
       "      <td>2015</td>\n",
       "    </tr>\n",
       "    <tr>\n",
       "      <th>3</th>\n",
       "      <td>\"32715830\"</td>\n",
       "      <td>If I Stay</td>\n",
       "      <td>Books</td>\n",
       "      <td>1</td>\n",
       "      <td>0</td>\n",
       "      <td>0</td>\n",
       "      <td>0 \\t(N)</td>\n",
       "      <td>2015-08-31</td>\n",
       "      <td>positive</td>\n",
       "      <td>August</td>\n",
       "      <td>Monday</td>\n",
       "      <td>2015</td>\n",
       "    </tr>\n",
       "    <tr>\n",
       "      <th>4</th>\n",
       "      <td>\"14005703\"</td>\n",
       "      <td>Stars 'N Strips Forever</td>\n",
       "      <td>Books</td>\n",
       "      <td>1</td>\n",
       "      <td>2</td>\n",
       "      <td>2</td>\n",
       "      <td>1 \\t(Y)</td>\n",
       "      <td>2015-08-31</td>\n",
       "      <td>positive</td>\n",
       "      <td>August</td>\n",
       "      <td>Monday</td>\n",
       "      <td>2015</td>\n",
       "    </tr>\n",
       "  </tbody>\n",
       "</table>\n",
       "</div>"
      ],
      "text/plain": [
       "  customer_id                                 product_title product_category  \\\n",
       "0  \"25933450\"  There Was an Old Lady Who Swallowed a Shell!            Books   \n",
       "1   \"1801372\"                                I Saw a Friend            Books   \n",
       "2   \"5782091\"                          Black Lagoon, Vol. 6            Books   \n",
       "3  \"32715830\"                                     If I Stay            Books   \n",
       "4  \"14005703\"                       Stars 'N Strips Forever            Books   \n",
       "\n",
       "   star_rating  helpful_votes  total_votes verified_purchase review_date  \\\n",
       "0            1              0            0           1 \\t(Y)  2015-08-31   \n",
       "1            1              0            0           1 \\t(Y)  2015-08-31   \n",
       "2            1              0            0           1 \\t(Y)  2015-08-31   \n",
       "3            1              0            0           0 \\t(N)  2015-08-31   \n",
       "4            1              2            2           1 \\t(Y)  2015-08-31   \n",
       "\n",
       "  Sentiment_books review_month review_day  review_year  \n",
       "0        positive       August     Monday         2015  \n",
       "1        positive       August     Monday         2015  \n",
       "2        positive       August     Monday         2015  \n",
       "3        positive       August     Monday         2015  \n",
       "4        positive       August     Monday         2015  "
      ]
     },
     "execution_count": 21,
     "metadata": {},
     "output_type": "execute_result"
    }
   ],
   "source": [
    "d_books[\"product_category\"]=d_books[\"product_category\"].apply(handle_quotation_marks)\n",
    "d_books.head()"
   ]
  },
  {
   "cell_type": "code",
   "execution_count": 22,
   "id": "5d8482f7",
   "metadata": {
    "papermill": {
     "duration": 0.05483,
     "end_time": "2022-11-03T21:06:43.428833",
     "exception": false,
     "start_time": "2022-11-03T21:06:43.374003",
     "status": "completed"
    },
    "tags": []
   },
   "outputs": [],
   "source": [
    "#Now product_category column is handeled."
   ]
  },
  {
   "cell_type": "markdown",
   "id": "34bab02f",
   "metadata": {
    "papermill": {
     "duration": 0.043043,
     "end_time": "2022-11-03T21:06:43.516228",
     "exception": false,
     "start_time": "2022-11-03T21:06:43.473185",
     "status": "completed"
    },
    "tags": []
   },
   "source": [
    "# Column star_rating"
   ]
  },
  {
   "cell_type": "code",
   "execution_count": 23,
   "id": "5bef452b",
   "metadata": {
    "papermill": {
     "duration": 0.059365,
     "end_time": "2022-11-03T21:06:43.619816",
     "exception": false,
     "start_time": "2022-11-03T21:06:43.560451",
     "status": "completed"
    },
    "tags": []
   },
   "outputs": [
    {
     "data": {
      "text/plain": [
       "star_rating\n",
       "1    84\n",
       "0    16\n",
       "Name: count, dtype: int64"
      ]
     },
     "execution_count": 23,
     "metadata": {},
     "output_type": "execute_result"
    }
   ],
   "source": [
    "d_books.star_rating.value_counts()"
   ]
  },
  {
   "cell_type": "code",
   "execution_count": 24,
   "id": "0485f11a",
   "metadata": {
    "papermill": {
     "duration": 0.052598,
     "end_time": "2022-11-03T21:06:43.716011",
     "exception": false,
     "start_time": "2022-11-03T21:06:43.663413",
     "status": "completed"
    },
    "tags": []
   },
   "outputs": [],
   "source": [
    "#we can see that this column has only two unique values which are 1 and 0, and this is out \n",
    "# of 5 stars\n",
    "\n",
    "#we do not need to do anything for this column"
   ]
  },
  {
   "cell_type": "markdown",
   "id": "5ffc6d59",
   "metadata": {
    "papermill": {
     "duration": 0.044271,
     "end_time": "2022-11-03T21:06:43.805977",
     "exception": false,
     "start_time": "2022-11-03T21:06:43.761706",
     "status": "completed"
    },
    "tags": []
   },
   "source": [
    "# Column helpful_votes"
   ]
  },
  {
   "cell_type": "code",
   "execution_count": 25,
   "id": "4e38a415",
   "metadata": {
    "papermill": {
     "duration": 0.057093,
     "end_time": "2022-11-03T21:06:43.912857",
     "exception": false,
     "start_time": "2022-11-03T21:06:43.855764",
     "status": "completed"
    },
    "tags": []
   },
   "outputs": [
    {
     "data": {
      "text/plain": [
       "helpful_votes\n",
       "0    74\n",
       "1    14\n",
       "2     6\n",
       "3     3\n",
       "5     2\n",
       "9     1\n",
       "Name: count, dtype: int64"
      ]
     },
     "execution_count": 25,
     "metadata": {},
     "output_type": "execute_result"
    }
   ],
   "source": [
    "d_books.helpful_votes.value_counts()"
   ]
  },
  {
   "cell_type": "code",
   "execution_count": 26,
   "id": "2f5922c0",
   "metadata": {
    "papermill": {
     "duration": 0.057519,
     "end_time": "2022-11-03T21:06:44.014529",
     "exception": false,
     "start_time": "2022-11-03T21:06:43.957010",
     "status": "completed"
    },
    "tags": []
   },
   "outputs": [
    {
     "data": {
      "text/plain": [
       "array([0, 2, 1, 3, 9, 5], dtype=int64)"
      ]
     },
     "execution_count": 26,
     "metadata": {},
     "output_type": "execute_result"
    }
   ],
   "source": [
    "d_books.helpful_votes.unique()"
   ]
  },
  {
   "cell_type": "code",
   "execution_count": 27,
   "id": "8af875a2",
   "metadata": {
    "papermill": {
     "duration": 0.14235,
     "end_time": "2022-11-03T21:06:44.201966",
     "exception": false,
     "start_time": "2022-11-03T21:06:44.059616",
     "status": "completed"
    },
    "tags": []
   },
   "outputs": [],
   "source": [
    "# we do not need to make any changes to this column"
   ]
  },
  {
   "cell_type": "code",
   "execution_count": 28,
   "id": "37bb792d",
   "metadata": {
    "papermill": {
     "duration": 0.067541,
     "end_time": "2022-11-03T21:06:44.313124",
     "exception": false,
     "start_time": "2022-11-03T21:06:44.245583",
     "status": "completed"
    },
    "tags": []
   },
   "outputs": [
    {
     "data": {
      "text/html": [
       "<div>\n",
       "<style scoped>\n",
       "    .dataframe tbody tr th:only-of-type {\n",
       "        vertical-align: middle;\n",
       "    }\n",
       "\n",
       "    .dataframe tbody tr th {\n",
       "        vertical-align: top;\n",
       "    }\n",
       "\n",
       "    .dataframe thead th {\n",
       "        text-align: right;\n",
       "    }\n",
       "</style>\n",
       "<table border=\"1\" class=\"dataframe\">\n",
       "  <thead>\n",
       "    <tr style=\"text-align: right;\">\n",
       "      <th></th>\n",
       "      <th>customer_id</th>\n",
       "      <th>product_title</th>\n",
       "      <th>product_category</th>\n",
       "      <th>star_rating</th>\n",
       "      <th>helpful_votes</th>\n",
       "      <th>total_votes</th>\n",
       "      <th>verified_purchase</th>\n",
       "      <th>review_date</th>\n",
       "      <th>Sentiment_books</th>\n",
       "      <th>review_month</th>\n",
       "      <th>review_day</th>\n",
       "      <th>review_year</th>\n",
       "    </tr>\n",
       "  </thead>\n",
       "  <tbody>\n",
       "    <tr>\n",
       "      <th>0</th>\n",
       "      <td>\"25933450\"</td>\n",
       "      <td>There Was an Old Lady Who Swallowed a Shell!</td>\n",
       "      <td>Books</td>\n",
       "      <td>1</td>\n",
       "      <td>0</td>\n",
       "      <td>0</td>\n",
       "      <td>1 \\t(Y)</td>\n",
       "      <td>2015-08-31</td>\n",
       "      <td>positive</td>\n",
       "      <td>August</td>\n",
       "      <td>Monday</td>\n",
       "      <td>2015</td>\n",
       "    </tr>\n",
       "    <tr>\n",
       "      <th>1</th>\n",
       "      <td>\"1801372\"</td>\n",
       "      <td>I Saw a Friend</td>\n",
       "      <td>Books</td>\n",
       "      <td>1</td>\n",
       "      <td>0</td>\n",
       "      <td>0</td>\n",
       "      <td>1 \\t(Y)</td>\n",
       "      <td>2015-08-31</td>\n",
       "      <td>positive</td>\n",
       "      <td>August</td>\n",
       "      <td>Monday</td>\n",
       "      <td>2015</td>\n",
       "    </tr>\n",
       "    <tr>\n",
       "      <th>2</th>\n",
       "      <td>\"5782091\"</td>\n",
       "      <td>Black Lagoon, Vol. 6</td>\n",
       "      <td>Books</td>\n",
       "      <td>1</td>\n",
       "      <td>0</td>\n",
       "      <td>0</td>\n",
       "      <td>1 \\t(Y)</td>\n",
       "      <td>2015-08-31</td>\n",
       "      <td>positive</td>\n",
       "      <td>August</td>\n",
       "      <td>Monday</td>\n",
       "      <td>2015</td>\n",
       "    </tr>\n",
       "    <tr>\n",
       "      <th>3</th>\n",
       "      <td>\"32715830\"</td>\n",
       "      <td>If I Stay</td>\n",
       "      <td>Books</td>\n",
       "      <td>1</td>\n",
       "      <td>0</td>\n",
       "      <td>0</td>\n",
       "      <td>0 \\t(N)</td>\n",
       "      <td>2015-08-31</td>\n",
       "      <td>positive</td>\n",
       "      <td>August</td>\n",
       "      <td>Monday</td>\n",
       "      <td>2015</td>\n",
       "    </tr>\n",
       "    <tr>\n",
       "      <th>4</th>\n",
       "      <td>\"14005703\"</td>\n",
       "      <td>Stars 'N Strips Forever</td>\n",
       "      <td>Books</td>\n",
       "      <td>1</td>\n",
       "      <td>2</td>\n",
       "      <td>2</td>\n",
       "      <td>1 \\t(Y)</td>\n",
       "      <td>2015-08-31</td>\n",
       "      <td>positive</td>\n",
       "      <td>August</td>\n",
       "      <td>Monday</td>\n",
       "      <td>2015</td>\n",
       "    </tr>\n",
       "  </tbody>\n",
       "</table>\n",
       "</div>"
      ],
      "text/plain": [
       "  customer_id                                 product_title product_category  \\\n",
       "0  \"25933450\"  There Was an Old Lady Who Swallowed a Shell!            Books   \n",
       "1   \"1801372\"                                I Saw a Friend            Books   \n",
       "2   \"5782091\"                          Black Lagoon, Vol. 6            Books   \n",
       "3  \"32715830\"                                     If I Stay            Books   \n",
       "4  \"14005703\"                       Stars 'N Strips Forever            Books   \n",
       "\n",
       "   star_rating  helpful_votes  total_votes verified_purchase review_date  \\\n",
       "0            1              0            0           1 \\t(Y)  2015-08-31   \n",
       "1            1              0            0           1 \\t(Y)  2015-08-31   \n",
       "2            1              0            0           1 \\t(Y)  2015-08-31   \n",
       "3            1              0            0           0 \\t(N)  2015-08-31   \n",
       "4            1              2            2           1 \\t(Y)  2015-08-31   \n",
       "\n",
       "  Sentiment_books review_month review_day  review_year  \n",
       "0        positive       August     Monday         2015  \n",
       "1        positive       August     Monday         2015  \n",
       "2        positive       August     Monday         2015  \n",
       "3        positive       August     Monday         2015  \n",
       "4        positive       August     Monday         2015  "
      ]
     },
     "execution_count": 28,
     "metadata": {},
     "output_type": "execute_result"
    }
   ],
   "source": [
    "d_books.head()"
   ]
  },
  {
   "cell_type": "markdown",
   "id": "41b1cf0f",
   "metadata": {
    "papermill": {
     "duration": 0.046153,
     "end_time": "2022-11-03T21:06:44.403307",
     "exception": false,
     "start_time": "2022-11-03T21:06:44.357154",
     "status": "completed"
    },
    "tags": []
   },
   "source": [
    "# Column Total Votes"
   ]
  },
  {
   "cell_type": "code",
   "execution_count": 29,
   "id": "5413fb5f",
   "metadata": {
    "papermill": {
     "duration": 0.059707,
     "end_time": "2022-11-03T21:06:44.508530",
     "exception": false,
     "start_time": "2022-11-03T21:06:44.448823",
     "status": "completed"
    },
    "tags": []
   },
   "outputs": [
    {
     "data": {
      "text/plain": [
       "total_votes\n",
       "0     68\n",
       "1     17\n",
       "2      5\n",
       "3      3\n",
       "5      3\n",
       "12     2\n",
       "7      1\n",
       "14     1\n",
       "Name: count, dtype: int64"
      ]
     },
     "execution_count": 29,
     "metadata": {},
     "output_type": "execute_result"
    }
   ],
   "source": [
    "d_books.total_votes.value_counts()"
   ]
  },
  {
   "cell_type": "code",
   "execution_count": 30,
   "id": "a9a2bdf1",
   "metadata": {
    "papermill": {
     "duration": 0.073503,
     "end_time": "2022-11-03T21:06:44.635194",
     "exception": false,
     "start_time": "2022-11-03T21:06:44.561691",
     "status": "completed"
    },
    "tags": []
   },
   "outputs": [
    {
     "data": {
      "text/html": [
       "<div>\n",
       "<style scoped>\n",
       "    .dataframe tbody tr th:only-of-type {\n",
       "        vertical-align: middle;\n",
       "    }\n",
       "\n",
       "    .dataframe tbody tr th {\n",
       "        vertical-align: top;\n",
       "    }\n",
       "\n",
       "    .dataframe thead th {\n",
       "        text-align: right;\n",
       "    }\n",
       "</style>\n",
       "<table border=\"1\" class=\"dataframe\">\n",
       "  <thead>\n",
       "    <tr style=\"text-align: right;\">\n",
       "      <th></th>\n",
       "      <th>customer_id</th>\n",
       "      <th>product_title</th>\n",
       "      <th>product_category</th>\n",
       "      <th>star_rating</th>\n",
       "      <th>helpful_votes</th>\n",
       "      <th>total_votes</th>\n",
       "      <th>verified_purchase</th>\n",
       "      <th>review_date</th>\n",
       "      <th>Sentiment_books</th>\n",
       "      <th>review_month</th>\n",
       "      <th>review_day</th>\n",
       "      <th>review_year</th>\n",
       "    </tr>\n",
       "  </thead>\n",
       "  <tbody>\n",
       "  </tbody>\n",
       "</table>\n",
       "</div>"
      ],
      "text/plain": [
       "Empty DataFrame\n",
       "Columns: [customer_id, product_title, product_category, star_rating, helpful_votes, total_votes, verified_purchase, review_date, Sentiment_books, review_month, review_day, review_year]\n",
       "Index: []"
      ]
     },
     "execution_count": 30,
     "metadata": {},
     "output_type": "execute_result"
    }
   ],
   "source": [
    "#checking if there are any wrong entries\n",
    "# as number of helpful votes can never be greater than total votes\n",
    "d_books[d_books['total_votes']<d_books['helpful_votes']]"
   ]
  },
  {
   "cell_type": "code",
   "execution_count": 31,
   "id": "6e5a0041",
   "metadata": {
    "papermill": {
     "duration": 0.061037,
     "end_time": "2022-11-03T21:06:44.744211",
     "exception": false,
     "start_time": "2022-11-03T21:06:44.683174",
     "status": "completed"
    },
    "tags": []
   },
   "outputs": [],
   "source": [
    "#here we can see that there is no output hence for every row the helpful_votes is lesser\n",
    "#than total_votes.\n",
    "\n",
    "#here also we need not to make any changes."
   ]
  },
  {
   "cell_type": "code",
   "execution_count": 32,
   "id": "8d9ee9a7",
   "metadata": {
    "papermill": {
     "duration": 0.079871,
     "end_time": "2022-11-03T21:06:44.875768",
     "exception": false,
     "start_time": "2022-11-03T21:06:44.795897",
     "status": "completed"
    },
    "tags": []
   },
   "outputs": [
    {
     "data": {
      "text/html": [
       "<div>\n",
       "<style scoped>\n",
       "    .dataframe tbody tr th:only-of-type {\n",
       "        vertical-align: middle;\n",
       "    }\n",
       "\n",
       "    .dataframe tbody tr th {\n",
       "        vertical-align: top;\n",
       "    }\n",
       "\n",
       "    .dataframe thead th {\n",
       "        text-align: right;\n",
       "    }\n",
       "</style>\n",
       "<table border=\"1\" class=\"dataframe\">\n",
       "  <thead>\n",
       "    <tr style=\"text-align: right;\">\n",
       "      <th></th>\n",
       "      <th>customer_id</th>\n",
       "      <th>product_title</th>\n",
       "      <th>product_category</th>\n",
       "      <th>star_rating</th>\n",
       "      <th>helpful_votes</th>\n",
       "      <th>total_votes</th>\n",
       "      <th>verified_purchase</th>\n",
       "      <th>review_date</th>\n",
       "      <th>Sentiment_books</th>\n",
       "      <th>review_month</th>\n",
       "      <th>review_day</th>\n",
       "      <th>review_year</th>\n",
       "    </tr>\n",
       "  </thead>\n",
       "  <tbody>\n",
       "    <tr>\n",
       "      <th>0</th>\n",
       "      <td>\"25933450\"</td>\n",
       "      <td>There Was an Old Lady Who Swallowed a Shell!</td>\n",
       "      <td>Books</td>\n",
       "      <td>1</td>\n",
       "      <td>0</td>\n",
       "      <td>0</td>\n",
       "      <td>1 \\t(Y)</td>\n",
       "      <td>2015-08-31</td>\n",
       "      <td>positive</td>\n",
       "      <td>August</td>\n",
       "      <td>Monday</td>\n",
       "      <td>2015</td>\n",
       "    </tr>\n",
       "    <tr>\n",
       "      <th>1</th>\n",
       "      <td>\"1801372\"</td>\n",
       "      <td>I Saw a Friend</td>\n",
       "      <td>Books</td>\n",
       "      <td>1</td>\n",
       "      <td>0</td>\n",
       "      <td>0</td>\n",
       "      <td>1 \\t(Y)</td>\n",
       "      <td>2015-08-31</td>\n",
       "      <td>positive</td>\n",
       "      <td>August</td>\n",
       "      <td>Monday</td>\n",
       "      <td>2015</td>\n",
       "    </tr>\n",
       "    <tr>\n",
       "      <th>2</th>\n",
       "      <td>\"5782091\"</td>\n",
       "      <td>Black Lagoon, Vol. 6</td>\n",
       "      <td>Books</td>\n",
       "      <td>1</td>\n",
       "      <td>0</td>\n",
       "      <td>0</td>\n",
       "      <td>1 \\t(Y)</td>\n",
       "      <td>2015-08-31</td>\n",
       "      <td>positive</td>\n",
       "      <td>August</td>\n",
       "      <td>Monday</td>\n",
       "      <td>2015</td>\n",
       "    </tr>\n",
       "    <tr>\n",
       "      <th>3</th>\n",
       "      <td>\"32715830\"</td>\n",
       "      <td>If I Stay</td>\n",
       "      <td>Books</td>\n",
       "      <td>1</td>\n",
       "      <td>0</td>\n",
       "      <td>0</td>\n",
       "      <td>0 \\t(N)</td>\n",
       "      <td>2015-08-31</td>\n",
       "      <td>positive</td>\n",
       "      <td>August</td>\n",
       "      <td>Monday</td>\n",
       "      <td>2015</td>\n",
       "    </tr>\n",
       "    <tr>\n",
       "      <th>4</th>\n",
       "      <td>\"14005703\"</td>\n",
       "      <td>Stars 'N Strips Forever</td>\n",
       "      <td>Books</td>\n",
       "      <td>1</td>\n",
       "      <td>2</td>\n",
       "      <td>2</td>\n",
       "      <td>1 \\t(Y)</td>\n",
       "      <td>2015-08-31</td>\n",
       "      <td>positive</td>\n",
       "      <td>August</td>\n",
       "      <td>Monday</td>\n",
       "      <td>2015</td>\n",
       "    </tr>\n",
       "  </tbody>\n",
       "</table>\n",
       "</div>"
      ],
      "text/plain": [
       "  customer_id                                 product_title product_category  \\\n",
       "0  \"25933450\"  There Was an Old Lady Who Swallowed a Shell!            Books   \n",
       "1   \"1801372\"                                I Saw a Friend            Books   \n",
       "2   \"5782091\"                          Black Lagoon, Vol. 6            Books   \n",
       "3  \"32715830\"                                     If I Stay            Books   \n",
       "4  \"14005703\"                       Stars 'N Strips Forever            Books   \n",
       "\n",
       "   star_rating  helpful_votes  total_votes verified_purchase review_date  \\\n",
       "0            1              0            0           1 \\t(Y)  2015-08-31   \n",
       "1            1              0            0           1 \\t(Y)  2015-08-31   \n",
       "2            1              0            0           1 \\t(Y)  2015-08-31   \n",
       "3            1              0            0           0 \\t(N)  2015-08-31   \n",
       "4            1              2            2           1 \\t(Y)  2015-08-31   \n",
       "\n",
       "  Sentiment_books review_month review_day  review_year  \n",
       "0        positive       August     Monday         2015  \n",
       "1        positive       August     Monday         2015  \n",
       "2        positive       August     Monday         2015  \n",
       "3        positive       August     Monday         2015  \n",
       "4        positive       August     Monday         2015  "
      ]
     },
     "execution_count": 32,
     "metadata": {},
     "output_type": "execute_result"
    }
   ],
   "source": [
    "d_books.head()"
   ]
  },
  {
   "cell_type": "markdown",
   "id": "04ca6062",
   "metadata": {
    "papermill": {
     "duration": 0.050505,
     "end_time": "2022-11-03T21:06:44.980972",
     "exception": false,
     "start_time": "2022-11-03T21:06:44.930467",
     "status": "completed"
    },
    "tags": []
   },
   "source": [
    "# Column verified_purchase"
   ]
  },
  {
   "cell_type": "code",
   "execution_count": 33,
   "id": "b175eedc",
   "metadata": {
    "papermill": {
     "duration": 0.064668,
     "end_time": "2022-11-03T21:06:45.094635",
     "exception": false,
     "start_time": "2022-11-03T21:06:45.029967",
     "status": "completed"
    },
    "tags": []
   },
   "outputs": [
    {
     "data": {
      "text/plain": [
       "verified_purchase\n",
       "1 \\t(Y)    76\n",
       "0 \\t(N)    24\n",
       "Name: count, dtype: int64"
      ]
     },
     "execution_count": 33,
     "metadata": {},
     "output_type": "execute_result"
    }
   ],
   "source": [
    "d_books.verified_purchase.value_counts()"
   ]
  },
  {
   "cell_type": "code",
   "execution_count": 34,
   "id": "1cdd7cdd",
   "metadata": {
    "papermill": {
     "duration": 0.079646,
     "end_time": "2022-11-03T21:06:45.222006",
     "exception": false,
     "start_time": "2022-11-03T21:06:45.142360",
     "status": "completed"
    },
    "tags": []
   },
   "outputs": [
    {
     "data": {
      "text/html": [
       "<div>\n",
       "<style scoped>\n",
       "    .dataframe tbody tr th:only-of-type {\n",
       "        vertical-align: middle;\n",
       "    }\n",
       "\n",
       "    .dataframe tbody tr th {\n",
       "        vertical-align: top;\n",
       "    }\n",
       "\n",
       "    .dataframe thead th {\n",
       "        text-align: right;\n",
       "    }\n",
       "</style>\n",
       "<table border=\"1\" class=\"dataframe\">\n",
       "  <thead>\n",
       "    <tr style=\"text-align: right;\">\n",
       "      <th></th>\n",
       "      <th>customer_id</th>\n",
       "      <th>product_title</th>\n",
       "      <th>product_category</th>\n",
       "      <th>star_rating</th>\n",
       "      <th>helpful_votes</th>\n",
       "      <th>total_votes</th>\n",
       "      <th>verified_purchase</th>\n",
       "      <th>review_date</th>\n",
       "      <th>Sentiment_books</th>\n",
       "      <th>review_month</th>\n",
       "      <th>review_day</th>\n",
       "      <th>review_year</th>\n",
       "    </tr>\n",
       "  </thead>\n",
       "  <tbody>\n",
       "    <tr>\n",
       "      <th>0</th>\n",
       "      <td>\"25933450\"</td>\n",
       "      <td>There Was an Old Lady Who Swallowed a Shell!</td>\n",
       "      <td>Books</td>\n",
       "      <td>1</td>\n",
       "      <td>0</td>\n",
       "      <td>0</td>\n",
       "      <td>Y</td>\n",
       "      <td>2015-08-31</td>\n",
       "      <td>positive</td>\n",
       "      <td>August</td>\n",
       "      <td>Monday</td>\n",
       "      <td>2015</td>\n",
       "    </tr>\n",
       "    <tr>\n",
       "      <th>1</th>\n",
       "      <td>\"1801372\"</td>\n",
       "      <td>I Saw a Friend</td>\n",
       "      <td>Books</td>\n",
       "      <td>1</td>\n",
       "      <td>0</td>\n",
       "      <td>0</td>\n",
       "      <td>Y</td>\n",
       "      <td>2015-08-31</td>\n",
       "      <td>positive</td>\n",
       "      <td>August</td>\n",
       "      <td>Monday</td>\n",
       "      <td>2015</td>\n",
       "    </tr>\n",
       "    <tr>\n",
       "      <th>2</th>\n",
       "      <td>\"5782091\"</td>\n",
       "      <td>Black Lagoon, Vol. 6</td>\n",
       "      <td>Books</td>\n",
       "      <td>1</td>\n",
       "      <td>0</td>\n",
       "      <td>0</td>\n",
       "      <td>Y</td>\n",
       "      <td>2015-08-31</td>\n",
       "      <td>positive</td>\n",
       "      <td>August</td>\n",
       "      <td>Monday</td>\n",
       "      <td>2015</td>\n",
       "    </tr>\n",
       "    <tr>\n",
       "      <th>3</th>\n",
       "      <td>\"32715830\"</td>\n",
       "      <td>If I Stay</td>\n",
       "      <td>Books</td>\n",
       "      <td>1</td>\n",
       "      <td>0</td>\n",
       "      <td>0</td>\n",
       "      <td>N</td>\n",
       "      <td>2015-08-31</td>\n",
       "      <td>positive</td>\n",
       "      <td>August</td>\n",
       "      <td>Monday</td>\n",
       "      <td>2015</td>\n",
       "    </tr>\n",
       "    <tr>\n",
       "      <th>4</th>\n",
       "      <td>\"14005703\"</td>\n",
       "      <td>Stars 'N Strips Forever</td>\n",
       "      <td>Books</td>\n",
       "      <td>1</td>\n",
       "      <td>2</td>\n",
       "      <td>2</td>\n",
       "      <td>Y</td>\n",
       "      <td>2015-08-31</td>\n",
       "      <td>positive</td>\n",
       "      <td>August</td>\n",
       "      <td>Monday</td>\n",
       "      <td>2015</td>\n",
       "    </tr>\n",
       "  </tbody>\n",
       "</table>\n",
       "</div>"
      ],
      "text/plain": [
       "  customer_id                                 product_title product_category  \\\n",
       "0  \"25933450\"  There Was an Old Lady Who Swallowed a Shell!            Books   \n",
       "1   \"1801372\"                                I Saw a Friend            Books   \n",
       "2   \"5782091\"                          Black Lagoon, Vol. 6            Books   \n",
       "3  \"32715830\"                                     If I Stay            Books   \n",
       "4  \"14005703\"                       Stars 'N Strips Forever            Books   \n",
       "\n",
       "   star_rating  helpful_votes  total_votes verified_purchase review_date  \\\n",
       "0            1              0            0                 Y  2015-08-31   \n",
       "1            1              0            0                 Y  2015-08-31   \n",
       "2            1              0            0                 Y  2015-08-31   \n",
       "3            1              0            0                 N  2015-08-31   \n",
       "4            1              2            2                 Y  2015-08-31   \n",
       "\n",
       "  Sentiment_books review_month review_day  review_year  \n",
       "0        positive       August     Monday         2015  \n",
       "1        positive       August     Monday         2015  \n",
       "2        positive       August     Monday         2015  \n",
       "3        positive       August     Monday         2015  \n",
       "4        positive       August     Monday         2015  "
      ]
     },
     "execution_count": 34,
     "metadata": {},
     "output_type": "execute_result"
    }
   ],
   "source": [
    "#here we can see there are only two outputs but they have special characters and are not clear.\n",
    "#therefore we need to handle this column and clean it.\n",
    "\n",
    "def handle_verified_purchase(value):\n",
    "    value=value[4]\n",
    "    return value\n",
    "\n",
    "d_books['verified_purchase']=d_books['verified_purchase'].apply(handle_verified_purchase)\n",
    "d_books.head()\n",
    "    "
   ]
  },
  {
   "cell_type": "code",
   "execution_count": 35,
   "id": "5cfc0f31",
   "metadata": {
    "papermill": {
     "duration": 0.05967,
     "end_time": "2022-11-03T21:06:45.329820",
     "exception": false,
     "start_time": "2022-11-03T21:06:45.270150",
     "status": "completed"
    },
    "tags": []
   },
   "outputs": [
    {
     "data": {
      "text/plain": [
       "verified_purchase\n",
       "Y    76\n",
       "N    24\n",
       "Name: count, dtype: int64"
      ]
     },
     "execution_count": 35,
     "metadata": {},
     "output_type": "execute_result"
    }
   ],
   "source": [
    "#here we can see that verified_purchase column has been cleaned.\n",
    "d_books.verified_purchase.value_counts()"
   ]
  },
  {
   "cell_type": "markdown",
   "id": "70c153f6",
   "metadata": {
    "papermill": {
     "duration": 0.046237,
     "end_time": "2022-11-03T21:06:45.420792",
     "exception": false,
     "start_time": "2022-11-03T21:06:45.374555",
     "status": "completed"
    },
    "tags": []
   },
   "source": [
    "# Column review_date "
   ]
  },
  {
   "cell_type": "code",
   "execution_count": 36,
   "id": "42ad41af",
   "metadata": {
    "papermill": {
     "duration": 0.076201,
     "end_time": "2022-11-03T21:06:45.543809",
     "exception": false,
     "start_time": "2022-11-03T21:06:45.467608",
     "status": "completed"
    },
    "tags": []
   },
   "outputs": [
    {
     "name": "stdout",
     "output_type": "stream",
     "text": [
      "<class 'pandas.core.frame.DataFrame'>\n",
      "RangeIndex: 100 entries, 0 to 99\n",
      "Data columns (total 12 columns):\n",
      " #   Column             Non-Null Count  Dtype \n",
      "---  ------             --------------  ----- \n",
      " 0   customer_id        100 non-null    object\n",
      " 1   product_title      100 non-null    object\n",
      " 2   product_category   100 non-null    object\n",
      " 3   star_rating        100 non-null    int64 \n",
      " 4   helpful_votes      100 non-null    int64 \n",
      " 5   total_votes        100 non-null    int64 \n",
      " 6   verified_purchase  100 non-null    object\n",
      " 7   review_date        100 non-null    object\n",
      " 8   Sentiment_books    100 non-null    object\n",
      " 9   review_month       100 non-null    object\n",
      " 10  review_day         100 non-null    object\n",
      " 11  review_year        100 non-null    int64 \n",
      "dtypes: int64(4), object(8)\n",
      "memory usage: 9.5+ KB\n"
     ]
    }
   ],
   "source": [
    "d_books.info()"
   ]
  },
  {
   "cell_type": "code",
   "execution_count": 37,
   "id": "ad89f9ab",
   "metadata": {
    "papermill": {
     "duration": 0.063234,
     "end_time": "2022-11-03T21:06:45.656080",
     "exception": false,
     "start_time": "2022-11-03T21:06:45.592846",
     "status": "completed"
    },
    "tags": []
   },
   "outputs": [],
   "source": [
    "#here we can see that the dtype is onject hence we should try to change it to datetime for \n",
    "#easy and efficient handeling"
   ]
  },
  {
   "cell_type": "code",
   "execution_count": 38,
   "id": "30d11e14",
   "metadata": {
    "papermill": {
     "duration": 0.086064,
     "end_time": "2022-11-03T21:06:45.795854",
     "exception": false,
     "start_time": "2022-11-03T21:06:45.709790",
     "status": "completed"
    },
    "tags": []
   },
   "outputs": [
    {
     "data": {
      "text/html": [
       "<div>\n",
       "<style scoped>\n",
       "    .dataframe tbody tr th:only-of-type {\n",
       "        vertical-align: middle;\n",
       "    }\n",
       "\n",
       "    .dataframe tbody tr th {\n",
       "        vertical-align: top;\n",
       "    }\n",
       "\n",
       "    .dataframe thead th {\n",
       "        text-align: right;\n",
       "    }\n",
       "</style>\n",
       "<table border=\"1\" class=\"dataframe\">\n",
       "  <thead>\n",
       "    <tr style=\"text-align: right;\">\n",
       "      <th></th>\n",
       "      <th>customer_id</th>\n",
       "      <th>product_title</th>\n",
       "      <th>product_category</th>\n",
       "      <th>star_rating</th>\n",
       "      <th>helpful_votes</th>\n",
       "      <th>total_votes</th>\n",
       "      <th>verified_purchase</th>\n",
       "      <th>review_date</th>\n",
       "      <th>Sentiment_books</th>\n",
       "      <th>review_month</th>\n",
       "      <th>review_day</th>\n",
       "      <th>review_year</th>\n",
       "    </tr>\n",
       "  </thead>\n",
       "  <tbody>\n",
       "    <tr>\n",
       "      <th>0</th>\n",
       "      <td>\"25933450\"</td>\n",
       "      <td>There Was an Old Lady Who Swallowed a Shell!</td>\n",
       "      <td>Books</td>\n",
       "      <td>1</td>\n",
       "      <td>0</td>\n",
       "      <td>0</td>\n",
       "      <td>Y</td>\n",
       "      <td>2015-08-31</td>\n",
       "      <td>positive</td>\n",
       "      <td>August</td>\n",
       "      <td>Monday</td>\n",
       "      <td>2015</td>\n",
       "    </tr>\n",
       "    <tr>\n",
       "      <th>1</th>\n",
       "      <td>\"1801372\"</td>\n",
       "      <td>I Saw a Friend</td>\n",
       "      <td>Books</td>\n",
       "      <td>1</td>\n",
       "      <td>0</td>\n",
       "      <td>0</td>\n",
       "      <td>Y</td>\n",
       "      <td>2015-08-31</td>\n",
       "      <td>positive</td>\n",
       "      <td>August</td>\n",
       "      <td>Monday</td>\n",
       "      <td>2015</td>\n",
       "    </tr>\n",
       "    <tr>\n",
       "      <th>2</th>\n",
       "      <td>\"5782091\"</td>\n",
       "      <td>Black Lagoon, Vol. 6</td>\n",
       "      <td>Books</td>\n",
       "      <td>1</td>\n",
       "      <td>0</td>\n",
       "      <td>0</td>\n",
       "      <td>Y</td>\n",
       "      <td>2015-08-31</td>\n",
       "      <td>positive</td>\n",
       "      <td>August</td>\n",
       "      <td>Monday</td>\n",
       "      <td>2015</td>\n",
       "    </tr>\n",
       "    <tr>\n",
       "      <th>3</th>\n",
       "      <td>\"32715830\"</td>\n",
       "      <td>If I Stay</td>\n",
       "      <td>Books</td>\n",
       "      <td>1</td>\n",
       "      <td>0</td>\n",
       "      <td>0</td>\n",
       "      <td>N</td>\n",
       "      <td>2015-08-31</td>\n",
       "      <td>positive</td>\n",
       "      <td>August</td>\n",
       "      <td>Monday</td>\n",
       "      <td>2015</td>\n",
       "    </tr>\n",
       "    <tr>\n",
       "      <th>4</th>\n",
       "      <td>\"14005703\"</td>\n",
       "      <td>Stars 'N Strips Forever</td>\n",
       "      <td>Books</td>\n",
       "      <td>1</td>\n",
       "      <td>2</td>\n",
       "      <td>2</td>\n",
       "      <td>Y</td>\n",
       "      <td>2015-08-31</td>\n",
       "      <td>positive</td>\n",
       "      <td>August</td>\n",
       "      <td>Monday</td>\n",
       "      <td>2015</td>\n",
       "    </tr>\n",
       "  </tbody>\n",
       "</table>\n",
       "</div>"
      ],
      "text/plain": [
       "  customer_id                                 product_title product_category  \\\n",
       "0  \"25933450\"  There Was an Old Lady Who Swallowed a Shell!            Books   \n",
       "1   \"1801372\"                                I Saw a Friend            Books   \n",
       "2   \"5782091\"                          Black Lagoon, Vol. 6            Books   \n",
       "3  \"32715830\"                                     If I Stay            Books   \n",
       "4  \"14005703\"                       Stars 'N Strips Forever            Books   \n",
       "\n",
       "   star_rating  helpful_votes  total_votes verified_purchase review_date  \\\n",
       "0            1              0            0                 Y  2015-08-31   \n",
       "1            1              0            0                 Y  2015-08-31   \n",
       "2            1              0            0                 Y  2015-08-31   \n",
       "3            1              0            0                 N  2015-08-31   \n",
       "4            1              2            2                 Y  2015-08-31   \n",
       "\n",
       "  Sentiment_books review_month review_day  review_year  \n",
       "0        positive       August     Monday         2015  \n",
       "1        positive       August     Monday         2015  \n",
       "2        positive       August     Monday         2015  \n",
       "3        positive       August     Monday         2015  \n",
       "4        positive       August     Monday         2015  "
      ]
     },
     "execution_count": 38,
     "metadata": {},
     "output_type": "execute_result"
    }
   ],
   "source": [
    "from datetime import datetime\n",
    "\n",
    "\n",
    "def handle_date(value):\n",
    "    value= datetime.strptime(value, '%Y-%m-%d')\n",
    "    \n",
    "    return value\n",
    "\n",
    "d_books['review_date']=d_books['review_date'].apply(handle_date)\n",
    "d_books.head()"
   ]
  },
  {
   "cell_type": "code",
   "execution_count": 39,
   "id": "9d9ed5da",
   "metadata": {
    "papermill": {
     "duration": 0.074365,
     "end_time": "2022-11-03T21:06:45.918514",
     "exception": false,
     "start_time": "2022-11-03T21:06:45.844149",
     "status": "completed"
    },
    "tags": []
   },
   "outputs": [
    {
     "name": "stdout",
     "output_type": "stream",
     "text": [
      "<class 'pandas.core.frame.DataFrame'>\n",
      "RangeIndex: 100 entries, 0 to 99\n",
      "Data columns (total 12 columns):\n",
      " #   Column             Non-Null Count  Dtype         \n",
      "---  ------             --------------  -----         \n",
      " 0   customer_id        100 non-null    object        \n",
      " 1   product_title      100 non-null    object        \n",
      " 2   product_category   100 non-null    object        \n",
      " 3   star_rating        100 non-null    int64         \n",
      " 4   helpful_votes      100 non-null    int64         \n",
      " 5   total_votes        100 non-null    int64         \n",
      " 6   verified_purchase  100 non-null    object        \n",
      " 7   review_date        100 non-null    datetime64[ns]\n",
      " 8   Sentiment_books    100 non-null    object        \n",
      " 9   review_month       100 non-null    object        \n",
      " 10  review_day         100 non-null    object        \n",
      " 11  review_year        100 non-null    int64         \n",
      "dtypes: datetime64[ns](1), int64(4), object(7)\n",
      "memory usage: 9.5+ KB\n"
     ]
    }
   ],
   "source": [
    "d_books.info()"
   ]
  },
  {
   "cell_type": "code",
   "execution_count": 40,
   "id": "d42110a1",
   "metadata": {
    "papermill": {
     "duration": 0.057016,
     "end_time": "2022-11-03T21:06:46.023311",
     "exception": false,
     "start_time": "2022-11-03T21:06:45.966295",
     "status": "completed"
    },
    "tags": []
   },
   "outputs": [],
   "source": [
    "# here we can see that the data type of column review_date got changed from string to datetime"
   ]
  },
  {
   "cell_type": "code",
   "execution_count": 41,
   "id": "d5d30999",
   "metadata": {
    "papermill": {
     "duration": 0.060398,
     "end_time": "2022-11-03T21:06:46.130984",
     "exception": false,
     "start_time": "2022-11-03T21:06:46.070586",
     "status": "completed"
    },
    "tags": []
   },
   "outputs": [
    {
     "data": {
      "text/plain": [
       "review_date\n",
       "2015-08-31    100\n",
       "Name: count, dtype: int64"
      ]
     },
     "execution_count": 41,
     "metadata": {},
     "output_type": "execute_result"
    }
   ],
   "source": [
    "d_books.review_date.value_counts()"
   ]
  },
  {
   "cell_type": "code",
   "execution_count": 42,
   "id": "0d98cb0d",
   "metadata": {
    "papermill": {
     "duration": 0.057155,
     "end_time": "2022-11-03T21:06:46.237162",
     "exception": false,
     "start_time": "2022-11-03T21:06:46.180007",
     "status": "completed"
    },
    "tags": []
   },
   "outputs": [],
   "source": [
    "#here we can see that all the rviews are of same date , if there would havebeen only this \n",
    "#dataset we would have dropped this column.\n",
    "\n",
    "#since there are other datasets too, we will keep this column for comparing with them. It may or\n",
    "#may not be necessary."
   ]
  },
  {
   "cell_type": "markdown",
   "id": "e2ca5848",
   "metadata": {
    "papermill": {
     "duration": 0.045547,
     "end_time": "2022-11-03T21:06:46.328558",
     "exception": false,
     "start_time": "2022-11-03T21:06:46.283011",
     "status": "completed"
    },
    "tags": []
   },
   "source": [
    "# Column Sentiment_books"
   ]
  },
  {
   "cell_type": "code",
   "execution_count": 43,
   "id": "7723ee91",
   "metadata": {
    "papermill": {
     "duration": 0.059562,
     "end_time": "2022-11-03T21:06:46.436626",
     "exception": false,
     "start_time": "2022-11-03T21:06:46.377064",
     "status": "completed"
    },
    "tags": []
   },
   "outputs": [
    {
     "data": {
      "text/plain": [
       "Sentiment_books\n",
       "positive    84\n",
       "negaitve    16\n",
       "Name: count, dtype: int64"
      ]
     },
     "execution_count": 43,
     "metadata": {},
     "output_type": "execute_result"
    }
   ],
   "source": [
    "d_books.Sentiment_books.value_counts()"
   ]
  },
  {
   "cell_type": "code",
   "execution_count": 44,
   "id": "1ba17fcb",
   "metadata": {
    "papermill": {
     "duration": 0.057995,
     "end_time": "2022-11-03T21:06:46.540828",
     "exception": false,
     "start_time": "2022-11-03T21:06:46.482833",
     "status": "completed"
    },
    "tags": []
   },
   "outputs": [],
   "source": [
    "#we do not need to change anything for this column."
   ]
  },
  {
   "cell_type": "code",
   "execution_count": 45,
   "id": "0e93c906",
   "metadata": {
    "papermill": {
     "duration": 0.076264,
     "end_time": "2022-11-03T21:06:46.671041",
     "exception": false,
     "start_time": "2022-11-03T21:06:46.594777",
     "status": "completed"
    },
    "tags": []
   },
   "outputs": [
    {
     "data": {
      "text/html": [
       "<div>\n",
       "<style scoped>\n",
       "    .dataframe tbody tr th:only-of-type {\n",
       "        vertical-align: middle;\n",
       "    }\n",
       "\n",
       "    .dataframe tbody tr th {\n",
       "        vertical-align: top;\n",
       "    }\n",
       "\n",
       "    .dataframe thead th {\n",
       "        text-align: right;\n",
       "    }\n",
       "</style>\n",
       "<table border=\"1\" class=\"dataframe\">\n",
       "  <thead>\n",
       "    <tr style=\"text-align: right;\">\n",
       "      <th></th>\n",
       "      <th>customer_id</th>\n",
       "      <th>product_title</th>\n",
       "      <th>product_category</th>\n",
       "      <th>star_rating</th>\n",
       "      <th>helpful_votes</th>\n",
       "      <th>total_votes</th>\n",
       "      <th>verified_purchase</th>\n",
       "      <th>review_date</th>\n",
       "      <th>Sentiment_books</th>\n",
       "      <th>review_month</th>\n",
       "      <th>review_day</th>\n",
       "      <th>review_year</th>\n",
       "    </tr>\n",
       "  </thead>\n",
       "  <tbody>\n",
       "    <tr>\n",
       "      <th>0</th>\n",
       "      <td>\"25933450\"</td>\n",
       "      <td>There Was an Old Lady Who Swallowed a Shell!</td>\n",
       "      <td>Books</td>\n",
       "      <td>1</td>\n",
       "      <td>0</td>\n",
       "      <td>0</td>\n",
       "      <td>Y</td>\n",
       "      <td>2015-08-31</td>\n",
       "      <td>positive</td>\n",
       "      <td>August</td>\n",
       "      <td>Monday</td>\n",
       "      <td>2015</td>\n",
       "    </tr>\n",
       "    <tr>\n",
       "      <th>1</th>\n",
       "      <td>\"1801372\"</td>\n",
       "      <td>I Saw a Friend</td>\n",
       "      <td>Books</td>\n",
       "      <td>1</td>\n",
       "      <td>0</td>\n",
       "      <td>0</td>\n",
       "      <td>Y</td>\n",
       "      <td>2015-08-31</td>\n",
       "      <td>positive</td>\n",
       "      <td>August</td>\n",
       "      <td>Monday</td>\n",
       "      <td>2015</td>\n",
       "    </tr>\n",
       "    <tr>\n",
       "      <th>2</th>\n",
       "      <td>\"5782091\"</td>\n",
       "      <td>Black Lagoon, Vol. 6</td>\n",
       "      <td>Books</td>\n",
       "      <td>1</td>\n",
       "      <td>0</td>\n",
       "      <td>0</td>\n",
       "      <td>Y</td>\n",
       "      <td>2015-08-31</td>\n",
       "      <td>positive</td>\n",
       "      <td>August</td>\n",
       "      <td>Monday</td>\n",
       "      <td>2015</td>\n",
       "    </tr>\n",
       "    <tr>\n",
       "      <th>3</th>\n",
       "      <td>\"32715830\"</td>\n",
       "      <td>If I Stay</td>\n",
       "      <td>Books</td>\n",
       "      <td>1</td>\n",
       "      <td>0</td>\n",
       "      <td>0</td>\n",
       "      <td>N</td>\n",
       "      <td>2015-08-31</td>\n",
       "      <td>positive</td>\n",
       "      <td>August</td>\n",
       "      <td>Monday</td>\n",
       "      <td>2015</td>\n",
       "    </tr>\n",
       "    <tr>\n",
       "      <th>4</th>\n",
       "      <td>\"14005703\"</td>\n",
       "      <td>Stars 'N Strips Forever</td>\n",
       "      <td>Books</td>\n",
       "      <td>1</td>\n",
       "      <td>2</td>\n",
       "      <td>2</td>\n",
       "      <td>Y</td>\n",
       "      <td>2015-08-31</td>\n",
       "      <td>positive</td>\n",
       "      <td>August</td>\n",
       "      <td>Monday</td>\n",
       "      <td>2015</td>\n",
       "    </tr>\n",
       "  </tbody>\n",
       "</table>\n",
       "</div>"
      ],
      "text/plain": [
       "  customer_id                                 product_title product_category  \\\n",
       "0  \"25933450\"  There Was an Old Lady Who Swallowed a Shell!            Books   \n",
       "1   \"1801372\"                                I Saw a Friend            Books   \n",
       "2   \"5782091\"                          Black Lagoon, Vol. 6            Books   \n",
       "3  \"32715830\"                                     If I Stay            Books   \n",
       "4  \"14005703\"                       Stars 'N Strips Forever            Books   \n",
       "\n",
       "   star_rating  helpful_votes  total_votes verified_purchase review_date  \\\n",
       "0            1              0            0                 Y  2015-08-31   \n",
       "1            1              0            0                 Y  2015-08-31   \n",
       "2            1              0            0                 Y  2015-08-31   \n",
       "3            1              0            0                 N  2015-08-31   \n",
       "4            1              2            2                 Y  2015-08-31   \n",
       "\n",
       "  Sentiment_books review_month review_day  review_year  \n",
       "0        positive       August     Monday         2015  \n",
       "1        positive       August     Monday         2015  \n",
       "2        positive       August     Monday         2015  \n",
       "3        positive       August     Monday         2015  \n",
       "4        positive       August     Monday         2015  "
      ]
     },
     "execution_count": 45,
     "metadata": {},
     "output_type": "execute_result"
    }
   ],
   "source": [
    "d_books.head()"
   ]
  },
  {
   "cell_type": "markdown",
   "id": "32710b9a",
   "metadata": {
    "papermill": {
     "duration": 0.057845,
     "end_time": "2022-11-03T21:06:46.778136",
     "exception": false,
     "start_time": "2022-11-03T21:06:46.720291",
     "status": "completed"
    },
    "tags": []
   },
   "source": [
    "# Column review_month"
   ]
  },
  {
   "cell_type": "code",
   "execution_count": 46,
   "id": "aa287b0b",
   "metadata": {
    "papermill": {
     "duration": 0.071939,
     "end_time": "2022-11-03T21:06:46.915431",
     "exception": false,
     "start_time": "2022-11-03T21:06:46.843492",
     "status": "completed"
    },
    "tags": []
   },
   "outputs": [
    {
     "data": {
      "text/plain": [
       "review_month\n",
       "August    100\n",
       "Name: count, dtype: int64"
      ]
     },
     "execution_count": 46,
     "metadata": {},
     "output_type": "execute_result"
    }
   ],
   "source": [
    "d_books.review_month.value_counts()"
   ]
  },
  {
   "cell_type": "code",
   "execution_count": 47,
   "id": "0a4bdf7d",
   "metadata": {
    "papermill": {
     "duration": 0.066704,
     "end_time": "2022-11-03T21:06:47.034611",
     "exception": false,
     "start_time": "2022-11-03T21:06:46.967907",
     "status": "completed"
    },
    "tags": []
   },
   "outputs": [],
   "source": [
    "#here we can see that for al the rows the value is 'August', hence we actually do not need this\n",
    "#column but we will keep it in order to compare with other datasets.d_books.head()"
   ]
  },
  {
   "cell_type": "code",
   "execution_count": null,
   "id": "dd8ee8ef",
   "metadata": {
    "papermill": {
     "duration": 0.051732,
     "end_time": "2022-11-03T21:06:47.134766",
     "exception": false,
     "start_time": "2022-11-03T21:06:47.083034",
     "status": "completed"
    },
    "tags": []
   },
   "outputs": [],
   "source": []
  },
  {
   "cell_type": "markdown",
   "id": "1c22ca73",
   "metadata": {
    "papermill": {
     "duration": 0.05295,
     "end_time": "2022-11-03T21:06:47.240042",
     "exception": false,
     "start_time": "2022-11-03T21:06:47.187092",
     "status": "completed"
    },
    "tags": []
   },
   "source": [
    "# Column review_day"
   ]
  },
  {
   "cell_type": "code",
   "execution_count": 48,
   "id": "179f7d6c",
   "metadata": {
    "papermill": {
     "duration": 0.066998,
     "end_time": "2022-11-03T21:06:47.358498",
     "exception": false,
     "start_time": "2022-11-03T21:06:47.291500",
     "status": "completed"
    },
    "tags": []
   },
   "outputs": [
    {
     "data": {
      "text/plain": [
       "review_day\n",
       "Monday    100\n",
       "Name: count, dtype: int64"
      ]
     },
     "execution_count": 48,
     "metadata": {},
     "output_type": "execute_result"
    }
   ],
   "source": [
    "d_books.review_day.value_counts()"
   ]
  },
  {
   "cell_type": "code",
   "execution_count": 49,
   "id": "9b3c7dd2",
   "metadata": {
    "papermill": {
     "duration": 0.061109,
     "end_time": "2022-11-03T21:06:47.475628",
     "exception": false,
     "start_time": "2022-11-03T21:06:47.414519",
     "status": "completed"
    },
    "tags": []
   },
   "outputs": [],
   "source": [
    "#here we can see that for al the rows the value is 'Monday', hence we actually do not need this\n",
    "#column but we will keep it in order to compare with other datasets.d_books.head()"
   ]
  },
  {
   "cell_type": "markdown",
   "id": "c98a1d73",
   "metadata": {
    "papermill": {
     "duration": 0.048713,
     "end_time": "2022-11-03T21:06:47.572895",
     "exception": false,
     "start_time": "2022-11-03T21:06:47.524182",
     "status": "completed"
    },
    "tags": []
   },
   "source": [
    "# Column review_year"
   ]
  },
  {
   "cell_type": "code",
   "execution_count": 50,
   "id": "44e78020",
   "metadata": {
    "papermill": {
     "duration": 0.065154,
     "end_time": "2022-11-03T21:06:47.686011",
     "exception": false,
     "start_time": "2022-11-03T21:06:47.620857",
     "status": "completed"
    },
    "tags": []
   },
   "outputs": [
    {
     "data": {
      "text/plain": [
       "review_year\n",
       "2015    100\n",
       "Name: count, dtype: int64"
      ]
     },
     "execution_count": 50,
     "metadata": {},
     "output_type": "execute_result"
    }
   ],
   "source": [
    "d_books.review_year.value_counts()"
   ]
  },
  {
   "cell_type": "code",
   "execution_count": 51,
   "id": "c0574348",
   "metadata": {
    "papermill": {
     "duration": 0.058476,
     "end_time": "2022-11-03T21:06:47.794650",
     "exception": false,
     "start_time": "2022-11-03T21:06:47.736174",
     "status": "completed"
    },
    "tags": []
   },
   "outputs": [],
   "source": [
    "#here we can see that for al the rows the value is '2015', hence we actually do not need this\n",
    "#column but we will keep it in order to compare with other datasets.d_books.head()"
   ]
  },
  {
   "cell_type": "code",
   "execution_count": 52,
   "id": "d54684bb",
   "metadata": {
    "papermill": {
     "duration": 0.072966,
     "end_time": "2022-11-03T21:06:47.913796",
     "exception": false,
     "start_time": "2022-11-03T21:06:47.840830",
     "status": "completed"
    },
    "tags": []
   },
   "outputs": [
    {
     "data": {
      "text/html": [
       "<div>\n",
       "<style scoped>\n",
       "    .dataframe tbody tr th:only-of-type {\n",
       "        vertical-align: middle;\n",
       "    }\n",
       "\n",
       "    .dataframe tbody tr th {\n",
       "        vertical-align: top;\n",
       "    }\n",
       "\n",
       "    .dataframe thead th {\n",
       "        text-align: right;\n",
       "    }\n",
       "</style>\n",
       "<table border=\"1\" class=\"dataframe\">\n",
       "  <thead>\n",
       "    <tr style=\"text-align: right;\">\n",
       "      <th></th>\n",
       "      <th>Unnamed: 0</th>\n",
       "      <th>market_place</th>\n",
       "      <th>customer_id</th>\n",
       "      <th>review_id</th>\n",
       "      <th>product_id</th>\n",
       "      <th>product_parent</th>\n",
       "      <th>product_title</th>\n",
       "      <th>product_category</th>\n",
       "      <th>star_rating</th>\n",
       "      <th>helpful_votes</th>\n",
       "      <th>total_votes</th>\n",
       "      <th>vine</th>\n",
       "      <th>verified_purchase</th>\n",
       "      <th>review_headline</th>\n",
       "      <th>review_body</th>\n",
       "      <th>review_date</th>\n",
       "      <th>Sentiment_ebook</th>\n",
       "    </tr>\n",
       "  </thead>\n",
       "  <tbody>\n",
       "    <tr>\n",
       "      <th>0</th>\n",
       "      <td>0</td>\n",
       "      <td>\"US\"</td>\n",
       "      <td>\"33605939\"</td>\n",
       "      <td>\"RGYFDX8QXKEIR\"</td>\n",
       "      <td>\"B007KO2MLO\"</td>\n",
       "      <td>\"328837464\"</td>\n",
       "      <td>\"Big Maria\"</td>\n",
       "      <td>\"Digital_Ebook_Purchase\"</td>\n",
       "      <td>1</td>\n",
       "      <td>0</td>\n",
       "      <td>0</td>\n",
       "      <td>0 \\t(N)</td>\n",
       "      <td>0 \\t(N)</td>\n",
       "      <td>\"Quirky\"</td>\n",
       "      <td>\"Elmore Leonard meets the cast of Sierra Madre...</td>\n",
       "      <td>2013-09-09</td>\n",
       "      <td>positive</td>\n",
       "    </tr>\n",
       "    <tr>\n",
       "      <th>1</th>\n",
       "      <td>1</td>\n",
       "      <td>\"US\"</td>\n",
       "      <td>\"34058393\"</td>\n",
       "      <td>\"R13CBGTMNV9R8Z\"</td>\n",
       "      <td>\"B005FLODDE\"</td>\n",
       "      <td>\"764276359\"</td>\n",
       "      <td>\"The Woman Who Wasn't There: The True Story of...</td>\n",
       "      <td>\"Digital_Ebook_Purchase\"</td>\n",
       "      <td>1</td>\n",
       "      <td>1</td>\n",
       "      <td>2</td>\n",
       "      <td>0 \\t(N)</td>\n",
       "      <td>1 \\t(Y)</td>\n",
       "      <td>\"The Woman Who Wasn't There\"</td>\n",
       "      <td>\"This book was very interesting. It is a true ...</td>\n",
       "      <td>2013-09-09</td>\n",
       "      <td>positive</td>\n",
       "    </tr>\n",
       "    <tr>\n",
       "      <th>2</th>\n",
       "      <td>2</td>\n",
       "      <td>\"US\"</td>\n",
       "      <td>\"39601147\"</td>\n",
       "      <td>\"R7DRFHC0F71O0\"</td>\n",
       "      <td>\"B00EA3L35O\"</td>\n",
       "      <td>\"535606445\"</td>\n",
       "      <td>\"Mary had A Sleepy Sheep\"</td>\n",
       "      <td>\"Digital_Ebook_Purchase\"</td>\n",
       "      <td>1</td>\n",
       "      <td>0</td>\n",
       "      <td>0</td>\n",
       "      <td>0 \\t(N)</td>\n",
       "      <td>0 \\t(N)</td>\n",
       "      <td>\"This Sleepy Sheep rocks!\"</td>\n",
       "      <td>\"I had the opportunity to review Mary had a Sl...</td>\n",
       "      <td>2013-09-09</td>\n",
       "      <td>positive</td>\n",
       "    </tr>\n",
       "    <tr>\n",
       "      <th>3</th>\n",
       "      <td>3</td>\n",
       "      <td>\"US\"</td>\n",
       "      <td>\"17351407\"</td>\n",
       "      <td>\"R27LUKEXU3KBXQ\"</td>\n",
       "      <td>\"B00BL3JV50\"</td>\n",
       "      <td>\"240053004\"</td>\n",
       "      <td>\"Starstruck\"</td>\n",
       "      <td>\"Digital_Ebook_Purchase\"</td>\n",
       "      <td>1</td>\n",
       "      <td>1</td>\n",
       "      <td>1</td>\n",
       "      <td>0 \\t(N)</td>\n",
       "      <td>1 \\t(Y)</td>\n",
       "      <td>\"Steamy and suspenseful!!!!!\"</td>\n",
       "      <td>\"What a great read! I really couldn't put this...</td>\n",
       "      <td>2013-09-09</td>\n",
       "      <td>positive</td>\n",
       "    </tr>\n",
       "    <tr>\n",
       "      <th>4</th>\n",
       "      <td>4</td>\n",
       "      <td>\"US\"</td>\n",
       "      <td>\"10463387\"</td>\n",
       "      <td>\"R1VXTPUYMNU687\"</td>\n",
       "      <td>\"B00CXU7U80\"</td>\n",
       "      <td>\"931529805\"</td>\n",
       "      <td>\"The Complete Conan Saga\"</td>\n",
       "      <td>\"Digital_Ebook_Purchase\"</td>\n",
       "      <td>1</td>\n",
       "      <td>1</td>\n",
       "      <td>2</td>\n",
       "      <td>0 \\t(N)</td>\n",
       "      <td>0 \\t(N)</td>\n",
       "      <td>\"Barbarians\"</td>\n",
       "      <td>\"Barbarians need love too ! Short stories work...</td>\n",
       "      <td>2013-09-09</td>\n",
       "      <td>positive</td>\n",
       "    </tr>\n",
       "  </tbody>\n",
       "</table>\n",
       "</div>"
      ],
      "text/plain": [
       "   Unnamed: 0 market_place customer_id         review_id    product_id  \\\n",
       "0           0         \"US\"  \"33605939\"   \"RGYFDX8QXKEIR\"  \"B007KO2MLO\"   \n",
       "1           1         \"US\"  \"34058393\"  \"R13CBGTMNV9R8Z\"  \"B005FLODDE\"   \n",
       "2           2         \"US\"  \"39601147\"   \"R7DRFHC0F71O0\"  \"B00EA3L35O\"   \n",
       "3           3         \"US\"  \"17351407\"  \"R27LUKEXU3KBXQ\"  \"B00BL3JV50\"   \n",
       "4           4         \"US\"  \"10463387\"  \"R1VXTPUYMNU687\"  \"B00CXU7U80\"   \n",
       "\n",
       "  product_parent                                      product_title  \\\n",
       "0    \"328837464\"                                        \"Big Maria\"   \n",
       "1    \"764276359\"  \"The Woman Who Wasn't There: The True Story of...   \n",
       "2    \"535606445\"                          \"Mary had A Sleepy Sheep\"   \n",
       "3    \"240053004\"                                       \"Starstruck\"   \n",
       "4    \"931529805\"                          \"The Complete Conan Saga\"   \n",
       "\n",
       "           product_category  star_rating  helpful_votes  total_votes     vine  \\\n",
       "0  \"Digital_Ebook_Purchase\"            1              0            0  0 \\t(N)   \n",
       "1  \"Digital_Ebook_Purchase\"            1              1            2  0 \\t(N)   \n",
       "2  \"Digital_Ebook_Purchase\"            1              0            0  0 \\t(N)   \n",
       "3  \"Digital_Ebook_Purchase\"            1              1            1  0 \\t(N)   \n",
       "4  \"Digital_Ebook_Purchase\"            1              1            2  0 \\t(N)   \n",
       "\n",
       "  verified_purchase                review_headline  \\\n",
       "0           0 \\t(N)                       \"Quirky\"   \n",
       "1           1 \\t(Y)   \"The Woman Who Wasn't There\"   \n",
       "2           0 \\t(N)     \"This Sleepy Sheep rocks!\"   \n",
       "3           1 \\t(Y)  \"Steamy and suspenseful!!!!!\"   \n",
       "4           0 \\t(N)                   \"Barbarians\"   \n",
       "\n",
       "                                         review_body review_date  \\\n",
       "0  \"Elmore Leonard meets the cast of Sierra Madre...  2013-09-09   \n",
       "1  \"This book was very interesting. It is a true ...  2013-09-09   \n",
       "2  \"I had the opportunity to review Mary had a Sl...  2013-09-09   \n",
       "3  \"What a great read! I really couldn't put this...  2013-09-09   \n",
       "4  \"Barbarians need love too ! Short stories work...  2013-09-09   \n",
       "\n",
       "  Sentiment_ebook  \n",
       "0        positive  \n",
       "1        positive  \n",
       "2        positive  \n",
       "3        positive  \n",
       "4        positive  "
      ]
     },
     "execution_count": 52,
     "metadata": {},
     "output_type": "execute_result"
    }
   ],
   "source": [
    "d_ebook.head()"
   ]
  },
  {
   "cell_type": "code",
   "execution_count": 53,
   "id": "92a215d2",
   "metadata": {
    "papermill": {
     "duration": 0.069866,
     "end_time": "2022-11-03T21:06:48.030390",
     "exception": false,
     "start_time": "2022-11-03T21:06:47.960524",
     "status": "completed"
    },
    "tags": []
   },
   "outputs": [
    {
     "data": {
      "text/html": [
       "<div>\n",
       "<style scoped>\n",
       "    .dataframe tbody tr th:only-of-type {\n",
       "        vertical-align: middle;\n",
       "    }\n",
       "\n",
       "    .dataframe tbody tr th {\n",
       "        vertical-align: top;\n",
       "    }\n",
       "\n",
       "    .dataframe thead th {\n",
       "        text-align: right;\n",
       "    }\n",
       "</style>\n",
       "<table border=\"1\" class=\"dataframe\">\n",
       "  <thead>\n",
       "    <tr style=\"text-align: right;\">\n",
       "      <th></th>\n",
       "      <th>Unnamed: 0</th>\n",
       "      <th>market_place</th>\n",
       "      <th>customer_id</th>\n",
       "      <th>review_id</th>\n",
       "      <th>product_id</th>\n",
       "      <th>product_parent</th>\n",
       "      <th>product_title</th>\n",
       "      <th>product_category</th>\n",
       "      <th>star_rating</th>\n",
       "      <th>helpful_votes</th>\n",
       "      <th>total_votes</th>\n",
       "      <th>vine</th>\n",
       "      <th>verified_purchase</th>\n",
       "      <th>review_headline</th>\n",
       "      <th>review_body</th>\n",
       "      <th>review_date</th>\n",
       "      <th>Sentiment_grcry</th>\n",
       "    </tr>\n",
       "  </thead>\n",
       "  <tbody>\n",
       "    <tr>\n",
       "      <th>0</th>\n",
       "      <td>0</td>\n",
       "      <td>\"US\"</td>\n",
       "      <td>\"42521656\"</td>\n",
       "      <td>\"R26MV8D0KG6QI6\"</td>\n",
       "      <td>\"B000SAQCWC\"</td>\n",
       "      <td>\"159713740\"</td>\n",
       "      <td>\"The Cravings Place Chocolate Chunk Cookie Mix...</td>\n",
       "      <td>\"Grocery\"</td>\n",
       "      <td>1</td>\n",
       "      <td>0</td>\n",
       "      <td>0</td>\n",
       "      <td>0 \\t(N)</td>\n",
       "      <td>1 \\t(Y)</td>\n",
       "      <td>\"Using these for years - love them.\"</td>\n",
       "      <td>\"As a family allergic to wheat, dairy, eggs, n...</td>\n",
       "      <td>2015-08-31</td>\n",
       "      <td>positive</td>\n",
       "    </tr>\n",
       "    <tr>\n",
       "      <th>1</th>\n",
       "      <td>1</td>\n",
       "      <td>\"US\"</td>\n",
       "      <td>\"12049833\"</td>\n",
       "      <td>\"R1OF8GP57AQ1A0\"</td>\n",
       "      <td>\"B00509LVIQ\"</td>\n",
       "      <td>\"138680402\"</td>\n",
       "      <td>\"Mauna Loa Macadamias, 11 Ounce Packages\"</td>\n",
       "      <td>\"Grocery\"</td>\n",
       "      <td>1</td>\n",
       "      <td>0</td>\n",
       "      <td>0</td>\n",
       "      <td>0 \\t(N)</td>\n",
       "      <td>1 \\t(Y)</td>\n",
       "      <td>\"Wonderful\"</td>\n",
       "      <td>\"My favorite nut. Creamy, crunchy, salty, and ...</td>\n",
       "      <td>2015-08-31</td>\n",
       "      <td>positive</td>\n",
       "    </tr>\n",
       "    <tr>\n",
       "      <th>2</th>\n",
       "      <td>2</td>\n",
       "      <td>\"US\"</td>\n",
       "      <td>\"107642\"</td>\n",
       "      <td>\"R3VDC1QB6MC4ZZ\"</td>\n",
       "      <td>\"B00KHXESLC\"</td>\n",
       "      <td>\"252021703\"</td>\n",
       "      <td>\"Organic Matcha Green Tea Powder - 100% Pure M...</td>\n",
       "      <td>\"Grocery\"</td>\n",
       "      <td>1</td>\n",
       "      <td>0</td>\n",
       "      <td>0</td>\n",
       "      <td>0 \\t(N)</td>\n",
       "      <td>0 \\t(N)</td>\n",
       "      <td>\"Five Stars\"</td>\n",
       "      <td>\"This green tea tastes so good! My girlfriend ...</td>\n",
       "      <td>2015-08-31</td>\n",
       "      <td>positive</td>\n",
       "    </tr>\n",
       "    <tr>\n",
       "      <th>3</th>\n",
       "      <td>3</td>\n",
       "      <td>\"US\"</td>\n",
       "      <td>\"6042304\"</td>\n",
       "      <td>\"R12FA3DCF8F9ER\"</td>\n",
       "      <td>\"B000F8JIIC\"</td>\n",
       "      <td>\"752728342\"</td>\n",
       "      <td>\"15oz Raspberry Lyons Designer Dessert Syrup S...</td>\n",
       "      <td>\"Grocery\"</td>\n",
       "      <td>1</td>\n",
       "      <td>0</td>\n",
       "      <td>0</td>\n",
       "      <td>0 \\t(N)</td>\n",
       "      <td>1 \\t(Y)</td>\n",
       "      <td>\"Five Stars\"</td>\n",
       "      <td>\"I love Melissa's brand but this is a great se...</td>\n",
       "      <td>2015-08-31</td>\n",
       "      <td>positive</td>\n",
       "    </tr>\n",
       "    <tr>\n",
       "      <th>4</th>\n",
       "      <td>4</td>\n",
       "      <td>\"US\"</td>\n",
       "      <td>\"18123821\"</td>\n",
       "      <td>\"RTWHVNV6X4CNJ\"</td>\n",
       "      <td>\"B004ZWR9RQ\"</td>\n",
       "      <td>\"552138758\"</td>\n",
       "      <td>\"Stride Spark Kinetic Fruit Sugar Free Gum, 14...</td>\n",
       "      <td>\"Grocery\"</td>\n",
       "      <td>1</td>\n",
       "      <td>0</td>\n",
       "      <td>0</td>\n",
       "      <td>0 \\t(N)</td>\n",
       "      <td>1 \\t(Y)</td>\n",
       "      <td>\"Five Stars\"</td>\n",
       "      <td>\"good\"</td>\n",
       "      <td>2015-08-31</td>\n",
       "      <td>positive</td>\n",
       "    </tr>\n",
       "  </tbody>\n",
       "</table>\n",
       "</div>"
      ],
      "text/plain": [
       "   Unnamed: 0 market_place customer_id         review_id    product_id  \\\n",
       "0           0         \"US\"  \"42521656\"  \"R26MV8D0KG6QI6\"  \"B000SAQCWC\"   \n",
       "1           1         \"US\"  \"12049833\"  \"R1OF8GP57AQ1A0\"  \"B00509LVIQ\"   \n",
       "2           2         \"US\"    \"107642\"  \"R3VDC1QB6MC4ZZ\"  \"B00KHXESLC\"   \n",
       "3           3         \"US\"   \"6042304\"  \"R12FA3DCF8F9ER\"  \"B000F8JIIC\"   \n",
       "4           4         \"US\"  \"18123821\"   \"RTWHVNV6X4CNJ\"  \"B004ZWR9RQ\"   \n",
       "\n",
       "  product_parent                                      product_title  \\\n",
       "0    \"159713740\"  \"The Cravings Place Chocolate Chunk Cookie Mix...   \n",
       "1    \"138680402\"          \"Mauna Loa Macadamias, 11 Ounce Packages\"   \n",
       "2    \"252021703\"  \"Organic Matcha Green Tea Powder - 100% Pure M...   \n",
       "3    \"752728342\"  \"15oz Raspberry Lyons Designer Dessert Syrup S...   \n",
       "4    \"552138758\"  \"Stride Spark Kinetic Fruit Sugar Free Gum, 14...   \n",
       "\n",
       "  product_category  star_rating  helpful_votes  total_votes     vine  \\\n",
       "0        \"Grocery\"            1              0            0  0 \\t(N)   \n",
       "1        \"Grocery\"            1              0            0  0 \\t(N)   \n",
       "2        \"Grocery\"            1              0            0  0 \\t(N)   \n",
       "3        \"Grocery\"            1              0            0  0 \\t(N)   \n",
       "4        \"Grocery\"            1              0            0  0 \\t(N)   \n",
       "\n",
       "  verified_purchase                       review_headline  \\\n",
       "0           1 \\t(Y)  \"Using these for years - love them.\"   \n",
       "1           1 \\t(Y)                           \"Wonderful\"   \n",
       "2           0 \\t(N)                          \"Five Stars\"   \n",
       "3           1 \\t(Y)                          \"Five Stars\"   \n",
       "4           1 \\t(Y)                          \"Five Stars\"   \n",
       "\n",
       "                                         review_body review_date  \\\n",
       "0  \"As a family allergic to wheat, dairy, eggs, n...  2015-08-31   \n",
       "1  \"My favorite nut. Creamy, crunchy, salty, and ...  2015-08-31   \n",
       "2  \"This green tea tastes so good! My girlfriend ...  2015-08-31   \n",
       "3  \"I love Melissa's brand but this is a great se...  2015-08-31   \n",
       "4                                             \"good\"  2015-08-31   \n",
       "\n",
       "  Sentiment_grcry  \n",
       "0        positive  \n",
       "1        positive  \n",
       "2        positive  \n",
       "3        positive  \n",
       "4        positive  "
      ]
     },
     "execution_count": 53,
     "metadata": {},
     "output_type": "execute_result"
    }
   ],
   "source": [
    "d_grocery.head()"
   ]
  },
  {
   "cell_type": "code",
   "execution_count": 54,
   "id": "3b8d43b8",
   "metadata": {
    "papermill": {
     "duration": 0.070084,
     "end_time": "2022-11-03T21:06:48.145632",
     "exception": false,
     "start_time": "2022-11-03T21:06:48.075548",
     "status": "completed"
    },
    "tags": []
   },
   "outputs": [
    {
     "data": {
      "text/html": [
       "<div>\n",
       "<style scoped>\n",
       "    .dataframe tbody tr th:only-of-type {\n",
       "        vertical-align: middle;\n",
       "    }\n",
       "\n",
       "    .dataframe tbody tr th {\n",
       "        vertical-align: top;\n",
       "    }\n",
       "\n",
       "    .dataframe thead th {\n",
       "        text-align: right;\n",
       "    }\n",
       "</style>\n",
       "<table border=\"1\" class=\"dataframe\">\n",
       "  <thead>\n",
       "    <tr style=\"text-align: right;\">\n",
       "      <th></th>\n",
       "      <th>Unnamed: 0</th>\n",
       "      <th>market_place</th>\n",
       "      <th>customer_id</th>\n",
       "      <th>review_id</th>\n",
       "      <th>product_id</th>\n",
       "      <th>product_parent</th>\n",
       "      <th>product_title</th>\n",
       "      <th>product_category</th>\n",
       "      <th>star_rating</th>\n",
       "      <th>helpful_votes</th>\n",
       "      <th>total_votes</th>\n",
       "      <th>vine</th>\n",
       "      <th>verified_purchase</th>\n",
       "      <th>review_headline</th>\n",
       "      <th>review_body</th>\n",
       "      <th>review_date</th>\n",
       "      <th>Sentiment_jwlry</th>\n",
       "    </tr>\n",
       "  </thead>\n",
       "  <tbody>\n",
       "    <tr>\n",
       "      <th>0</th>\n",
       "      <td>0</td>\n",
       "      <td>\"US\"</td>\n",
       "      <td>\"50423057\"</td>\n",
       "      <td>\"R135Q3VZ4DQN5N\"</td>\n",
       "      <td>\"B00JWXFDMG\"</td>\n",
       "      <td>\"657335467\"</td>\n",
       "      <td>\"Everbling Purple and Clear Briolette Drop Swa...</td>\n",
       "      <td>\"Jewelry\"</td>\n",
       "      <td>1</td>\n",
       "      <td>0</td>\n",
       "      <td>0</td>\n",
       "      <td>0 \\t(N)</td>\n",
       "      <td>1 \\t(Y)</td>\n",
       "      <td>\"Beauties!\"</td>\n",
       "      <td>\"so beautiful even tho clearly not high end .....</td>\n",
       "      <td>2015-08-31</td>\n",
       "      <td>positive</td>\n",
       "    </tr>\n",
       "    <tr>\n",
       "      <th>1</th>\n",
       "      <td>1</td>\n",
       "      <td>\"US\"</td>\n",
       "      <td>\"11262325\"</td>\n",
       "      <td>\"R2N0QQ6R4T7YRY\"</td>\n",
       "      <td>\"B00W5T1H9W\"</td>\n",
       "      <td>\"26030170\"</td>\n",
       "      <td>\"925 Sterling Silver Finish 6ct Simulated Diam...</td>\n",
       "      <td>\"Jewelry\"</td>\n",
       "      <td>1</td>\n",
       "      <td>0</td>\n",
       "      <td>0</td>\n",
       "      <td>0 \\t(N)</td>\n",
       "      <td>0 \\t(N)</td>\n",
       "      <td>\"Great product.\"</td>\n",
       "      <td>\"Great product.. I got this set for my mother,...</td>\n",
       "      <td>2015-08-31</td>\n",
       "      <td>positive</td>\n",
       "    </tr>\n",
       "    <tr>\n",
       "      <th>2</th>\n",
       "      <td>2</td>\n",
       "      <td>\"US\"</td>\n",
       "      <td>\"27541121\"</td>\n",
       "      <td>\"R3N5JE5Y4T6W5M\"</td>\n",
       "      <td>\"B00M2L6KFY\"</td>\n",
       "      <td>\"697845240\"</td>\n",
       "      <td>\"Sterling Silver Circle \"Friends Forever\" Infi...</td>\n",
       "      <td>\"Jewelry\"</td>\n",
       "      <td>1</td>\n",
       "      <td>0</td>\n",
       "      <td>0</td>\n",
       "      <td>0 \\t(N)</td>\n",
       "      <td>1 \\t(Y)</td>\n",
       "      <td>\"Exactly as pictured and my daughter's friend ...</td>\n",
       "      <td>\"Exactly as pictured and my daughter's friend ...</td>\n",
       "      <td>2015-08-31</td>\n",
       "      <td>positive</td>\n",
       "    </tr>\n",
       "    <tr>\n",
       "      <th>3</th>\n",
       "      <td>3</td>\n",
       "      <td>\"US\"</td>\n",
       "      <td>\"5350721\"</td>\n",
       "      <td>\"R2I150CX5IVY9Q\"</td>\n",
       "      <td>\"B0006SW2WU\"</td>\n",
       "      <td>\"569859289\"</td>\n",
       "      <td>\"Surgical Stainless Steel Domed 9mm Fishbone R...</td>\n",
       "      <td>\"Jewelry\"</td>\n",
       "      <td>1</td>\n",
       "      <td>0</td>\n",
       "      <td>0</td>\n",
       "      <td>0 \\t(N)</td>\n",
       "      <td>1 \\t(Y)</td>\n",
       "      <td>\"Five Stars\"</td>\n",
       "      <td>\"Love it. Fits great. Super comfortable and ne...</td>\n",
       "      <td>2015-08-31</td>\n",
       "      <td>positive</td>\n",
       "    </tr>\n",
       "    <tr>\n",
       "      <th>4</th>\n",
       "      <td>4</td>\n",
       "      <td>\"US\"</td>\n",
       "      <td>\"24484424\"</td>\n",
       "      <td>\"R1RM9ICOOA9MQ3\"</td>\n",
       "      <td>\"B009YPDW70\"</td>\n",
       "      <td>\"332947422\"</td>\n",
       "      <td>\"Sterling Silver Family Pendant Necklace, 18\"\"</td>\n",
       "      <td>\"Jewelry\"</td>\n",
       "      <td>1</td>\n",
       "      <td>0</td>\n",
       "      <td>0</td>\n",
       "      <td>0 \\t(N)</td>\n",
       "      <td>1 \\t(Y)</td>\n",
       "      <td>\"... a Mother's Day gift for my Mom and she lo...</td>\n",
       "      <td>\"Got this as a Mother's Day gift for my Mom an...</td>\n",
       "      <td>2015-08-31</td>\n",
       "      <td>positive</td>\n",
       "    </tr>\n",
       "  </tbody>\n",
       "</table>\n",
       "</div>"
      ],
      "text/plain": [
       "   Unnamed: 0 market_place customer_id         review_id    product_id  \\\n",
       "0           0         \"US\"  \"50423057\"  \"R135Q3VZ4DQN5N\"  \"B00JWXFDMG\"   \n",
       "1           1         \"US\"  \"11262325\"  \"R2N0QQ6R4T7YRY\"  \"B00W5T1H9W\"   \n",
       "2           2         \"US\"  \"27541121\"  \"R3N5JE5Y4T6W5M\"  \"B00M2L6KFY\"   \n",
       "3           3         \"US\"   \"5350721\"  \"R2I150CX5IVY9Q\"  \"B0006SW2WU\"   \n",
       "4           4         \"US\"  \"24484424\"  \"R1RM9ICOOA9MQ3\"  \"B009YPDW70\"   \n",
       "\n",
       "  product_parent                                      product_title  \\\n",
       "0    \"657335467\"  \"Everbling Purple and Clear Briolette Drop Swa...   \n",
       "1     \"26030170\"  \"925 Sterling Silver Finish 6ct Simulated Diam...   \n",
       "2    \"697845240\"  \"Sterling Silver Circle \"Friends Forever\" Infi...   \n",
       "3    \"569859289\"  \"Surgical Stainless Steel Domed 9mm Fishbone R...   \n",
       "4    \"332947422\"     \"Sterling Silver Family Pendant Necklace, 18\"\"   \n",
       "\n",
       "  product_category  star_rating  helpful_votes  total_votes     vine  \\\n",
       "0        \"Jewelry\"            1              0            0  0 \\t(N)   \n",
       "1        \"Jewelry\"            1              0            0  0 \\t(N)   \n",
       "2        \"Jewelry\"            1              0            0  0 \\t(N)   \n",
       "3        \"Jewelry\"            1              0            0  0 \\t(N)   \n",
       "4        \"Jewelry\"            1              0            0  0 \\t(N)   \n",
       "\n",
       "  verified_purchase                                    review_headline  \\\n",
       "0           1 \\t(Y)                                        \"Beauties!\"   \n",
       "1           0 \\t(N)                                   \"Great product.\"   \n",
       "2           1 \\t(Y)  \"Exactly as pictured and my daughter's friend ...   \n",
       "3           1 \\t(Y)                                       \"Five Stars\"   \n",
       "4           1 \\t(Y)  \"... a Mother's Day gift for my Mom and she lo...   \n",
       "\n",
       "                                         review_body review_date  \\\n",
       "0  \"so beautiful even tho clearly not high end .....  2015-08-31   \n",
       "1  \"Great product.. I got this set for my mother,...  2015-08-31   \n",
       "2  \"Exactly as pictured and my daughter's friend ...  2015-08-31   \n",
       "3  \"Love it. Fits great. Super comfortable and ne...  2015-08-31   \n",
       "4  \"Got this as a Mother's Day gift for my Mom an...  2015-08-31   \n",
       "\n",
       "  Sentiment_jwlry  \n",
       "0        positive  \n",
       "1        positive  \n",
       "2        positive  \n",
       "3        positive  \n",
       "4        positive  "
      ]
     },
     "execution_count": 54,
     "metadata": {},
     "output_type": "execute_result"
    }
   ],
   "source": [
    "d_jwellery.head()"
   ]
  },
  {
   "cell_type": "code",
   "execution_count": 55,
   "id": "7d50fb14",
   "metadata": {
    "papermill": {
     "duration": 0.072177,
     "end_time": "2022-11-03T21:06:48.265212",
     "exception": false,
     "start_time": "2022-11-03T21:06:48.193035",
     "status": "completed"
    },
    "tags": []
   },
   "outputs": [
    {
     "data": {
      "text/html": [
       "<div>\n",
       "<style scoped>\n",
       "    .dataframe tbody tr th:only-of-type {\n",
       "        vertical-align: middle;\n",
       "    }\n",
       "\n",
       "    .dataframe tbody tr th {\n",
       "        vertical-align: top;\n",
       "    }\n",
       "\n",
       "    .dataframe thead th {\n",
       "        text-align: right;\n",
       "    }\n",
       "</style>\n",
       "<table border=\"1\" class=\"dataframe\">\n",
       "  <thead>\n",
       "    <tr style=\"text-align: right;\">\n",
       "      <th></th>\n",
       "      <th>Unnamed: 0</th>\n",
       "      <th>market_place</th>\n",
       "      <th>customer_id</th>\n",
       "      <th>review_id</th>\n",
       "      <th>product_id</th>\n",
       "      <th>product_parent</th>\n",
       "      <th>product_title</th>\n",
       "      <th>product_category</th>\n",
       "      <th>star_rating</th>\n",
       "      <th>helpful_votes</th>\n",
       "      <th>total_votes</th>\n",
       "      <th>vine</th>\n",
       "      <th>verified_purchase</th>\n",
       "      <th>review_headline</th>\n",
       "      <th>review_body</th>\n",
       "      <th>review_date</th>\n",
       "      <th>Sentiment_pc</th>\n",
       "    </tr>\n",
       "  </thead>\n",
       "  <tbody>\n",
       "    <tr>\n",
       "      <th>0</th>\n",
       "      <td>0</td>\n",
       "      <td>\"US\"</td>\n",
       "      <td>\"22873041\"</td>\n",
       "      <td>\"R3ARRMDEGED8RD\"</td>\n",
       "      <td>\"B00KJWQIIC\"</td>\n",
       "      <td>\"335625766\"</td>\n",
       "      <td>\"Plemo 14-Inch Laptop Sleeve Case Waterproof F...</td>\n",
       "      <td>\"PC\"</td>\n",
       "      <td>1</td>\n",
       "      <td>0</td>\n",
       "      <td>0</td>\n",
       "      <td>0 \\t(N)</td>\n",
       "      <td>1 \\t(Y)</td>\n",
       "      <td>\"Pleasantly surprised\"</td>\n",
       "      <td>\"I was very surprised at the high quality of t...</td>\n",
       "      <td>2015-08-31</td>\n",
       "      <td>positive</td>\n",
       "    </tr>\n",
       "    <tr>\n",
       "      <th>1</th>\n",
       "      <td>1</td>\n",
       "      <td>\"US\"</td>\n",
       "      <td>\"30088427\"</td>\n",
       "      <td>\"RQ28TSA020Y6J\"</td>\n",
       "      <td>\"B013ALA9LA\"</td>\n",
       "      <td>\"671157305\"</td>\n",
       "      <td>\"TP-Link OnHub AC1900 Wireless Wi-Fi Router\"</td>\n",
       "      <td>\"PC\"</td>\n",
       "      <td>1</td>\n",
       "      <td>24</td>\n",
       "      <td>31</td>\n",
       "      <td>0 \\t(N)</td>\n",
       "      <td>0 \\t(N)</td>\n",
       "      <td>\"OnHub is a pretty no nonsense type router tha...</td>\n",
       "      <td>\"I am a Google employee and had to chance to u...</td>\n",
       "      <td>2015-08-31</td>\n",
       "      <td>positive</td>\n",
       "    </tr>\n",
       "    <tr>\n",
       "      <th>2</th>\n",
       "      <td>2</td>\n",
       "      <td>\"US\"</td>\n",
       "      <td>\"20329786\"</td>\n",
       "      <td>\"RUXJRZCT6953M\"</td>\n",
       "      <td>\"B00PML2GQ8\"</td>\n",
       "      <td>\"982036237\"</td>\n",
       "      <td>\"AmazonBasics USB 3.0 A Male to A Male Cable -...</td>\n",
       "      <td>\"PC\"</td>\n",
       "      <td>0</td>\n",
       "      <td>2</td>\n",
       "      <td>2</td>\n",
       "      <td>0 \\t(N)</td>\n",
       "      <td>0 \\t(N)</td>\n",
       "      <td>\"None of them worked. No functionality at all.\"</td>\n",
       "      <td>\"Bought cables in 3ft, 6ft and 9ft. NONE of th...</td>\n",
       "      <td>2015-08-31</td>\n",
       "      <td>negaitve</td>\n",
       "    </tr>\n",
       "    <tr>\n",
       "      <th>3</th>\n",
       "      <td>3</td>\n",
       "      <td>\"US\"</td>\n",
       "      <td>\"14215710\"</td>\n",
       "      <td>\"R7EO0UO6BPB71\"</td>\n",
       "      <td>\"B001NS0OZ4\"</td>\n",
       "      <td>\"576587596\"</td>\n",
       "      <td>\"Transcend P8 15-in-1 USB 2.0 Flash Memory Car...</td>\n",
       "      <td>\"PC\"</td>\n",
       "      <td>0</td>\n",
       "      <td>0</td>\n",
       "      <td>0</td>\n",
       "      <td>0 \\t(N)</td>\n",
       "      <td>1 \\t(Y)</td>\n",
       "      <td>\"just keep searching.\"</td>\n",
       "      <td>\"nope, cheap and slow\"</td>\n",
       "      <td>2015-08-31</td>\n",
       "      <td>negaitve</td>\n",
       "    </tr>\n",
       "    <tr>\n",
       "      <th>4</th>\n",
       "      <td>4</td>\n",
       "      <td>\"US\"</td>\n",
       "      <td>\"38264512\"</td>\n",
       "      <td>\"R39NJY2YJ1JFSV\"</td>\n",
       "      <td>\"B00AQMTND2\"</td>\n",
       "      <td>\"964759214\"</td>\n",
       "      <td>\"Aleratec SATA Data Cable 2.0 20in Serial ATA ...</td>\n",
       "      <td>\"PC\"</td>\n",
       "      <td>1</td>\n",
       "      <td>0</td>\n",
       "      <td>0</td>\n",
       "      <td>0 \\t(N)</td>\n",
       "      <td>1 \\t(Y)</td>\n",
       "      <td>\"Five Stars\"</td>\n",
       "      <td>\"Excellent! Great value and does the job.\"</td>\n",
       "      <td>2015-08-31</td>\n",
       "      <td>positive</td>\n",
       "    </tr>\n",
       "  </tbody>\n",
       "</table>\n",
       "</div>"
      ],
      "text/plain": [
       "   Unnamed: 0 market_place customer_id         review_id    product_id  \\\n",
       "0           0         \"US\"  \"22873041\"  \"R3ARRMDEGED8RD\"  \"B00KJWQIIC\"   \n",
       "1           1         \"US\"  \"30088427\"   \"RQ28TSA020Y6J\"  \"B013ALA9LA\"   \n",
       "2           2         \"US\"  \"20329786\"   \"RUXJRZCT6953M\"  \"B00PML2GQ8\"   \n",
       "3           3         \"US\"  \"14215710\"   \"R7EO0UO6BPB71\"  \"B001NS0OZ4\"   \n",
       "4           4         \"US\"  \"38264512\"  \"R39NJY2YJ1JFSV\"  \"B00AQMTND2\"   \n",
       "\n",
       "  product_parent                                      product_title  \\\n",
       "0    \"335625766\"  \"Plemo 14-Inch Laptop Sleeve Case Waterproof F...   \n",
       "1    \"671157305\"       \"TP-Link OnHub AC1900 Wireless Wi-Fi Router\"   \n",
       "2    \"982036237\"  \"AmazonBasics USB 3.0 A Male to A Male Cable -...   \n",
       "3    \"576587596\"  \"Transcend P8 15-in-1 USB 2.0 Flash Memory Car...   \n",
       "4    \"964759214\"  \"Aleratec SATA Data Cable 2.0 20in Serial ATA ...   \n",
       "\n",
       "  product_category  star_rating  helpful_votes  total_votes     vine  \\\n",
       "0             \"PC\"            1              0            0  0 \\t(N)   \n",
       "1             \"PC\"            1             24           31  0 \\t(N)   \n",
       "2             \"PC\"            0              2            2  0 \\t(N)   \n",
       "3             \"PC\"            0              0            0  0 \\t(N)   \n",
       "4             \"PC\"            1              0            0  0 \\t(N)   \n",
       "\n",
       "  verified_purchase                                    review_headline  \\\n",
       "0           1 \\t(Y)                             \"Pleasantly surprised\"   \n",
       "1           0 \\t(N)  \"OnHub is a pretty no nonsense type router tha...   \n",
       "2           0 \\t(N)    \"None of them worked. No functionality at all.\"   \n",
       "3           1 \\t(Y)                             \"just keep searching.\"   \n",
       "4           1 \\t(Y)                                       \"Five Stars\"   \n",
       "\n",
       "                                         review_body review_date Sentiment_pc  \n",
       "0  \"I was very surprised at the high quality of t...  2015-08-31     positive  \n",
       "1  \"I am a Google employee and had to chance to u...  2015-08-31     positive  \n",
       "2  \"Bought cables in 3ft, 6ft and 9ft. NONE of th...  2015-08-31     negaitve  \n",
       "3                             \"nope, cheap and slow\"  2015-08-31     negaitve  \n",
       "4         \"Excellent! Great value and does the job.\"  2015-08-31     positive  "
      ]
     },
     "execution_count": 55,
     "metadata": {},
     "output_type": "execute_result"
    }
   ],
   "source": [
    "d_pc.head()"
   ]
  },
  {
   "cell_type": "code",
   "execution_count": 56,
   "id": "fb193430",
   "metadata": {
    "papermill": {
     "duration": 0.06791,
     "end_time": "2022-11-03T21:06:48.381416",
     "exception": false,
     "start_time": "2022-11-03T21:06:48.313506",
     "status": "completed"
    },
    "tags": []
   },
   "outputs": [
    {
     "data": {
      "text/html": [
       "<div>\n",
       "<style scoped>\n",
       "    .dataframe tbody tr th:only-of-type {\n",
       "        vertical-align: middle;\n",
       "    }\n",
       "\n",
       "    .dataframe tbody tr th {\n",
       "        vertical-align: top;\n",
       "    }\n",
       "\n",
       "    .dataframe thead th {\n",
       "        text-align: right;\n",
       "    }\n",
       "</style>\n",
       "<table border=\"1\" class=\"dataframe\">\n",
       "  <thead>\n",
       "    <tr style=\"text-align: right;\">\n",
       "      <th></th>\n",
       "      <th>customer_id</th>\n",
       "      <th>product_title</th>\n",
       "      <th>product_category</th>\n",
       "      <th>star_rating</th>\n",
       "      <th>helpful_votes</th>\n",
       "      <th>total_votes</th>\n",
       "      <th>verified_purchase</th>\n",
       "      <th>review_date</th>\n",
       "      <th>Sentiment_books</th>\n",
       "    </tr>\n",
       "  </thead>\n",
       "  <tbody>\n",
       "    <tr>\n",
       "      <th>0</th>\n",
       "      <td>\"25933450\"</td>\n",
       "      <td>There Was an Old Lady Who Swallowed a Shell!</td>\n",
       "      <td>Books</td>\n",
       "      <td>1</td>\n",
       "      <td>0</td>\n",
       "      <td>0</td>\n",
       "      <td>Y</td>\n",
       "      <td>2015-08-31</td>\n",
       "      <td>positive</td>\n",
       "    </tr>\n",
       "    <tr>\n",
       "      <th>1</th>\n",
       "      <td>\"1801372\"</td>\n",
       "      <td>I Saw a Friend</td>\n",
       "      <td>Books</td>\n",
       "      <td>1</td>\n",
       "      <td>0</td>\n",
       "      <td>0</td>\n",
       "      <td>Y</td>\n",
       "      <td>2015-08-31</td>\n",
       "      <td>positive</td>\n",
       "    </tr>\n",
       "    <tr>\n",
       "      <th>2</th>\n",
       "      <td>\"5782091\"</td>\n",
       "      <td>Black Lagoon, Vol. 6</td>\n",
       "      <td>Books</td>\n",
       "      <td>1</td>\n",
       "      <td>0</td>\n",
       "      <td>0</td>\n",
       "      <td>Y</td>\n",
       "      <td>2015-08-31</td>\n",
       "      <td>positive</td>\n",
       "    </tr>\n",
       "    <tr>\n",
       "      <th>3</th>\n",
       "      <td>\"32715830\"</td>\n",
       "      <td>If I Stay</td>\n",
       "      <td>Books</td>\n",
       "      <td>1</td>\n",
       "      <td>0</td>\n",
       "      <td>0</td>\n",
       "      <td>N</td>\n",
       "      <td>2015-08-31</td>\n",
       "      <td>positive</td>\n",
       "    </tr>\n",
       "    <tr>\n",
       "      <th>4</th>\n",
       "      <td>\"14005703\"</td>\n",
       "      <td>Stars 'N Strips Forever</td>\n",
       "      <td>Books</td>\n",
       "      <td>1</td>\n",
       "      <td>2</td>\n",
       "      <td>2</td>\n",
       "      <td>Y</td>\n",
       "      <td>2015-08-31</td>\n",
       "      <td>positive</td>\n",
       "    </tr>\n",
       "  </tbody>\n",
       "</table>\n",
       "</div>"
      ],
      "text/plain": [
       "  customer_id                                 product_title product_category  \\\n",
       "0  \"25933450\"  There Was an Old Lady Who Swallowed a Shell!            Books   \n",
       "1   \"1801372\"                                I Saw a Friend            Books   \n",
       "2   \"5782091\"                          Black Lagoon, Vol. 6            Books   \n",
       "3  \"32715830\"                                     If I Stay            Books   \n",
       "4  \"14005703\"                       Stars 'N Strips Forever            Books   \n",
       "\n",
       "   star_rating  helpful_votes  total_votes verified_purchase review_date  \\\n",
       "0            1              0            0                 Y  2015-08-31   \n",
       "1            1              0            0                 Y  2015-08-31   \n",
       "2            1              0            0                 Y  2015-08-31   \n",
       "3            1              0            0                 N  2015-08-31   \n",
       "4            1              2            2                 Y  2015-08-31   \n",
       "\n",
       "  Sentiment_books  \n",
       "0        positive  \n",
       "1        positive  \n",
       "2        positive  \n",
       "3        positive  \n",
       "4        positive  "
      ]
     },
     "execution_count": 56,
     "metadata": {},
     "output_type": "execute_result"
    }
   ],
   "source": [
    "#hence by looking at all these dataset we can say that the columns review_month,review_year,\n",
    "#review_day are not needed in dataset d_books\n",
    "\n",
    "d_books.drop(columns=['review_day','review_year','review_month'],inplace=True)\n",
    "\n",
    "d_books.head()"
   ]
  },
  {
   "cell_type": "code",
   "execution_count": 57,
   "id": "ef26efde",
   "metadata": {
    "papermill": {
     "duration": 0.055575,
     "end_time": "2022-11-03T21:06:48.483987",
     "exception": false,
     "start_time": "2022-11-03T21:06:48.428412",
     "status": "completed"
    },
    "tags": []
   },
   "outputs": [],
   "source": [
    "#now we can say we finally have the relevant d_books dataframe for analysis"
   ]
  },
  {
   "cell_type": "code",
   "execution_count": 58,
   "id": "e3641201",
   "metadata": {
    "papermill": {
     "duration": 0.319356,
     "end_time": "2022-11-03T21:06:48.850224",
     "exception": false,
     "start_time": "2022-11-03T21:06:48.530868",
     "status": "completed"
    },
    "tags": []
   },
   "outputs": [
    {
     "data": {
      "text/plain": [
       "<Axes: xlabel='count', ylabel='verified_purchase'>"
      ]
     },
     "execution_count": 58,
     "metadata": {},
     "output_type": "execute_result"
    },
    {
     "data": {
      "image/png": "[encoded data removed]",
      "text/plain": [
       "<Figure size 600x600 with 1 Axes>"
      ]
     },
     "metadata": {},
     "output_type": "display_data"
    }
   ],
   "source": [
    "plt.figure(figsize=(6,6))\n",
    "sns.countplot(d_books['verified_purchase'])"
   ]
  },
  {
   "cell_type": "markdown",
   "id": "f72093fc",
   "metadata": {
    "papermill": {
     "duration": 0.057022,
     "end_time": "2022-11-03T21:06:48.963461",
     "exception": false,
     "start_time": "2022-11-03T21:06:48.906439",
     "status": "completed"
    },
    "tags": []
   },
   "source": [
    "From here we can see that there are about 75 verified purchases and 25 not verified purchases. Since verified purchase are quite more in number we can say that we can ignore the abnormality caused by non-verified purchase as even though some of the reviews may be fake still their number is not a major threat.\n",
    "\n",
    "However for more trusted results we can focus only on the verified purchases."
   ]
  },
  {
   "cell_type": "code",
   "execution_count": null,
   "id": "9d0e2a77",
   "metadata": {
    "papermill": {
     "duration": 0.050471,
     "end_time": "2022-11-03T21:06:49.063644",
     "exception": false,
     "start_time": "2022-11-03T21:06:49.013173",
     "status": "completed"
    },
    "tags": []
   },
   "outputs": [],
   "source": []
  },
  {
   "cell_type": "code",
   "execution_count": null,
   "id": "9103eead",
   "metadata": {
    "papermill": {
     "duration": 0.052054,
     "end_time": "2022-11-03T21:06:49.166931",
     "exception": false,
     "start_time": "2022-11-03T21:06:49.114877",
     "status": "completed"
    },
    "tags": []
   },
   "outputs": [],
   "source": []
  },
  {
   "cell_type": "code",
   "execution_count": 59,
   "id": "5686afa8",
   "metadata": {
    "papermill": {
     "duration": 0.076791,
     "end_time": "2022-11-03T21:06:49.296071",
     "exception": false,
     "start_time": "2022-11-03T21:06:49.219280",
     "status": "completed"
    },
    "tags": []
   },
   "outputs": [
    {
     "data": {
      "text/html": [
       "<div>\n",
       "<style scoped>\n",
       "    .dataframe tbody tr th:only-of-type {\n",
       "        vertical-align: middle;\n",
       "    }\n",
       "\n",
       "    .dataframe tbody tr th {\n",
       "        vertical-align: top;\n",
       "    }\n",
       "\n",
       "    .dataframe thead th {\n",
       "        text-align: right;\n",
       "    }\n",
       "</style>\n",
       "<table border=\"1\" class=\"dataframe\">\n",
       "  <thead>\n",
       "    <tr style=\"text-align: right;\">\n",
       "      <th></th>\n",
       "      <th>customer_id</th>\n",
       "      <th>product_title</th>\n",
       "      <th>product_category</th>\n",
       "      <th>star_rating</th>\n",
       "      <th>helpful_votes</th>\n",
       "      <th>total_votes</th>\n",
       "      <th>verified_purchase</th>\n",
       "      <th>review_date</th>\n",
       "      <th>Sentiment_books</th>\n",
       "    </tr>\n",
       "  </thead>\n",
       "  <tbody>\n",
       "    <tr>\n",
       "      <th>0</th>\n",
       "      <td>\"25933450\"</td>\n",
       "      <td>There Was an Old Lady Who Swallowed a Shell!</td>\n",
       "      <td>Books</td>\n",
       "      <td>1</td>\n",
       "      <td>0</td>\n",
       "      <td>0</td>\n",
       "      <td>Y</td>\n",
       "      <td>2015-08-31</td>\n",
       "      <td>positive</td>\n",
       "    </tr>\n",
       "    <tr>\n",
       "      <th>1</th>\n",
       "      <td>\"1801372\"</td>\n",
       "      <td>I Saw a Friend</td>\n",
       "      <td>Books</td>\n",
       "      <td>1</td>\n",
       "      <td>0</td>\n",
       "      <td>0</td>\n",
       "      <td>Y</td>\n",
       "      <td>2015-08-31</td>\n",
       "      <td>positive</td>\n",
       "    </tr>\n",
       "    <tr>\n",
       "      <th>2</th>\n",
       "      <td>\"5782091\"</td>\n",
       "      <td>Black Lagoon, Vol. 6</td>\n",
       "      <td>Books</td>\n",
       "      <td>1</td>\n",
       "      <td>0</td>\n",
       "      <td>0</td>\n",
       "      <td>Y</td>\n",
       "      <td>2015-08-31</td>\n",
       "      <td>positive</td>\n",
       "    </tr>\n",
       "    <tr>\n",
       "      <th>3</th>\n",
       "      <td>\"32715830\"</td>\n",
       "      <td>If I Stay</td>\n",
       "      <td>Books</td>\n",
       "      <td>1</td>\n",
       "      <td>0</td>\n",
       "      <td>0</td>\n",
       "      <td>N</td>\n",
       "      <td>2015-08-31</td>\n",
       "      <td>positive</td>\n",
       "    </tr>\n",
       "    <tr>\n",
       "      <th>4</th>\n",
       "      <td>\"14005703\"</td>\n",
       "      <td>Stars 'N Strips Forever</td>\n",
       "      <td>Books</td>\n",
       "      <td>1</td>\n",
       "      <td>2</td>\n",
       "      <td>2</td>\n",
       "      <td>Y</td>\n",
       "      <td>2015-08-31</td>\n",
       "      <td>positive</td>\n",
       "    </tr>\n",
       "  </tbody>\n",
       "</table>\n",
       "</div>"
      ],
      "text/plain": [
       "  customer_id                                 product_title product_category  \\\n",
       "0  \"25933450\"  There Was an Old Lady Who Swallowed a Shell!            Books   \n",
       "1   \"1801372\"                                I Saw a Friend            Books   \n",
       "2   \"5782091\"                          Black Lagoon, Vol. 6            Books   \n",
       "3  \"32715830\"                                     If I Stay            Books   \n",
       "4  \"14005703\"                       Stars 'N Strips Forever            Books   \n",
       "\n",
       "   star_rating  helpful_votes  total_votes verified_purchase review_date  \\\n",
       "0            1              0            0                 Y  2015-08-31   \n",
       "1            1              0            0                 Y  2015-08-31   \n",
       "2            1              0            0                 Y  2015-08-31   \n",
       "3            1              0            0                 N  2015-08-31   \n",
       "4            1              2            2                 Y  2015-08-31   \n",
       "\n",
       "  Sentiment_books  \n",
       "0        positive  \n",
       "1        positive  \n",
       "2        positive  \n",
       "3        positive  \n",
       "4        positive  "
      ]
     },
     "execution_count": 59,
     "metadata": {},
     "output_type": "execute_result"
    }
   ],
   "source": [
    "d_books.head()"
   ]
  },
  {
   "cell_type": "code",
   "execution_count": 60,
   "id": "5bf68a15",
   "metadata": {
    "papermill": {
     "duration": 0.065072,
     "end_time": "2022-11-03T21:06:49.412112",
     "exception": false,
     "start_time": "2022-11-03T21:06:49.347040",
     "status": "completed"
    },
    "tags": []
   },
   "outputs": [],
   "source": [
    "d_books_1=d_books.groupby(['verified_purchase'])['star_rating'].value_counts()"
   ]
  },
  {
   "cell_type": "code",
   "execution_count": 61,
   "id": "e09deb90",
   "metadata": {
    "papermill": {
     "duration": 0.071442,
     "end_time": "2022-11-03T21:06:49.533681",
     "exception": false,
     "start_time": "2022-11-03T21:06:49.462239",
     "status": "completed"
    },
    "tags": []
   },
   "outputs": [
    {
     "data": {
      "text/html": [
       "<div>\n",
       "<style scoped>\n",
       "    .dataframe tbody tr th:only-of-type {\n",
       "        vertical-align: middle;\n",
       "    }\n",
       "\n",
       "    .dataframe tbody tr th {\n",
       "        vertical-align: top;\n",
       "    }\n",
       "\n",
       "    .dataframe thead th {\n",
       "        text-align: right;\n",
       "    }\n",
       "</style>\n",
       "<table border=\"1\" class=\"dataframe\">\n",
       "  <thead>\n",
       "    <tr style=\"text-align: right;\">\n",
       "      <th></th>\n",
       "      <th>customer_id</th>\n",
       "      <th>product_title</th>\n",
       "      <th>product_category</th>\n",
       "      <th>star_rating</th>\n",
       "      <th>helpful_votes</th>\n",
       "      <th>total_votes</th>\n",
       "      <th>verified_purchase</th>\n",
       "      <th>review_date</th>\n",
       "      <th>Sentiment_books</th>\n",
       "    </tr>\n",
       "  </thead>\n",
       "  <tbody>\n",
       "  </tbody>\n",
       "</table>\n",
       "</div>"
      ],
      "text/plain": [
       "Empty DataFrame\n",
       "Columns: [customer_id, product_title, product_category, star_rating, helpful_votes, total_votes, verified_purchase, review_date, Sentiment_books]\n",
       "Index: []"
      ]
     },
     "execution_count": 61,
     "metadata": {},
     "output_type": "execute_result"
    }
   ],
   "source": [
    "d_books[(d_books['star_rating']==1) & (d_books['Sentiment_books']=='negative')]"
   ]
  },
  {
   "cell_type": "markdown",
   "id": "80bca92e",
   "metadata": {
    "papermill": {
     "duration": 0.048403,
     "end_time": "2022-11-03T21:06:49.635341",
     "exception": false,
     "start_time": "2022-11-03T21:06:49.586938",
     "status": "completed"
    },
    "tags": []
   },
   "source": [
    " we did this in order to check if there are any misleading entries in the data se with star rating yet with negative sentiment."
   ]
  },
  {
   "cell_type": "code",
   "execution_count": 62,
   "id": "86efe2f8",
   "metadata": {
    "papermill": {
     "duration": 0.068018,
     "end_time": "2022-11-03T21:06:49.757577",
     "exception": false,
     "start_time": "2022-11-03T21:06:49.689559",
     "status": "completed"
    },
    "tags": []
   },
   "outputs": [
    {
     "data": {
      "text/html": [
       "<div>\n",
       "<style scoped>\n",
       "    .dataframe tbody tr th:only-of-type {\n",
       "        vertical-align: middle;\n",
       "    }\n",
       "\n",
       "    .dataframe tbody tr th {\n",
       "        vertical-align: top;\n",
       "    }\n",
       "\n",
       "    .dataframe thead th {\n",
       "        text-align: right;\n",
       "    }\n",
       "</style>\n",
       "<table border=\"1\" class=\"dataframe\">\n",
       "  <thead>\n",
       "    <tr style=\"text-align: right;\">\n",
       "      <th></th>\n",
       "      <th></th>\n",
       "      <th>count</th>\n",
       "    </tr>\n",
       "    <tr>\n",
       "      <th>verified_purchase</th>\n",
       "      <th>star_rating</th>\n",
       "      <th></th>\n",
       "    </tr>\n",
       "  </thead>\n",
       "  <tbody>\n",
       "    <tr>\n",
       "      <th rowspan=\"2\" valign=\"top\">N</th>\n",
       "      <th>1</th>\n",
       "      <td>17</td>\n",
       "    </tr>\n",
       "    <tr>\n",
       "      <th>0</th>\n",
       "      <td>7</td>\n",
       "    </tr>\n",
       "    <tr>\n",
       "      <th rowspan=\"2\" valign=\"top\">Y</th>\n",
       "      <th>1</th>\n",
       "      <td>67</td>\n",
       "    </tr>\n",
       "    <tr>\n",
       "      <th>0</th>\n",
       "      <td>9</td>\n",
       "    </tr>\n",
       "  </tbody>\n",
       "</table>\n",
       "</div>"
      ],
      "text/plain": [
       "                               count\n",
       "verified_purchase star_rating       \n",
       "N                 1               17\n",
       "                  0                7\n",
       "Y                 1               67\n",
       "                  0                9"
      ]
     },
     "execution_count": 62,
     "metadata": {},
     "output_type": "execute_result"
    }
   ],
   "source": [
    "d_books_1.to_frame()"
   ]
  },
  {
   "cell_type": "markdown",
   "id": "ddddd9e5",
   "metadata": {
    "papermill": {
     "duration": 0.048332,
     "end_time": "2022-11-03T21:06:49.857949",
     "exception": false,
     "start_time": "2022-11-03T21:06:49.809617",
     "status": "completed"
    },
    "tags": []
   },
   "source": [
    "Here we can see that among the verified purchases 67 have given 1 as star_rating and 9 have given 0 as star rating. Similarly for non-verified purchases 17 have given 1 star and 7 have gives 0 star as star raiting. "
   ]
  },
  {
   "cell_type": "code",
   "execution_count": 63,
   "id": "20212b95",
   "metadata": {
    "papermill": {
     "duration": 0.274524,
     "end_time": "2022-11-03T21:06:50.182567",
     "exception": false,
     "start_time": "2022-11-03T21:06:49.908043",
     "status": "completed"
    },
    "tags": []
   },
   "outputs": [
    {
     "data": {
      "image/png": "[encoded data removed]",
      "text/plain": [
       "<Figure size 640x480 with 1 Axes>"
      ]
     },
     "metadata": {},
     "output_type": "display_data"
    }
   ],
   "source": [
    "d_books_1.plot(kind='bar')\n",
    "plt.show()"
   ]
  },
  {
   "cell_type": "code",
   "execution_count": 64,
   "id": "564e042e",
   "metadata": {
    "papermill": {
     "duration": 0.308803,
     "end_time": "2022-11-03T21:06:50.539400",
     "exception": false,
     "start_time": "2022-11-03T21:06:50.230597",
     "status": "completed"
    },
    "tags": []
   },
   "outputs": [
    {
     "data": {
      "text/plain": [
       "<Axes: xlabel='verified_purchase', ylabel='count'>"
      ]
     },
     "execution_count": 64,
     "metadata": {},
     "output_type": "execute_result"
    },
    {
     "data": {
      "image/png": "[encoded data removed]",
      "text/plain": [
       "<Figure size 640x480 with 1 Axes>"
      ]
     },
     "metadata": {},
     "output_type": "display_data"
    }
   ],
   "source": [
    "sns.countplot(data=d_books,x='verified_purchase',hue='star_rating')\n",
    "#this also shows the same thing as above."
   ]
  },
  {
   "cell_type": "code",
   "execution_count": null,
   "id": "5a4eb8f5",
   "metadata": {
    "papermill": {
     "duration": 0.048731,
     "end_time": "2022-11-03T21:06:50.640183",
     "exception": false,
     "start_time": "2022-11-03T21:06:50.591452",
     "status": "completed"
    },
    "tags": []
   },
   "outputs": [],
   "source": []
  },
  {
   "cell_type": "code",
   "execution_count": null,
   "id": "d714c090",
   "metadata": {
    "papermill": {
     "duration": 0.052391,
     "end_time": "2022-11-03T21:06:50.743042",
     "exception": false,
     "start_time": "2022-11-03T21:06:50.690651",
     "status": "completed"
    },
    "tags": []
   },
   "outputs": [],
   "source": []
  },
  {
   "cell_type": "markdown",
   "id": "18897243",
   "metadata": {
    "papermill": {
     "duration": 0.050991,
     "end_time": "2022-11-03T21:06:50.846248",
     "exception": false,
     "start_time": "2022-11-03T21:06:50.795257",
     "status": "completed"
    },
    "tags": []
   },
   "source": [
    "# **Similarly we will do for every dataset.**"
   ]
  },
  {
   "cell_type": "markdown",
   "id": "e9c0c621",
   "metadata": {
    "papermill": {
     "duration": 0.058497,
     "end_time": "2022-11-03T21:06:50.956360",
     "exception": false,
     "start_time": "2022-11-03T21:06:50.897863",
     "status": "completed"
    },
    "tags": []
   },
   "source": [
    "# Ebook dataset."
   ]
  },
  {
   "cell_type": "code",
   "execution_count": 65,
   "id": "47ba84b0",
   "metadata": {
    "papermill": {
     "duration": 0.076846,
     "end_time": "2022-11-03T21:06:51.085847",
     "exception": false,
     "start_time": "2022-11-03T21:06:51.009001",
     "status": "completed"
    },
    "tags": []
   },
   "outputs": [
    {
     "data": {
      "text/html": [
       "<div>\n",
       "<style scoped>\n",
       "    .dataframe tbody tr th:only-of-type {\n",
       "        vertical-align: middle;\n",
       "    }\n",
       "\n",
       "    .dataframe tbody tr th {\n",
       "        vertical-align: top;\n",
       "    }\n",
       "\n",
       "    .dataframe thead th {\n",
       "        text-align: right;\n",
       "    }\n",
       "</style>\n",
       "<table border=\"1\" class=\"dataframe\">\n",
       "  <thead>\n",
       "    <tr style=\"text-align: right;\">\n",
       "      <th></th>\n",
       "      <th>Unnamed: 0</th>\n",
       "      <th>market_place</th>\n",
       "      <th>customer_id</th>\n",
       "      <th>review_id</th>\n",
       "      <th>product_id</th>\n",
       "      <th>product_parent</th>\n",
       "      <th>product_title</th>\n",
       "      <th>product_category</th>\n",
       "      <th>star_rating</th>\n",
       "      <th>helpful_votes</th>\n",
       "      <th>total_votes</th>\n",
       "      <th>vine</th>\n",
       "      <th>verified_purchase</th>\n",
       "      <th>review_headline</th>\n",
       "      <th>review_body</th>\n",
       "      <th>review_date</th>\n",
       "      <th>Sentiment_ebook</th>\n",
       "    </tr>\n",
       "  </thead>\n",
       "  <tbody>\n",
       "    <tr>\n",
       "      <th>0</th>\n",
       "      <td>0</td>\n",
       "      <td>\"US\"</td>\n",
       "      <td>\"33605939\"</td>\n",
       "      <td>\"RGYFDX8QXKEIR\"</td>\n",
       "      <td>\"B007KO2MLO\"</td>\n",
       "      <td>\"328837464\"</td>\n",
       "      <td>\"Big Maria\"</td>\n",
       "      <td>\"Digital_Ebook_Purchase\"</td>\n",
       "      <td>1</td>\n",
       "      <td>0</td>\n",
       "      <td>0</td>\n",
       "      <td>0 \\t(N)</td>\n",
       "      <td>0 \\t(N)</td>\n",
       "      <td>\"Quirky\"</td>\n",
       "      <td>\"Elmore Leonard meets the cast of Sierra Madre...</td>\n",
       "      <td>2013-09-09</td>\n",
       "      <td>positive</td>\n",
       "    </tr>\n",
       "    <tr>\n",
       "      <th>1</th>\n",
       "      <td>1</td>\n",
       "      <td>\"US\"</td>\n",
       "      <td>\"34058393\"</td>\n",
       "      <td>\"R13CBGTMNV9R8Z\"</td>\n",
       "      <td>\"B005FLODDE\"</td>\n",
       "      <td>\"764276359\"</td>\n",
       "      <td>\"The Woman Who Wasn't There: The True Story of...</td>\n",
       "      <td>\"Digital_Ebook_Purchase\"</td>\n",
       "      <td>1</td>\n",
       "      <td>1</td>\n",
       "      <td>2</td>\n",
       "      <td>0 \\t(N)</td>\n",
       "      <td>1 \\t(Y)</td>\n",
       "      <td>\"The Woman Who Wasn't There\"</td>\n",
       "      <td>\"This book was very interesting. It is a true ...</td>\n",
       "      <td>2013-09-09</td>\n",
       "      <td>positive</td>\n",
       "    </tr>\n",
       "    <tr>\n",
       "      <th>2</th>\n",
       "      <td>2</td>\n",
       "      <td>\"US\"</td>\n",
       "      <td>\"39601147\"</td>\n",
       "      <td>\"R7DRFHC0F71O0\"</td>\n",
       "      <td>\"B00EA3L35O\"</td>\n",
       "      <td>\"535606445\"</td>\n",
       "      <td>\"Mary had A Sleepy Sheep\"</td>\n",
       "      <td>\"Digital_Ebook_Purchase\"</td>\n",
       "      <td>1</td>\n",
       "      <td>0</td>\n",
       "      <td>0</td>\n",
       "      <td>0 \\t(N)</td>\n",
       "      <td>0 \\t(N)</td>\n",
       "      <td>\"This Sleepy Sheep rocks!\"</td>\n",
       "      <td>\"I had the opportunity to review Mary had a Sl...</td>\n",
       "      <td>2013-09-09</td>\n",
       "      <td>positive</td>\n",
       "    </tr>\n",
       "    <tr>\n",
       "      <th>3</th>\n",
       "      <td>3</td>\n",
       "      <td>\"US\"</td>\n",
       "      <td>\"17351407\"</td>\n",
       "      <td>\"R27LUKEXU3KBXQ\"</td>\n",
       "      <td>\"B00BL3JV50\"</td>\n",
       "      <td>\"240053004\"</td>\n",
       "      <td>\"Starstruck\"</td>\n",
       "      <td>\"Digital_Ebook_Purchase\"</td>\n",
       "      <td>1</td>\n",
       "      <td>1</td>\n",
       "      <td>1</td>\n",
       "      <td>0 \\t(N)</td>\n",
       "      <td>1 \\t(Y)</td>\n",
       "      <td>\"Steamy and suspenseful!!!!!\"</td>\n",
       "      <td>\"What a great read! I really couldn't put this...</td>\n",
       "      <td>2013-09-09</td>\n",
       "      <td>positive</td>\n",
       "    </tr>\n",
       "    <tr>\n",
       "      <th>4</th>\n",
       "      <td>4</td>\n",
       "      <td>\"US\"</td>\n",
       "      <td>\"10463387\"</td>\n",
       "      <td>\"R1VXTPUYMNU687\"</td>\n",
       "      <td>\"B00CXU7U80\"</td>\n",
       "      <td>\"931529805\"</td>\n",
       "      <td>\"The Complete Conan Saga\"</td>\n",
       "      <td>\"Digital_Ebook_Purchase\"</td>\n",
       "      <td>1</td>\n",
       "      <td>1</td>\n",
       "      <td>2</td>\n",
       "      <td>0 \\t(N)</td>\n",
       "      <td>0 \\t(N)</td>\n",
       "      <td>\"Barbarians\"</td>\n",
       "      <td>\"Barbarians need love too ! Short stories work...</td>\n",
       "      <td>2013-09-09</td>\n",
       "      <td>positive</td>\n",
       "    </tr>\n",
       "  </tbody>\n",
       "</table>\n",
       "</div>"
      ],
      "text/plain": [
       "   Unnamed: 0 market_place customer_id         review_id    product_id  \\\n",
       "0           0         \"US\"  \"33605939\"   \"RGYFDX8QXKEIR\"  \"B007KO2MLO\"   \n",
       "1           1         \"US\"  \"34058393\"  \"R13CBGTMNV9R8Z\"  \"B005FLODDE\"   \n",
       "2           2         \"US\"  \"39601147\"   \"R7DRFHC0F71O0\"  \"B00EA3L35O\"   \n",
       "3           3         \"US\"  \"17351407\"  \"R27LUKEXU3KBXQ\"  \"B00BL3JV50\"   \n",
       "4           4         \"US\"  \"10463387\"  \"R1VXTPUYMNU687\"  \"B00CXU7U80\"   \n",
       "\n",
       "  product_parent                                      product_title  \\\n",
       "0    \"328837464\"                                        \"Big Maria\"   \n",
       "1    \"764276359\"  \"The Woman Who Wasn't There: The True Story of...   \n",
       "2    \"535606445\"                          \"Mary had A Sleepy Sheep\"   \n",
       "3    \"240053004\"                                       \"Starstruck\"   \n",
       "4    \"931529805\"                          \"The Complete Conan Saga\"   \n",
       "\n",
       "           product_category  star_rating  helpful_votes  total_votes     vine  \\\n",
       "0  \"Digital_Ebook_Purchase\"            1              0            0  0 \\t(N)   \n",
       "1  \"Digital_Ebook_Purchase\"            1              1            2  0 \\t(N)   \n",
       "2  \"Digital_Ebook_Purchase\"            1              0            0  0 \\t(N)   \n",
       "3  \"Digital_Ebook_Purchase\"            1              1            1  0 \\t(N)   \n",
       "4  \"Digital_Ebook_Purchase\"            1              1            2  0 \\t(N)   \n",
       "\n",
       "  verified_purchase                review_headline  \\\n",
       "0           0 \\t(N)                       \"Quirky\"   \n",
       "1           1 \\t(Y)   \"The Woman Who Wasn't There\"   \n",
       "2           0 \\t(N)     \"This Sleepy Sheep rocks!\"   \n",
       "3           1 \\t(Y)  \"Steamy and suspenseful!!!!!\"   \n",
       "4           0 \\t(N)                   \"Barbarians\"   \n",
       "\n",
       "                                         review_body review_date  \\\n",
       "0  \"Elmore Leonard meets the cast of Sierra Madre...  2013-09-09   \n",
       "1  \"This book was very interesting. It is a true ...  2013-09-09   \n",
       "2  \"I had the opportunity to review Mary had a Sl...  2013-09-09   \n",
       "3  \"What a great read! I really couldn't put this...  2013-09-09   \n",
       "4  \"Barbarians need love too ! Short stories work...  2013-09-09   \n",
       "\n",
       "  Sentiment_ebook  \n",
       "0        positive  \n",
       "1        positive  \n",
       "2        positive  \n",
       "3        positive  \n",
       "4        positive  "
      ]
     },
     "execution_count": 65,
     "metadata": {},
     "output_type": "execute_result"
    }
   ],
   "source": [
    "d_ebook.head()"
   ]
  },
  {
   "cell_type": "code",
   "execution_count": 66,
   "id": "b7d991c6",
   "metadata": {
    "papermill": {
     "duration": 0.061944,
     "end_time": "2022-11-03T21:06:51.199340",
     "exception": false,
     "start_time": "2022-11-03T21:06:51.137396",
     "status": "completed"
    },
    "tags": []
   },
   "outputs": [],
   "source": [
    "d_ebook.drop(columns=['Unnamed: 0','market_place','review_id','product_id','product_parent','vine','review_headline','review_body'],inplace=True)"
   ]
  },
  {
   "cell_type": "code",
   "execution_count": 67,
   "id": "2ab798ea",
   "metadata": {
    "papermill": {
     "duration": 0.072077,
     "end_time": "2022-11-03T21:06:51.322491",
     "exception": false,
     "start_time": "2022-11-03T21:06:51.250414",
     "status": "completed"
    },
    "tags": []
   },
   "outputs": [
    {
     "data": {
      "text/html": [
       "<div>\n",
       "<style scoped>\n",
       "    .dataframe tbody tr th:only-of-type {\n",
       "        vertical-align: middle;\n",
       "    }\n",
       "\n",
       "    .dataframe tbody tr th {\n",
       "        vertical-align: top;\n",
       "    }\n",
       "\n",
       "    .dataframe thead th {\n",
       "        text-align: right;\n",
       "    }\n",
       "</style>\n",
       "<table border=\"1\" class=\"dataframe\">\n",
       "  <thead>\n",
       "    <tr style=\"text-align: right;\">\n",
       "      <th></th>\n",
       "      <th>customer_id</th>\n",
       "      <th>product_title</th>\n",
       "      <th>product_category</th>\n",
       "      <th>star_rating</th>\n",
       "      <th>helpful_votes</th>\n",
       "      <th>total_votes</th>\n",
       "      <th>verified_purchase</th>\n",
       "      <th>review_date</th>\n",
       "      <th>Sentiment_ebook</th>\n",
       "    </tr>\n",
       "  </thead>\n",
       "  <tbody>\n",
       "    <tr>\n",
       "      <th>0</th>\n",
       "      <td>\"33605939\"</td>\n",
       "      <td>\"Big Maria\"</td>\n",
       "      <td>\"Digital_Ebook_Purchase\"</td>\n",
       "      <td>1</td>\n",
       "      <td>0</td>\n",
       "      <td>0</td>\n",
       "      <td>0 \\t(N)</td>\n",
       "      <td>2013-09-09</td>\n",
       "      <td>positive</td>\n",
       "    </tr>\n",
       "    <tr>\n",
       "      <th>1</th>\n",
       "      <td>\"34058393\"</td>\n",
       "      <td>\"The Woman Who Wasn't There: The True Story of...</td>\n",
       "      <td>\"Digital_Ebook_Purchase\"</td>\n",
       "      <td>1</td>\n",
       "      <td>1</td>\n",
       "      <td>2</td>\n",
       "      <td>1 \\t(Y)</td>\n",
       "      <td>2013-09-09</td>\n",
       "      <td>positive</td>\n",
       "    </tr>\n",
       "    <tr>\n",
       "      <th>2</th>\n",
       "      <td>\"39601147\"</td>\n",
       "      <td>\"Mary had A Sleepy Sheep\"</td>\n",
       "      <td>\"Digital_Ebook_Purchase\"</td>\n",
       "      <td>1</td>\n",
       "      <td>0</td>\n",
       "      <td>0</td>\n",
       "      <td>0 \\t(N)</td>\n",
       "      <td>2013-09-09</td>\n",
       "      <td>positive</td>\n",
       "    </tr>\n",
       "    <tr>\n",
       "      <th>3</th>\n",
       "      <td>\"17351407\"</td>\n",
       "      <td>\"Starstruck\"</td>\n",
       "      <td>\"Digital_Ebook_Purchase\"</td>\n",
       "      <td>1</td>\n",
       "      <td>1</td>\n",
       "      <td>1</td>\n",
       "      <td>1 \\t(Y)</td>\n",
       "      <td>2013-09-09</td>\n",
       "      <td>positive</td>\n",
       "    </tr>\n",
       "    <tr>\n",
       "      <th>4</th>\n",
       "      <td>\"10463387\"</td>\n",
       "      <td>\"The Complete Conan Saga\"</td>\n",
       "      <td>\"Digital_Ebook_Purchase\"</td>\n",
       "      <td>1</td>\n",
       "      <td>1</td>\n",
       "      <td>2</td>\n",
       "      <td>0 \\t(N)</td>\n",
       "      <td>2013-09-09</td>\n",
       "      <td>positive</td>\n",
       "    </tr>\n",
       "  </tbody>\n",
       "</table>\n",
       "</div>"
      ],
      "text/plain": [
       "  customer_id                                      product_title  \\\n",
       "0  \"33605939\"                                        \"Big Maria\"   \n",
       "1  \"34058393\"  \"The Woman Who Wasn't There: The True Story of...   \n",
       "2  \"39601147\"                          \"Mary had A Sleepy Sheep\"   \n",
       "3  \"17351407\"                                       \"Starstruck\"   \n",
       "4  \"10463387\"                          \"The Complete Conan Saga\"   \n",
       "\n",
       "           product_category  star_rating  helpful_votes  total_votes  \\\n",
       "0  \"Digital_Ebook_Purchase\"            1              0            0   \n",
       "1  \"Digital_Ebook_Purchase\"            1              1            2   \n",
       "2  \"Digital_Ebook_Purchase\"            1              0            0   \n",
       "3  \"Digital_Ebook_Purchase\"            1              1            1   \n",
       "4  \"Digital_Ebook_Purchase\"            1              1            2   \n",
       "\n",
       "  verified_purchase review_date Sentiment_ebook  \n",
       "0           0 \\t(N)  2013-09-09        positive  \n",
       "1           1 \\t(Y)  2013-09-09        positive  \n",
       "2           0 \\t(N)  2013-09-09        positive  \n",
       "3           1 \\t(Y)  2013-09-09        positive  \n",
       "4           0 \\t(N)  2013-09-09        positive  "
      ]
     },
     "execution_count": 67,
     "metadata": {},
     "output_type": "execute_result"
    }
   ],
   "source": [
    "d_ebook.head()"
   ]
  },
  {
   "cell_type": "code",
   "execution_count": 68,
   "id": "7ac31412",
   "metadata": {
    "papermill": {
     "duration": 0.072561,
     "end_time": "2022-11-03T21:06:51.443700",
     "exception": false,
     "start_time": "2022-11-03T21:06:51.371139",
     "status": "completed"
    },
    "tags": []
   },
   "outputs": [
    {
     "data": {
      "text/html": [
       "<div>\n",
       "<style scoped>\n",
       "    .dataframe tbody tr th:only-of-type {\n",
       "        vertical-align: middle;\n",
       "    }\n",
       "\n",
       "    .dataframe tbody tr th {\n",
       "        vertical-align: top;\n",
       "    }\n",
       "\n",
       "    .dataframe thead th {\n",
       "        text-align: right;\n",
       "    }\n",
       "</style>\n",
       "<table border=\"1\" class=\"dataframe\">\n",
       "  <thead>\n",
       "    <tr style=\"text-align: right;\">\n",
       "      <th></th>\n",
       "      <th>customer_id</th>\n",
       "      <th>product_title</th>\n",
       "      <th>product_category</th>\n",
       "      <th>star_rating</th>\n",
       "      <th>helpful_votes</th>\n",
       "      <th>total_votes</th>\n",
       "      <th>verified_purchase</th>\n",
       "      <th>review_date</th>\n",
       "      <th>Sentiment_ebook</th>\n",
       "    </tr>\n",
       "  </thead>\n",
       "  <tbody>\n",
       "    <tr>\n",
       "      <th>0</th>\n",
       "      <td>\"33605939\"</td>\n",
       "      <td>Big Maria</td>\n",
       "      <td>\"Digital_Ebook_Purchase\"</td>\n",
       "      <td>1</td>\n",
       "      <td>0</td>\n",
       "      <td>0</td>\n",
       "      <td>0 \\t(N)</td>\n",
       "      <td>2013-09-09</td>\n",
       "      <td>positive</td>\n",
       "    </tr>\n",
       "    <tr>\n",
       "      <th>1</th>\n",
       "      <td>\"34058393\"</td>\n",
       "      <td>The Woman Who Wasn't There: The True Story of ...</td>\n",
       "      <td>\"Digital_Ebook_Purchase\"</td>\n",
       "      <td>1</td>\n",
       "      <td>1</td>\n",
       "      <td>2</td>\n",
       "      <td>1 \\t(Y)</td>\n",
       "      <td>2013-09-09</td>\n",
       "      <td>positive</td>\n",
       "    </tr>\n",
       "    <tr>\n",
       "      <th>2</th>\n",
       "      <td>\"39601147\"</td>\n",
       "      <td>Mary had A Sleepy Sheep</td>\n",
       "      <td>\"Digital_Ebook_Purchase\"</td>\n",
       "      <td>1</td>\n",
       "      <td>0</td>\n",
       "      <td>0</td>\n",
       "      <td>0 \\t(N)</td>\n",
       "      <td>2013-09-09</td>\n",
       "      <td>positive</td>\n",
       "    </tr>\n",
       "    <tr>\n",
       "      <th>3</th>\n",
       "      <td>\"17351407\"</td>\n",
       "      <td>Starstruck</td>\n",
       "      <td>\"Digital_Ebook_Purchase\"</td>\n",
       "      <td>1</td>\n",
       "      <td>1</td>\n",
       "      <td>1</td>\n",
       "      <td>1 \\t(Y)</td>\n",
       "      <td>2013-09-09</td>\n",
       "      <td>positive</td>\n",
       "    </tr>\n",
       "    <tr>\n",
       "      <th>4</th>\n",
       "      <td>\"10463387\"</td>\n",
       "      <td>The Complete Conan Saga</td>\n",
       "      <td>\"Digital_Ebook_Purchase\"</td>\n",
       "      <td>1</td>\n",
       "      <td>1</td>\n",
       "      <td>2</td>\n",
       "      <td>0 \\t(N)</td>\n",
       "      <td>2013-09-09</td>\n",
       "      <td>positive</td>\n",
       "    </tr>\n",
       "  </tbody>\n",
       "</table>\n",
       "</div>"
      ],
      "text/plain": [
       "  customer_id                                      product_title  \\\n",
       "0  \"33605939\"                                          Big Maria   \n",
       "1  \"34058393\"  The Woman Who Wasn't There: The True Story of ...   \n",
       "2  \"39601147\"                            Mary had A Sleepy Sheep   \n",
       "3  \"17351407\"                                         Starstruck   \n",
       "4  \"10463387\"                            The Complete Conan Saga   \n",
       "\n",
       "           product_category  star_rating  helpful_votes  total_votes  \\\n",
       "0  \"Digital_Ebook_Purchase\"            1              0            0   \n",
       "1  \"Digital_Ebook_Purchase\"            1              1            2   \n",
       "2  \"Digital_Ebook_Purchase\"            1              0            0   \n",
       "3  \"Digital_Ebook_Purchase\"            1              1            1   \n",
       "4  \"Digital_Ebook_Purchase\"            1              1            2   \n",
       "\n",
       "  verified_purchase review_date Sentiment_ebook  \n",
       "0           0 \\t(N)  2013-09-09        positive  \n",
       "1           1 \\t(Y)  2013-09-09        positive  \n",
       "2           0 \\t(N)  2013-09-09        positive  \n",
       "3           1 \\t(Y)  2013-09-09        positive  \n",
       "4           0 \\t(N)  2013-09-09        positive  "
      ]
     },
     "execution_count": 68,
     "metadata": {},
     "output_type": "execute_result"
    }
   ],
   "source": [
    "d_ebook['product_title']=d_ebook['product_title'].apply(handle_quotation_marks)\n",
    "d_ebook.head()"
   ]
  },
  {
   "cell_type": "code",
   "execution_count": 69,
   "id": "9ecbbcc7",
   "metadata": {
    "papermill": {
     "duration": 0.060424,
     "end_time": "2022-11-03T21:06:51.554506",
     "exception": false,
     "start_time": "2022-11-03T21:06:51.494082",
     "status": "completed"
    },
    "tags": []
   },
   "outputs": [],
   "source": [
    "d_ebook['product_category']=d_ebook['product_category'].apply(handle_quotation_marks)"
   ]
  },
  {
   "cell_type": "code",
   "execution_count": 70,
   "id": "677cc077",
   "metadata": {
    "papermill": {
     "duration": 0.068977,
     "end_time": "2022-11-03T21:06:51.674599",
     "exception": false,
     "start_time": "2022-11-03T21:06:51.605622",
     "status": "completed"
    },
    "tags": []
   },
   "outputs": [
    {
     "name": "stdout",
     "output_type": "stream",
     "text": [
      "<class 'pandas.core.frame.DataFrame'>\n",
      "RangeIndex: 100 entries, 0 to 99\n",
      "Data columns (total 9 columns):\n",
      " #   Column             Non-Null Count  Dtype \n",
      "---  ------             --------------  ----- \n",
      " 0   customer_id        100 non-null    object\n",
      " 1   product_title      100 non-null    object\n",
      " 2   product_category   100 non-null    object\n",
      " 3   star_rating        100 non-null    int64 \n",
      " 4   helpful_votes      100 non-null    int64 \n",
      " 5   total_votes        100 non-null    int64 \n",
      " 6   verified_purchase  100 non-null    object\n",
      " 7   review_date        100 non-null    object\n",
      " 8   Sentiment_ebook    100 non-null    object\n",
      "dtypes: int64(3), object(6)\n",
      "memory usage: 7.2+ KB\n"
     ]
    }
   ],
   "source": [
    "d_ebook.info()"
   ]
  },
  {
   "cell_type": "code",
   "execution_count": 71,
   "id": "5c56493f",
   "metadata": {
    "papermill": {
     "duration": 0.072249,
     "end_time": "2022-11-03T21:06:51.797172",
     "exception": false,
     "start_time": "2022-11-03T21:06:51.724923",
     "status": "completed"
    },
    "tags": []
   },
   "outputs": [
    {
     "data": {
      "text/html": [
       "<div>\n",
       "<style scoped>\n",
       "    .dataframe tbody tr th:only-of-type {\n",
       "        vertical-align: middle;\n",
       "    }\n",
       "\n",
       "    .dataframe tbody tr th {\n",
       "        vertical-align: top;\n",
       "    }\n",
       "\n",
       "    .dataframe thead th {\n",
       "        text-align: right;\n",
       "    }\n",
       "</style>\n",
       "<table border=\"1\" class=\"dataframe\">\n",
       "  <thead>\n",
       "    <tr style=\"text-align: right;\">\n",
       "      <th></th>\n",
       "      <th>customer_id</th>\n",
       "      <th>product_title</th>\n",
       "      <th>product_category</th>\n",
       "      <th>star_rating</th>\n",
       "      <th>helpful_votes</th>\n",
       "      <th>total_votes</th>\n",
       "      <th>verified_purchase</th>\n",
       "      <th>review_date</th>\n",
       "      <th>Sentiment_ebook</th>\n",
       "    </tr>\n",
       "  </thead>\n",
       "  <tbody>\n",
       "    <tr>\n",
       "      <th>0</th>\n",
       "      <td>\"33605939\"</td>\n",
       "      <td>Big Maria</td>\n",
       "      <td>Digital_Ebook_Purchase</td>\n",
       "      <td>1</td>\n",
       "      <td>0</td>\n",
       "      <td>0</td>\n",
       "      <td>0 \\t(N)</td>\n",
       "      <td>2013-09-09</td>\n",
       "      <td>positive</td>\n",
       "    </tr>\n",
       "    <tr>\n",
       "      <th>1</th>\n",
       "      <td>\"34058393\"</td>\n",
       "      <td>The Woman Who Wasn't There: The True Story of ...</td>\n",
       "      <td>Digital_Ebook_Purchase</td>\n",
       "      <td>1</td>\n",
       "      <td>1</td>\n",
       "      <td>2</td>\n",
       "      <td>1 \\t(Y)</td>\n",
       "      <td>2013-09-09</td>\n",
       "      <td>positive</td>\n",
       "    </tr>\n",
       "    <tr>\n",
       "      <th>2</th>\n",
       "      <td>\"39601147\"</td>\n",
       "      <td>Mary had A Sleepy Sheep</td>\n",
       "      <td>Digital_Ebook_Purchase</td>\n",
       "      <td>1</td>\n",
       "      <td>0</td>\n",
       "      <td>0</td>\n",
       "      <td>0 \\t(N)</td>\n",
       "      <td>2013-09-09</td>\n",
       "      <td>positive</td>\n",
       "    </tr>\n",
       "    <tr>\n",
       "      <th>3</th>\n",
       "      <td>\"17351407\"</td>\n",
       "      <td>Starstruck</td>\n",
       "      <td>Digital_Ebook_Purchase</td>\n",
       "      <td>1</td>\n",
       "      <td>1</td>\n",
       "      <td>1</td>\n",
       "      <td>1 \\t(Y)</td>\n",
       "      <td>2013-09-09</td>\n",
       "      <td>positive</td>\n",
       "    </tr>\n",
       "    <tr>\n",
       "      <th>4</th>\n",
       "      <td>\"10463387\"</td>\n",
       "      <td>The Complete Conan Saga</td>\n",
       "      <td>Digital_Ebook_Purchase</td>\n",
       "      <td>1</td>\n",
       "      <td>1</td>\n",
       "      <td>2</td>\n",
       "      <td>0 \\t(N)</td>\n",
       "      <td>2013-09-09</td>\n",
       "      <td>positive</td>\n",
       "    </tr>\n",
       "  </tbody>\n",
       "</table>\n",
       "</div>"
      ],
      "text/plain": [
       "  customer_id                                      product_title  \\\n",
       "0  \"33605939\"                                          Big Maria   \n",
       "1  \"34058393\"  The Woman Who Wasn't There: The True Story of ...   \n",
       "2  \"39601147\"                            Mary had A Sleepy Sheep   \n",
       "3  \"17351407\"                                         Starstruck   \n",
       "4  \"10463387\"                            The Complete Conan Saga   \n",
       "\n",
       "         product_category  star_rating  helpful_votes  total_votes  \\\n",
       "0  Digital_Ebook_Purchase            1              0            0   \n",
       "1  Digital_Ebook_Purchase            1              1            2   \n",
       "2  Digital_Ebook_Purchase            1              0            0   \n",
       "3  Digital_Ebook_Purchase            1              1            1   \n",
       "4  Digital_Ebook_Purchase            1              1            2   \n",
       "\n",
       "  verified_purchase review_date Sentiment_ebook  \n",
       "0           0 \\t(N)  2013-09-09        positive  \n",
       "1           1 \\t(Y)  2013-09-09        positive  \n",
       "2           0 \\t(N)  2013-09-09        positive  \n",
       "3           1 \\t(Y)  2013-09-09        positive  \n",
       "4           0 \\t(N)  2013-09-09        positive  "
      ]
     },
     "execution_count": 71,
     "metadata": {},
     "output_type": "execute_result"
    }
   ],
   "source": [
    "d_ebook.head()"
   ]
  },
  {
   "cell_type": "code",
   "execution_count": 72,
   "id": "baaf53e3",
   "metadata": {
    "papermill": {
     "duration": 0.072645,
     "end_time": "2022-11-03T21:06:51.926434",
     "exception": false,
     "start_time": "2022-11-03T21:06:51.853789",
     "status": "completed"
    },
    "tags": []
   },
   "outputs": [
    {
     "data": {
      "text/html": [
       "<div>\n",
       "<style scoped>\n",
       "    .dataframe tbody tr th:only-of-type {\n",
       "        vertical-align: middle;\n",
       "    }\n",
       "\n",
       "    .dataframe tbody tr th {\n",
       "        vertical-align: top;\n",
       "    }\n",
       "\n",
       "    .dataframe thead th {\n",
       "        text-align: right;\n",
       "    }\n",
       "</style>\n",
       "<table border=\"1\" class=\"dataframe\">\n",
       "  <thead>\n",
       "    <tr style=\"text-align: right;\">\n",
       "      <th></th>\n",
       "      <th>customer_id</th>\n",
       "      <th>product_title</th>\n",
       "      <th>product_category</th>\n",
       "      <th>star_rating</th>\n",
       "      <th>helpful_votes</th>\n",
       "      <th>total_votes</th>\n",
       "      <th>verified_purchase</th>\n",
       "      <th>review_date</th>\n",
       "      <th>Sentiment_ebook</th>\n",
       "    </tr>\n",
       "  </thead>\n",
       "  <tbody>\n",
       "    <tr>\n",
       "      <th>0</th>\n",
       "      <td>\"33605939\"</td>\n",
       "      <td>Big Maria</td>\n",
       "      <td>Digital_Ebook_Purchase</td>\n",
       "      <td>1</td>\n",
       "      <td>0</td>\n",
       "      <td>0</td>\n",
       "      <td>N</td>\n",
       "      <td>2013-09-09</td>\n",
       "      <td>positive</td>\n",
       "    </tr>\n",
       "    <tr>\n",
       "      <th>1</th>\n",
       "      <td>\"34058393\"</td>\n",
       "      <td>The Woman Who Wasn't There: The True Story of ...</td>\n",
       "      <td>Digital_Ebook_Purchase</td>\n",
       "      <td>1</td>\n",
       "      <td>1</td>\n",
       "      <td>2</td>\n",
       "      <td>Y</td>\n",
       "      <td>2013-09-09</td>\n",
       "      <td>positive</td>\n",
       "    </tr>\n",
       "    <tr>\n",
       "      <th>2</th>\n",
       "      <td>\"39601147\"</td>\n",
       "      <td>Mary had A Sleepy Sheep</td>\n",
       "      <td>Digital_Ebook_Purchase</td>\n",
       "      <td>1</td>\n",
       "      <td>0</td>\n",
       "      <td>0</td>\n",
       "      <td>N</td>\n",
       "      <td>2013-09-09</td>\n",
       "      <td>positive</td>\n",
       "    </tr>\n",
       "    <tr>\n",
       "      <th>3</th>\n",
       "      <td>\"17351407\"</td>\n",
       "      <td>Starstruck</td>\n",
       "      <td>Digital_Ebook_Purchase</td>\n",
       "      <td>1</td>\n",
       "      <td>1</td>\n",
       "      <td>1</td>\n",
       "      <td>Y</td>\n",
       "      <td>2013-09-09</td>\n",
       "      <td>positive</td>\n",
       "    </tr>\n",
       "    <tr>\n",
       "      <th>4</th>\n",
       "      <td>\"10463387\"</td>\n",
       "      <td>The Complete Conan Saga</td>\n",
       "      <td>Digital_Ebook_Purchase</td>\n",
       "      <td>1</td>\n",
       "      <td>1</td>\n",
       "      <td>2</td>\n",
       "      <td>N</td>\n",
       "      <td>2013-09-09</td>\n",
       "      <td>positive</td>\n",
       "    </tr>\n",
       "  </tbody>\n",
       "</table>\n",
       "</div>"
      ],
      "text/plain": [
       "  customer_id                                      product_title  \\\n",
       "0  \"33605939\"                                          Big Maria   \n",
       "1  \"34058393\"  The Woman Who Wasn't There: The True Story of ...   \n",
       "2  \"39601147\"                            Mary had A Sleepy Sheep   \n",
       "3  \"17351407\"                                         Starstruck   \n",
       "4  \"10463387\"                            The Complete Conan Saga   \n",
       "\n",
       "         product_category  star_rating  helpful_votes  total_votes  \\\n",
       "0  Digital_Ebook_Purchase            1              0            0   \n",
       "1  Digital_Ebook_Purchase            1              1            2   \n",
       "2  Digital_Ebook_Purchase            1              0            0   \n",
       "3  Digital_Ebook_Purchase            1              1            1   \n",
       "4  Digital_Ebook_Purchase            1              1            2   \n",
       "\n",
       "  verified_purchase review_date Sentiment_ebook  \n",
       "0                 N  2013-09-09        positive  \n",
       "1                 Y  2013-09-09        positive  \n",
       "2                 N  2013-09-09        positive  \n",
       "3                 Y  2013-09-09        positive  \n",
       "4                 N  2013-09-09        positive  "
      ]
     },
     "execution_count": 72,
     "metadata": {},
     "output_type": "execute_result"
    }
   ],
   "source": [
    "d_ebook['verified_purchase']=d_ebook['verified_purchase'].apply(handle_verified_purchase)\n",
    "d_ebook.head()"
   ]
  },
  {
   "cell_type": "code",
   "execution_count": 73,
   "id": "2d4ef9c8",
   "metadata": {
    "papermill": {
     "duration": 0.061963,
     "end_time": "2022-11-03T21:06:52.040515",
     "exception": false,
     "start_time": "2022-11-03T21:06:51.978552",
     "status": "completed"
    },
    "tags": []
   },
   "outputs": [],
   "source": [
    "d_ebook['review_date']=d_ebook['review_date'].apply(handle_date)"
   ]
  },
  {
   "cell_type": "code",
   "execution_count": 74,
   "id": "7444915b",
   "metadata": {
    "papermill": {
     "duration": 0.071065,
     "end_time": "2022-11-03T21:06:52.164622",
     "exception": false,
     "start_time": "2022-11-03T21:06:52.093557",
     "status": "completed"
    },
    "tags": []
   },
   "outputs": [
    {
     "name": "stdout",
     "output_type": "stream",
     "text": [
      "<class 'pandas.core.frame.DataFrame'>\n",
      "RangeIndex: 100 entries, 0 to 99\n",
      "Data columns (total 9 columns):\n",
      " #   Column             Non-Null Count  Dtype         \n",
      "---  ------             --------------  -----         \n",
      " 0   customer_id        100 non-null    object        \n",
      " 1   product_title      100 non-null    object        \n",
      " 2   product_category   100 non-null    object        \n",
      " 3   star_rating        100 non-null    int64         \n",
      " 4   helpful_votes      100 non-null    int64         \n",
      " 5   total_votes        100 non-null    int64         \n",
      " 6   verified_purchase  100 non-null    object        \n",
      " 7   review_date        100 non-null    datetime64[ns]\n",
      " 8   Sentiment_ebook    100 non-null    object        \n",
      "dtypes: datetime64[ns](1), int64(3), object(5)\n",
      "memory usage: 7.2+ KB\n"
     ]
    }
   ],
   "source": [
    "d_ebook.info()"
   ]
  },
  {
   "cell_type": "code",
   "execution_count": 75,
   "id": "b30432d9",
   "metadata": {
    "papermill": {
     "duration": 0.065707,
     "end_time": "2022-11-03T21:06:52.284173",
     "exception": false,
     "start_time": "2022-11-03T21:06:52.218466",
     "status": "completed"
    },
    "tags": []
   },
   "outputs": [
    {
     "data": {
      "text/plain": [
       "array([1, 0], dtype=int64)"
      ]
     },
     "execution_count": 75,
     "metadata": {},
     "output_type": "execute_result"
    }
   ],
   "source": [
    "d_ebook.star_rating.unique()"
   ]
  },
  {
   "cell_type": "code",
   "execution_count": 76,
   "id": "589168d7",
   "metadata": {
    "papermill": {
     "duration": 0.06528,
     "end_time": "2022-11-03T21:06:52.401733",
     "exception": false,
     "start_time": "2022-11-03T21:06:52.336453",
     "status": "completed"
    },
    "tags": []
   },
   "outputs": [],
   "source": [
    "d_master=pd.concat([d_books,d_ebook],ignore_index=True)\n",
    "#creating a master dataset having all the datasets for analysing."
   ]
  },
  {
   "cell_type": "code",
   "execution_count": 77,
   "id": "c3afb525",
   "metadata": {
    "papermill": {
     "duration": 0.082351,
     "end_time": "2022-11-03T21:06:52.537791",
     "exception": false,
     "start_time": "2022-11-03T21:06:52.455440",
     "status": "completed"
    },
    "tags": []
   },
   "outputs": [
    {
     "data": {
      "text/html": [
       "<div>\n",
       "<style scoped>\n",
       "    .dataframe tbody tr th:only-of-type {\n",
       "        vertical-align: middle;\n",
       "    }\n",
       "\n",
       "    .dataframe tbody tr th {\n",
       "        vertical-align: top;\n",
       "    }\n",
       "\n",
       "    .dataframe thead th {\n",
       "        text-align: right;\n",
       "    }\n",
       "</style>\n",
       "<table border=\"1\" class=\"dataframe\">\n",
       "  <thead>\n",
       "    <tr style=\"text-align: right;\">\n",
       "      <th></th>\n",
       "      <th>customer_id</th>\n",
       "      <th>product_title</th>\n",
       "      <th>product_category</th>\n",
       "      <th>star_rating</th>\n",
       "      <th>helpful_votes</th>\n",
       "      <th>total_votes</th>\n",
       "      <th>verified_purchase</th>\n",
       "      <th>review_date</th>\n",
       "      <th>Sentiment_books</th>\n",
       "      <th>Sentiment_ebook</th>\n",
       "    </tr>\n",
       "  </thead>\n",
       "  <tbody>\n",
       "    <tr>\n",
       "      <th>0</th>\n",
       "      <td>\"25933450\"</td>\n",
       "      <td>There Was an Old Lady Who Swallowed a Shell!</td>\n",
       "      <td>Books</td>\n",
       "      <td>1</td>\n",
       "      <td>0</td>\n",
       "      <td>0</td>\n",
       "      <td>Y</td>\n",
       "      <td>2015-08-31</td>\n",
       "      <td>positive</td>\n",
       "      <td>NaN</td>\n",
       "    </tr>\n",
       "    <tr>\n",
       "      <th>1</th>\n",
       "      <td>\"1801372\"</td>\n",
       "      <td>I Saw a Friend</td>\n",
       "      <td>Books</td>\n",
       "      <td>1</td>\n",
       "      <td>0</td>\n",
       "      <td>0</td>\n",
       "      <td>Y</td>\n",
       "      <td>2015-08-31</td>\n",
       "      <td>positive</td>\n",
       "      <td>NaN</td>\n",
       "    </tr>\n",
       "    <tr>\n",
       "      <th>2</th>\n",
       "      <td>\"5782091\"</td>\n",
       "      <td>Black Lagoon, Vol. 6</td>\n",
       "      <td>Books</td>\n",
       "      <td>1</td>\n",
       "      <td>0</td>\n",
       "      <td>0</td>\n",
       "      <td>Y</td>\n",
       "      <td>2015-08-31</td>\n",
       "      <td>positive</td>\n",
       "      <td>NaN</td>\n",
       "    </tr>\n",
       "    <tr>\n",
       "      <th>3</th>\n",
       "      <td>\"32715830\"</td>\n",
       "      <td>If I Stay</td>\n",
       "      <td>Books</td>\n",
       "      <td>1</td>\n",
       "      <td>0</td>\n",
       "      <td>0</td>\n",
       "      <td>N</td>\n",
       "      <td>2015-08-31</td>\n",
       "      <td>positive</td>\n",
       "      <td>NaN</td>\n",
       "    </tr>\n",
       "    <tr>\n",
       "      <th>4</th>\n",
       "      <td>\"14005703\"</td>\n",
       "      <td>Stars 'N Strips Forever</td>\n",
       "      <td>Books</td>\n",
       "      <td>1</td>\n",
       "      <td>2</td>\n",
       "      <td>2</td>\n",
       "      <td>Y</td>\n",
       "      <td>2015-08-31</td>\n",
       "      <td>positive</td>\n",
       "      <td>NaN</td>\n",
       "    </tr>\n",
       "    <tr>\n",
       "      <th>...</th>\n",
       "      <td>...</td>\n",
       "      <td>...</td>\n",
       "      <td>...</td>\n",
       "      <td>...</td>\n",
       "      <td>...</td>\n",
       "      <td>...</td>\n",
       "      <td>...</td>\n",
       "      <td>...</td>\n",
       "      <td>...</td>\n",
       "      <td>...</td>\n",
       "    </tr>\n",
       "    <tr>\n",
       "      <th>195</th>\n",
       "      <td>\"52543154\"</td>\n",
       "      <td>Masters at Arms (Introduction to the Rescue Me...</td>\n",
       "      <td>Digital_Ebook_Purchase</td>\n",
       "      <td>1</td>\n",
       "      <td>2</td>\n",
       "      <td>3</td>\n",
       "      <td>Y</td>\n",
       "      <td>2013-09-09</td>\n",
       "      <td>NaN</td>\n",
       "      <td>positive</td>\n",
       "    </tr>\n",
       "    <tr>\n",
       "      <th>196</th>\n",
       "      <td>\"51699242\"</td>\n",
       "      <td>Winning the Boss's Heart (Entangled Indulgence)</td>\n",
       "      <td>Digital_Ebook_Purchase</td>\n",
       "      <td>1</td>\n",
       "      <td>1</td>\n",
       "      <td>1</td>\n",
       "      <td>N</td>\n",
       "      <td>2013-09-09</td>\n",
       "      <td>NaN</td>\n",
       "      <td>positive</td>\n",
       "    </tr>\n",
       "    <tr>\n",
       "      <th>197</th>\n",
       "      <td>\"11266505\"</td>\n",
       "      <td>Anywhere</td>\n",
       "      <td>Digital_Ebook_Purchase</td>\n",
       "      <td>1</td>\n",
       "      <td>0</td>\n",
       "      <td>0</td>\n",
       "      <td>N</td>\n",
       "      <td>2013-09-09</td>\n",
       "      <td>NaN</td>\n",
       "      <td>positive</td>\n",
       "    </tr>\n",
       "    <tr>\n",
       "      <th>198</th>\n",
       "      <td>\"5787938\"</td>\n",
       "      <td>Hatchet (Brian's Saga Book 1)</td>\n",
       "      <td>Digital_Ebook_Purchase</td>\n",
       "      <td>1</td>\n",
       "      <td>0</td>\n",
       "      <td>0</td>\n",
       "      <td>Y</td>\n",
       "      <td>2013-09-09</td>\n",
       "      <td>NaN</td>\n",
       "      <td>positive</td>\n",
       "    </tr>\n",
       "    <tr>\n",
       "      <th>199</th>\n",
       "      <td>\"41892367\"</td>\n",
       "      <td>Her Favorite Temptation (Mathews Sisters Book 1)</td>\n",
       "      <td>Digital_Ebook_Purchase</td>\n",
       "      <td>1</td>\n",
       "      <td>0</td>\n",
       "      <td>0</td>\n",
       "      <td>Y</td>\n",
       "      <td>2013-09-09</td>\n",
       "      <td>NaN</td>\n",
       "      <td>positive</td>\n",
       "    </tr>\n",
       "  </tbody>\n",
       "</table>\n",
       "<p>200 rows × 10 columns</p>\n",
       "</div>"
      ],
      "text/plain": [
       "    customer_id                                      product_title  \\\n",
       "0    \"25933450\"       There Was an Old Lady Who Swallowed a Shell!   \n",
       "1     \"1801372\"                                     I Saw a Friend   \n",
       "2     \"5782091\"                               Black Lagoon, Vol. 6   \n",
       "3    \"32715830\"                                          If I Stay   \n",
       "4    \"14005703\"                            Stars 'N Strips Forever   \n",
       "..          ...                                                ...   \n",
       "195  \"52543154\"  Masters at Arms (Introduction to the Rescue Me...   \n",
       "196  \"51699242\"    Winning the Boss's Heart (Entangled Indulgence)   \n",
       "197  \"11266505\"                                           Anywhere   \n",
       "198   \"5787938\"                      Hatchet (Brian's Saga Book 1)   \n",
       "199  \"41892367\"   Her Favorite Temptation (Mathews Sisters Book 1)   \n",
       "\n",
       "           product_category  star_rating  helpful_votes  total_votes  \\\n",
       "0                     Books            1              0            0   \n",
       "1                     Books            1              0            0   \n",
       "2                     Books            1              0            0   \n",
       "3                     Books            1              0            0   \n",
       "4                     Books            1              2            2   \n",
       "..                      ...          ...            ...          ...   \n",
       "195  Digital_Ebook_Purchase            1              2            3   \n",
       "196  Digital_Ebook_Purchase            1              1            1   \n",
       "197  Digital_Ebook_Purchase            1              0            0   \n",
       "198  Digital_Ebook_Purchase            1              0            0   \n",
       "199  Digital_Ebook_Purchase            1              0            0   \n",
       "\n",
       "    verified_purchase review_date Sentiment_books Sentiment_ebook  \n",
       "0                   Y  2015-08-31        positive             NaN  \n",
       "1                   Y  2015-08-31        positive             NaN  \n",
       "2                   Y  2015-08-31        positive             NaN  \n",
       "3                   N  2015-08-31        positive             NaN  \n",
       "4                   Y  2015-08-31        positive             NaN  \n",
       "..                ...         ...             ...             ...  \n",
       "195                 Y  2013-09-09             NaN        positive  \n",
       "196                 N  2013-09-09             NaN        positive  \n",
       "197                 N  2013-09-09             NaN        positive  \n",
       "198                 Y  2013-09-09             NaN        positive  \n",
       "199                 Y  2013-09-09             NaN        positive  \n",
       "\n",
       "[200 rows x 10 columns]"
      ]
     },
     "execution_count": 77,
     "metadata": {},
     "output_type": "execute_result"
    }
   ],
   "source": [
    "d_master"
   ]
  },
  {
   "cell_type": "code",
   "execution_count": null,
   "id": "82edd682",
   "metadata": {
    "papermill": {
     "duration": 0.0541,
     "end_time": "2022-11-03T21:06:52.646244",
     "exception": false,
     "start_time": "2022-11-03T21:06:52.592144",
     "status": "completed"
    },
    "tags": []
   },
   "outputs": [],
   "source": []
  },
  {
   "cell_type": "markdown",
   "id": "6cbcd82e",
   "metadata": {
    "papermill": {
     "duration": 0.058309,
     "end_time": "2022-11-03T21:06:52.759611",
     "exception": false,
     "start_time": "2022-11-03T21:06:52.701302",
     "status": "completed"
    },
    "tags": []
   },
   "source": [
    "# Grocery Dataset"
   ]
  },
  {
   "cell_type": "code",
   "execution_count": 78,
   "id": "90562b2e",
   "metadata": {
    "papermill": {
     "duration": 0.086174,
     "end_time": "2022-11-03T21:06:52.902392",
     "exception": false,
     "start_time": "2022-11-03T21:06:52.816218",
     "status": "completed"
    },
    "tags": []
   },
   "outputs": [
    {
     "data": {
      "text/html": [
       "<div>\n",
       "<style scoped>\n",
       "    .dataframe tbody tr th:only-of-type {\n",
       "        vertical-align: middle;\n",
       "    }\n",
       "\n",
       "    .dataframe tbody tr th {\n",
       "        vertical-align: top;\n",
       "    }\n",
       "\n",
       "    .dataframe thead th {\n",
       "        text-align: right;\n",
       "    }\n",
       "</style>\n",
       "<table border=\"1\" class=\"dataframe\">\n",
       "  <thead>\n",
       "    <tr style=\"text-align: right;\">\n",
       "      <th></th>\n",
       "      <th>Unnamed: 0</th>\n",
       "      <th>market_place</th>\n",
       "      <th>customer_id</th>\n",
       "      <th>review_id</th>\n",
       "      <th>product_id</th>\n",
       "      <th>product_parent</th>\n",
       "      <th>product_title</th>\n",
       "      <th>product_category</th>\n",
       "      <th>star_rating</th>\n",
       "      <th>helpful_votes</th>\n",
       "      <th>total_votes</th>\n",
       "      <th>vine</th>\n",
       "      <th>verified_purchase</th>\n",
       "      <th>review_headline</th>\n",
       "      <th>review_body</th>\n",
       "      <th>review_date</th>\n",
       "      <th>Sentiment_grcry</th>\n",
       "    </tr>\n",
       "  </thead>\n",
       "  <tbody>\n",
       "    <tr>\n",
       "      <th>0</th>\n",
       "      <td>0</td>\n",
       "      <td>\"US\"</td>\n",
       "      <td>\"42521656\"</td>\n",
       "      <td>\"R26MV8D0KG6QI6\"</td>\n",
       "      <td>\"B000SAQCWC\"</td>\n",
       "      <td>\"159713740\"</td>\n",
       "      <td>\"The Cravings Place Chocolate Chunk Cookie Mix...</td>\n",
       "      <td>\"Grocery\"</td>\n",
       "      <td>1</td>\n",
       "      <td>0</td>\n",
       "      <td>0</td>\n",
       "      <td>0 \\t(N)</td>\n",
       "      <td>1 \\t(Y)</td>\n",
       "      <td>\"Using these for years - love them.\"</td>\n",
       "      <td>\"As a family allergic to wheat, dairy, eggs, n...</td>\n",
       "      <td>2015-08-31</td>\n",
       "      <td>positive</td>\n",
       "    </tr>\n",
       "    <tr>\n",
       "      <th>1</th>\n",
       "      <td>1</td>\n",
       "      <td>\"US\"</td>\n",
       "      <td>\"12049833\"</td>\n",
       "      <td>\"R1OF8GP57AQ1A0\"</td>\n",
       "      <td>\"B00509LVIQ\"</td>\n",
       "      <td>\"138680402\"</td>\n",
       "      <td>\"Mauna Loa Macadamias, 11 Ounce Packages\"</td>\n",
       "      <td>\"Grocery\"</td>\n",
       "      <td>1</td>\n",
       "      <td>0</td>\n",
       "      <td>0</td>\n",
       "      <td>0 \\t(N)</td>\n",
       "      <td>1 \\t(Y)</td>\n",
       "      <td>\"Wonderful\"</td>\n",
       "      <td>\"My favorite nut. Creamy, crunchy, salty, and ...</td>\n",
       "      <td>2015-08-31</td>\n",
       "      <td>positive</td>\n",
       "    </tr>\n",
       "    <tr>\n",
       "      <th>2</th>\n",
       "      <td>2</td>\n",
       "      <td>\"US\"</td>\n",
       "      <td>\"107642\"</td>\n",
       "      <td>\"R3VDC1QB6MC4ZZ\"</td>\n",
       "      <td>\"B00KHXESLC\"</td>\n",
       "      <td>\"252021703\"</td>\n",
       "      <td>\"Organic Matcha Green Tea Powder - 100% Pure M...</td>\n",
       "      <td>\"Grocery\"</td>\n",
       "      <td>1</td>\n",
       "      <td>0</td>\n",
       "      <td>0</td>\n",
       "      <td>0 \\t(N)</td>\n",
       "      <td>0 \\t(N)</td>\n",
       "      <td>\"Five Stars\"</td>\n",
       "      <td>\"This green tea tastes so good! My girlfriend ...</td>\n",
       "      <td>2015-08-31</td>\n",
       "      <td>positive</td>\n",
       "    </tr>\n",
       "    <tr>\n",
       "      <th>3</th>\n",
       "      <td>3</td>\n",
       "      <td>\"US\"</td>\n",
       "      <td>\"6042304\"</td>\n",
       "      <td>\"R12FA3DCF8F9ER\"</td>\n",
       "      <td>\"B000F8JIIC\"</td>\n",
       "      <td>\"752728342\"</td>\n",
       "      <td>\"15oz Raspberry Lyons Designer Dessert Syrup S...</td>\n",
       "      <td>\"Grocery\"</td>\n",
       "      <td>1</td>\n",
       "      <td>0</td>\n",
       "      <td>0</td>\n",
       "      <td>0 \\t(N)</td>\n",
       "      <td>1 \\t(Y)</td>\n",
       "      <td>\"Five Stars\"</td>\n",
       "      <td>\"I love Melissa's brand but this is a great se...</td>\n",
       "      <td>2015-08-31</td>\n",
       "      <td>positive</td>\n",
       "    </tr>\n",
       "    <tr>\n",
       "      <th>4</th>\n",
       "      <td>4</td>\n",
       "      <td>\"US\"</td>\n",
       "      <td>\"18123821\"</td>\n",
       "      <td>\"RTWHVNV6X4CNJ\"</td>\n",
       "      <td>\"B004ZWR9RQ\"</td>\n",
       "      <td>\"552138758\"</td>\n",
       "      <td>\"Stride Spark Kinetic Fruit Sugar Free Gum, 14...</td>\n",
       "      <td>\"Grocery\"</td>\n",
       "      <td>1</td>\n",
       "      <td>0</td>\n",
       "      <td>0</td>\n",
       "      <td>0 \\t(N)</td>\n",
       "      <td>1 \\t(Y)</td>\n",
       "      <td>\"Five Stars\"</td>\n",
       "      <td>\"good\"</td>\n",
       "      <td>2015-08-31</td>\n",
       "      <td>positive</td>\n",
       "    </tr>\n",
       "  </tbody>\n",
       "</table>\n",
       "</div>"
      ],
      "text/plain": [
       "   Unnamed: 0 market_place customer_id         review_id    product_id  \\\n",
       "0           0         \"US\"  \"42521656\"  \"R26MV8D0KG6QI6\"  \"B000SAQCWC\"   \n",
       "1           1         \"US\"  \"12049833\"  \"R1OF8GP57AQ1A0\"  \"B00509LVIQ\"   \n",
       "2           2         \"US\"    \"107642\"  \"R3VDC1QB6MC4ZZ\"  \"B00KHXESLC\"   \n",
       "3           3         \"US\"   \"6042304\"  \"R12FA3DCF8F9ER\"  \"B000F8JIIC\"   \n",
       "4           4         \"US\"  \"18123821\"   \"RTWHVNV6X4CNJ\"  \"B004ZWR9RQ\"   \n",
       "\n",
       "  product_parent                                      product_title  \\\n",
       "0    \"159713740\"  \"The Cravings Place Chocolate Chunk Cookie Mix...   \n",
       "1    \"138680402\"          \"Mauna Loa Macadamias, 11 Ounce Packages\"   \n",
       "2    \"252021703\"  \"Organic Matcha Green Tea Powder - 100% Pure M...   \n",
       "3    \"752728342\"  \"15oz Raspberry Lyons Designer Dessert Syrup S...   \n",
       "4    \"552138758\"  \"Stride Spark Kinetic Fruit Sugar Free Gum, 14...   \n",
       "\n",
       "  product_category  star_rating  helpful_votes  total_votes     vine  \\\n",
       "0        \"Grocery\"            1              0            0  0 \\t(N)   \n",
       "1        \"Grocery\"            1              0            0  0 \\t(N)   \n",
       "2        \"Grocery\"            1              0            0  0 \\t(N)   \n",
       "3        \"Grocery\"            1              0            0  0 \\t(N)   \n",
       "4        \"Grocery\"            1              0            0  0 \\t(N)   \n",
       "\n",
       "  verified_purchase                       review_headline  \\\n",
       "0           1 \\t(Y)  \"Using these for years - love them.\"   \n",
       "1           1 \\t(Y)                           \"Wonderful\"   \n",
       "2           0 \\t(N)                          \"Five Stars\"   \n",
       "3           1 \\t(Y)                          \"Five Stars\"   \n",
       "4           1 \\t(Y)                          \"Five Stars\"   \n",
       "\n",
       "                                         review_body review_date  \\\n",
       "0  \"As a family allergic to wheat, dairy, eggs, n...  2015-08-31   \n",
       "1  \"My favorite nut. Creamy, crunchy, salty, and ...  2015-08-31   \n",
       "2  \"This green tea tastes so good! My girlfriend ...  2015-08-31   \n",
       "3  \"I love Melissa's brand but this is a great se...  2015-08-31   \n",
       "4                                             \"good\"  2015-08-31   \n",
       "\n",
       "  Sentiment_grcry  \n",
       "0        positive  \n",
       "1        positive  \n",
       "2        positive  \n",
       "3        positive  \n",
       "4        positive  "
      ]
     },
     "execution_count": 78,
     "metadata": {},
     "output_type": "execute_result"
    }
   ],
   "source": [
    "d_grocery.head()"
   ]
  },
  {
   "cell_type": "code",
   "execution_count": 79,
   "id": "3d7e5c13",
   "metadata": {
    "papermill": {
     "duration": 0.071358,
     "end_time": "2022-11-03T21:06:53.034230",
     "exception": false,
     "start_time": "2022-11-03T21:06:52.962872",
     "status": "completed"
    },
    "tags": []
   },
   "outputs": [
    {
     "data": {
      "text/plain": [
       "product_id\n",
       "\"B00509LVIQ\"    2\n",
       "\"B00Y1C9770\"    2\n",
       "\"B003SPM64C\"    1\n",
       "\"B00N2ZPZ9Q\"    1\n",
       "\"B000NMFXHU\"    1\n",
       "               ..\n",
       "\"B00507A02Q\"    1\n",
       "\"B0052M5V0A\"    1\n",
       "\"B004AMFDF6\"    1\n",
       "\"B00D0TASLO\"    1\n",
       "\"B006ONNLNA\"    1\n",
       "Name: count, Length: 98, dtype: int64"
      ]
     },
     "execution_count": 79,
     "metadata": {},
     "output_type": "execute_result"
    }
   ],
   "source": [
    "d_grocery.product_id.value_counts()"
   ]
  },
  {
   "cell_type": "code",
   "execution_count": 80,
   "id": "1ecb53c3",
   "metadata": {
    "papermill": {
     "duration": 0.075908,
     "end_time": "2022-11-03T21:06:53.169087",
     "exception": false,
     "start_time": "2022-11-03T21:06:53.093179",
     "status": "completed"
    },
    "tags": []
   },
   "outputs": [],
   "source": [
    "d_grocery.drop(columns=['Unnamed: 0','market_place','review_id','product_id','product_parent','vine','review_headline','review_body'],inplace=True)"
   ]
  },
  {
   "cell_type": "code",
   "execution_count": 81,
   "id": "65073206",
   "metadata": {
    "papermill": {
     "duration": 0.081787,
     "end_time": "2022-11-03T21:06:53.311742",
     "exception": false,
     "start_time": "2022-11-03T21:06:53.229955",
     "status": "completed"
    },
    "tags": []
   },
   "outputs": [
    {
     "data": {
      "text/html": [
       "<div>\n",
       "<style scoped>\n",
       "    .dataframe tbody tr th:only-of-type {\n",
       "        vertical-align: middle;\n",
       "    }\n",
       "\n",
       "    .dataframe tbody tr th {\n",
       "        vertical-align: top;\n",
       "    }\n",
       "\n",
       "    .dataframe thead th {\n",
       "        text-align: right;\n",
       "    }\n",
       "</style>\n",
       "<table border=\"1\" class=\"dataframe\">\n",
       "  <thead>\n",
       "    <tr style=\"text-align: right;\">\n",
       "      <th></th>\n",
       "      <th>customer_id</th>\n",
       "      <th>product_title</th>\n",
       "      <th>product_category</th>\n",
       "      <th>star_rating</th>\n",
       "      <th>helpful_votes</th>\n",
       "      <th>total_votes</th>\n",
       "      <th>verified_purchase</th>\n",
       "      <th>review_date</th>\n",
       "      <th>Sentiment_grcry</th>\n",
       "    </tr>\n",
       "  </thead>\n",
       "  <tbody>\n",
       "    <tr>\n",
       "      <th>0</th>\n",
       "      <td>\"42521656\"</td>\n",
       "      <td>\"The Cravings Place Chocolate Chunk Cookie Mix...</td>\n",
       "      <td>\"Grocery\"</td>\n",
       "      <td>1</td>\n",
       "      <td>0</td>\n",
       "      <td>0</td>\n",
       "      <td>1 \\t(Y)</td>\n",
       "      <td>2015-08-31</td>\n",
       "      <td>positive</td>\n",
       "    </tr>\n",
       "    <tr>\n",
       "      <th>1</th>\n",
       "      <td>\"12049833\"</td>\n",
       "      <td>\"Mauna Loa Macadamias, 11 Ounce Packages\"</td>\n",
       "      <td>\"Grocery\"</td>\n",
       "      <td>1</td>\n",
       "      <td>0</td>\n",
       "      <td>0</td>\n",
       "      <td>1 \\t(Y)</td>\n",
       "      <td>2015-08-31</td>\n",
       "      <td>positive</td>\n",
       "    </tr>\n",
       "    <tr>\n",
       "      <th>2</th>\n",
       "      <td>\"107642\"</td>\n",
       "      <td>\"Organic Matcha Green Tea Powder - 100% Pure M...</td>\n",
       "      <td>\"Grocery\"</td>\n",
       "      <td>1</td>\n",
       "      <td>0</td>\n",
       "      <td>0</td>\n",
       "      <td>0 \\t(N)</td>\n",
       "      <td>2015-08-31</td>\n",
       "      <td>positive</td>\n",
       "    </tr>\n",
       "    <tr>\n",
       "      <th>3</th>\n",
       "      <td>\"6042304\"</td>\n",
       "      <td>\"15oz Raspberry Lyons Designer Dessert Syrup S...</td>\n",
       "      <td>\"Grocery\"</td>\n",
       "      <td>1</td>\n",
       "      <td>0</td>\n",
       "      <td>0</td>\n",
       "      <td>1 \\t(Y)</td>\n",
       "      <td>2015-08-31</td>\n",
       "      <td>positive</td>\n",
       "    </tr>\n",
       "    <tr>\n",
       "      <th>4</th>\n",
       "      <td>\"18123821\"</td>\n",
       "      <td>\"Stride Spark Kinetic Fruit Sugar Free Gum, 14...</td>\n",
       "      <td>\"Grocery\"</td>\n",
       "      <td>1</td>\n",
       "      <td>0</td>\n",
       "      <td>0</td>\n",
       "      <td>1 \\t(Y)</td>\n",
       "      <td>2015-08-31</td>\n",
       "      <td>positive</td>\n",
       "    </tr>\n",
       "  </tbody>\n",
       "</table>\n",
       "</div>"
      ],
      "text/plain": [
       "  customer_id                                      product_title  \\\n",
       "0  \"42521656\"  \"The Cravings Place Chocolate Chunk Cookie Mix...   \n",
       "1  \"12049833\"          \"Mauna Loa Macadamias, 11 Ounce Packages\"   \n",
       "2    \"107642\"  \"Organic Matcha Green Tea Powder - 100% Pure M...   \n",
       "3   \"6042304\"  \"15oz Raspberry Lyons Designer Dessert Syrup S...   \n",
       "4  \"18123821\"  \"Stride Spark Kinetic Fruit Sugar Free Gum, 14...   \n",
       "\n",
       "  product_category  star_rating  helpful_votes  total_votes verified_purchase  \\\n",
       "0        \"Grocery\"            1              0            0           1 \\t(Y)   \n",
       "1        \"Grocery\"            1              0            0           1 \\t(Y)   \n",
       "2        \"Grocery\"            1              0            0           0 \\t(N)   \n",
       "3        \"Grocery\"            1              0            0           1 \\t(Y)   \n",
       "4        \"Grocery\"            1              0            0           1 \\t(Y)   \n",
       "\n",
       "  review_date Sentiment_grcry  \n",
       "0  2015-08-31        positive  \n",
       "1  2015-08-31        positive  \n",
       "2  2015-08-31        positive  \n",
       "3  2015-08-31        positive  \n",
       "4  2015-08-31        positive  "
      ]
     },
     "execution_count": 81,
     "metadata": {},
     "output_type": "execute_result"
    }
   ],
   "source": [
    "d_grocery.head()"
   ]
  },
  {
   "cell_type": "code",
   "execution_count": 82,
   "id": "590ca1f3",
   "metadata": {
    "papermill": {
     "duration": 0.082499,
     "end_time": "2022-11-03T21:06:53.452273",
     "exception": false,
     "start_time": "2022-11-03T21:06:53.369774",
     "status": "completed"
    },
    "tags": []
   },
   "outputs": [
    {
     "name": "stdout",
     "output_type": "stream",
     "text": [
      "<class 'pandas.core.frame.DataFrame'>\n",
      "RangeIndex: 100 entries, 0 to 99\n",
      "Data columns (total 9 columns):\n",
      " #   Column             Non-Null Count  Dtype \n",
      "---  ------             --------------  ----- \n",
      " 0   customer_id        100 non-null    object\n",
      " 1   product_title      100 non-null    object\n",
      " 2   product_category   100 non-null    object\n",
      " 3   star_rating        100 non-null    int64 \n",
      " 4   helpful_votes      100 non-null    int64 \n",
      " 5   total_votes        100 non-null    int64 \n",
      " 6   verified_purchase  100 non-null    object\n",
      " 7   review_date        100 non-null    object\n",
      " 8   Sentiment_grcry    100 non-null    object\n",
      "dtypes: int64(3), object(6)\n",
      "memory usage: 7.2+ KB\n"
     ]
    }
   ],
   "source": [
    "d_grocery.info()"
   ]
  },
  {
   "cell_type": "code",
   "execution_count": 83,
   "id": "51bd1edc",
   "metadata": {
    "papermill": {
     "duration": 0.086515,
     "end_time": "2022-11-03T21:06:53.686929",
     "exception": false,
     "start_time": "2022-11-03T21:06:53.600414",
     "status": "completed"
    },
    "tags": []
   },
   "outputs": [
    {
     "data": {
      "text/html": [
       "<div>\n",
       "<style scoped>\n",
       "    .dataframe tbody tr th:only-of-type {\n",
       "        vertical-align: middle;\n",
       "    }\n",
       "\n",
       "    .dataframe tbody tr th {\n",
       "        vertical-align: top;\n",
       "    }\n",
       "\n",
       "    .dataframe thead th {\n",
       "        text-align: right;\n",
       "    }\n",
       "</style>\n",
       "<table border=\"1\" class=\"dataframe\">\n",
       "  <thead>\n",
       "    <tr style=\"text-align: right;\">\n",
       "      <th></th>\n",
       "      <th>customer_id</th>\n",
       "      <th>product_title</th>\n",
       "      <th>product_category</th>\n",
       "      <th>star_rating</th>\n",
       "      <th>helpful_votes</th>\n",
       "      <th>total_votes</th>\n",
       "      <th>verified_purchase</th>\n",
       "      <th>review_date</th>\n",
       "      <th>Sentiment_grcry</th>\n",
       "    </tr>\n",
       "  </thead>\n",
       "  <tbody>\n",
       "    <tr>\n",
       "      <th>0</th>\n",
       "      <td>\"42521656\"</td>\n",
       "      <td>\"The Cravings Place Chocolate Chunk Cookie Mix...</td>\n",
       "      <td>\"Grocery\"</td>\n",
       "      <td>1</td>\n",
       "      <td>0</td>\n",
       "      <td>0</td>\n",
       "      <td>1 \\t(Y)</td>\n",
       "      <td>2015-08-31</td>\n",
       "      <td>positive</td>\n",
       "    </tr>\n",
       "    <tr>\n",
       "      <th>1</th>\n",
       "      <td>\"12049833\"</td>\n",
       "      <td>\"Mauna Loa Macadamias, 11 Ounce Packages\"</td>\n",
       "      <td>\"Grocery\"</td>\n",
       "      <td>1</td>\n",
       "      <td>0</td>\n",
       "      <td>0</td>\n",
       "      <td>1 \\t(Y)</td>\n",
       "      <td>2015-08-31</td>\n",
       "      <td>positive</td>\n",
       "    </tr>\n",
       "    <tr>\n",
       "      <th>2</th>\n",
       "      <td>\"107642\"</td>\n",
       "      <td>\"Organic Matcha Green Tea Powder - 100% Pure M...</td>\n",
       "      <td>\"Grocery\"</td>\n",
       "      <td>1</td>\n",
       "      <td>0</td>\n",
       "      <td>0</td>\n",
       "      <td>0 \\t(N)</td>\n",
       "      <td>2015-08-31</td>\n",
       "      <td>positive</td>\n",
       "    </tr>\n",
       "    <tr>\n",
       "      <th>3</th>\n",
       "      <td>\"6042304\"</td>\n",
       "      <td>\"15oz Raspberry Lyons Designer Dessert Syrup S...</td>\n",
       "      <td>\"Grocery\"</td>\n",
       "      <td>1</td>\n",
       "      <td>0</td>\n",
       "      <td>0</td>\n",
       "      <td>1 \\t(Y)</td>\n",
       "      <td>2015-08-31</td>\n",
       "      <td>positive</td>\n",
       "    </tr>\n",
       "    <tr>\n",
       "      <th>4</th>\n",
       "      <td>\"18123821\"</td>\n",
       "      <td>\"Stride Spark Kinetic Fruit Sugar Free Gum, 14...</td>\n",
       "      <td>\"Grocery\"</td>\n",
       "      <td>1</td>\n",
       "      <td>0</td>\n",
       "      <td>0</td>\n",
       "      <td>1 \\t(Y)</td>\n",
       "      <td>2015-08-31</td>\n",
       "      <td>positive</td>\n",
       "    </tr>\n",
       "  </tbody>\n",
       "</table>\n",
       "</div>"
      ],
      "text/plain": [
       "  customer_id                                      product_title  \\\n",
       "0  \"42521656\"  \"The Cravings Place Chocolate Chunk Cookie Mix...   \n",
       "1  \"12049833\"          \"Mauna Loa Macadamias, 11 Ounce Packages\"   \n",
       "2    \"107642\"  \"Organic Matcha Green Tea Powder - 100% Pure M...   \n",
       "3   \"6042304\"  \"15oz Raspberry Lyons Designer Dessert Syrup S...   \n",
       "4  \"18123821\"  \"Stride Spark Kinetic Fruit Sugar Free Gum, 14...   \n",
       "\n",
       "  product_category  star_rating  helpful_votes  total_votes verified_purchase  \\\n",
       "0        \"Grocery\"            1              0            0           1 \\t(Y)   \n",
       "1        \"Grocery\"            1              0            0           1 \\t(Y)   \n",
       "2        \"Grocery\"            1              0            0           0 \\t(N)   \n",
       "3        \"Grocery\"            1              0            0           1 \\t(Y)   \n",
       "4        \"Grocery\"            1              0            0           1 \\t(Y)   \n",
       "\n",
       "  review_date Sentiment_grcry  \n",
       "0  2015-08-31        positive  \n",
       "1  2015-08-31        positive  \n",
       "2  2015-08-31        positive  \n",
       "3  2015-08-31        positive  \n",
       "4  2015-08-31        positive  "
      ]
     },
     "execution_count": 83,
     "metadata": {},
     "output_type": "execute_result"
    }
   ],
   "source": [
    "d_grocery['review_date']=d_grocery['review_date'].apply(handle_date)\n",
    "d_grocery.head()"
   ]
  },
  {
   "cell_type": "code",
   "execution_count": 84,
   "id": "9bc80d46",
   "metadata": {
    "papermill": {
     "duration": 0.083194,
     "end_time": "2022-11-03T21:06:53.828677",
     "exception": false,
     "start_time": "2022-11-03T21:06:53.745483",
     "status": "completed"
    },
    "tags": []
   },
   "outputs": [
    {
     "data": {
      "text/html": [
       "<div>\n",
       "<style scoped>\n",
       "    .dataframe tbody tr th:only-of-type {\n",
       "        vertical-align: middle;\n",
       "    }\n",
       "\n",
       "    .dataframe tbody tr th {\n",
       "        vertical-align: top;\n",
       "    }\n",
       "\n",
       "    .dataframe thead th {\n",
       "        text-align: right;\n",
       "    }\n",
       "</style>\n",
       "<table border=\"1\" class=\"dataframe\">\n",
       "  <thead>\n",
       "    <tr style=\"text-align: right;\">\n",
       "      <th></th>\n",
       "      <th>customer_id</th>\n",
       "      <th>product_title</th>\n",
       "      <th>product_category</th>\n",
       "      <th>star_rating</th>\n",
       "      <th>helpful_votes</th>\n",
       "      <th>total_votes</th>\n",
       "      <th>verified_purchase</th>\n",
       "      <th>review_date</th>\n",
       "      <th>Sentiment_grcry</th>\n",
       "    </tr>\n",
       "  </thead>\n",
       "  <tbody>\n",
       "    <tr>\n",
       "      <th>0</th>\n",
       "      <td>\"42521656\"</td>\n",
       "      <td>The Cravings Place Chocolate Chunk Cookie Mix,...</td>\n",
       "      <td>Grocery</td>\n",
       "      <td>1</td>\n",
       "      <td>0</td>\n",
       "      <td>0</td>\n",
       "      <td>Y</td>\n",
       "      <td>2015-08-31</td>\n",
       "      <td>positive</td>\n",
       "    </tr>\n",
       "    <tr>\n",
       "      <th>1</th>\n",
       "      <td>\"12049833\"</td>\n",
       "      <td>Mauna Loa Macadamias, 11 Ounce Packages</td>\n",
       "      <td>Grocery</td>\n",
       "      <td>1</td>\n",
       "      <td>0</td>\n",
       "      <td>0</td>\n",
       "      <td>Y</td>\n",
       "      <td>2015-08-31</td>\n",
       "      <td>positive</td>\n",
       "    </tr>\n",
       "    <tr>\n",
       "      <th>2</th>\n",
       "      <td>\"107642\"</td>\n",
       "      <td>Organic Matcha Green Tea Powder - 100% Pure Ma...</td>\n",
       "      <td>Grocery</td>\n",
       "      <td>1</td>\n",
       "      <td>0</td>\n",
       "      <td>0</td>\n",
       "      <td>N</td>\n",
       "      <td>2015-08-31</td>\n",
       "      <td>positive</td>\n",
       "    </tr>\n",
       "    <tr>\n",
       "      <th>3</th>\n",
       "      <td>\"6042304\"</td>\n",
       "      <td>15oz Raspberry Lyons Designer Dessert Syrup Sauce</td>\n",
       "      <td>Grocery</td>\n",
       "      <td>1</td>\n",
       "      <td>0</td>\n",
       "      <td>0</td>\n",
       "      <td>Y</td>\n",
       "      <td>2015-08-31</td>\n",
       "      <td>positive</td>\n",
       "    </tr>\n",
       "    <tr>\n",
       "      <th>4</th>\n",
       "      <td>\"18123821\"</td>\n",
       "      <td>Stride Spark Kinetic Fruit Sugar Free Gum, 14-...</td>\n",
       "      <td>Grocery</td>\n",
       "      <td>1</td>\n",
       "      <td>0</td>\n",
       "      <td>0</td>\n",
       "      <td>Y</td>\n",
       "      <td>2015-08-31</td>\n",
       "      <td>positive</td>\n",
       "    </tr>\n",
       "  </tbody>\n",
       "</table>\n",
       "</div>"
      ],
      "text/plain": [
       "  customer_id                                      product_title  \\\n",
       "0  \"42521656\"  The Cravings Place Chocolate Chunk Cookie Mix,...   \n",
       "1  \"12049833\"            Mauna Loa Macadamias, 11 Ounce Packages   \n",
       "2    \"107642\"  Organic Matcha Green Tea Powder - 100% Pure Ma...   \n",
       "3   \"6042304\"  15oz Raspberry Lyons Designer Dessert Syrup Sauce   \n",
       "4  \"18123821\"  Stride Spark Kinetic Fruit Sugar Free Gum, 14-...   \n",
       "\n",
       "  product_category  star_rating  helpful_votes  total_votes verified_purchase  \\\n",
       "0          Grocery            1              0            0                 Y   \n",
       "1          Grocery            1              0            0                 Y   \n",
       "2          Grocery            1              0            0                 N   \n",
       "3          Grocery            1              0            0                 Y   \n",
       "4          Grocery            1              0            0                 Y   \n",
       "\n",
       "  review_date Sentiment_grcry  \n",
       "0  2015-08-31        positive  \n",
       "1  2015-08-31        positive  \n",
       "2  2015-08-31        positive  \n",
       "3  2015-08-31        positive  \n",
       "4  2015-08-31        positive  "
      ]
     },
     "execution_count": 84,
     "metadata": {},
     "output_type": "execute_result"
    }
   ],
   "source": [
    "d_grocery['verified_purchase']=d_grocery['verified_purchase'].apply(handle_verified_purchase)\n",
    "d_grocery['product_category']=d_grocery['product_category'].apply(handle_quotation_marks)\n",
    "d_grocery['product_title']=d_grocery['product_title'].apply(handle_quotation_marks)\n",
    "d_grocery.head()"
   ]
  },
  {
   "cell_type": "code",
   "execution_count": 85,
   "id": "2e009b58",
   "metadata": {
    "papermill": {
     "duration": 0.097732,
     "end_time": "2022-11-03T21:06:53.987629",
     "exception": false,
     "start_time": "2022-11-03T21:06:53.889897",
     "status": "completed"
    },
    "tags": []
   },
   "outputs": [
    {
     "data": {
      "text/html": [
       "<div>\n",
       "<style scoped>\n",
       "    .dataframe tbody tr th:only-of-type {\n",
       "        vertical-align: middle;\n",
       "    }\n",
       "\n",
       "    .dataframe tbody tr th {\n",
       "        vertical-align: top;\n",
       "    }\n",
       "\n",
       "    .dataframe thead th {\n",
       "        text-align: right;\n",
       "    }\n",
       "</style>\n",
       "<table border=\"1\" class=\"dataframe\">\n",
       "  <thead>\n",
       "    <tr style=\"text-align: right;\">\n",
       "      <th></th>\n",
       "      <th>customer_id</th>\n",
       "      <th>product_title</th>\n",
       "      <th>product_category</th>\n",
       "      <th>star_rating</th>\n",
       "      <th>helpful_votes</th>\n",
       "      <th>total_votes</th>\n",
       "      <th>verified_purchase</th>\n",
       "      <th>review_date</th>\n",
       "      <th>Sentiment_books</th>\n",
       "      <th>Sentiment_ebook</th>\n",
       "      <th>Sentiment_grcry</th>\n",
       "    </tr>\n",
       "  </thead>\n",
       "  <tbody>\n",
       "    <tr>\n",
       "      <th>0</th>\n",
       "      <td>\"25933450\"</td>\n",
       "      <td>There Was an Old Lady Who Swallowed a Shell!</td>\n",
       "      <td>Books</td>\n",
       "      <td>1</td>\n",
       "      <td>0</td>\n",
       "      <td>0</td>\n",
       "      <td>Y</td>\n",
       "      <td>2015-08-31</td>\n",
       "      <td>positive</td>\n",
       "      <td>NaN</td>\n",
       "      <td>NaN</td>\n",
       "    </tr>\n",
       "    <tr>\n",
       "      <th>1</th>\n",
       "      <td>\"1801372\"</td>\n",
       "      <td>I Saw a Friend</td>\n",
       "      <td>Books</td>\n",
       "      <td>1</td>\n",
       "      <td>0</td>\n",
       "      <td>0</td>\n",
       "      <td>Y</td>\n",
       "      <td>2015-08-31</td>\n",
       "      <td>positive</td>\n",
       "      <td>NaN</td>\n",
       "      <td>NaN</td>\n",
       "    </tr>\n",
       "    <tr>\n",
       "      <th>2</th>\n",
       "      <td>\"5782091\"</td>\n",
       "      <td>Black Lagoon, Vol. 6</td>\n",
       "      <td>Books</td>\n",
       "      <td>1</td>\n",
       "      <td>0</td>\n",
       "      <td>0</td>\n",
       "      <td>Y</td>\n",
       "      <td>2015-08-31</td>\n",
       "      <td>positive</td>\n",
       "      <td>NaN</td>\n",
       "      <td>NaN</td>\n",
       "    </tr>\n",
       "    <tr>\n",
       "      <th>3</th>\n",
       "      <td>\"32715830\"</td>\n",
       "      <td>If I Stay</td>\n",
       "      <td>Books</td>\n",
       "      <td>1</td>\n",
       "      <td>0</td>\n",
       "      <td>0</td>\n",
       "      <td>N</td>\n",
       "      <td>2015-08-31</td>\n",
       "      <td>positive</td>\n",
       "      <td>NaN</td>\n",
       "      <td>NaN</td>\n",
       "    </tr>\n",
       "    <tr>\n",
       "      <th>4</th>\n",
       "      <td>\"14005703\"</td>\n",
       "      <td>Stars 'N Strips Forever</td>\n",
       "      <td>Books</td>\n",
       "      <td>1</td>\n",
       "      <td>2</td>\n",
       "      <td>2</td>\n",
       "      <td>Y</td>\n",
       "      <td>2015-08-31</td>\n",
       "      <td>positive</td>\n",
       "      <td>NaN</td>\n",
       "      <td>NaN</td>\n",
       "    </tr>\n",
       "    <tr>\n",
       "      <th>...</th>\n",
       "      <td>...</td>\n",
       "      <td>...</td>\n",
       "      <td>...</td>\n",
       "      <td>...</td>\n",
       "      <td>...</td>\n",
       "      <td>...</td>\n",
       "      <td>...</td>\n",
       "      <td>...</td>\n",
       "      <td>...</td>\n",
       "      <td>...</td>\n",
       "      <td>...</td>\n",
       "    </tr>\n",
       "    <tr>\n",
       "      <th>295</th>\n",
       "      <td>\"41855640\"</td>\n",
       "      <td>Emerald Cocoa Roast Dark Chocolate Almonds - 3...</td>\n",
       "      <td>Grocery</td>\n",
       "      <td>1</td>\n",
       "      <td>0</td>\n",
       "      <td>0</td>\n",
       "      <td>Y</td>\n",
       "      <td>2015-08-31</td>\n",
       "      <td>NaN</td>\n",
       "      <td>NaN</td>\n",
       "      <td>positive</td>\n",
       "    </tr>\n",
       "    <tr>\n",
       "      <th>296</th>\n",
       "      <td>\"13730310\"</td>\n",
       "      <td>Fiber One Chewy Bars Oats &amp; Chocolate: 36 Bars...</td>\n",
       "      <td>Grocery</td>\n",
       "      <td>1</td>\n",
       "      <td>2</td>\n",
       "      <td>3</td>\n",
       "      <td>N</td>\n",
       "      <td>2015-08-31</td>\n",
       "      <td>NaN</td>\n",
       "      <td>NaN</td>\n",
       "      <td>positive</td>\n",
       "    </tr>\n",
       "    <tr>\n",
       "      <th>297</th>\n",
       "      <td>\"48872127\"</td>\n",
       "      <td>Gerber Good Start Infant Formula Sample Box</td>\n",
       "      <td>Grocery</td>\n",
       "      <td>0</td>\n",
       "      <td>0</td>\n",
       "      <td>0</td>\n",
       "      <td>N</td>\n",
       "      <td>2015-08-31</td>\n",
       "      <td>NaN</td>\n",
       "      <td>NaN</td>\n",
       "      <td>negaitve</td>\n",
       "    </tr>\n",
       "    <tr>\n",
       "      <th>298</th>\n",
       "      <td>\"12859252\"</td>\n",
       "      <td>Cheese Wax 1 lb - Red</td>\n",
       "      <td>Grocery</td>\n",
       "      <td>1</td>\n",
       "      <td>0</td>\n",
       "      <td>0</td>\n",
       "      <td>Y</td>\n",
       "      <td>2015-08-31</td>\n",
       "      <td>NaN</td>\n",
       "      <td>NaN</td>\n",
       "      <td>positive</td>\n",
       "    </tr>\n",
       "    <tr>\n",
       "      <th>299</th>\n",
       "      <td>\"33828780\"</td>\n",
       "      <td>Gustaf’s Traditional Dutch Authentic Double Sa...</td>\n",
       "      <td>Grocery</td>\n",
       "      <td>0</td>\n",
       "      <td>0</td>\n",
       "      <td>5</td>\n",
       "      <td>Y</td>\n",
       "      <td>2015-08-31</td>\n",
       "      <td>NaN</td>\n",
       "      <td>NaN</td>\n",
       "      <td>negaitve</td>\n",
       "    </tr>\n",
       "  </tbody>\n",
       "</table>\n",
       "<p>300 rows × 11 columns</p>\n",
       "</div>"
      ],
      "text/plain": [
       "    customer_id                                      product_title  \\\n",
       "0    \"25933450\"       There Was an Old Lady Who Swallowed a Shell!   \n",
       "1     \"1801372\"                                     I Saw a Friend   \n",
       "2     \"5782091\"                               Black Lagoon, Vol. 6   \n",
       "3    \"32715830\"                                          If I Stay   \n",
       "4    \"14005703\"                            Stars 'N Strips Forever   \n",
       "..          ...                                                ...   \n",
       "295  \"41855640\"  Emerald Cocoa Roast Dark Chocolate Almonds - 3...   \n",
       "296  \"13730310\"  Fiber One Chewy Bars Oats & Chocolate: 36 Bars...   \n",
       "297  \"48872127\"        Gerber Good Start Infant Formula Sample Box   \n",
       "298  \"12859252\"                              Cheese Wax 1 lb - Red   \n",
       "299  \"33828780\"  Gustaf’s Traditional Dutch Authentic Double Sa...   \n",
       "\n",
       "    product_category  star_rating  helpful_votes  total_votes  \\\n",
       "0              Books            1              0            0   \n",
       "1              Books            1              0            0   \n",
       "2              Books            1              0            0   \n",
       "3              Books            1              0            0   \n",
       "4              Books            1              2            2   \n",
       "..               ...          ...            ...          ...   \n",
       "295          Grocery            1              0            0   \n",
       "296          Grocery            1              2            3   \n",
       "297          Grocery            0              0            0   \n",
       "298          Grocery            1              0            0   \n",
       "299          Grocery            0              0            5   \n",
       "\n",
       "    verified_purchase review_date Sentiment_books Sentiment_ebook  \\\n",
       "0                   Y  2015-08-31        positive             NaN   \n",
       "1                   Y  2015-08-31        positive             NaN   \n",
       "2                   Y  2015-08-31        positive             NaN   \n",
       "3                   N  2015-08-31        positive             NaN   \n",
       "4                   Y  2015-08-31        positive             NaN   \n",
       "..                ...         ...             ...             ...   \n",
       "295                 Y  2015-08-31             NaN             NaN   \n",
       "296                 N  2015-08-31             NaN             NaN   \n",
       "297                 N  2015-08-31             NaN             NaN   \n",
       "298                 Y  2015-08-31             NaN             NaN   \n",
       "299                 Y  2015-08-31             NaN             NaN   \n",
       "\n",
       "    Sentiment_grcry  \n",
       "0               NaN  \n",
       "1               NaN  \n",
       "2               NaN  \n",
       "3               NaN  \n",
       "4               NaN  \n",
       "..              ...  \n",
       "295        positive  \n",
       "296        positive  \n",
       "297        negaitve  \n",
       "298        positive  \n",
       "299        negaitve  \n",
       "\n",
       "[300 rows x 11 columns]"
      ]
     },
     "execution_count": 85,
     "metadata": {},
     "output_type": "execute_result"
    }
   ],
   "source": [
    "d_master=pd.concat([d_master,d_grocery],ignore_index=True)\n",
    "d_master"
   ]
  },
  {
   "cell_type": "markdown",
   "id": "aedf3638",
   "metadata": {
    "papermill": {
     "duration": 0.060337,
     "end_time": "2022-11-03T21:06:54.115533",
     "exception": false,
     "start_time": "2022-11-03T21:06:54.055196",
     "status": "completed"
    },
    "tags": []
   },
   "source": [
    "# Jwellery Dataset"
   ]
  },
  {
   "cell_type": "code",
   "execution_count": 86,
   "id": "f5aa7274",
   "metadata": {
    "papermill": {
     "duration": 0.086308,
     "end_time": "2022-11-03T21:06:54.261783",
     "exception": false,
     "start_time": "2022-11-03T21:06:54.175475",
     "status": "completed"
    },
    "tags": []
   },
   "outputs": [
    {
     "data": {
      "text/html": [
       "<div>\n",
       "<style scoped>\n",
       "    .dataframe tbody tr th:only-of-type {\n",
       "        vertical-align: middle;\n",
       "    }\n",
       "\n",
       "    .dataframe tbody tr th {\n",
       "        vertical-align: top;\n",
       "    }\n",
       "\n",
       "    .dataframe thead th {\n",
       "        text-align: right;\n",
       "    }\n",
       "</style>\n",
       "<table border=\"1\" class=\"dataframe\">\n",
       "  <thead>\n",
       "    <tr style=\"text-align: right;\">\n",
       "      <th></th>\n",
       "      <th>Unnamed: 0</th>\n",
       "      <th>market_place</th>\n",
       "      <th>customer_id</th>\n",
       "      <th>review_id</th>\n",
       "      <th>product_id</th>\n",
       "      <th>product_parent</th>\n",
       "      <th>product_title</th>\n",
       "      <th>product_category</th>\n",
       "      <th>star_rating</th>\n",
       "      <th>helpful_votes</th>\n",
       "      <th>total_votes</th>\n",
       "      <th>vine</th>\n",
       "      <th>verified_purchase</th>\n",
       "      <th>review_headline</th>\n",
       "      <th>review_body</th>\n",
       "      <th>review_date</th>\n",
       "      <th>Sentiment_jwlry</th>\n",
       "    </tr>\n",
       "  </thead>\n",
       "  <tbody>\n",
       "    <tr>\n",
       "      <th>0</th>\n",
       "      <td>0</td>\n",
       "      <td>\"US\"</td>\n",
       "      <td>\"50423057\"</td>\n",
       "      <td>\"R135Q3VZ4DQN5N\"</td>\n",
       "      <td>\"B00JWXFDMG\"</td>\n",
       "      <td>\"657335467\"</td>\n",
       "      <td>\"Everbling Purple and Clear Briolette Drop Swa...</td>\n",
       "      <td>\"Jewelry\"</td>\n",
       "      <td>1</td>\n",
       "      <td>0</td>\n",
       "      <td>0</td>\n",
       "      <td>0 \\t(N)</td>\n",
       "      <td>1 \\t(Y)</td>\n",
       "      <td>\"Beauties!\"</td>\n",
       "      <td>\"so beautiful even tho clearly not high end .....</td>\n",
       "      <td>2015-08-31</td>\n",
       "      <td>positive</td>\n",
       "    </tr>\n",
       "    <tr>\n",
       "      <th>1</th>\n",
       "      <td>1</td>\n",
       "      <td>\"US\"</td>\n",
       "      <td>\"11262325\"</td>\n",
       "      <td>\"R2N0QQ6R4T7YRY\"</td>\n",
       "      <td>\"B00W5T1H9W\"</td>\n",
       "      <td>\"26030170\"</td>\n",
       "      <td>\"925 Sterling Silver Finish 6ct Simulated Diam...</td>\n",
       "      <td>\"Jewelry\"</td>\n",
       "      <td>1</td>\n",
       "      <td>0</td>\n",
       "      <td>0</td>\n",
       "      <td>0 \\t(N)</td>\n",
       "      <td>0 \\t(N)</td>\n",
       "      <td>\"Great product.\"</td>\n",
       "      <td>\"Great product.. I got this set for my mother,...</td>\n",
       "      <td>2015-08-31</td>\n",
       "      <td>positive</td>\n",
       "    </tr>\n",
       "    <tr>\n",
       "      <th>2</th>\n",
       "      <td>2</td>\n",
       "      <td>\"US\"</td>\n",
       "      <td>\"27541121\"</td>\n",
       "      <td>\"R3N5JE5Y4T6W5M\"</td>\n",
       "      <td>\"B00M2L6KFY\"</td>\n",
       "      <td>\"697845240\"</td>\n",
       "      <td>\"Sterling Silver Circle \"Friends Forever\" Infi...</td>\n",
       "      <td>\"Jewelry\"</td>\n",
       "      <td>1</td>\n",
       "      <td>0</td>\n",
       "      <td>0</td>\n",
       "      <td>0 \\t(N)</td>\n",
       "      <td>1 \\t(Y)</td>\n",
       "      <td>\"Exactly as pictured and my daughter's friend ...</td>\n",
       "      <td>\"Exactly as pictured and my daughter's friend ...</td>\n",
       "      <td>2015-08-31</td>\n",
       "      <td>positive</td>\n",
       "    </tr>\n",
       "    <tr>\n",
       "      <th>3</th>\n",
       "      <td>3</td>\n",
       "      <td>\"US\"</td>\n",
       "      <td>\"5350721\"</td>\n",
       "      <td>\"R2I150CX5IVY9Q\"</td>\n",
       "      <td>\"B0006SW2WU\"</td>\n",
       "      <td>\"569859289\"</td>\n",
       "      <td>\"Surgical Stainless Steel Domed 9mm Fishbone R...</td>\n",
       "      <td>\"Jewelry\"</td>\n",
       "      <td>1</td>\n",
       "      <td>0</td>\n",
       "      <td>0</td>\n",
       "      <td>0 \\t(N)</td>\n",
       "      <td>1 \\t(Y)</td>\n",
       "      <td>\"Five Stars\"</td>\n",
       "      <td>\"Love it. Fits great. Super comfortable and ne...</td>\n",
       "      <td>2015-08-31</td>\n",
       "      <td>positive</td>\n",
       "    </tr>\n",
       "    <tr>\n",
       "      <th>4</th>\n",
       "      <td>4</td>\n",
       "      <td>\"US\"</td>\n",
       "      <td>\"24484424\"</td>\n",
       "      <td>\"R1RM9ICOOA9MQ3\"</td>\n",
       "      <td>\"B009YPDW70\"</td>\n",
       "      <td>\"332947422\"</td>\n",
       "      <td>\"Sterling Silver Family Pendant Necklace, 18\"\"</td>\n",
       "      <td>\"Jewelry\"</td>\n",
       "      <td>1</td>\n",
       "      <td>0</td>\n",
       "      <td>0</td>\n",
       "      <td>0 \\t(N)</td>\n",
       "      <td>1 \\t(Y)</td>\n",
       "      <td>\"... a Mother's Day gift for my Mom and she lo...</td>\n",
       "      <td>\"Got this as a Mother's Day gift for my Mom an...</td>\n",
       "      <td>2015-08-31</td>\n",
       "      <td>positive</td>\n",
       "    </tr>\n",
       "  </tbody>\n",
       "</table>\n",
       "</div>"
      ],
      "text/plain": [
       "   Unnamed: 0 market_place customer_id         review_id    product_id  \\\n",
       "0           0         \"US\"  \"50423057\"  \"R135Q3VZ4DQN5N\"  \"B00JWXFDMG\"   \n",
       "1           1         \"US\"  \"11262325\"  \"R2N0QQ6R4T7YRY\"  \"B00W5T1H9W\"   \n",
       "2           2         \"US\"  \"27541121\"  \"R3N5JE5Y4T6W5M\"  \"B00M2L6KFY\"   \n",
       "3           3         \"US\"   \"5350721\"  \"R2I150CX5IVY9Q\"  \"B0006SW2WU\"   \n",
       "4           4         \"US\"  \"24484424\"  \"R1RM9ICOOA9MQ3\"  \"B009YPDW70\"   \n",
       "\n",
       "  product_parent                                      product_title  \\\n",
       "0    \"657335467\"  \"Everbling Purple and Clear Briolette Drop Swa...   \n",
       "1     \"26030170\"  \"925 Sterling Silver Finish 6ct Simulated Diam...   \n",
       "2    \"697845240\"  \"Sterling Silver Circle \"Friends Forever\" Infi...   \n",
       "3    \"569859289\"  \"Surgical Stainless Steel Domed 9mm Fishbone R...   \n",
       "4    \"332947422\"     \"Sterling Silver Family Pendant Necklace, 18\"\"   \n",
       "\n",
       "  product_category  star_rating  helpful_votes  total_votes     vine  \\\n",
       "0        \"Jewelry\"            1              0            0  0 \\t(N)   \n",
       "1        \"Jewelry\"            1              0            0  0 \\t(N)   \n",
       "2        \"Jewelry\"            1              0            0  0 \\t(N)   \n",
       "3        \"Jewelry\"            1              0            0  0 \\t(N)   \n",
       "4        \"Jewelry\"            1              0            0  0 \\t(N)   \n",
       "\n",
       "  verified_purchase                                    review_headline  \\\n",
       "0           1 \\t(Y)                                        \"Beauties!\"   \n",
       "1           0 \\t(N)                                   \"Great product.\"   \n",
       "2           1 \\t(Y)  \"Exactly as pictured and my daughter's friend ...   \n",
       "3           1 \\t(Y)                                       \"Five Stars\"   \n",
       "4           1 \\t(Y)  \"... a Mother's Day gift for my Mom and she lo...   \n",
       "\n",
       "                                         review_body review_date  \\\n",
       "0  \"so beautiful even tho clearly not high end .....  2015-08-31   \n",
       "1  \"Great product.. I got this set for my mother,...  2015-08-31   \n",
       "2  \"Exactly as pictured and my daughter's friend ...  2015-08-31   \n",
       "3  \"Love it. Fits great. Super comfortable and ne...  2015-08-31   \n",
       "4  \"Got this as a Mother's Day gift for my Mom an...  2015-08-31   \n",
       "\n",
       "  Sentiment_jwlry  \n",
       "0        positive  \n",
       "1        positive  \n",
       "2        positive  \n",
       "3        positive  \n",
       "4        positive  "
      ]
     },
     "execution_count": 86,
     "metadata": {},
     "output_type": "execute_result"
    }
   ],
   "source": [
    "d_jwellery.head()"
   ]
  },
  {
   "cell_type": "code",
   "execution_count": 87,
   "id": "5c903c19",
   "metadata": {
    "papermill": {
     "duration": 0.070727,
     "end_time": "2022-11-03T21:06:54.393979",
     "exception": false,
     "start_time": "2022-11-03T21:06:54.323252",
     "status": "completed"
    },
    "tags": []
   },
   "outputs": [],
   "source": [
    "d_jwellery.drop(columns=['Unnamed: 0','market_place','review_id','product_id','product_parent','vine','review_headline','review_body'],inplace=True)"
   ]
  },
  {
   "cell_type": "code",
   "execution_count": 88,
   "id": "d62411de",
   "metadata": {
    "papermill": {
     "duration": 0.08015,
     "end_time": "2022-11-03T21:06:54.530433",
     "exception": false,
     "start_time": "2022-11-03T21:06:54.450283",
     "status": "completed"
    },
    "tags": []
   },
   "outputs": [
    {
     "data": {
      "text/html": [
       "<div>\n",
       "<style scoped>\n",
       "    .dataframe tbody tr th:only-of-type {\n",
       "        vertical-align: middle;\n",
       "    }\n",
       "\n",
       "    .dataframe tbody tr th {\n",
       "        vertical-align: top;\n",
       "    }\n",
       "\n",
       "    .dataframe thead th {\n",
       "        text-align: right;\n",
       "    }\n",
       "</style>\n",
       "<table border=\"1\" class=\"dataframe\">\n",
       "  <thead>\n",
       "    <tr style=\"text-align: right;\">\n",
       "      <th></th>\n",
       "      <th>customer_id</th>\n",
       "      <th>product_title</th>\n",
       "      <th>product_category</th>\n",
       "      <th>star_rating</th>\n",
       "      <th>helpful_votes</th>\n",
       "      <th>total_votes</th>\n",
       "      <th>verified_purchase</th>\n",
       "      <th>review_date</th>\n",
       "      <th>Sentiment_jwlry</th>\n",
       "    </tr>\n",
       "  </thead>\n",
       "  <tbody>\n",
       "    <tr>\n",
       "      <th>0</th>\n",
       "      <td>\"50423057\"</td>\n",
       "      <td>\"Everbling Purple and Clear Briolette Drop Swa...</td>\n",
       "      <td>\"Jewelry\"</td>\n",
       "      <td>1</td>\n",
       "      <td>0</td>\n",
       "      <td>0</td>\n",
       "      <td>1 \\t(Y)</td>\n",
       "      <td>2015-08-31</td>\n",
       "      <td>positive</td>\n",
       "    </tr>\n",
       "    <tr>\n",
       "      <th>1</th>\n",
       "      <td>\"11262325\"</td>\n",
       "      <td>\"925 Sterling Silver Finish 6ct Simulated Diam...</td>\n",
       "      <td>\"Jewelry\"</td>\n",
       "      <td>1</td>\n",
       "      <td>0</td>\n",
       "      <td>0</td>\n",
       "      <td>0 \\t(N)</td>\n",
       "      <td>2015-08-31</td>\n",
       "      <td>positive</td>\n",
       "    </tr>\n",
       "    <tr>\n",
       "      <th>2</th>\n",
       "      <td>\"27541121\"</td>\n",
       "      <td>\"Sterling Silver Circle \"Friends Forever\" Infi...</td>\n",
       "      <td>\"Jewelry\"</td>\n",
       "      <td>1</td>\n",
       "      <td>0</td>\n",
       "      <td>0</td>\n",
       "      <td>1 \\t(Y)</td>\n",
       "      <td>2015-08-31</td>\n",
       "      <td>positive</td>\n",
       "    </tr>\n",
       "    <tr>\n",
       "      <th>3</th>\n",
       "      <td>\"5350721\"</td>\n",
       "      <td>\"Surgical Stainless Steel Domed 9mm Fishbone R...</td>\n",
       "      <td>\"Jewelry\"</td>\n",
       "      <td>1</td>\n",
       "      <td>0</td>\n",
       "      <td>0</td>\n",
       "      <td>1 \\t(Y)</td>\n",
       "      <td>2015-08-31</td>\n",
       "      <td>positive</td>\n",
       "    </tr>\n",
       "    <tr>\n",
       "      <th>4</th>\n",
       "      <td>\"24484424\"</td>\n",
       "      <td>\"Sterling Silver Family Pendant Necklace, 18\"\"</td>\n",
       "      <td>\"Jewelry\"</td>\n",
       "      <td>1</td>\n",
       "      <td>0</td>\n",
       "      <td>0</td>\n",
       "      <td>1 \\t(Y)</td>\n",
       "      <td>2015-08-31</td>\n",
       "      <td>positive</td>\n",
       "    </tr>\n",
       "  </tbody>\n",
       "</table>\n",
       "</div>"
      ],
      "text/plain": [
       "  customer_id                                      product_title  \\\n",
       "0  \"50423057\"  \"Everbling Purple and Clear Briolette Drop Swa...   \n",
       "1  \"11262325\"  \"925 Sterling Silver Finish 6ct Simulated Diam...   \n",
       "2  \"27541121\"  \"Sterling Silver Circle \"Friends Forever\" Infi...   \n",
       "3   \"5350721\"  \"Surgical Stainless Steel Domed 9mm Fishbone R...   \n",
       "4  \"24484424\"     \"Sterling Silver Family Pendant Necklace, 18\"\"   \n",
       "\n",
       "  product_category  star_rating  helpful_votes  total_votes verified_purchase  \\\n",
       "0        \"Jewelry\"            1              0            0           1 \\t(Y)   \n",
       "1        \"Jewelry\"            1              0            0           0 \\t(N)   \n",
       "2        \"Jewelry\"            1              0            0           1 \\t(Y)   \n",
       "3        \"Jewelry\"            1              0            0           1 \\t(Y)   \n",
       "4        \"Jewelry\"            1              0            0           1 \\t(Y)   \n",
       "\n",
       "  review_date Sentiment_jwlry  \n",
       "0  2015-08-31        positive  \n",
       "1  2015-08-31        positive  \n",
       "2  2015-08-31        positive  \n",
       "3  2015-08-31        positive  \n",
       "4  2015-08-31        positive  "
      ]
     },
     "execution_count": 88,
     "metadata": {},
     "output_type": "execute_result"
    }
   ],
   "source": [
    "d_jwellery.head()"
   ]
  },
  {
   "cell_type": "code",
   "execution_count": 89,
   "id": "6e89e953",
   "metadata": {
    "papermill": {
     "duration": 0.077342,
     "end_time": "2022-11-03T21:06:54.671780",
     "exception": false,
     "start_time": "2022-11-03T21:06:54.594438",
     "status": "completed"
    },
    "tags": []
   },
   "outputs": [],
   "source": [
    "d_jwellery['verified_purchase']=d_jwellery['verified_purchase'].apply(handle_verified_purchase)\n",
    "d_jwellery['product_category']=d_jwellery['product_category'].apply(handle_quotation_marks)\n",
    "d_jwellery['product_title']=d_jwellery['product_title'].apply(handle_quotation_marks)"
   ]
  },
  {
   "cell_type": "code",
   "execution_count": 90,
   "id": "5389c1e9",
   "metadata": {
    "papermill": {
     "duration": 0.109353,
     "end_time": "2022-11-03T21:06:54.855244",
     "exception": false,
     "start_time": "2022-11-03T21:06:54.745891",
     "status": "completed"
    },
    "tags": []
   },
   "outputs": [
    {
     "data": {
      "text/html": [
       "<div>\n",
       "<style scoped>\n",
       "    .dataframe tbody tr th:only-of-type {\n",
       "        vertical-align: middle;\n",
       "    }\n",
       "\n",
       "    .dataframe tbody tr th {\n",
       "        vertical-align: top;\n",
       "    }\n",
       "\n",
       "    .dataframe thead th {\n",
       "        text-align: right;\n",
       "    }\n",
       "</style>\n",
       "<table border=\"1\" class=\"dataframe\">\n",
       "  <thead>\n",
       "    <tr style=\"text-align: right;\">\n",
       "      <th></th>\n",
       "      <th>customer_id</th>\n",
       "      <th>product_title</th>\n",
       "      <th>product_category</th>\n",
       "      <th>star_rating</th>\n",
       "      <th>helpful_votes</th>\n",
       "      <th>total_votes</th>\n",
       "      <th>verified_purchase</th>\n",
       "      <th>review_date</th>\n",
       "      <th>Sentiment_jwlry</th>\n",
       "    </tr>\n",
       "  </thead>\n",
       "  <tbody>\n",
       "    <tr>\n",
       "      <th>0</th>\n",
       "      <td>\"50423057\"</td>\n",
       "      <td>Everbling Purple and Clear Briolette Drop Swar...</td>\n",
       "      <td>Jewelry</td>\n",
       "      <td>1</td>\n",
       "      <td>0</td>\n",
       "      <td>0</td>\n",
       "      <td>Y</td>\n",
       "      <td>2015-08-31</td>\n",
       "      <td>positive</td>\n",
       "    </tr>\n",
       "    <tr>\n",
       "      <th>1</th>\n",
       "      <td>\"11262325\"</td>\n",
       "      <td>925 Sterling Silver Finish 6ct Simulated Diamo...</td>\n",
       "      <td>Jewelry</td>\n",
       "      <td>1</td>\n",
       "      <td>0</td>\n",
       "      <td>0</td>\n",
       "      <td>N</td>\n",
       "      <td>2015-08-31</td>\n",
       "      <td>positive</td>\n",
       "    </tr>\n",
       "    <tr>\n",
       "      <th>2</th>\n",
       "      <td>\"27541121\"</td>\n",
       "      <td>Sterling Silver Circle</td>\n",
       "      <td>Jewelry</td>\n",
       "      <td>1</td>\n",
       "      <td>0</td>\n",
       "      <td>0</td>\n",
       "      <td>Y</td>\n",
       "      <td>2015-08-31</td>\n",
       "      <td>positive</td>\n",
       "    </tr>\n",
       "    <tr>\n",
       "      <th>3</th>\n",
       "      <td>\"5350721\"</td>\n",
       "      <td>Surgical Stainless Steel Domed 9mm Fishbone Ri...</td>\n",
       "      <td>Jewelry</td>\n",
       "      <td>1</td>\n",
       "      <td>0</td>\n",
       "      <td>0</td>\n",
       "      <td>Y</td>\n",
       "      <td>2015-08-31</td>\n",
       "      <td>positive</td>\n",
       "    </tr>\n",
       "    <tr>\n",
       "      <th>4</th>\n",
       "      <td>\"24484424\"</td>\n",
       "      <td>Sterling Silver Family Pendant Necklace, 18</td>\n",
       "      <td>Jewelry</td>\n",
       "      <td>1</td>\n",
       "      <td>0</td>\n",
       "      <td>0</td>\n",
       "      <td>Y</td>\n",
       "      <td>2015-08-31</td>\n",
       "      <td>positive</td>\n",
       "    </tr>\n",
       "  </tbody>\n",
       "</table>\n",
       "</div>"
      ],
      "text/plain": [
       "  customer_id                                      product_title  \\\n",
       "0  \"50423057\"  Everbling Purple and Clear Briolette Drop Swar...   \n",
       "1  \"11262325\"  925 Sterling Silver Finish 6ct Simulated Diamo...   \n",
       "2  \"27541121\"                            Sterling Silver Circle    \n",
       "3   \"5350721\"  Surgical Stainless Steel Domed 9mm Fishbone Ri...   \n",
       "4  \"24484424\"        Sterling Silver Family Pendant Necklace, 18   \n",
       "\n",
       "  product_category  star_rating  helpful_votes  total_votes verified_purchase  \\\n",
       "0          Jewelry            1              0            0                 Y   \n",
       "1          Jewelry            1              0            0                 N   \n",
       "2          Jewelry            1              0            0                 Y   \n",
       "3          Jewelry            1              0            0                 Y   \n",
       "4          Jewelry            1              0            0                 Y   \n",
       "\n",
       "  review_date Sentiment_jwlry  \n",
       "0  2015-08-31        positive  \n",
       "1  2015-08-31        positive  \n",
       "2  2015-08-31        positive  \n",
       "3  2015-08-31        positive  \n",
       "4  2015-08-31        positive  "
      ]
     },
     "execution_count": 90,
     "metadata": {},
     "output_type": "execute_result"
    }
   ],
   "source": [
    "d_jwellery.head()"
   ]
  },
  {
   "cell_type": "code",
   "execution_count": 91,
   "id": "ac616afe",
   "metadata": {
    "papermill": {
     "duration": 0.095146,
     "end_time": "2022-11-03T21:06:55.017632",
     "exception": false,
     "start_time": "2022-11-03T21:06:54.922486",
     "status": "completed"
    },
    "tags": []
   },
   "outputs": [
    {
     "name": "stdout",
     "output_type": "stream",
     "text": [
      "<class 'pandas.core.frame.DataFrame'>\n",
      "RangeIndex: 100 entries, 0 to 99\n",
      "Data columns (total 9 columns):\n",
      " #   Column             Non-Null Count  Dtype \n",
      "---  ------             --------------  ----- \n",
      " 0   customer_id        100 non-null    object\n",
      " 1   product_title      100 non-null    object\n",
      " 2   product_category   100 non-null    object\n",
      " 3   star_rating        100 non-null    int64 \n",
      " 4   helpful_votes      100 non-null    int64 \n",
      " 5   total_votes        100 non-null    int64 \n",
      " 6   verified_purchase  100 non-null    object\n",
      " 7   review_date        100 non-null    object\n",
      " 8   Sentiment_jwlry    100 non-null    object\n",
      "dtypes: int64(3), object(6)\n",
      "memory usage: 7.2+ KB\n"
     ]
    }
   ],
   "source": [
    "d_jwellery.info()"
   ]
  },
  {
   "cell_type": "code",
   "execution_count": 92,
   "id": "b57a8c84",
   "metadata": {
    "papermill": {
     "duration": 0.089898,
     "end_time": "2022-11-03T21:06:55.165958",
     "exception": false,
     "start_time": "2022-11-03T21:06:55.076060",
     "status": "completed"
    },
    "tags": []
   },
   "outputs": [],
   "source": [
    "d_jwellery['review_date']=d_jwellery['review_date'].apply(handle_date)"
   ]
  },
  {
   "cell_type": "code",
   "execution_count": 93,
   "id": "edad603e",
   "metadata": {
    "papermill": {
     "duration": 0.074192,
     "end_time": "2022-11-03T21:06:55.298715",
     "exception": false,
     "start_time": "2022-11-03T21:06:55.224523",
     "status": "completed"
    },
    "tags": []
   },
   "outputs": [],
   "source": [
    "d_master=pd.concat([d_master,d_jwellery],ignore_index=True)"
   ]
  },
  {
   "cell_type": "code",
   "execution_count": 94,
   "id": "c9fc5600",
   "metadata": {
    "papermill": {
     "duration": 0.094888,
     "end_time": "2022-11-03T21:06:55.453317",
     "exception": false,
     "start_time": "2022-11-03T21:06:55.358429",
     "status": "completed"
    },
    "tags": []
   },
   "outputs": [
    {
     "data": {
      "text/html": [
       "<div>\n",
       "<style scoped>\n",
       "    .dataframe tbody tr th:only-of-type {\n",
       "        vertical-align: middle;\n",
       "    }\n",
       "\n",
       "    .dataframe tbody tr th {\n",
       "        vertical-align: top;\n",
       "    }\n",
       "\n",
       "    .dataframe thead th {\n",
       "        text-align: right;\n",
       "    }\n",
       "</style>\n",
       "<table border=\"1\" class=\"dataframe\">\n",
       "  <thead>\n",
       "    <tr style=\"text-align: right;\">\n",
       "      <th></th>\n",
       "      <th>customer_id</th>\n",
       "      <th>product_title</th>\n",
       "      <th>product_category</th>\n",
       "      <th>star_rating</th>\n",
       "      <th>helpful_votes</th>\n",
       "      <th>total_votes</th>\n",
       "      <th>verified_purchase</th>\n",
       "      <th>review_date</th>\n",
       "      <th>Sentiment_books</th>\n",
       "      <th>Sentiment_ebook</th>\n",
       "      <th>Sentiment_grcry</th>\n",
       "      <th>Sentiment_jwlry</th>\n",
       "    </tr>\n",
       "  </thead>\n",
       "  <tbody>\n",
       "    <tr>\n",
       "      <th>0</th>\n",
       "      <td>\"25933450\"</td>\n",
       "      <td>There Was an Old Lady Who Swallowed a Shell!</td>\n",
       "      <td>Books</td>\n",
       "      <td>1</td>\n",
       "      <td>0</td>\n",
       "      <td>0</td>\n",
       "      <td>Y</td>\n",
       "      <td>2015-08-31</td>\n",
       "      <td>positive</td>\n",
       "      <td>NaN</td>\n",
       "      <td>NaN</td>\n",
       "      <td>NaN</td>\n",
       "    </tr>\n",
       "    <tr>\n",
       "      <th>1</th>\n",
       "      <td>\"1801372\"</td>\n",
       "      <td>I Saw a Friend</td>\n",
       "      <td>Books</td>\n",
       "      <td>1</td>\n",
       "      <td>0</td>\n",
       "      <td>0</td>\n",
       "      <td>Y</td>\n",
       "      <td>2015-08-31</td>\n",
       "      <td>positive</td>\n",
       "      <td>NaN</td>\n",
       "      <td>NaN</td>\n",
       "      <td>NaN</td>\n",
       "    </tr>\n",
       "    <tr>\n",
       "      <th>2</th>\n",
       "      <td>\"5782091\"</td>\n",
       "      <td>Black Lagoon, Vol. 6</td>\n",
       "      <td>Books</td>\n",
       "      <td>1</td>\n",
       "      <td>0</td>\n",
       "      <td>0</td>\n",
       "      <td>Y</td>\n",
       "      <td>2015-08-31</td>\n",
       "      <td>positive</td>\n",
       "      <td>NaN</td>\n",
       "      <td>NaN</td>\n",
       "      <td>NaN</td>\n",
       "    </tr>\n",
       "    <tr>\n",
       "      <th>3</th>\n",
       "      <td>\"32715830\"</td>\n",
       "      <td>If I Stay</td>\n",
       "      <td>Books</td>\n",
       "      <td>1</td>\n",
       "      <td>0</td>\n",
       "      <td>0</td>\n",
       "      <td>N</td>\n",
       "      <td>2015-08-31</td>\n",
       "      <td>positive</td>\n",
       "      <td>NaN</td>\n",
       "      <td>NaN</td>\n",
       "      <td>NaN</td>\n",
       "    </tr>\n",
       "    <tr>\n",
       "      <th>4</th>\n",
       "      <td>\"14005703\"</td>\n",
       "      <td>Stars 'N Strips Forever</td>\n",
       "      <td>Books</td>\n",
       "      <td>1</td>\n",
       "      <td>2</td>\n",
       "      <td>2</td>\n",
       "      <td>Y</td>\n",
       "      <td>2015-08-31</td>\n",
       "      <td>positive</td>\n",
       "      <td>NaN</td>\n",
       "      <td>NaN</td>\n",
       "      <td>NaN</td>\n",
       "    </tr>\n",
       "    <tr>\n",
       "      <th>...</th>\n",
       "      <td>...</td>\n",
       "      <td>...</td>\n",
       "      <td>...</td>\n",
       "      <td>...</td>\n",
       "      <td>...</td>\n",
       "      <td>...</td>\n",
       "      <td>...</td>\n",
       "      <td>...</td>\n",
       "      <td>...</td>\n",
       "      <td>...</td>\n",
       "      <td>...</td>\n",
       "      <td>...</td>\n",
       "    </tr>\n",
       "    <tr>\n",
       "      <th>395</th>\n",
       "      <td>\"15059347\"</td>\n",
       "      <td>Cavalier Jewelers 8MM Cobalt Chrome Ring Weddi...</td>\n",
       "      <td>Jewelry</td>\n",
       "      <td>1</td>\n",
       "      <td>2</td>\n",
       "      <td>2</td>\n",
       "      <td>Y</td>\n",
       "      <td>2015-08-31</td>\n",
       "      <td>NaN</td>\n",
       "      <td>NaN</td>\n",
       "      <td>NaN</td>\n",
       "      <td>positive</td>\n",
       "    </tr>\n",
       "    <tr>\n",
       "      <th>396</th>\n",
       "      <td>\"14522766\"</td>\n",
       "      <td>YAZILIND Valentine Day Gift Cute y Lying Cat E...</td>\n",
       "      <td>Jewelry</td>\n",
       "      <td>1</td>\n",
       "      <td>0</td>\n",
       "      <td>0</td>\n",
       "      <td>Y</td>\n",
       "      <td>2015-08-31</td>\n",
       "      <td>NaN</td>\n",
       "      <td>NaN</td>\n",
       "      <td>NaN</td>\n",
       "      <td>positive</td>\n",
       "    </tr>\n",
       "    <tr>\n",
       "      <th>397</th>\n",
       "      <td>\"6010567\"</td>\n",
       "      <td>Sterling Silver Plain 3 mm Classic Domed Weddi...</td>\n",
       "      <td>Jewelry</td>\n",
       "      <td>1</td>\n",
       "      <td>0</td>\n",
       "      <td>0</td>\n",
       "      <td>Y</td>\n",
       "      <td>2015-08-31</td>\n",
       "      <td>NaN</td>\n",
       "      <td>NaN</td>\n",
       "      <td>NaN</td>\n",
       "      <td>positive</td>\n",
       "    </tr>\n",
       "    <tr>\n",
       "      <th>398</th>\n",
       "      <td>\"16847128\"</td>\n",
       "      <td>Skyvan One Piece Bride Ankle Bracelet Crochet ...</td>\n",
       "      <td>Jewelry</td>\n",
       "      <td>0</td>\n",
       "      <td>0</td>\n",
       "      <td>0</td>\n",
       "      <td>Y</td>\n",
       "      <td>2015-08-31</td>\n",
       "      <td>NaN</td>\n",
       "      <td>NaN</td>\n",
       "      <td>NaN</td>\n",
       "      <td>negaitve</td>\n",
       "    </tr>\n",
       "    <tr>\n",
       "      <th>399</th>\n",
       "      <td>\"38430946\"</td>\n",
       "      <td>Goldtone with Fashionable Woman Adjustable 17 ...</td>\n",
       "      <td>Jewelry</td>\n",
       "      <td>1</td>\n",
       "      <td>0</td>\n",
       "      <td>0</td>\n",
       "      <td>Y</td>\n",
       "      <td>2015-08-31</td>\n",
       "      <td>NaN</td>\n",
       "      <td>NaN</td>\n",
       "      <td>NaN</td>\n",
       "      <td>positive</td>\n",
       "    </tr>\n",
       "  </tbody>\n",
       "</table>\n",
       "<p>400 rows × 12 columns</p>\n",
       "</div>"
      ],
      "text/plain": [
       "    customer_id                                      product_title  \\\n",
       "0    \"25933450\"       There Was an Old Lady Who Swallowed a Shell!   \n",
       "1     \"1801372\"                                     I Saw a Friend   \n",
       "2     \"5782091\"                               Black Lagoon, Vol. 6   \n",
       "3    \"32715830\"                                          If I Stay   \n",
       "4    \"14005703\"                            Stars 'N Strips Forever   \n",
       "..          ...                                                ...   \n",
       "395  \"15059347\"  Cavalier Jewelers 8MM Cobalt Chrome Ring Weddi...   \n",
       "396  \"14522766\"  YAZILIND Valentine Day Gift Cute y Lying Cat E...   \n",
       "397   \"6010567\"  Sterling Silver Plain 3 mm Classic Domed Weddi...   \n",
       "398  \"16847128\"  Skyvan One Piece Bride Ankle Bracelet Crochet ...   \n",
       "399  \"38430946\"  Goldtone with Fashionable Woman Adjustable 17 ...   \n",
       "\n",
       "    product_category  star_rating  helpful_votes  total_votes  \\\n",
       "0              Books            1              0            0   \n",
       "1              Books            1              0            0   \n",
       "2              Books            1              0            0   \n",
       "3              Books            1              0            0   \n",
       "4              Books            1              2            2   \n",
       "..               ...          ...            ...          ...   \n",
       "395          Jewelry            1              2            2   \n",
       "396          Jewelry            1              0            0   \n",
       "397          Jewelry            1              0            0   \n",
       "398          Jewelry            0              0            0   \n",
       "399          Jewelry            1              0            0   \n",
       "\n",
       "    verified_purchase review_date Sentiment_books Sentiment_ebook  \\\n",
       "0                   Y  2015-08-31        positive             NaN   \n",
       "1                   Y  2015-08-31        positive             NaN   \n",
       "2                   Y  2015-08-31        positive             NaN   \n",
       "3                   N  2015-08-31        positive             NaN   \n",
       "4                   Y  2015-08-31        positive             NaN   \n",
       "..                ...         ...             ...             ...   \n",
       "395                 Y  2015-08-31             NaN             NaN   \n",
       "396                 Y  2015-08-31             NaN             NaN   \n",
       "397                 Y  2015-08-31             NaN             NaN   \n",
       "398                 Y  2015-08-31             NaN             NaN   \n",
       "399                 Y  2015-08-31             NaN             NaN   \n",
       "\n",
       "    Sentiment_grcry Sentiment_jwlry  \n",
       "0               NaN             NaN  \n",
       "1               NaN             NaN  \n",
       "2               NaN             NaN  \n",
       "3               NaN             NaN  \n",
       "4               NaN             NaN  \n",
       "..              ...             ...  \n",
       "395             NaN        positive  \n",
       "396             NaN        positive  \n",
       "397             NaN        positive  \n",
       "398             NaN        negaitve  \n",
       "399             NaN        positive  \n",
       "\n",
       "[400 rows x 12 columns]"
      ]
     },
     "execution_count": 94,
     "metadata": {},
     "output_type": "execute_result"
    }
   ],
   "source": [
    "d_master"
   ]
  },
  {
   "cell_type": "markdown",
   "id": "6e3564c1",
   "metadata": {
    "papermill": {
     "duration": 0.058521,
     "end_time": "2022-11-03T21:06:55.570870",
     "exception": false,
     "start_time": "2022-11-03T21:06:55.512349",
     "status": "completed"
    },
    "tags": []
   },
   "source": [
    "# PC Dataset"
   ]
  },
  {
   "cell_type": "code",
   "execution_count": 95,
   "id": "15cac04d",
   "metadata": {
    "papermill": {
     "duration": 0.085676,
     "end_time": "2022-11-03T21:06:55.714162",
     "exception": false,
     "start_time": "2022-11-03T21:06:55.628486",
     "status": "completed"
    },
    "tags": []
   },
   "outputs": [
    {
     "data": {
      "text/html": [
       "<div>\n",
       "<style scoped>\n",
       "    .dataframe tbody tr th:only-of-type {\n",
       "        vertical-align: middle;\n",
       "    }\n",
       "\n",
       "    .dataframe tbody tr th {\n",
       "        vertical-align: top;\n",
       "    }\n",
       "\n",
       "    .dataframe thead th {\n",
       "        text-align: right;\n",
       "    }\n",
       "</style>\n",
       "<table border=\"1\" class=\"dataframe\">\n",
       "  <thead>\n",
       "    <tr style=\"text-align: right;\">\n",
       "      <th></th>\n",
       "      <th>Unnamed: 0</th>\n",
       "      <th>market_place</th>\n",
       "      <th>customer_id</th>\n",
       "      <th>review_id</th>\n",
       "      <th>product_id</th>\n",
       "      <th>product_parent</th>\n",
       "      <th>product_title</th>\n",
       "      <th>product_category</th>\n",
       "      <th>star_rating</th>\n",
       "      <th>helpful_votes</th>\n",
       "      <th>total_votes</th>\n",
       "      <th>vine</th>\n",
       "      <th>verified_purchase</th>\n",
       "      <th>review_headline</th>\n",
       "      <th>review_body</th>\n",
       "      <th>review_date</th>\n",
       "      <th>Sentiment_pc</th>\n",
       "    </tr>\n",
       "  </thead>\n",
       "  <tbody>\n",
       "    <tr>\n",
       "      <th>0</th>\n",
       "      <td>0</td>\n",
       "      <td>\"US\"</td>\n",
       "      <td>\"22873041\"</td>\n",
       "      <td>\"R3ARRMDEGED8RD\"</td>\n",
       "      <td>\"B00KJWQIIC\"</td>\n",
       "      <td>\"335625766\"</td>\n",
       "      <td>\"Plemo 14-Inch Laptop Sleeve Case Waterproof F...</td>\n",
       "      <td>\"PC\"</td>\n",
       "      <td>1</td>\n",
       "      <td>0</td>\n",
       "      <td>0</td>\n",
       "      <td>0 \\t(N)</td>\n",
       "      <td>1 \\t(Y)</td>\n",
       "      <td>\"Pleasantly surprised\"</td>\n",
       "      <td>\"I was very surprised at the high quality of t...</td>\n",
       "      <td>2015-08-31</td>\n",
       "      <td>positive</td>\n",
       "    </tr>\n",
       "    <tr>\n",
       "      <th>1</th>\n",
       "      <td>1</td>\n",
       "      <td>\"US\"</td>\n",
       "      <td>\"30088427\"</td>\n",
       "      <td>\"RQ28TSA020Y6J\"</td>\n",
       "      <td>\"B013ALA9LA\"</td>\n",
       "      <td>\"671157305\"</td>\n",
       "      <td>\"TP-Link OnHub AC1900 Wireless Wi-Fi Router\"</td>\n",
       "      <td>\"PC\"</td>\n",
       "      <td>1</td>\n",
       "      <td>24</td>\n",
       "      <td>31</td>\n",
       "      <td>0 \\t(N)</td>\n",
       "      <td>0 \\t(N)</td>\n",
       "      <td>\"OnHub is a pretty no nonsense type router tha...</td>\n",
       "      <td>\"I am a Google employee and had to chance to u...</td>\n",
       "      <td>2015-08-31</td>\n",
       "      <td>positive</td>\n",
       "    </tr>\n",
       "    <tr>\n",
       "      <th>2</th>\n",
       "      <td>2</td>\n",
       "      <td>\"US\"</td>\n",
       "      <td>\"20329786\"</td>\n",
       "      <td>\"RUXJRZCT6953M\"</td>\n",
       "      <td>\"B00PML2GQ8\"</td>\n",
       "      <td>\"982036237\"</td>\n",
       "      <td>\"AmazonBasics USB 3.0 A Male to A Male Cable -...</td>\n",
       "      <td>\"PC\"</td>\n",
       "      <td>0</td>\n",
       "      <td>2</td>\n",
       "      <td>2</td>\n",
       "      <td>0 \\t(N)</td>\n",
       "      <td>0 \\t(N)</td>\n",
       "      <td>\"None of them worked. No functionality at all.\"</td>\n",
       "      <td>\"Bought cables in 3ft, 6ft and 9ft. NONE of th...</td>\n",
       "      <td>2015-08-31</td>\n",
       "      <td>negaitve</td>\n",
       "    </tr>\n",
       "    <tr>\n",
       "      <th>3</th>\n",
       "      <td>3</td>\n",
       "      <td>\"US\"</td>\n",
       "      <td>\"14215710\"</td>\n",
       "      <td>\"R7EO0UO6BPB71\"</td>\n",
       "      <td>\"B001NS0OZ4\"</td>\n",
       "      <td>\"576587596\"</td>\n",
       "      <td>\"Transcend P8 15-in-1 USB 2.0 Flash Memory Car...</td>\n",
       "      <td>\"PC\"</td>\n",
       "      <td>0</td>\n",
       "      <td>0</td>\n",
       "      <td>0</td>\n",
       "      <td>0 \\t(N)</td>\n",
       "      <td>1 \\t(Y)</td>\n",
       "      <td>\"just keep searching.\"</td>\n",
       "      <td>\"nope, cheap and slow\"</td>\n",
       "      <td>2015-08-31</td>\n",
       "      <td>negaitve</td>\n",
       "    </tr>\n",
       "    <tr>\n",
       "      <th>4</th>\n",
       "      <td>4</td>\n",
       "      <td>\"US\"</td>\n",
       "      <td>\"38264512\"</td>\n",
       "      <td>\"R39NJY2YJ1JFSV\"</td>\n",
       "      <td>\"B00AQMTND2\"</td>\n",
       "      <td>\"964759214\"</td>\n",
       "      <td>\"Aleratec SATA Data Cable 2.0 20in Serial ATA ...</td>\n",
       "      <td>\"PC\"</td>\n",
       "      <td>1</td>\n",
       "      <td>0</td>\n",
       "      <td>0</td>\n",
       "      <td>0 \\t(N)</td>\n",
       "      <td>1 \\t(Y)</td>\n",
       "      <td>\"Five Stars\"</td>\n",
       "      <td>\"Excellent! Great value and does the job.\"</td>\n",
       "      <td>2015-08-31</td>\n",
       "      <td>positive</td>\n",
       "    </tr>\n",
       "  </tbody>\n",
       "</table>\n",
       "</div>"
      ],
      "text/plain": [
       "   Unnamed: 0 market_place customer_id         review_id    product_id  \\\n",
       "0           0         \"US\"  \"22873041\"  \"R3ARRMDEGED8RD\"  \"B00KJWQIIC\"   \n",
       "1           1         \"US\"  \"30088427\"   \"RQ28TSA020Y6J\"  \"B013ALA9LA\"   \n",
       "2           2         \"US\"  \"20329786\"   \"RUXJRZCT6953M\"  \"B00PML2GQ8\"   \n",
       "3           3         \"US\"  \"14215710\"   \"R7EO0UO6BPB71\"  \"B001NS0OZ4\"   \n",
       "4           4         \"US\"  \"38264512\"  \"R39NJY2YJ1JFSV\"  \"B00AQMTND2\"   \n",
       "\n",
       "  product_parent                                      product_title  \\\n",
       "0    \"335625766\"  \"Plemo 14-Inch Laptop Sleeve Case Waterproof F...   \n",
       "1    \"671157305\"       \"TP-Link OnHub AC1900 Wireless Wi-Fi Router\"   \n",
       "2    \"982036237\"  \"AmazonBasics USB 3.0 A Male to A Male Cable -...   \n",
       "3    \"576587596\"  \"Transcend P8 15-in-1 USB 2.0 Flash Memory Car...   \n",
       "4    \"964759214\"  \"Aleratec SATA Data Cable 2.0 20in Serial ATA ...   \n",
       "\n",
       "  product_category  star_rating  helpful_votes  total_votes     vine  \\\n",
       "0             \"PC\"            1              0            0  0 \\t(N)   \n",
       "1             \"PC\"            1             24           31  0 \\t(N)   \n",
       "2             \"PC\"            0              2            2  0 \\t(N)   \n",
       "3             \"PC\"            0              0            0  0 \\t(N)   \n",
       "4             \"PC\"            1              0            0  0 \\t(N)   \n",
       "\n",
       "  verified_purchase                                    review_headline  \\\n",
       "0           1 \\t(Y)                             \"Pleasantly surprised\"   \n",
       "1           0 \\t(N)  \"OnHub is a pretty no nonsense type router tha...   \n",
       "2           0 \\t(N)    \"None of them worked. No functionality at all.\"   \n",
       "3           1 \\t(Y)                             \"just keep searching.\"   \n",
       "4           1 \\t(Y)                                       \"Five Stars\"   \n",
       "\n",
       "                                         review_body review_date Sentiment_pc  \n",
       "0  \"I was very surprised at the high quality of t...  2015-08-31     positive  \n",
       "1  \"I am a Google employee and had to chance to u...  2015-08-31     positive  \n",
       "2  \"Bought cables in 3ft, 6ft and 9ft. NONE of th...  2015-08-31     negaitve  \n",
       "3                             \"nope, cheap and slow\"  2015-08-31     negaitve  \n",
       "4         \"Excellent! Great value and does the job.\"  2015-08-31     positive  "
      ]
     },
     "execution_count": 95,
     "metadata": {},
     "output_type": "execute_result"
    }
   ],
   "source": [
    "d_pc.head()"
   ]
  },
  {
   "cell_type": "code",
   "execution_count": 96,
   "id": "8c1479dd",
   "metadata": {
    "papermill": {
     "duration": 0.079457,
     "end_time": "2022-11-03T21:06:55.849373",
     "exception": false,
     "start_time": "2022-11-03T21:06:55.769916",
     "status": "completed"
    },
    "tags": []
   },
   "outputs": [],
   "source": [
    "d_pc.drop(columns=['Unnamed: 0','market_place','review_id','product_id','product_parent','vine','review_headline','review_body'],inplace=True)\n",
    "d_pc['verified_purchase']=d_pc['verified_purchase'].apply(handle_verified_purchase)\n",
    "d_pc['product_category']=d_pc['product_category'].apply(handle_quotation_marks)\n",
    "d_pc['product_title']=d_pc['product_title'].apply(handle_quotation_marks)\n",
    "d_pc['review_date']=d_pc['review_date'].apply(handle_date)"
   ]
  },
  {
   "cell_type": "code",
   "execution_count": 97,
   "id": "8f26983e",
   "metadata": {
    "papermill": {
     "duration": 0.07837,
     "end_time": "2022-11-03T21:06:55.984826",
     "exception": false,
     "start_time": "2022-11-03T21:06:55.906456",
     "status": "completed"
    },
    "tags": []
   },
   "outputs": [
    {
     "data": {
      "text/html": [
       "<div>\n",
       "<style scoped>\n",
       "    .dataframe tbody tr th:only-of-type {\n",
       "        vertical-align: middle;\n",
       "    }\n",
       "\n",
       "    .dataframe tbody tr th {\n",
       "        vertical-align: top;\n",
       "    }\n",
       "\n",
       "    .dataframe thead th {\n",
       "        text-align: right;\n",
       "    }\n",
       "</style>\n",
       "<table border=\"1\" class=\"dataframe\">\n",
       "  <thead>\n",
       "    <tr style=\"text-align: right;\">\n",
       "      <th></th>\n",
       "      <th>customer_id</th>\n",
       "      <th>product_title</th>\n",
       "      <th>product_category</th>\n",
       "      <th>star_rating</th>\n",
       "      <th>helpful_votes</th>\n",
       "      <th>total_votes</th>\n",
       "      <th>verified_purchase</th>\n",
       "      <th>review_date</th>\n",
       "      <th>Sentiment_pc</th>\n",
       "    </tr>\n",
       "  </thead>\n",
       "  <tbody>\n",
       "    <tr>\n",
       "      <th>0</th>\n",
       "      <td>\"22873041\"</td>\n",
       "      <td>Plemo 14-Inch Laptop Sleeve Case Waterproof Fa...</td>\n",
       "      <td>PC</td>\n",
       "      <td>1</td>\n",
       "      <td>0</td>\n",
       "      <td>0</td>\n",
       "      <td>Y</td>\n",
       "      <td>2015-08-31</td>\n",
       "      <td>positive</td>\n",
       "    </tr>\n",
       "    <tr>\n",
       "      <th>1</th>\n",
       "      <td>\"30088427\"</td>\n",
       "      <td>TP-Link OnHub AC1900 Wireless Wi-Fi Router</td>\n",
       "      <td>PC</td>\n",
       "      <td>1</td>\n",
       "      <td>24</td>\n",
       "      <td>31</td>\n",
       "      <td>N</td>\n",
       "      <td>2015-08-31</td>\n",
       "      <td>positive</td>\n",
       "    </tr>\n",
       "    <tr>\n",
       "      <th>2</th>\n",
       "      <td>\"20329786\"</td>\n",
       "      <td>AmazonBasics USB 3.0 A Male to A Male Cable - ...</td>\n",
       "      <td>PC</td>\n",
       "      <td>0</td>\n",
       "      <td>2</td>\n",
       "      <td>2</td>\n",
       "      <td>N</td>\n",
       "      <td>2015-08-31</td>\n",
       "      <td>negaitve</td>\n",
       "    </tr>\n",
       "    <tr>\n",
       "      <th>3</th>\n",
       "      <td>\"14215710\"</td>\n",
       "      <td>Transcend P8 15-in-1 USB 2.0 Flash Memory Card...</td>\n",
       "      <td>PC</td>\n",
       "      <td>0</td>\n",
       "      <td>0</td>\n",
       "      <td>0</td>\n",
       "      <td>Y</td>\n",
       "      <td>2015-08-31</td>\n",
       "      <td>negaitve</td>\n",
       "    </tr>\n",
       "    <tr>\n",
       "      <th>4</th>\n",
       "      <td>\"38264512\"</td>\n",
       "      <td>Aleratec SATA Data Cable 2.0 20in Serial ATA S...</td>\n",
       "      <td>PC</td>\n",
       "      <td>1</td>\n",
       "      <td>0</td>\n",
       "      <td>0</td>\n",
       "      <td>Y</td>\n",
       "      <td>2015-08-31</td>\n",
       "      <td>positive</td>\n",
       "    </tr>\n",
       "  </tbody>\n",
       "</table>\n",
       "</div>"
      ],
      "text/plain": [
       "  customer_id                                      product_title  \\\n",
       "0  \"22873041\"  Plemo 14-Inch Laptop Sleeve Case Waterproof Fa...   \n",
       "1  \"30088427\"         TP-Link OnHub AC1900 Wireless Wi-Fi Router   \n",
       "2  \"20329786\"  AmazonBasics USB 3.0 A Male to A Male Cable - ...   \n",
       "3  \"14215710\"  Transcend P8 15-in-1 USB 2.0 Flash Memory Card...   \n",
       "4  \"38264512\"  Aleratec SATA Data Cable 2.0 20in Serial ATA S...   \n",
       "\n",
       "  product_category  star_rating  helpful_votes  total_votes verified_purchase  \\\n",
       "0               PC            1              0            0                 Y   \n",
       "1               PC            1             24           31                 N   \n",
       "2               PC            0              2            2                 N   \n",
       "3               PC            0              0            0                 Y   \n",
       "4               PC            1              0            0                 Y   \n",
       "\n",
       "  review_date Sentiment_pc  \n",
       "0  2015-08-31     positive  \n",
       "1  2015-08-31     positive  \n",
       "2  2015-08-31     negaitve  \n",
       "3  2015-08-31     negaitve  \n",
       "4  2015-08-31     positive  "
      ]
     },
     "execution_count": 97,
     "metadata": {},
     "output_type": "execute_result"
    }
   ],
   "source": [
    "d_pc.head()"
   ]
  },
  {
   "cell_type": "code",
   "execution_count": 98,
   "id": "acf1420a",
   "metadata": {
    "papermill": {
     "duration": 0.079072,
     "end_time": "2022-11-03T21:06:56.121143",
     "exception": false,
     "start_time": "2022-11-03T21:06:56.042071",
     "status": "completed"
    },
    "tags": []
   },
   "outputs": [
    {
     "name": "stdout",
     "output_type": "stream",
     "text": [
      "<class 'pandas.core.frame.DataFrame'>\n",
      "RangeIndex: 100 entries, 0 to 99\n",
      "Data columns (total 9 columns):\n",
      " #   Column             Non-Null Count  Dtype         \n",
      "---  ------             --------------  -----         \n",
      " 0   customer_id        100 non-null    object        \n",
      " 1   product_title      100 non-null    object        \n",
      " 2   product_category   100 non-null    object        \n",
      " 3   star_rating        100 non-null    int64         \n",
      " 4   helpful_votes      100 non-null    int64         \n",
      " 5   total_votes        100 non-null    int64         \n",
      " 6   verified_purchase  100 non-null    object        \n",
      " 7   review_date        100 non-null    datetime64[ns]\n",
      " 8   Sentiment_pc       100 non-null    object        \n",
      "dtypes: datetime64[ns](1), int64(3), object(5)\n",
      "memory usage: 7.2+ KB\n"
     ]
    }
   ],
   "source": [
    "d_pc.info()"
   ]
  },
  {
   "cell_type": "code",
   "execution_count": 99,
   "id": "0e026cec",
   "metadata": {
    "papermill": {
     "duration": 0.069438,
     "end_time": "2022-11-03T21:06:56.249861",
     "exception": false,
     "start_time": "2022-11-03T21:06:56.180423",
     "status": "completed"
    },
    "tags": []
   },
   "outputs": [],
   "source": [
    "d_master=pd.concat([d_master,d_pc],ignore_index=True)"
   ]
  },
  {
   "cell_type": "markdown",
   "id": "a70c1906",
   "metadata": {
    "papermill": {
     "duration": 0.05678,
     "end_time": "2022-11-03T21:06:56.364702",
     "exception": false,
     "start_time": "2022-11-03T21:06:56.307922",
     "status": "completed"
    },
    "tags": []
   },
   "source": [
    "# The final master dataset, having all the required columns for analysis."
   ]
  },
  {
   "cell_type": "code",
   "execution_count": 100,
   "id": "4dc01295",
   "metadata": {
    "papermill": {
     "duration": 0.085503,
     "end_time": "2022-11-03T21:06:56.508307",
     "exception": false,
     "start_time": "2022-11-03T21:06:56.422804",
     "status": "completed"
    },
    "tags": []
   },
   "outputs": [
    {
     "data": {
      "text/html": [
       "<div>\n",
       "<style scoped>\n",
       "    .dataframe tbody tr th:only-of-type {\n",
       "        vertical-align: middle;\n",
       "    }\n",
       "\n",
       "    .dataframe tbody tr th {\n",
       "        vertical-align: top;\n",
       "    }\n",
       "\n",
       "    .dataframe thead th {\n",
       "        text-align: right;\n",
       "    }\n",
       "</style>\n",
       "<table border=\"1\" class=\"dataframe\">\n",
       "  <thead>\n",
       "    <tr style=\"text-align: right;\">\n",
       "      <th></th>\n",
       "      <th>customer_id</th>\n",
       "      <th>product_title</th>\n",
       "      <th>product_category</th>\n",
       "      <th>star_rating</th>\n",
       "      <th>helpful_votes</th>\n",
       "      <th>total_votes</th>\n",
       "      <th>verified_purchase</th>\n",
       "      <th>review_date</th>\n",
       "      <th>Sentiment_books</th>\n",
       "      <th>Sentiment_ebook</th>\n",
       "      <th>Sentiment_grcry</th>\n",
       "      <th>Sentiment_jwlry</th>\n",
       "      <th>Sentiment_pc</th>\n",
       "    </tr>\n",
       "  </thead>\n",
       "  <tbody>\n",
       "    <tr>\n",
       "      <th>0</th>\n",
       "      <td>\"25933450\"</td>\n",
       "      <td>There Was an Old Lady Who Swallowed a Shell!</td>\n",
       "      <td>Books</td>\n",
       "      <td>1</td>\n",
       "      <td>0</td>\n",
       "      <td>0</td>\n",
       "      <td>Y</td>\n",
       "      <td>2015-08-31</td>\n",
       "      <td>positive</td>\n",
       "      <td>NaN</td>\n",
       "      <td>NaN</td>\n",
       "      <td>NaN</td>\n",
       "      <td>NaN</td>\n",
       "    </tr>\n",
       "    <tr>\n",
       "      <th>1</th>\n",
       "      <td>\"1801372\"</td>\n",
       "      <td>I Saw a Friend</td>\n",
       "      <td>Books</td>\n",
       "      <td>1</td>\n",
       "      <td>0</td>\n",
       "      <td>0</td>\n",
       "      <td>Y</td>\n",
       "      <td>2015-08-31</td>\n",
       "      <td>positive</td>\n",
       "      <td>NaN</td>\n",
       "      <td>NaN</td>\n",
       "      <td>NaN</td>\n",
       "      <td>NaN</td>\n",
       "    </tr>\n",
       "    <tr>\n",
       "      <th>2</th>\n",
       "      <td>\"5782091\"</td>\n",
       "      <td>Black Lagoon, Vol. 6</td>\n",
       "      <td>Books</td>\n",
       "      <td>1</td>\n",
       "      <td>0</td>\n",
       "      <td>0</td>\n",
       "      <td>Y</td>\n",
       "      <td>2015-08-31</td>\n",
       "      <td>positive</td>\n",
       "      <td>NaN</td>\n",
       "      <td>NaN</td>\n",
       "      <td>NaN</td>\n",
       "      <td>NaN</td>\n",
       "    </tr>\n",
       "    <tr>\n",
       "      <th>3</th>\n",
       "      <td>\"32715830\"</td>\n",
       "      <td>If I Stay</td>\n",
       "      <td>Books</td>\n",
       "      <td>1</td>\n",
       "      <td>0</td>\n",
       "      <td>0</td>\n",
       "      <td>N</td>\n",
       "      <td>2015-08-31</td>\n",
       "      <td>positive</td>\n",
       "      <td>NaN</td>\n",
       "      <td>NaN</td>\n",
       "      <td>NaN</td>\n",
       "      <td>NaN</td>\n",
       "    </tr>\n",
       "    <tr>\n",
       "      <th>4</th>\n",
       "      <td>\"14005703\"</td>\n",
       "      <td>Stars 'N Strips Forever</td>\n",
       "      <td>Books</td>\n",
       "      <td>1</td>\n",
       "      <td>2</td>\n",
       "      <td>2</td>\n",
       "      <td>Y</td>\n",
       "      <td>2015-08-31</td>\n",
       "      <td>positive</td>\n",
       "      <td>NaN</td>\n",
       "      <td>NaN</td>\n",
       "      <td>NaN</td>\n",
       "      <td>NaN</td>\n",
       "    </tr>\n",
       "    <tr>\n",
       "      <th>...</th>\n",
       "      <td>...</td>\n",
       "      <td>...</td>\n",
       "      <td>...</td>\n",
       "      <td>...</td>\n",
       "      <td>...</td>\n",
       "      <td>...</td>\n",
       "      <td>...</td>\n",
       "      <td>...</td>\n",
       "      <td>...</td>\n",
       "      <td>...</td>\n",
       "      <td>...</td>\n",
       "      <td>...</td>\n",
       "      <td>...</td>\n",
       "    </tr>\n",
       "    <tr>\n",
       "      <th>495</th>\n",
       "      <td>\"15553382\"</td>\n",
       "      <td>StarTech 1ft Micro USB Cable</td>\n",
       "      <td>PC</td>\n",
       "      <td>0</td>\n",
       "      <td>3</td>\n",
       "      <td>4</td>\n",
       "      <td>Y</td>\n",
       "      <td>2015-08-31</td>\n",
       "      <td>NaN</td>\n",
       "      <td>NaN</td>\n",
       "      <td>NaN</td>\n",
       "      <td>NaN</td>\n",
       "      <td>negaitve</td>\n",
       "    </tr>\n",
       "    <tr>\n",
       "      <th>496</th>\n",
       "      <td>\"466731\"</td>\n",
       "      <td>Thrustmaster Ferrari 458 Italia Gaming Steerin...</td>\n",
       "      <td>PC</td>\n",
       "      <td>1</td>\n",
       "      <td>0</td>\n",
       "      <td>0</td>\n",
       "      <td>Y</td>\n",
       "      <td>2015-08-31</td>\n",
       "      <td>NaN</td>\n",
       "      <td>NaN</td>\n",
       "      <td>NaN</td>\n",
       "      <td>NaN</td>\n",
       "      <td>positive</td>\n",
       "    </tr>\n",
       "    <tr>\n",
       "      <th>497</th>\n",
       "      <td>\"24439106\"</td>\n",
       "      <td>Genius Professional Colorful LED Backlit USB W...</td>\n",
       "      <td>PC</td>\n",
       "      <td>1</td>\n",
       "      <td>0</td>\n",
       "      <td>0</td>\n",
       "      <td>Y</td>\n",
       "      <td>2015-08-31</td>\n",
       "      <td>NaN</td>\n",
       "      <td>NaN</td>\n",
       "      <td>NaN</td>\n",
       "      <td>NaN</td>\n",
       "      <td>positive</td>\n",
       "    </tr>\n",
       "    <tr>\n",
       "      <th>498</th>\n",
       "      <td>\"11490310\"</td>\n",
       "      <td>Demupai 5.9 Feet MHL Micro USB to HDMI 1080P H...</td>\n",
       "      <td>PC</td>\n",
       "      <td>1</td>\n",
       "      <td>2</td>\n",
       "      <td>2</td>\n",
       "      <td>Y</td>\n",
       "      <td>2015-08-31</td>\n",
       "      <td>NaN</td>\n",
       "      <td>NaN</td>\n",
       "      <td>NaN</td>\n",
       "      <td>NaN</td>\n",
       "      <td>positive</td>\n",
       "    </tr>\n",
       "    <tr>\n",
       "      <th>499</th>\n",
       "      <td>\"29690412\"</td>\n",
       "      <td>Caffeine Molecule Molecular Model - 5</td>\n",
       "      <td>PC</td>\n",
       "      <td>1</td>\n",
       "      <td>0</td>\n",
       "      <td>0</td>\n",
       "      <td>Y</td>\n",
       "      <td>2015-08-31</td>\n",
       "      <td>NaN</td>\n",
       "      <td>NaN</td>\n",
       "      <td>NaN</td>\n",
       "      <td>NaN</td>\n",
       "      <td>positive</td>\n",
       "    </tr>\n",
       "  </tbody>\n",
       "</table>\n",
       "<p>500 rows × 13 columns</p>\n",
       "</div>"
      ],
      "text/plain": [
       "    customer_id                                      product_title  \\\n",
       "0    \"25933450\"       There Was an Old Lady Who Swallowed a Shell!   \n",
       "1     \"1801372\"                                     I Saw a Friend   \n",
       "2     \"5782091\"                               Black Lagoon, Vol. 6   \n",
       "3    \"32715830\"                                          If I Stay   \n",
       "4    \"14005703\"                            Stars 'N Strips Forever   \n",
       "..          ...                                                ...   \n",
       "495  \"15553382\"                       StarTech 1ft Micro USB Cable   \n",
       "496    \"466731\"  Thrustmaster Ferrari 458 Italia Gaming Steerin...   \n",
       "497  \"24439106\"  Genius Professional Colorful LED Backlit USB W...   \n",
       "498  \"11490310\"  Demupai 5.9 Feet MHL Micro USB to HDMI 1080P H...   \n",
       "499  \"29690412\"              Caffeine Molecule Molecular Model - 5   \n",
       "\n",
       "    product_category  star_rating  helpful_votes  total_votes  \\\n",
       "0              Books            1              0            0   \n",
       "1              Books            1              0            0   \n",
       "2              Books            1              0            0   \n",
       "3              Books            1              0            0   \n",
       "4              Books            1              2            2   \n",
       "..               ...          ...            ...          ...   \n",
       "495               PC            0              3            4   \n",
       "496               PC            1              0            0   \n",
       "497               PC            1              0            0   \n",
       "498               PC            1              2            2   \n",
       "499               PC            1              0            0   \n",
       "\n",
       "    verified_purchase review_date Sentiment_books Sentiment_ebook  \\\n",
       "0                   Y  2015-08-31        positive             NaN   \n",
       "1                   Y  2015-08-31        positive             NaN   \n",
       "2                   Y  2015-08-31        positive             NaN   \n",
       "3                   N  2015-08-31        positive             NaN   \n",
       "4                   Y  2015-08-31        positive             NaN   \n",
       "..                ...         ...             ...             ...   \n",
       "495                 Y  2015-08-31             NaN             NaN   \n",
       "496                 Y  2015-08-31             NaN             NaN   \n",
       "497                 Y  2015-08-31             NaN             NaN   \n",
       "498                 Y  2015-08-31             NaN             NaN   \n",
       "499                 Y  2015-08-31             NaN             NaN   \n",
       "\n",
       "    Sentiment_grcry Sentiment_jwlry Sentiment_pc  \n",
       "0               NaN             NaN          NaN  \n",
       "1               NaN             NaN          NaN  \n",
       "2               NaN             NaN          NaN  \n",
       "3               NaN             NaN          NaN  \n",
       "4               NaN             NaN          NaN  \n",
       "..              ...             ...          ...  \n",
       "495             NaN             NaN     negaitve  \n",
       "496             NaN             NaN     positive  \n",
       "497             NaN             NaN     positive  \n",
       "498             NaN             NaN     positive  \n",
       "499             NaN             NaN     positive  \n",
       "\n",
       "[500 rows x 13 columns]"
      ]
     },
     "execution_count": 100,
     "metadata": {},
     "output_type": "execute_result"
    }
   ],
   "source": [
    "d_master"
   ]
  },
  {
   "cell_type": "markdown",
   "id": "8604a443",
   "metadata": {
    "papermill": {
     "duration": 0.058488,
     "end_time": "2022-11-03T21:06:56.622085",
     "exception": false,
     "start_time": "2022-11-03T21:06:56.563597",
     "status": "completed"
    },
    "tags": []
   },
   "source": [
    "# Merging sentiments for each category in one column."
   ]
  },
  {
   "cell_type": "code",
   "execution_count": 101,
   "id": "1b103342",
   "metadata": {
    "papermill": {
     "duration": 0.07721,
     "end_time": "2022-11-03T21:06:56.758384",
     "exception": false,
     "start_time": "2022-11-03T21:06:56.681174",
     "status": "completed"
    },
    "tags": []
   },
   "outputs": [],
   "source": [
    "d_master['sentiment']=d_master['Sentiment_books'].fillna(\"\").astype(str)+d_master['Sentiment_ebook'].fillna(\"\").astype(str)+d_master['Sentiment_grcry'].fillna(\"\").astype(str)+d_master['Sentiment_pc'].fillna(\"\").astype(str)+d_master['Sentiment_jwlry'].fillna(\"\").astype(str)"
   ]
  },
  {
   "cell_type": "code",
   "execution_count": 102,
   "id": "b12ffc69",
   "metadata": {
    "papermill": {
     "duration": 0.067509,
     "end_time": "2022-11-03T21:06:56.882201",
     "exception": false,
     "start_time": "2022-11-03T21:06:56.814692",
     "status": "completed"
    },
    "tags": []
   },
   "outputs": [],
   "source": [
    "d_master.drop(columns=['Sentiment_books','Sentiment_ebook','Sentiment_grcry','Sentiment_jwlry','Sentiment_pc'],inplace=True)"
   ]
  },
  {
   "cell_type": "code",
   "execution_count": 103,
   "id": "f1bfe406",
   "metadata": {
    "papermill": {
     "duration": 0.081453,
     "end_time": "2022-11-03T21:06:57.019995",
     "exception": false,
     "start_time": "2022-11-03T21:06:56.938542",
     "status": "completed"
    },
    "tags": []
   },
   "outputs": [
    {
     "data": {
      "text/html": [
       "<div>\n",
       "<style scoped>\n",
       "    .dataframe tbody tr th:only-of-type {\n",
       "        vertical-align: middle;\n",
       "    }\n",
       "\n",
       "    .dataframe tbody tr th {\n",
       "        vertical-align: top;\n",
       "    }\n",
       "\n",
       "    .dataframe thead th {\n",
       "        text-align: right;\n",
       "    }\n",
       "</style>\n",
       "<table border=\"1\" class=\"dataframe\">\n",
       "  <thead>\n",
       "    <tr style=\"text-align: right;\">\n",
       "      <th></th>\n",
       "      <th>customer_id</th>\n",
       "      <th>product_title</th>\n",
       "      <th>product_category</th>\n",
       "      <th>star_rating</th>\n",
       "      <th>helpful_votes</th>\n",
       "      <th>total_votes</th>\n",
       "      <th>verified_purchase</th>\n",
       "      <th>review_date</th>\n",
       "      <th>sentiment</th>\n",
       "    </tr>\n",
       "  </thead>\n",
       "  <tbody>\n",
       "    <tr>\n",
       "      <th>0</th>\n",
       "      <td>\"25933450\"</td>\n",
       "      <td>There Was an Old Lady Who Swallowed a Shell!</td>\n",
       "      <td>Books</td>\n",
       "      <td>1</td>\n",
       "      <td>0</td>\n",
       "      <td>0</td>\n",
       "      <td>Y</td>\n",
       "      <td>2015-08-31</td>\n",
       "      <td>positive</td>\n",
       "    </tr>\n",
       "    <tr>\n",
       "      <th>1</th>\n",
       "      <td>\"1801372\"</td>\n",
       "      <td>I Saw a Friend</td>\n",
       "      <td>Books</td>\n",
       "      <td>1</td>\n",
       "      <td>0</td>\n",
       "      <td>0</td>\n",
       "      <td>Y</td>\n",
       "      <td>2015-08-31</td>\n",
       "      <td>positive</td>\n",
       "    </tr>\n",
       "    <tr>\n",
       "      <th>2</th>\n",
       "      <td>\"5782091\"</td>\n",
       "      <td>Black Lagoon, Vol. 6</td>\n",
       "      <td>Books</td>\n",
       "      <td>1</td>\n",
       "      <td>0</td>\n",
       "      <td>0</td>\n",
       "      <td>Y</td>\n",
       "      <td>2015-08-31</td>\n",
       "      <td>positive</td>\n",
       "    </tr>\n",
       "    <tr>\n",
       "      <th>3</th>\n",
       "      <td>\"32715830\"</td>\n",
       "      <td>If I Stay</td>\n",
       "      <td>Books</td>\n",
       "      <td>1</td>\n",
       "      <td>0</td>\n",
       "      <td>0</td>\n",
       "      <td>N</td>\n",
       "      <td>2015-08-31</td>\n",
       "      <td>positive</td>\n",
       "    </tr>\n",
       "    <tr>\n",
       "      <th>4</th>\n",
       "      <td>\"14005703\"</td>\n",
       "      <td>Stars 'N Strips Forever</td>\n",
       "      <td>Books</td>\n",
       "      <td>1</td>\n",
       "      <td>2</td>\n",
       "      <td>2</td>\n",
       "      <td>Y</td>\n",
       "      <td>2015-08-31</td>\n",
       "      <td>positive</td>\n",
       "    </tr>\n",
       "  </tbody>\n",
       "</table>\n",
       "</div>"
      ],
      "text/plain": [
       "  customer_id                                 product_title product_category  \\\n",
       "0  \"25933450\"  There Was an Old Lady Who Swallowed a Shell!            Books   \n",
       "1   \"1801372\"                                I Saw a Friend            Books   \n",
       "2   \"5782091\"                          Black Lagoon, Vol. 6            Books   \n",
       "3  \"32715830\"                                     If I Stay            Books   \n",
       "4  \"14005703\"                       Stars 'N Strips Forever            Books   \n",
       "\n",
       "   star_rating  helpful_votes  total_votes verified_purchase review_date  \\\n",
       "0            1              0            0                 Y  2015-08-31   \n",
       "1            1              0            0                 Y  2015-08-31   \n",
       "2            1              0            0                 Y  2015-08-31   \n",
       "3            1              0            0                 N  2015-08-31   \n",
       "4            1              2            2                 Y  2015-08-31   \n",
       "\n",
       "  sentiment  \n",
       "0  positive  \n",
       "1  positive  \n",
       "2  positive  \n",
       "3  positive  \n",
       "4  positive  "
      ]
     },
     "execution_count": 103,
     "metadata": {},
     "output_type": "execute_result"
    }
   ],
   "source": [
    "d_master.head()"
   ]
  },
  {
   "cell_type": "code",
   "execution_count": 104,
   "id": "0280e0d7",
   "metadata": {
    "papermill": {
     "duration": 0.078439,
     "end_time": "2022-11-03T21:06:57.157689",
     "exception": false,
     "start_time": "2022-11-03T21:06:57.079250",
     "status": "completed"
    },
    "tags": []
   },
   "outputs": [
    {
     "name": "stdout",
     "output_type": "stream",
     "text": [
      "<class 'pandas.core.frame.DataFrame'>\n",
      "RangeIndex: 500 entries, 0 to 499\n",
      "Data columns (total 9 columns):\n",
      " #   Column             Non-Null Count  Dtype         \n",
      "---  ------             --------------  -----         \n",
      " 0   customer_id        500 non-null    object        \n",
      " 1   product_title      500 non-null    object        \n",
      " 2   product_category   500 non-null    object        \n",
      " 3   star_rating        500 non-null    int64         \n",
      " 4   helpful_votes      500 non-null    int64         \n",
      " 5   total_votes        500 non-null    int64         \n",
      " 6   verified_purchase  500 non-null    object        \n",
      " 7   review_date        500 non-null    datetime64[ns]\n",
      " 8   sentiment          500 non-null    object        \n",
      "dtypes: datetime64[ns](1), int64(3), object(5)\n",
      "memory usage: 35.3+ KB\n"
     ]
    }
   ],
   "source": [
    "d_master.info()"
   ]
  },
  {
   "cell_type": "code",
   "execution_count": null,
   "id": "1a89d742",
   "metadata": {
    "papermill": {
     "duration": 0.057828,
     "end_time": "2022-11-03T21:06:57.270400",
     "exception": false,
     "start_time": "2022-11-03T21:06:57.212572",
     "status": "completed"
    },
    "tags": []
   },
   "outputs": [],
   "source": []
  },
  {
   "cell_type": "code",
   "execution_count": 105,
   "id": "afbf8552",
   "metadata": {
    "papermill": {
     "duration": 0.301959,
     "end_time": "2022-11-03T21:06:57.629515",
     "exception": false,
     "start_time": "2022-11-03T21:06:57.327556",
     "status": "completed"
    },
    "tags": []
   },
   "outputs": [
    {
     "data": {
      "text/plain": [
       "<Axes: xlabel='verified_purchase', ylabel='count'>"
      ]
     },
     "execution_count": 105,
     "metadata": {},
     "output_type": "execute_result"
    },
    {
     "data": {
      "image/png": "[encoded data removed]",
      "text/plain": [
       "<Figure size 640x480 with 1 Axes>"
      ]
     },
     "metadata": {},
     "output_type": "display_data"
    }
   ],
   "source": [
    "sns.countplot(data=d_master,x='verified_purchase',hue='product_category')"
   ]
  },
  {
   "cell_type": "code",
   "execution_count": 106,
   "id": "70710580",
   "metadata": {
    "papermill": {
     "duration": 0.25963,
     "end_time": "2022-11-03T21:06:57.949990",
     "exception": false,
     "start_time": "2022-11-03T21:06:57.690360",
     "status": "completed"
    },
    "tags": []
   },
   "outputs": [
    {
     "data": {
      "image/png": "[encoded data removed]",
      "text/plain": [
       "<Figure size 640x480 with 1 Axes>"
      ]
     },
     "metadata": {},
     "output_type": "display_data"
    }
   ],
   "source": [
    "sentiment_prodcat=sns.countplot(data=d_master,x='sentiment',hue='product_category')\n",
    "plt.show(sentiment_prodcat)"
   ]
  },
  {
   "cell_type": "code",
   "execution_count": 117,
   "id": "72f0a52c",
   "metadata": {
    "papermill": {
     "duration": 0.251215,
     "end_time": "2022-11-03T21:06:58.261069",
     "exception": false,
     "start_time": "2022-11-03T21:06:58.009854",
     "status": "completed"
    },
    "tags": []
   },
   "outputs": [
    {
     "data": {
      "image/png": "[encoded data removed]",
      "text/plain": [
       "<Figure size 640x480 with 1 Axes>"
      ]
     },
     "metadata": {},
     "output_type": "display_data"
    }
   ],
   "source": [
    "starrat_prodcat=sns.countplot(data=d_master,x='star_rating',hue='product_category',palette='inferno')\n",
    "plt.show(starrat_prodcat)"
   ]
  },
  {
   "cell_type": "code",
   "execution_count": 119,
   "id": "26bd2848",
   "metadata": {
    "papermill": {
     "duration": 0.067801,
     "end_time": "2022-11-03T21:06:58.388183",
     "exception": false,
     "start_time": "2022-11-03T21:06:58.320382",
     "status": "completed"
    },
    "tags": []
   },
   "outputs": [],
   "source": [
    "d_master_verified_starrating=d_master.groupby(['product_category','verified_purchase'])['star_rating'].value_counts()"
   ]
  },
  {
   "cell_type": "code",
   "execution_count": 134,
   "id": "5f7a2103",
   "metadata": {
    "papermill": {
     "duration": 0.073459,
     "end_time": "2022-11-03T21:06:58.521247",
     "exception": false,
     "start_time": "2022-11-03T21:06:58.447788",
     "status": "completed"
    },
    "tags": []
   },
   "outputs": [],
   "source": [
    "\n",
    "d_master_verified_starrating.to_csv(\"verified_starrating.csv\")\n",
    "d_master_verified_starrating=pd.read_csv(\"verified_starrating.csv\")\n"
   ]
  },
  {
   "cell_type": "code",
   "execution_count": 183,
   "id": "69f5ce32",
   "metadata": {
    "papermill": {
     "duration": 0.082896,
     "end_time": "2022-11-03T21:06:58.665974",
     "exception": false,
     "start_time": "2022-11-03T21:06:58.583078",
     "status": "completed"
    },
    "tags": []
   },
   "outputs": [],
   "source": [
    "d_master_verified_starrating[\"no.of_ratings\"]=d_master_verified_starrating[\"star_rating\"]\n",
    "d_master_verified_starrating.drop('Unnamed: 0',axis=1,inplace=True)\n",
    "#d_master_verified_starrating.drop('count',axis=1)"
   ]
  },
  {
   "cell_type": "code",
   "execution_count": 184,
   "id": "442d0533",
   "metadata": {
    "papermill": {
     "duration": 0.058362,
     "end_time": "2022-11-03T21:06:58.782345",
     "exception": false,
     "start_time": "2022-11-03T21:06:58.723983",
     "status": "completed"
    },
    "tags": []
   },
   "outputs": [
    {
     "data": {
      "text/html": [
       "<div>\n",
       "<style scoped>\n",
       "    .dataframe tbody tr th:only-of-type {\n",
       "        vertical-align: middle;\n",
       "    }\n",
       "\n",
       "    .dataframe tbody tr th {\n",
       "        vertical-align: top;\n",
       "    }\n",
       "\n",
       "    .dataframe thead th {\n",
       "        text-align: right;\n",
       "    }\n",
       "</style>\n",
       "<table border=\"1\" class=\"dataframe\">\n",
       "  <thead>\n",
       "    <tr style=\"text-align: right;\">\n",
       "      <th></th>\n",
       "      <th>product_category</th>\n",
       "      <th>verified_purchase</th>\n",
       "      <th>star_rating</th>\n",
       "      <th>count</th>\n",
       "    </tr>\n",
       "  </thead>\n",
       "  <tbody>\n",
       "    <tr>\n",
       "      <th>0</th>\n",
       "      <td>Books</td>\n",
       "      <td>N</td>\n",
       "      <td>1</td>\n",
       "      <td>17</td>\n",
       "    </tr>\n",
       "    <tr>\n",
       "      <th>1</th>\n",
       "      <td>Books</td>\n",
       "      <td>N</td>\n",
       "      <td>0</td>\n",
       "      <td>7</td>\n",
       "    </tr>\n",
       "    <tr>\n",
       "      <th>2</th>\n",
       "      <td>Books</td>\n",
       "      <td>Y</td>\n",
       "      <td>1</td>\n",
       "      <td>67</td>\n",
       "    </tr>\n",
       "    <tr>\n",
       "      <th>3</th>\n",
       "      <td>Books</td>\n",
       "      <td>Y</td>\n",
       "      <td>0</td>\n",
       "      <td>9</td>\n",
       "    </tr>\n",
       "    <tr>\n",
       "      <th>4</th>\n",
       "      <td>Digital_Ebook_Purchase</td>\n",
       "      <td>N</td>\n",
       "      <td>1</td>\n",
       "      <td>17</td>\n",
       "    </tr>\n",
       "    <tr>\n",
       "      <th>5</th>\n",
       "      <td>Digital_Ebook_Purchase</td>\n",
       "      <td>N</td>\n",
       "      <td>0</td>\n",
       "      <td>4</td>\n",
       "    </tr>\n",
       "    <tr>\n",
       "      <th>6</th>\n",
       "      <td>Digital_Ebook_Purchase</td>\n",
       "      <td>Y</td>\n",
       "      <td>1</td>\n",
       "      <td>65</td>\n",
       "    </tr>\n",
       "    <tr>\n",
       "      <th>7</th>\n",
       "      <td>Digital_Ebook_Purchase</td>\n",
       "      <td>Y</td>\n",
       "      <td>0</td>\n",
       "      <td>14</td>\n",
       "    </tr>\n",
       "    <tr>\n",
       "      <th>8</th>\n",
       "      <td>Grocery</td>\n",
       "      <td>N</td>\n",
       "      <td>1</td>\n",
       "      <td>13</td>\n",
       "    </tr>\n",
       "    <tr>\n",
       "      <th>9</th>\n",
       "      <td>Grocery</td>\n",
       "      <td>N</td>\n",
       "      <td>0</td>\n",
       "      <td>4</td>\n",
       "    </tr>\n",
       "    <tr>\n",
       "      <th>10</th>\n",
       "      <td>Grocery</td>\n",
       "      <td>Y</td>\n",
       "      <td>1</td>\n",
       "      <td>70</td>\n",
       "    </tr>\n",
       "    <tr>\n",
       "      <th>11</th>\n",
       "      <td>Grocery</td>\n",
       "      <td>Y</td>\n",
       "      <td>0</td>\n",
       "      <td>13</td>\n",
       "    </tr>\n",
       "    <tr>\n",
       "      <th>12</th>\n",
       "      <td>Jewelry</td>\n",
       "      <td>N</td>\n",
       "      <td>1</td>\n",
       "      <td>2</td>\n",
       "    </tr>\n",
       "    <tr>\n",
       "      <th>13</th>\n",
       "      <td>Jewelry</td>\n",
       "      <td>N</td>\n",
       "      <td>0</td>\n",
       "      <td>1</td>\n",
       "    </tr>\n",
       "    <tr>\n",
       "      <th>14</th>\n",
       "      <td>Jewelry</td>\n",
       "      <td>Y</td>\n",
       "      <td>1</td>\n",
       "      <td>73</td>\n",
       "    </tr>\n",
       "    <tr>\n",
       "      <th>15</th>\n",
       "      <td>Jewelry</td>\n",
       "      <td>Y</td>\n",
       "      <td>0</td>\n",
       "      <td>24</td>\n",
       "    </tr>\n",
       "    <tr>\n",
       "      <th>16</th>\n",
       "      <td>PC</td>\n",
       "      <td>N</td>\n",
       "      <td>1</td>\n",
       "      <td>5</td>\n",
       "    </tr>\n",
       "    <tr>\n",
       "      <th>17</th>\n",
       "      <td>PC</td>\n",
       "      <td>N</td>\n",
       "      <td>0</td>\n",
       "      <td>3</td>\n",
       "    </tr>\n",
       "    <tr>\n",
       "      <th>18</th>\n",
       "      <td>PC</td>\n",
       "      <td>Y</td>\n",
       "      <td>1</td>\n",
       "      <td>69</td>\n",
       "    </tr>\n",
       "    <tr>\n",
       "      <th>19</th>\n",
       "      <td>PC</td>\n",
       "      <td>Y</td>\n",
       "      <td>0</td>\n",
       "      <td>23</td>\n",
       "    </tr>\n",
       "  </tbody>\n",
       "</table>\n",
       "</div>"
      ],
      "text/plain": [
       "          product_category verified_purchase  star_rating  count\n",
       "0                    Books                 N            1     17\n",
       "1                    Books                 N            0      7\n",
       "2                    Books                 Y            1     67\n",
       "3                    Books                 Y            0      9\n",
       "4   Digital_Ebook_Purchase                 N            1     17\n",
       "5   Digital_Ebook_Purchase                 N            0      4\n",
       "6   Digital_Ebook_Purchase                 Y            1     65\n",
       "7   Digital_Ebook_Purchase                 Y            0     14\n",
       "8                  Grocery                 N            1     13\n",
       "9                  Grocery                 N            0      4\n",
       "10                 Grocery                 Y            1     70\n",
       "11                 Grocery                 Y            0     13\n",
       "12                 Jewelry                 N            1      2\n",
       "13                 Jewelry                 N            0      1\n",
       "14                 Jewelry                 Y            1     73\n",
       "15                 Jewelry                 Y            0     24\n",
       "16                      PC                 N            1      5\n",
       "17                      PC                 N            0      3\n",
       "18                      PC                 Y            1     69\n",
       "19                      PC                 Y            0     23"
      ]
     },
     "execution_count": 184,
     "metadata": {},
     "output_type": "execute_result"
    }
   ],
   "source": [
    "d_master_verified_starrating.drop('no.of_ratings',axis=1)"
   ]
  },
  {
   "cell_type": "code",
   "execution_count": 185,
   "id": "69d7ccbf",
   "metadata": {
    "papermill": {
     "duration": 0.630232,
     "end_time": "2022-11-03T21:06:59.474423",
     "exception": false,
     "start_time": "2022-11-03T21:06:58.844191",
     "status": "completed"
    },
    "tags": []
   },
   "outputs": [
    {
     "data": {
      "text/plain": [
       "([0, 1, 2, 3, 4],\n",
       " [Text(0, 0, 'Books'),\n",
       "  Text(1, 0, 'Digital_Ebook_Purchase'),\n",
       "  Text(2, 0, 'Grocery'),\n",
       "  Text(3, 0, 'Jewelry'),\n",
       "  Text(4, 0, 'PC')])"
      ]
     },
     "execution_count": 185,
     "metadata": {},
     "output_type": "execute_result"
    },
    {
     "data": {
      "image/png": "[encoded data removed]",
      "text/plain": [
       "<Figure size 1500x800 with 1 Axes>"
      ]
     },
     "metadata": {},
     "output_type": "display_data"
    }
   ],
   "source": [
    "plt.figure(figsize=(15,8))\n",
    "sns.barplot(data=d_master_verified_starrating,x='product_category',y='count',hue='star_rating',palette='inferno')\n",
    "plt.xticks(rotation=90)"
   ]
  },
  {
   "cell_type": "markdown",
   "id": "a45ab2de",
   "metadata": {
    "papermill": {
     "duration": 0.064973,
     "end_time": "2022-11-03T21:06:59.605884",
     "exception": false,
     "start_time": "2022-11-03T21:06:59.540911",
     "status": "completed"
    },
    "tags": []
   },
   "source": [
    "* Here we can see there mostly positive reviews for every category.\n",
    "* The category with most negative reviews is PC followed by jwellery.\n",
    "* Therefore we can say :-\n",
    "    1.) if we have to decide between the categories to buy from, we can ignore the PC and Jwellery category.\n",
    "    2.) If we want to start selling in one of the categories we can go for the PC and Jwellery category as these have most unsatisfied customers and hence competion is less in these categories. \n",
    "\n",
    "Also we can avoid books category as it has most satisfied customers. Hence it will be difficult for new publishers to compete here."
   ]
  },
  {
   "cell_type": "code",
   "execution_count": 186,
   "id": "ee0ba8c6",
   "metadata": {
    "papermill": {
     "duration": 0.071338,
     "end_time": "2022-11-03T21:06:59.740195",
     "exception": false,
     "start_time": "2022-11-03T21:06:59.668857",
     "status": "completed"
    },
    "tags": []
   },
   "outputs": [],
   "source": [
    "#for more trusted results lets just look at the verified purchases."
   ]
  },
  {
   "cell_type": "code",
   "execution_count": 187,
   "id": "0471a840",
   "metadata": {
    "papermill": {
     "duration": 0.080177,
     "end_time": "2022-11-03T21:06:59.884471",
     "exception": false,
     "start_time": "2022-11-03T21:06:59.804294",
     "status": "completed"
    },
    "tags": []
   },
   "outputs": [],
   "source": [
    "d_master_verified_starrating_Y=d_master_verified_starrating[d_master_verified_starrating['verified_purchase']=='Y']\n",
    "#date set of verified purchase"
   ]
  },
  {
   "cell_type": "code",
   "execution_count": 188,
   "id": "95c027ed",
   "metadata": {
    "papermill": {
     "duration": 0.081603,
     "end_time": "2022-11-03T21:07:00.029061",
     "exception": false,
     "start_time": "2022-11-03T21:06:59.947458",
     "status": "completed"
    },
    "tags": []
   },
   "outputs": [
    {
     "data": {
      "text/html": [
       "<div>\n",
       "<style scoped>\n",
       "    .dataframe tbody tr th:only-of-type {\n",
       "        vertical-align: middle;\n",
       "    }\n",
       "\n",
       "    .dataframe tbody tr th {\n",
       "        vertical-align: top;\n",
       "    }\n",
       "\n",
       "    .dataframe thead th {\n",
       "        text-align: right;\n",
       "    }\n",
       "</style>\n",
       "<table border=\"1\" class=\"dataframe\">\n",
       "  <thead>\n",
       "    <tr style=\"text-align: right;\">\n",
       "      <th></th>\n",
       "      <th>product_category</th>\n",
       "      <th>verified_purchase</th>\n",
       "      <th>star_rating</th>\n",
       "      <th>count</th>\n",
       "      <th>no.of_ratings</th>\n",
       "    </tr>\n",
       "  </thead>\n",
       "  <tbody>\n",
       "    <tr>\n",
       "      <th>2</th>\n",
       "      <td>Books</td>\n",
       "      <td>Y</td>\n",
       "      <td>1</td>\n",
       "      <td>67</td>\n",
       "      <td>1</td>\n",
       "    </tr>\n",
       "    <tr>\n",
       "      <th>3</th>\n",
       "      <td>Books</td>\n",
       "      <td>Y</td>\n",
       "      <td>0</td>\n",
       "      <td>9</td>\n",
       "      <td>0</td>\n",
       "    </tr>\n",
       "    <tr>\n",
       "      <th>6</th>\n",
       "      <td>Digital_Ebook_Purchase</td>\n",
       "      <td>Y</td>\n",
       "      <td>1</td>\n",
       "      <td>65</td>\n",
       "      <td>1</td>\n",
       "    </tr>\n",
       "    <tr>\n",
       "      <th>7</th>\n",
       "      <td>Digital_Ebook_Purchase</td>\n",
       "      <td>Y</td>\n",
       "      <td>0</td>\n",
       "      <td>14</td>\n",
       "      <td>0</td>\n",
       "    </tr>\n",
       "    <tr>\n",
       "      <th>10</th>\n",
       "      <td>Grocery</td>\n",
       "      <td>Y</td>\n",
       "      <td>1</td>\n",
       "      <td>70</td>\n",
       "      <td>1</td>\n",
       "    </tr>\n",
       "    <tr>\n",
       "      <th>11</th>\n",
       "      <td>Grocery</td>\n",
       "      <td>Y</td>\n",
       "      <td>0</td>\n",
       "      <td>13</td>\n",
       "      <td>0</td>\n",
       "    </tr>\n",
       "    <tr>\n",
       "      <th>14</th>\n",
       "      <td>Jewelry</td>\n",
       "      <td>Y</td>\n",
       "      <td>1</td>\n",
       "      <td>73</td>\n",
       "      <td>1</td>\n",
       "    </tr>\n",
       "    <tr>\n",
       "      <th>15</th>\n",
       "      <td>Jewelry</td>\n",
       "      <td>Y</td>\n",
       "      <td>0</td>\n",
       "      <td>24</td>\n",
       "      <td>0</td>\n",
       "    </tr>\n",
       "    <tr>\n",
       "      <th>18</th>\n",
       "      <td>PC</td>\n",
       "      <td>Y</td>\n",
       "      <td>1</td>\n",
       "      <td>69</td>\n",
       "      <td>1</td>\n",
       "    </tr>\n",
       "    <tr>\n",
       "      <th>19</th>\n",
       "      <td>PC</td>\n",
       "      <td>Y</td>\n",
       "      <td>0</td>\n",
       "      <td>23</td>\n",
       "      <td>0</td>\n",
       "    </tr>\n",
       "  </tbody>\n",
       "</table>\n",
       "</div>"
      ],
      "text/plain": [
       "          product_category verified_purchase  star_rating  count  \\\n",
       "2                    Books                 Y            1     67   \n",
       "3                    Books                 Y            0      9   \n",
       "6   Digital_Ebook_Purchase                 Y            1     65   \n",
       "7   Digital_Ebook_Purchase                 Y            0     14   \n",
       "10                 Grocery                 Y            1     70   \n",
       "11                 Grocery                 Y            0     13   \n",
       "14                 Jewelry                 Y            1     73   \n",
       "15                 Jewelry                 Y            0     24   \n",
       "18                      PC                 Y            1     69   \n",
       "19                      PC                 Y            0     23   \n",
       "\n",
       "    no.of_ratings  \n",
       "2               1  \n",
       "3               0  \n",
       "6               1  \n",
       "7               0  \n",
       "10              1  \n",
       "11              0  \n",
       "14              1  \n",
       "15              0  \n",
       "18              1  \n",
       "19              0  "
      ]
     },
     "execution_count": 188,
     "metadata": {},
     "output_type": "execute_result"
    }
   ],
   "source": [
    "d_master_verified_starrating_Y"
   ]
  },
  {
   "cell_type": "code",
   "execution_count": 190,
   "id": "31fec02c",
   "metadata": {
    "papermill": {
     "duration": 0.389244,
     "end_time": "2022-11-03T21:07:00.482324",
     "exception": false,
     "start_time": "2022-11-03T21:07:00.093080",
     "status": "completed"
    },
    "tags": []
   },
   "outputs": [
    {
     "data": {
      "text/plain": [
       "([0, 1, 2, 3, 4],\n",
       " [Text(0, 0, 'Books'),\n",
       "  Text(1, 0, 'Digital_Ebook_Purchase'),\n",
       "  Text(2, 0, 'Grocery'),\n",
       "  Text(3, 0, 'Jewelry'),\n",
       "  Text(4, 0, 'PC')])"
      ]
     },
     "execution_count": 190,
     "metadata": {},
     "output_type": "execute_result"
    },
    {
     "data": {
      "image/png": "[encoded data removed]",
      "text/plain": [
       "<Figure size 1500x800 with 1 Axes>"
      ]
     },
     "metadata": {},
     "output_type": "display_data"
    }
   ],
   "source": [
    "plt.figure(figsize=(15,8))\n",
    "sns.barplot(data=d_master_verified_starrating_Y,x='product_category',y='count',hue='star_rating',palette='crest')\n",
    "plt.title(\"verified_purchase= Y\")\n",
    "plt.xticks(rotation=90)"
   ]
  },
  {
   "cell_type": "markdown",
   "id": "f38011ab",
   "metadata": {
    "papermill": {
     "duration": 0.06338,
     "end_time": "2022-11-03T21:07:00.613519",
     "exception": false,
     "start_time": "2022-11-03T21:07:00.550139",
     "status": "completed"
    },
    "tags": []
   },
   "source": [
    "The data including only trusted purchases tells us that now the category with most unsatisfied reviews is jwellery followed by pc. Before , it was the other way round.\n",
    "\n",
    "Also from this we can say that the number of verified purchases with positive reviews is also for Jwellery category. From this we can say that the most verified purchases are from jwellery category."
   ]
  },
  {
   "cell_type": "code",
   "execution_count": null,
   "id": "0379bfe2",
   "metadata": {
    "papermill": {
     "duration": 0.065094,
     "end_time": "2022-11-03T21:07:00.742252",
     "exception": false,
     "start_time": "2022-11-03T21:07:00.677158",
     "status": "completed"
    },
    "tags": []
   },
   "outputs": [],
   "source": []
  },
  {
   "cell_type": "code",
   "execution_count": 191,
   "id": "6e443162",
   "metadata": {
    "papermill": {
     "duration": 0.082956,
     "end_time": "2022-11-03T21:07:00.892332",
     "exception": false,
     "start_time": "2022-11-03T21:07:00.809376",
     "status": "completed"
    },
    "tags": []
   },
   "outputs": [
    {
     "data": {
      "text/html": [
       "<div>\n",
       "<style scoped>\n",
       "    .dataframe tbody tr th:only-of-type {\n",
       "        vertical-align: middle;\n",
       "    }\n",
       "\n",
       "    .dataframe tbody tr th {\n",
       "        vertical-align: top;\n",
       "    }\n",
       "\n",
       "    .dataframe thead th {\n",
       "        text-align: right;\n",
       "    }\n",
       "</style>\n",
       "<table border=\"1\" class=\"dataframe\">\n",
       "  <thead>\n",
       "    <tr style=\"text-align: right;\">\n",
       "      <th></th>\n",
       "      <th>product_category</th>\n",
       "      <th>verified_purchase</th>\n",
       "      <th>star_rating</th>\n",
       "      <th>count</th>\n",
       "      <th>no.of_ratings</th>\n",
       "    </tr>\n",
       "  </thead>\n",
       "  <tbody>\n",
       "    <tr>\n",
       "      <th>0</th>\n",
       "      <td>Books</td>\n",
       "      <td>N</td>\n",
       "      <td>1</td>\n",
       "      <td>17</td>\n",
       "      <td>1</td>\n",
       "    </tr>\n",
       "    <tr>\n",
       "      <th>1</th>\n",
       "      <td>Books</td>\n",
       "      <td>N</td>\n",
       "      <td>0</td>\n",
       "      <td>7</td>\n",
       "      <td>0</td>\n",
       "    </tr>\n",
       "    <tr>\n",
       "      <th>4</th>\n",
       "      <td>Digital_Ebook_Purchase</td>\n",
       "      <td>N</td>\n",
       "      <td>1</td>\n",
       "      <td>17</td>\n",
       "      <td>1</td>\n",
       "    </tr>\n",
       "    <tr>\n",
       "      <th>5</th>\n",
       "      <td>Digital_Ebook_Purchase</td>\n",
       "      <td>N</td>\n",
       "      <td>0</td>\n",
       "      <td>4</td>\n",
       "      <td>0</td>\n",
       "    </tr>\n",
       "    <tr>\n",
       "      <th>8</th>\n",
       "      <td>Grocery</td>\n",
       "      <td>N</td>\n",
       "      <td>1</td>\n",
       "      <td>13</td>\n",
       "      <td>1</td>\n",
       "    </tr>\n",
       "    <tr>\n",
       "      <th>9</th>\n",
       "      <td>Grocery</td>\n",
       "      <td>N</td>\n",
       "      <td>0</td>\n",
       "      <td>4</td>\n",
       "      <td>0</td>\n",
       "    </tr>\n",
       "    <tr>\n",
       "      <th>12</th>\n",
       "      <td>Jewelry</td>\n",
       "      <td>N</td>\n",
       "      <td>1</td>\n",
       "      <td>2</td>\n",
       "      <td>1</td>\n",
       "    </tr>\n",
       "    <tr>\n",
       "      <th>13</th>\n",
       "      <td>Jewelry</td>\n",
       "      <td>N</td>\n",
       "      <td>0</td>\n",
       "      <td>1</td>\n",
       "      <td>0</td>\n",
       "    </tr>\n",
       "    <tr>\n",
       "      <th>16</th>\n",
       "      <td>PC</td>\n",
       "      <td>N</td>\n",
       "      <td>1</td>\n",
       "      <td>5</td>\n",
       "      <td>1</td>\n",
       "    </tr>\n",
       "    <tr>\n",
       "      <th>17</th>\n",
       "      <td>PC</td>\n",
       "      <td>N</td>\n",
       "      <td>0</td>\n",
       "      <td>3</td>\n",
       "      <td>0</td>\n",
       "    </tr>\n",
       "  </tbody>\n",
       "</table>\n",
       "</div>"
      ],
      "text/plain": [
       "          product_category verified_purchase  star_rating  count  \\\n",
       "0                    Books                 N            1     17   \n",
       "1                    Books                 N            0      7   \n",
       "4   Digital_Ebook_Purchase                 N            1     17   \n",
       "5   Digital_Ebook_Purchase                 N            0      4   \n",
       "8                  Grocery                 N            1     13   \n",
       "9                  Grocery                 N            0      4   \n",
       "12                 Jewelry                 N            1      2   \n",
       "13                 Jewelry                 N            0      1   \n",
       "16                      PC                 N            1      5   \n",
       "17                      PC                 N            0      3   \n",
       "\n",
       "    no.of_ratings  \n",
       "0               1  \n",
       "1               0  \n",
       "4               1  \n",
       "5               0  \n",
       "8               1  \n",
       "9               0  \n",
       "12              1  \n",
       "13              0  \n",
       "16              1  \n",
       "17              0  "
      ]
     },
     "execution_count": 191,
     "metadata": {},
     "output_type": "execute_result"
    }
   ],
   "source": [
    "d_master_verified_starrating_N=d_master_verified_starrating[d_master_verified_starrating['verified_purchase']=='N']\n",
    "d_master_verified_starrating_N\n",
    "\n",
    "#dataset for non verified puchase"
   ]
  },
  {
   "cell_type": "code",
   "execution_count": 192,
   "id": "4fcc9a7e",
   "metadata": {
    "papermill": {
     "duration": 0.433751,
     "end_time": "2022-11-03T21:07:01.392047",
     "exception": false,
     "start_time": "2022-11-03T21:07:00.958296",
     "status": "completed"
    },
    "tags": []
   },
   "outputs": [
    {
     "data": {
      "text/plain": [
       "([0, 1, 2, 3, 4],\n",
       " [Text(0, 0, 'Books'),\n",
       "  Text(1, 0, 'Digital_Ebook_Purchase'),\n",
       "  Text(2, 0, 'Grocery'),\n",
       "  Text(3, 0, 'Jewelry'),\n",
       "  Text(4, 0, 'PC')])"
      ]
     },
     "execution_count": 192,
     "metadata": {},
     "output_type": "execute_result"
    },
    {
     "data": {
      "image/png": "[encoded data removed]",
      "text/plain": [
       "<Figure size 1500x800 with 1 Axes>"
      ]
     },
     "metadata": {},
     "output_type": "display_data"
    }
   ],
   "source": [
    "plt.figure(figsize=(15,8))\n",
    "sns.barplot(data=d_master_verified_starrating_N,x='product_category',y='count',hue='star_rating',palette='flare')\n",
    "plt.title(\"verified_purchase= N\")\n",
    "plt.xticks(rotation=90)"
   ]
  },
  {
   "cell_type": "markdown",
   "id": "04a62a2c",
   "metadata": {
    "papermill": {
     "duration": 0.068535,
     "end_time": "2022-11-03T21:07:01.549391",
     "exception": false,
     "start_time": "2022-11-03T21:07:01.480856",
     "status": "completed"
    },
    "tags": []
   },
   "source": [
    "The non verified purchases reviewsbooks category to be highly unsatisfied.\n",
    "\n",
    "Also the category with most positive reviews are books and Digital_ebook"
   ]
  },
  {
   "cell_type": "markdown",
   "id": "2d6c4294",
   "metadata": {
    "papermill": {
     "duration": 0.068321,
     "end_time": "2022-11-03T21:07:01.683912",
     "exception": false,
     "start_time": "2022-11-03T21:07:01.615591",
     "status": "completed"
    },
    "tags": []
   },
   "source": [
    "All these can tell us in which category we can start our business. The category with most negative reviews is most optimum to start new business as we can sell good products and earn more profit.\n",
    "\n",
    "Also most negative reviews can be studied to especially identify the customers' needs."
   ]
  },
  {
   "cell_type": "code",
   "execution_count": 193,
   "id": "4fe2bcde",
   "metadata": {
    "papermill": {
     "duration": 0.078692,
     "end_time": "2022-11-03T21:07:01.830464",
     "exception": false,
     "start_time": "2022-11-03T21:07:01.751772",
     "status": "completed"
    },
    "tags": []
   },
   "outputs": [
    {
     "data": {
      "text/plain": [
       "review_date\n",
       "2015-08-31    400\n",
       "2013-09-09    100\n",
       "Name: count, dtype: int64"
      ]
     },
     "execution_count": 193,
     "metadata": {},
     "output_type": "execute_result"
    }
   ],
   "source": [
    "d_master.review_date.value_counts()"
   ]
  },
  {
   "cell_type": "code",
   "execution_count": null,
   "id": "555c2372",
   "metadata": {
    "papermill": {
     "duration": 0.063052,
     "end_time": "2022-11-03T21:07:01.961125",
     "exception": false,
     "start_time": "2022-11-03T21:07:01.898073",
     "status": "completed"
    },
    "tags": []
   },
   "outputs": [],
   "source": []
  },
  {
   "cell_type": "code",
   "execution_count": 194,
   "id": "979cc39d",
   "metadata": {
    "papermill": {
     "duration": 0.093978,
     "end_time": "2022-11-03T21:07:02.118915",
     "exception": false,
     "start_time": "2022-11-03T21:07:02.024937",
     "status": "completed"
    },
    "tags": []
   },
   "outputs": [
    {
     "data": {
      "text/html": [
       "<div>\n",
       "<style scoped>\n",
       "    .dataframe tbody tr th:only-of-type {\n",
       "        vertical-align: middle;\n",
       "    }\n",
       "\n",
       "    .dataframe tbody tr th {\n",
       "        vertical-align: top;\n",
       "    }\n",
       "\n",
       "    .dataframe thead th {\n",
       "        text-align: right;\n",
       "    }\n",
       "</style>\n",
       "<table border=\"1\" class=\"dataframe\">\n",
       "  <thead>\n",
       "    <tr style=\"text-align: right;\">\n",
       "      <th></th>\n",
       "      <th>customer_id</th>\n",
       "      <th>product_title</th>\n",
       "      <th>product_category</th>\n",
       "      <th>star_rating</th>\n",
       "      <th>helpful_votes</th>\n",
       "      <th>total_votes</th>\n",
       "      <th>verified_purchase</th>\n",
       "      <th>review_date</th>\n",
       "      <th>sentiment</th>\n",
       "    </tr>\n",
       "  </thead>\n",
       "  <tbody>\n",
       "    <tr>\n",
       "      <th>100</th>\n",
       "      <td>33605939</td>\n",
       "      <td>Big Maria</td>\n",
       "      <td>Digital_Ebook_Purchase</td>\n",
       "      <td>1</td>\n",
       "      <td>0</td>\n",
       "      <td>0</td>\n",
       "      <td>N</td>\n",
       "      <td>2013-09-09</td>\n",
       "      <td>positive</td>\n",
       "    </tr>\n",
       "    <tr>\n",
       "      <th>101</th>\n",
       "      <td>34058393</td>\n",
       "      <td>The Woman Who Wasn't There: The True Story of ...</td>\n",
       "      <td>Digital_Ebook_Purchase</td>\n",
       "      <td>1</td>\n",
       "      <td>1</td>\n",
       "      <td>2</td>\n",
       "      <td>Y</td>\n",
       "      <td>2013-09-09</td>\n",
       "      <td>positive</td>\n",
       "    </tr>\n",
       "    <tr>\n",
       "      <th>102</th>\n",
       "      <td>39601147</td>\n",
       "      <td>Mary had A Sleepy Sheep</td>\n",
       "      <td>Digital_Ebook_Purchase</td>\n",
       "      <td>1</td>\n",
       "      <td>0</td>\n",
       "      <td>0</td>\n",
       "      <td>N</td>\n",
       "      <td>2013-09-09</td>\n",
       "      <td>positive</td>\n",
       "    </tr>\n",
       "    <tr>\n",
       "      <th>103</th>\n",
       "      <td>17351407</td>\n",
       "      <td>Starstruck</td>\n",
       "      <td>Digital_Ebook_Purchase</td>\n",
       "      <td>1</td>\n",
       "      <td>1</td>\n",
       "      <td>1</td>\n",
       "      <td>Y</td>\n",
       "      <td>2013-09-09</td>\n",
       "      <td>positive</td>\n",
       "    </tr>\n",
       "    <tr>\n",
       "      <th>104</th>\n",
       "      <td>10463387</td>\n",
       "      <td>The Complete Conan Saga</td>\n",
       "      <td>Digital_Ebook_Purchase</td>\n",
       "      <td>1</td>\n",
       "      <td>1</td>\n",
       "      <td>2</td>\n",
       "      <td>N</td>\n",
       "      <td>2013-09-09</td>\n",
       "      <td>positive</td>\n",
       "    </tr>\n",
       "    <tr>\n",
       "      <th>...</th>\n",
       "      <td>...</td>\n",
       "      <td>...</td>\n",
       "      <td>...</td>\n",
       "      <td>...</td>\n",
       "      <td>...</td>\n",
       "      <td>...</td>\n",
       "      <td>...</td>\n",
       "      <td>...</td>\n",
       "      <td>...</td>\n",
       "    </tr>\n",
       "    <tr>\n",
       "      <th>195</th>\n",
       "      <td>52543154</td>\n",
       "      <td>Masters at Arms (Introduction to the Rescue Me...</td>\n",
       "      <td>Digital_Ebook_Purchase</td>\n",
       "      <td>1</td>\n",
       "      <td>2</td>\n",
       "      <td>3</td>\n",
       "      <td>Y</td>\n",
       "      <td>2013-09-09</td>\n",
       "      <td>positive</td>\n",
       "    </tr>\n",
       "    <tr>\n",
       "      <th>196</th>\n",
       "      <td>51699242</td>\n",
       "      <td>Winning the Boss's Heart (Entangled Indulgence)</td>\n",
       "      <td>Digital_Ebook_Purchase</td>\n",
       "      <td>1</td>\n",
       "      <td>1</td>\n",
       "      <td>1</td>\n",
       "      <td>N</td>\n",
       "      <td>2013-09-09</td>\n",
       "      <td>positive</td>\n",
       "    </tr>\n",
       "    <tr>\n",
       "      <th>197</th>\n",
       "      <td>11266505</td>\n",
       "      <td>Anywhere</td>\n",
       "      <td>Digital_Ebook_Purchase</td>\n",
       "      <td>1</td>\n",
       "      <td>0</td>\n",
       "      <td>0</td>\n",
       "      <td>N</td>\n",
       "      <td>2013-09-09</td>\n",
       "      <td>positive</td>\n",
       "    </tr>\n",
       "    <tr>\n",
       "      <th>198</th>\n",
       "      <td>5787938</td>\n",
       "      <td>Hatchet (Brian's Saga Book 1)</td>\n",
       "      <td>Digital_Ebook_Purchase</td>\n",
       "      <td>1</td>\n",
       "      <td>0</td>\n",
       "      <td>0</td>\n",
       "      <td>Y</td>\n",
       "      <td>2013-09-09</td>\n",
       "      <td>positive</td>\n",
       "    </tr>\n",
       "    <tr>\n",
       "      <th>199</th>\n",
       "      <td>41892367</td>\n",
       "      <td>Her Favorite Temptation (Mathews Sisters Book 1)</td>\n",
       "      <td>Digital_Ebook_Purchase</td>\n",
       "      <td>1</td>\n",
       "      <td>0</td>\n",
       "      <td>0</td>\n",
       "      <td>Y</td>\n",
       "      <td>2013-09-09</td>\n",
       "      <td>positive</td>\n",
       "    </tr>\n",
       "  </tbody>\n",
       "</table>\n",
       "<p>100 rows × 9 columns</p>\n",
       "</div>"
      ],
      "text/plain": [
       "    customer_id                                      product_title  \\\n",
       "100    33605939                                          Big Maria   \n",
       "101    34058393  The Woman Who Wasn't There: The True Story of ...   \n",
       "102    39601147                            Mary had A Sleepy Sheep   \n",
       "103    17351407                                         Starstruck   \n",
       "104    10463387                            The Complete Conan Saga   \n",
       "..          ...                                                ...   \n",
       "195    52543154  Masters at Arms (Introduction to the Rescue Me...   \n",
       "196    51699242    Winning the Boss's Heart (Entangled Indulgence)   \n",
       "197    11266505                                           Anywhere   \n",
       "198     5787938                      Hatchet (Brian's Saga Book 1)   \n",
       "199    41892367   Her Favorite Temptation (Mathews Sisters Book 1)   \n",
       "\n",
       "           product_category  star_rating  helpful_votes  total_votes  \\\n",
       "100  Digital_Ebook_Purchase            1              0            0   \n",
       "101  Digital_Ebook_Purchase            1              1            2   \n",
       "102  Digital_Ebook_Purchase            1              0            0   \n",
       "103  Digital_Ebook_Purchase            1              1            1   \n",
       "104  Digital_Ebook_Purchase            1              1            2   \n",
       "..                      ...          ...            ...          ...   \n",
       "195  Digital_Ebook_Purchase            1              2            3   \n",
       "196  Digital_Ebook_Purchase            1              1            1   \n",
       "197  Digital_Ebook_Purchase            1              0            0   \n",
       "198  Digital_Ebook_Purchase            1              0            0   \n",
       "199  Digital_Ebook_Purchase            1              0            0   \n",
       "\n",
       "    verified_purchase review_date sentiment  \n",
       "100                 N  2013-09-09  positive  \n",
       "101                 Y  2013-09-09  positive  \n",
       "102                 N  2013-09-09  positive  \n",
       "103                 Y  2013-09-09  positive  \n",
       "104                 N  2013-09-09  positive  \n",
       "..                ...         ...       ...  \n",
       "195                 Y  2013-09-09  positive  \n",
       "196                 N  2013-09-09  positive  \n",
       "197                 N  2013-09-09  positive  \n",
       "198                 Y  2013-09-09  positive  \n",
       "199                 Y  2013-09-09  positive  \n",
       "\n",
       "[100 rows x 9 columns]"
      ]
     },
     "execution_count": 194,
     "metadata": {},
     "output_type": "execute_result"
    }
   ],
   "source": [
    "d_master[d_master['review_date']=='2013-09-09']"
   ]
  },
  {
   "cell_type": "code",
   "execution_count": 195,
   "id": "a9dca733",
   "metadata": {
    "papermill": {
     "duration": 0.426276,
     "end_time": "2022-11-03T21:07:02.605567",
     "exception": false,
     "start_time": "2022-11-03T21:07:02.179291",
     "status": "completed"
    },
    "tags": []
   },
   "outputs": [
    {
     "data": {
      "image/png": "[encoded data removed]",
      "text/plain": [
       "<Figure size 1500x800 with 1 Axes>"
      ]
     },
     "metadata": {},
     "output_type": "display_data"
    }
   ],
   "source": [
    "plt.figure(figsize=(15,8))\n",
    "sns.countplot(data=d_master,y='review_date',hue='product_category',palette='rainbow')\n",
    "plt.xlim([0, 500])\n",
    "plt.xticks(rotation=90)\n",
    "plt.show()"
   ]
  },
  {
   "cell_type": "code",
   "execution_count": 196,
   "id": "750800dd",
   "metadata": {
    "papermill": {
     "duration": 0.072175,
     "end_time": "2022-11-03T21:07:02.744988",
     "exception": false,
     "start_time": "2022-11-03T21:07:02.672813",
     "status": "completed"
    },
    "tags": []
   },
   "outputs": [],
   "source": [
    "#from here we can that for digital ebooks the review dat is 9th sep 2013 and for all the other categories\n",
    "#the review date is 31st aug 2015"
   ]
  },
  {
   "cell_type": "code",
   "execution_count": null,
   "id": "595af971",
   "metadata": {
    "papermill": {
     "duration": 0.063309,
     "end_time": "2022-11-03T21:07:02.873402",
     "exception": false,
     "start_time": "2022-11-03T21:07:02.810093",
     "status": "completed"
    },
    "tags": []
   },
   "outputs": [],
   "source": []
  },
  {
   "cell_type": "code",
   "execution_count": 197,
   "id": "ceeebe0f",
   "metadata": {
    "papermill": {
     "duration": 0.36399,
     "end_time": "2022-11-03T21:07:03.312489",
     "exception": false,
     "start_time": "2022-11-03T21:07:02.948499",
     "status": "completed"
    },
    "tags": []
   },
   "outputs": [
    {
     "data": {
      "text/plain": [
       "<Axes: xlabel='total_votes', ylabel='helpful_votes'>"
      ]
     },
     "execution_count": 197,
     "metadata": {},
     "output_type": "execute_result"
    },
    {
     "data": {
      "image/png": "[encoded data removed]",
      "text/plain": [
       "<Figure size 640x480 with 1 Axes>"
      ]
     },
     "metadata": {},
     "output_type": "display_data"
    }
   ],
   "source": [
    "sns.scatterplot(data=d_master,x='total_votes',y='helpful_votes')"
   ]
  },
  {
   "cell_type": "code",
   "execution_count": 198,
   "id": "8fcbafc9",
   "metadata": {
    "papermill": {
     "duration": 0.095189,
     "end_time": "2022-11-03T21:07:03.478121",
     "exception": false,
     "start_time": "2022-11-03T21:07:03.382932",
     "status": "completed"
    },
    "tags": []
   },
   "outputs": [
    {
     "data": {
      "text/plain": [
       "helpful_votes\n",
       "0     363\n",
       "1      79\n",
       "2      26\n",
       "3      13\n",
       "5       8\n",
       "8       2\n",
       "4       2\n",
       "9       1\n",
       "36      1\n",
       "16      1\n",
       "12      1\n",
       "28      1\n",
       "23      1\n",
       "24      1\n",
       "Name: count, dtype: int64"
      ]
     },
     "execution_count": 198,
     "metadata": {},
     "output_type": "execute_result"
    }
   ],
   "source": [
    "d_master.helpful_votes.value_counts()\n",
    "#helpful votes values and their counts."
   ]
  },
  {
   "cell_type": "code",
   "execution_count": 199,
   "id": "514f36cb",
   "metadata": {
    "papermill": {
     "duration": 0.089493,
     "end_time": "2022-11-03T21:07:03.636559",
     "exception": false,
     "start_time": "2022-11-03T21:07:03.547066",
     "status": "completed"
    },
    "tags": []
   },
   "outputs": [
    {
     "data": {
      "text/plain": [
       "total_votes\n",
       "0     335\n",
       "1      84\n",
       "2      35\n",
       "3      14\n",
       "5       8\n",
       "4       8\n",
       "12      3\n",
       "7       2\n",
       "8       2\n",
       "6       2\n",
       "11      1\n",
       "23      1\n",
       "36      1\n",
       "47      1\n",
       "26      1\n",
       "14      1\n",
       "31      1\n",
       "Name: count, dtype: int64"
      ]
     },
     "execution_count": 199,
     "metadata": {},
     "output_type": "execute_result"
    }
   ],
   "source": [
    "d_master.total_votes.value_counts()\n",
    "#total votes values and their counts."
   ]
  },
  {
   "cell_type": "code",
   "execution_count": 200,
   "id": "dcf208d2",
   "metadata": {
    "papermill": {
     "duration": 0.623921,
     "end_time": "2022-11-03T21:07:04.332473",
     "exception": false,
     "start_time": "2022-11-03T21:07:03.708552",
     "status": "completed"
    },
    "tags": []
   },
   "outputs": [
    {
     "data": {
      "text/plain": [
       "<seaborn.axisgrid.FacetGrid at 0x1e6b6521b20>"
      ]
     },
     "execution_count": 200,
     "metadata": {},
     "output_type": "execute_result"
    },
    {
     "data": {
      "image/png": "[encoded data removed]",
      "text/plain": [
       "<Figure size 500x500 with 1 Axes>"
      ]
     },
     "metadata": {},
     "output_type": "display_data"
    }
   ],
   "source": [
    "sns.lmplot(data=d_master,x='total_votes',y='helpful_votes')"
   ]
  },
  {
   "cell_type": "markdown",
   "id": "1a4f6343",
   "metadata": {
    "papermill": {
     "duration": 0.061537,
     "end_time": "2022-11-03T21:07:04.457524",
     "exception": false,
     "start_time": "2022-11-03T21:07:04.395987",
     "status": "completed"
    },
    "tags": []
   },
   "source": [
    "This shows that the total number of votes means there will be more number of helpful votes."
   ]
  },
  {
   "cell_type": "code",
   "execution_count": 201,
   "id": "cf42b300",
   "metadata": {
    "papermill": {
     "duration": 0.567385,
     "end_time": "2022-11-03T21:07:05.091003",
     "exception": false,
     "start_time": "2022-11-03T21:07:04.523618",
     "status": "completed"
    },
    "tags": []
   },
   "outputs": [
    {
     "data": {
      "image/png": "[encoded data removed]",
      "text/plain": [
       "<Figure size 1500x800 with 1 Axes>"
      ]
     },
     "metadata": {},
     "output_type": "display_data"
    }
   ],
   "source": [
    "plt.figure(figsize=(15,8))\n",
    "sns.lineplot(data=d_master,x='total_votes',y='helpful_votes')\n",
    "plt.show()"
   ]
  },
  {
   "cell_type": "markdown",
   "id": "cad0e4c8",
   "metadata": {
    "papermill": {
     "duration": 0.06666,
     "end_time": "2022-11-03T21:07:05.224169",
     "exception": false,
     "start_time": "2022-11-03T21:07:05.157509",
     "status": "completed"
    },
    "tags": []
   },
   "source": [
    "The line plot between hwlpful and total votes."
   ]
  },
  {
   "cell_type": "code",
   "execution_count": null,
   "id": "d6c95b02",
   "metadata": {
    "papermill": {
     "duration": 0.067086,
     "end_time": "2022-11-03T21:07:05.354358",
     "exception": false,
     "start_time": "2022-11-03T21:07:05.287272",
     "status": "completed"
    },
    "tags": []
   },
   "outputs": [],
   "source": []
  },
  {
   "cell_type": "code",
   "execution_count": 202,
   "id": "bbd027ed",
   "metadata": {
    "papermill": {
     "duration": 0.093395,
     "end_time": "2022-11-03T21:07:05.515478",
     "exception": false,
     "start_time": "2022-11-03T21:07:05.422083",
     "status": "completed"
    },
    "tags": []
   },
   "outputs": [
    {
     "data": {
      "text/html": [
       "<div>\n",
       "<style scoped>\n",
       "    .dataframe tbody tr th:only-of-type {\n",
       "        vertical-align: middle;\n",
       "    }\n",
       "\n",
       "    .dataframe tbody tr th {\n",
       "        vertical-align: top;\n",
       "    }\n",
       "\n",
       "    .dataframe thead th {\n",
       "        text-align: right;\n",
       "    }\n",
       "</style>\n",
       "<table border=\"1\" class=\"dataframe\">\n",
       "  <thead>\n",
       "    <tr style=\"text-align: right;\">\n",
       "      <th></th>\n",
       "      <th>customer_id</th>\n",
       "      <th>product_title</th>\n",
       "      <th>product_category</th>\n",
       "      <th>star_rating</th>\n",
       "      <th>helpful_votes</th>\n",
       "      <th>total_votes</th>\n",
       "      <th>verified_purchase</th>\n",
       "      <th>review_date</th>\n",
       "      <th>sentiment</th>\n",
       "    </tr>\n",
       "  </thead>\n",
       "  <tbody>\n",
       "    <tr>\n",
       "      <th>0</th>\n",
       "      <td>25933450</td>\n",
       "      <td>There Was an Old Lady Who Swallowed a Shell!</td>\n",
       "      <td>Books</td>\n",
       "      <td>1</td>\n",
       "      <td>0</td>\n",
       "      <td>0</td>\n",
       "      <td>Y</td>\n",
       "      <td>2015-08-31</td>\n",
       "      <td>positive</td>\n",
       "    </tr>\n",
       "    <tr>\n",
       "      <th>1</th>\n",
       "      <td>1801372</td>\n",
       "      <td>I Saw a Friend</td>\n",
       "      <td>Books</td>\n",
       "      <td>1</td>\n",
       "      <td>0</td>\n",
       "      <td>0</td>\n",
       "      <td>Y</td>\n",
       "      <td>2015-08-31</td>\n",
       "      <td>positive</td>\n",
       "    </tr>\n",
       "    <tr>\n",
       "      <th>2</th>\n",
       "      <td>5782091</td>\n",
       "      <td>Black Lagoon, Vol. 6</td>\n",
       "      <td>Books</td>\n",
       "      <td>1</td>\n",
       "      <td>0</td>\n",
       "      <td>0</td>\n",
       "      <td>Y</td>\n",
       "      <td>2015-08-31</td>\n",
       "      <td>positive</td>\n",
       "    </tr>\n",
       "    <tr>\n",
       "      <th>3</th>\n",
       "      <td>32715830</td>\n",
       "      <td>If I Stay</td>\n",
       "      <td>Books</td>\n",
       "      <td>1</td>\n",
       "      <td>0</td>\n",
       "      <td>0</td>\n",
       "      <td>N</td>\n",
       "      <td>2015-08-31</td>\n",
       "      <td>positive</td>\n",
       "    </tr>\n",
       "    <tr>\n",
       "      <th>4</th>\n",
       "      <td>14005703</td>\n",
       "      <td>Stars 'N Strips Forever</td>\n",
       "      <td>Books</td>\n",
       "      <td>1</td>\n",
       "      <td>2</td>\n",
       "      <td>2</td>\n",
       "      <td>Y</td>\n",
       "      <td>2015-08-31</td>\n",
       "      <td>positive</td>\n",
       "    </tr>\n",
       "  </tbody>\n",
       "</table>\n",
       "</div>"
      ],
      "text/plain": [
       "  customer_id                                 product_title product_category  \\\n",
       "0    25933450  There Was an Old Lady Who Swallowed a Shell!            Books   \n",
       "1     1801372                                I Saw a Friend            Books   \n",
       "2     5782091                          Black Lagoon, Vol. 6            Books   \n",
       "3    32715830                                     If I Stay            Books   \n",
       "4    14005703                       Stars 'N Strips Forever            Books   \n",
       "\n",
       "   star_rating  helpful_votes  total_votes verified_purchase review_date  \\\n",
       "0            1              0            0                 Y  2015-08-31   \n",
       "1            1              0            0                 Y  2015-08-31   \n",
       "2            1              0            0                 Y  2015-08-31   \n",
       "3            1              0            0                 N  2015-08-31   \n",
       "4            1              2            2                 Y  2015-08-31   \n",
       "\n",
       "  sentiment  \n",
       "0  positive  \n",
       "1  positive  \n",
       "2  positive  \n",
       "3  positive  \n",
       "4  positive  "
      ]
     },
     "execution_count": 202,
     "metadata": {},
     "output_type": "execute_result"
    }
   ],
   "source": [
    "d_master.head()"
   ]
  },
  {
   "cell_type": "code",
   "execution_count": 203,
   "id": "52b1d477",
   "metadata": {
    "papermill": {
     "duration": 0.093111,
     "end_time": "2022-11-03T21:07:05.680168",
     "exception": false,
     "start_time": "2022-11-03T21:07:05.587057",
     "status": "completed"
    },
    "tags": []
   },
   "outputs": [
    {
     "name": "stdout",
     "output_type": "stream",
     "text": [
      "<class 'pandas.core.frame.DataFrame'>\n",
      "RangeIndex: 500 entries, 0 to 499\n",
      "Data columns (total 9 columns):\n",
      " #   Column             Non-Null Count  Dtype         \n",
      "---  ------             --------------  -----         \n",
      " 0   customer_id        500 non-null    object        \n",
      " 1   product_title      500 non-null    object        \n",
      " 2   product_category   500 non-null    object        \n",
      " 3   star_rating        500 non-null    int64         \n",
      " 4   helpful_votes      500 non-null    int64         \n",
      " 5   total_votes        500 non-null    int64         \n",
      " 6   verified_purchase  500 non-null    object        \n",
      " 7   review_date        500 non-null    datetime64[ns]\n",
      " 8   sentiment          500 non-null    object        \n",
      "dtypes: datetime64[ns](1), int64(3), object(5)\n",
      "memory usage: 35.3+ KB\n"
     ]
    }
   ],
   "source": [
    "d_master.info()"
   ]
  },
  {
   "cell_type": "code",
   "execution_count": null,
   "id": "40080581",
   "metadata": {
    "papermill": {
     "duration": 0.068331,
     "end_time": "2022-11-03T21:07:05.816306",
     "exception": false,
     "start_time": "2022-11-03T21:07:05.747975",
     "status": "completed"
    },
    "tags": []
   },
   "outputs": [],
   "source": []
  },
  {
   "cell_type": "code",
   "execution_count": 204,
   "id": "97e8e62f",
   "metadata": {
    "papermill": {
     "duration": 0.391617,
     "end_time": "2022-11-03T21:07:06.278540",
     "exception": false,
     "start_time": "2022-11-03T21:07:05.886923",
     "status": "completed"
    },
    "tags": []
   },
   "outputs": [
    {
     "data": {
      "text/plain": [
       "<Axes: xlabel='sentiment', ylabel='helpful_votes'>"
      ]
     },
     "execution_count": 204,
     "metadata": {},
     "output_type": "execute_result"
    },
    {
     "data": {
      "image/png": "[encoded data removed]",
      "text/plain": [
       "<Figure size 1500x800 with 1 Axes>"
      ]
     },
     "metadata": {},
     "output_type": "display_data"
    }
   ],
   "source": [
    "plt.figure(figsize=(15,8))\n",
    "sns.barplot(data=d_master,y='helpful_votes',x='sentiment')"
   ]
  },
  {
   "cell_type": "code",
   "execution_count": 205,
   "id": "97826323",
   "metadata": {
    "papermill": {
     "duration": 0.084371,
     "end_time": "2022-11-03T21:07:06.427524",
     "exception": false,
     "start_time": "2022-11-03T21:07:06.343153",
     "status": "completed"
    },
    "tags": []
   },
   "outputs": [
    {
     "data": {
      "text/plain": [
       "sentiment\n",
       "positive    398\n",
       "negaitve    102\n",
       "Name: count, dtype: int64"
      ]
     },
     "execution_count": 205,
     "metadata": {},
     "output_type": "execute_result"
    }
   ],
   "source": [
    "d_master.sentiment.value_counts()"
   ]
  },
  {
   "cell_type": "code",
   "execution_count": 206,
   "id": "09be6a4d",
   "metadata": {
    "papermill": {
     "duration": 0.079903,
     "end_time": "2022-11-03T21:07:06.573988",
     "exception": false,
     "start_time": "2022-11-03T21:07:06.494085",
     "status": "completed"
    },
    "tags": []
   },
   "outputs": [
    {
     "data": {
      "text/plain": [
       "star_rating\n",
       "1    398\n",
       "0    102\n",
       "Name: count, dtype: int64"
      ]
     },
     "execution_count": 206,
     "metadata": {},
     "output_type": "execute_result"
    }
   ],
   "source": [
    "d_master.star_rating.value_counts()"
   ]
  },
  {
   "cell_type": "code",
   "execution_count": 207,
   "id": "32896181",
   "metadata": {
    "papermill": {
     "duration": 0.08178,
     "end_time": "2022-11-03T21:07:06.722423",
     "exception": false,
     "start_time": "2022-11-03T21:07:06.640643",
     "status": "completed"
    },
    "tags": []
   },
   "outputs": [],
   "source": [
    "df_total=d_master.groupby(['product_category','sentiment'])['total_votes'].sum()"
   ]
  },
  {
   "cell_type": "code",
   "execution_count": 208,
   "id": "7e9bff3c",
   "metadata": {
    "papermill": {
     "duration": 0.080643,
     "end_time": "2022-11-03T21:07:06.870207",
     "exception": false,
     "start_time": "2022-11-03T21:07:06.789564",
     "status": "completed"
    },
    "tags": []
   },
   "outputs": [],
   "source": [
    "df_total=df_total.to_csv(\"total_votes.csv\")"
   ]
  },
  {
   "cell_type": "code",
   "execution_count": 209,
   "id": "a0cf14c4",
   "metadata": {
    "papermill": {
     "duration": 0.081261,
     "end_time": "2022-11-03T21:07:07.017501",
     "exception": false,
     "start_time": "2022-11-03T21:07:06.936240",
     "status": "completed"
    },
    "tags": []
   },
   "outputs": [],
   "source": [
    "df_total=pd.read_csv(\"total_votes.csv\")"
   ]
  },
  {
   "cell_type": "code",
   "execution_count": 210,
   "id": "110b36a9",
   "metadata": {
    "papermill": {
     "duration": 0.091305,
     "end_time": "2022-11-03T21:07:07.179910",
     "exception": false,
     "start_time": "2022-11-03T21:07:07.088605",
     "status": "completed"
    },
    "tags": []
   },
   "outputs": [
    {
     "data": {
      "text/html": [
       "<div>\n",
       "<style scoped>\n",
       "    .dataframe tbody tr th:only-of-type {\n",
       "        vertical-align: middle;\n",
       "    }\n",
       "\n",
       "    .dataframe tbody tr th {\n",
       "        vertical-align: top;\n",
       "    }\n",
       "\n",
       "    .dataframe thead th {\n",
       "        text-align: right;\n",
       "    }\n",
       "</style>\n",
       "<table border=\"1\" class=\"dataframe\">\n",
       "  <thead>\n",
       "    <tr style=\"text-align: right;\">\n",
       "      <th></th>\n",
       "      <th>product_category</th>\n",
       "      <th>sentiment</th>\n",
       "      <th>total_votes</th>\n",
       "    </tr>\n",
       "  </thead>\n",
       "  <tbody>\n",
       "    <tr>\n",
       "      <th>0</th>\n",
       "      <td>Books</td>\n",
       "      <td>negaitve</td>\n",
       "      <td>61</td>\n",
       "    </tr>\n",
       "    <tr>\n",
       "      <th>1</th>\n",
       "      <td>Books</td>\n",
       "      <td>positive</td>\n",
       "      <td>35</td>\n",
       "    </tr>\n",
       "    <tr>\n",
       "      <th>2</th>\n",
       "      <td>Digital_Ebook_Purchase</td>\n",
       "      <td>negaitve</td>\n",
       "      <td>111</td>\n",
       "    </tr>\n",
       "    <tr>\n",
       "      <th>3</th>\n",
       "      <td>Digital_Ebook_Purchase</td>\n",
       "      <td>positive</td>\n",
       "      <td>111</td>\n",
       "    </tr>\n",
       "    <tr>\n",
       "      <th>4</th>\n",
       "      <td>Grocery</td>\n",
       "      <td>negaitve</td>\n",
       "      <td>17</td>\n",
       "    </tr>\n",
       "    <tr>\n",
       "      <th>5</th>\n",
       "      <td>Grocery</td>\n",
       "      <td>positive</td>\n",
       "      <td>50</td>\n",
       "    </tr>\n",
       "    <tr>\n",
       "      <th>6</th>\n",
       "      <td>Jewelry</td>\n",
       "      <td>negaitve</td>\n",
       "      <td>13</td>\n",
       "    </tr>\n",
       "    <tr>\n",
       "      <th>7</th>\n",
       "      <td>Jewelry</td>\n",
       "      <td>positive</td>\n",
       "      <td>69</td>\n",
       "    </tr>\n",
       "    <tr>\n",
       "      <th>8</th>\n",
       "      <td>PC</td>\n",
       "      <td>negaitve</td>\n",
       "      <td>17</td>\n",
       "    </tr>\n",
       "    <tr>\n",
       "      <th>9</th>\n",
       "      <td>PC</td>\n",
       "      <td>positive</td>\n",
       "      <td>50</td>\n",
       "    </tr>\n",
       "  </tbody>\n",
       "</table>\n",
       "</div>"
      ],
      "text/plain": [
       "         product_category sentiment  total_votes\n",
       "0                   Books  negaitve           61\n",
       "1                   Books  positive           35\n",
       "2  Digital_Ebook_Purchase  negaitve          111\n",
       "3  Digital_Ebook_Purchase  positive          111\n",
       "4                 Grocery  negaitve           17\n",
       "5                 Grocery  positive           50\n",
       "6                 Jewelry  negaitve           13\n",
       "7                 Jewelry  positive           69\n",
       "8                      PC  negaitve           17\n",
       "9                      PC  positive           50"
      ]
     },
     "execution_count": 210,
     "metadata": {},
     "output_type": "execute_result"
    }
   ],
   "source": [
    "df_total"
   ]
  },
  {
   "cell_type": "code",
   "execution_count": 211,
   "id": "f3aebda4",
   "metadata": {
    "papermill": {
     "duration": 0.454449,
     "end_time": "2022-11-03T21:07:07.706159",
     "exception": false,
     "start_time": "2022-11-03T21:07:07.251710",
     "status": "completed"
    },
    "tags": []
   },
   "outputs": [
    {
     "data": {
      "text/plain": [
       "<Axes: xlabel='sentiment', ylabel='total_votes'>"
      ]
     },
     "execution_count": 211,
     "metadata": {},
     "output_type": "execute_result"
    },
    {
     "data": {
      "image/png": "[encoded data removed]",
      "text/plain": [
       "<Figure size 1500x800 with 1 Axes>"
      ]
     },
     "metadata": {},
     "output_type": "display_data"
    }
   ],
   "source": [
    "plt.figure(figsize=(15,8))\n",
    "sns.barplot(data=df_total,y='total_votes',x='sentiment',hue='product_category',palette='rainbow')"
   ]
  },
  {
   "cell_type": "markdown",
   "id": "99fe854f",
   "metadata": {
    "papermill": {
     "duration": 0.072327,
     "end_time": "2022-11-03T21:07:07.850273",
     "exception": false,
     "start_time": "2022-11-03T21:07:07.777946",
     "status": "completed"
    },
    "tags": []
   },
   "source": [
    "The above graph shows the distribution of total votes between negative and positive sentiments for different categories."
   ]
  },
  {
   "cell_type": "code",
   "execution_count": 212,
   "id": "968becd4",
   "metadata": {
    "papermill": {
     "duration": 0.08479,
     "end_time": "2022-11-03T21:07:08.004781",
     "exception": false,
     "start_time": "2022-11-03T21:07:07.919991",
     "status": "completed"
    },
    "tags": []
   },
   "outputs": [],
   "source": [
    "df_helpful=d_master.groupby(['product_category','sentiment'])['helpful_votes'].sum()"
   ]
  },
  {
   "cell_type": "code",
   "execution_count": 213,
   "id": "1e141c9b",
   "metadata": {
    "papermill": {
     "duration": 0.088701,
     "end_time": "2022-11-03T21:07:08.160853",
     "exception": false,
     "start_time": "2022-11-03T21:07:08.072152",
     "status": "completed"
    },
    "tags": []
   },
   "outputs": [
    {
     "data": {
      "text/html": [
       "<div>\n",
       "<style scoped>\n",
       "    .dataframe tbody tr th:only-of-type {\n",
       "        vertical-align: middle;\n",
       "    }\n",
       "\n",
       "    .dataframe tbody tr th {\n",
       "        vertical-align: top;\n",
       "    }\n",
       "\n",
       "    .dataframe thead th {\n",
       "        text-align: right;\n",
       "    }\n",
       "</style>\n",
       "<table border=\"1\" class=\"dataframe\">\n",
       "  <thead>\n",
       "    <tr style=\"text-align: right;\">\n",
       "      <th></th>\n",
       "      <th>product_category</th>\n",
       "      <th>sentiment</th>\n",
       "      <th>helpful_votes</th>\n",
       "    </tr>\n",
       "  </thead>\n",
       "  <tbody>\n",
       "    <tr>\n",
       "      <th>0</th>\n",
       "      <td>Books</td>\n",
       "      <td>negaitve</td>\n",
       "      <td>24</td>\n",
       "    </tr>\n",
       "    <tr>\n",
       "      <th>1</th>\n",
       "      <td>Books</td>\n",
       "      <td>positive</td>\n",
       "      <td>30</td>\n",
       "    </tr>\n",
       "    <tr>\n",
       "      <th>2</th>\n",
       "      <td>Digital_Ebook_Purchase</td>\n",
       "      <td>negaitve</td>\n",
       "      <td>71</td>\n",
       "    </tr>\n",
       "    <tr>\n",
       "      <th>3</th>\n",
       "      <td>Digital_Ebook_Purchase</td>\n",
       "      <td>positive</td>\n",
       "      <td>87</td>\n",
       "    </tr>\n",
       "    <tr>\n",
       "      <th>4</th>\n",
       "      <td>Grocery</td>\n",
       "      <td>negaitve</td>\n",
       "      <td>8</td>\n",
       "    </tr>\n",
       "    <tr>\n",
       "      <th>5</th>\n",
       "      <td>Grocery</td>\n",
       "      <td>positive</td>\n",
       "      <td>41</td>\n",
       "    </tr>\n",
       "    <tr>\n",
       "      <th>6</th>\n",
       "      <td>Jewelry</td>\n",
       "      <td>negaitve</td>\n",
       "      <td>11</td>\n",
       "    </tr>\n",
       "    <tr>\n",
       "      <th>7</th>\n",
       "      <td>Jewelry</td>\n",
       "      <td>positive</td>\n",
       "      <td>63</td>\n",
       "    </tr>\n",
       "    <tr>\n",
       "      <th>8</th>\n",
       "      <td>PC</td>\n",
       "      <td>negaitve</td>\n",
       "      <td>7</td>\n",
       "    </tr>\n",
       "    <tr>\n",
       "      <th>9</th>\n",
       "      <td>PC</td>\n",
       "      <td>positive</td>\n",
       "      <td>40</td>\n",
       "    </tr>\n",
       "  </tbody>\n",
       "</table>\n",
       "</div>"
      ],
      "text/plain": [
       "         product_category sentiment  helpful_votes\n",
       "0                   Books  negaitve             24\n",
       "1                   Books  positive             30\n",
       "2  Digital_Ebook_Purchase  negaitve             71\n",
       "3  Digital_Ebook_Purchase  positive             87\n",
       "4                 Grocery  negaitve              8\n",
       "5                 Grocery  positive             41\n",
       "6                 Jewelry  negaitve             11\n",
       "7                 Jewelry  positive             63\n",
       "8                      PC  negaitve              7\n",
       "9                      PC  positive             40"
      ]
     },
     "execution_count": 213,
     "metadata": {},
     "output_type": "execute_result"
    }
   ],
   "source": [
    "df_helpful=df_helpful.to_csv(\"helpful_votes.csv\")\n",
    "df_helpful=pd.read_csv(\"helpful_votes.csv\")\n",
    "df_helpful"
   ]
  },
  {
   "cell_type": "code",
   "execution_count": 214,
   "id": "a1d29b60",
   "metadata": {
    "papermill": {
     "duration": 0.573766,
     "end_time": "2022-11-03T21:07:08.803157",
     "exception": false,
     "start_time": "2022-11-03T21:07:08.229391",
     "status": "completed"
    },
    "tags": []
   },
   "outputs": [
    {
     "data": {
      "text/plain": [
       "<Axes: xlabel='sentiment', ylabel='helpful_votes'>"
      ]
     },
     "execution_count": 214,
     "metadata": {},
     "output_type": "execute_result"
    },
    {
     "data": {
      "image/png": "[encoded data removed]",
      "text/plain": [
       "<Figure size 1500x800 with 1 Axes>"
      ]
     },
     "metadata": {},
     "output_type": "display_data"
    }
   ],
   "source": [
    "plt.figure(figsize=(15,8))\n",
    "sns.barplot(data=df_helpful,y='helpful_votes',x='sentiment',hue='product_category',palette='inferno')"
   ]
  },
  {
   "cell_type": "markdown",
   "id": "dd73e872",
   "metadata": {
    "papermill": {
     "duration": 0.066524,
     "end_time": "2022-11-03T21:07:08.936257",
     "exception": false,
     "start_time": "2022-11-03T21:07:08.869733",
     "status": "completed"
    },
    "tags": []
   },
   "source": [
    "The above graph shows the distribution of helpful votes between negative and positive sentiments for different categories."
   ]
  },
  {
   "cell_type": "code",
   "execution_count": 215,
   "id": "0f97acf7",
   "metadata": {
    "papermill": {
     "duration": 0.095166,
     "end_time": "2022-11-03T21:07:09.102269",
     "exception": false,
     "start_time": "2022-11-03T21:07:09.007103",
     "status": "completed"
    },
    "tags": []
   },
   "outputs": [
    {
     "name": "stdout",
     "output_type": "stream",
     "text": [
      "<class 'pandas.core.frame.DataFrame'>\n",
      "RangeIndex: 500 entries, 0 to 499\n",
      "Data columns (total 9 columns):\n",
      " #   Column             Non-Null Count  Dtype         \n",
      "---  ------             --------------  -----         \n",
      " 0   customer_id        500 non-null    object        \n",
      " 1   product_title      500 non-null    object        \n",
      " 2   product_category   500 non-null    object        \n",
      " 3   star_rating        500 non-null    int64         \n",
      " 4   helpful_votes      500 non-null    int64         \n",
      " 5   total_votes        500 non-null    int64         \n",
      " 6   verified_purchase  500 non-null    object        \n",
      " 7   review_date        500 non-null    datetime64[ns]\n",
      " 8   sentiment          500 non-null    object        \n",
      "dtypes: datetime64[ns](1), int64(3), object(5)\n",
      "memory usage: 35.3+ KB\n"
     ]
    }
   ],
   "source": [
    "d_master.info()"
   ]
  },
  {
   "cell_type": "code",
   "execution_count": null,
   "id": "fd586f85",
   "metadata": {
    "papermill": {
     "duration": 0.071245,
     "end_time": "2022-11-03T21:07:09.242582",
     "exception": false,
     "start_time": "2022-11-03T21:07:09.171337",
     "status": "completed"
    },
    "tags": []
   },
   "outputs": [],
   "source": []
  },
  {
   "cell_type": "code",
   "execution_count": null,
   "id": "464571c1",
   "metadata": {
    "papermill": {
     "duration": 0.069541,
     "end_time": "2022-11-03T21:07:09.383932",
     "exception": false,
     "start_time": "2022-11-03T21:07:09.314391",
     "status": "completed"
    },
    "tags": []
   },
   "outputs": [],
   "source": []
  },
  {
   "cell_type": "code",
   "execution_count": 216,
   "id": "95167eeb",
   "metadata": {
    "papermill": {
     "duration": 0.090277,
     "end_time": "2022-11-03T21:07:09.543531",
     "exception": false,
     "start_time": "2022-11-03T21:07:09.453254",
     "status": "completed"
    },
    "tags": []
   },
   "outputs": [
    {
     "data": {
      "text/html": [
       "<div>\n",
       "<style scoped>\n",
       "    .dataframe tbody tr th:only-of-type {\n",
       "        vertical-align: middle;\n",
       "    }\n",
       "\n",
       "    .dataframe tbody tr th {\n",
       "        vertical-align: top;\n",
       "    }\n",
       "\n",
       "    .dataframe thead th {\n",
       "        text-align: right;\n",
       "    }\n",
       "</style>\n",
       "<table border=\"1\" class=\"dataframe\">\n",
       "  <thead>\n",
       "    <tr style=\"text-align: right;\">\n",
       "      <th></th>\n",
       "      <th>customer_id</th>\n",
       "      <th>product_title</th>\n",
       "      <th>product_category</th>\n",
       "      <th>star_rating</th>\n",
       "      <th>helpful_votes</th>\n",
       "      <th>total_votes</th>\n",
       "      <th>verified_purchase</th>\n",
       "      <th>review_date</th>\n",
       "      <th>sentiment</th>\n",
       "    </tr>\n",
       "  </thead>\n",
       "  <tbody>\n",
       "    <tr>\n",
       "      <th>0</th>\n",
       "      <td>25933450</td>\n",
       "      <td>There Was an Old Lady Who Swallowed a Shell!</td>\n",
       "      <td>Books</td>\n",
       "      <td>1</td>\n",
       "      <td>0</td>\n",
       "      <td>0</td>\n",
       "      <td>Y</td>\n",
       "      <td>2015-08-31</td>\n",
       "      <td>positive</td>\n",
       "    </tr>\n",
       "    <tr>\n",
       "      <th>1</th>\n",
       "      <td>1801372</td>\n",
       "      <td>I Saw a Friend</td>\n",
       "      <td>Books</td>\n",
       "      <td>1</td>\n",
       "      <td>0</td>\n",
       "      <td>0</td>\n",
       "      <td>Y</td>\n",
       "      <td>2015-08-31</td>\n",
       "      <td>positive</td>\n",
       "    </tr>\n",
       "    <tr>\n",
       "      <th>2</th>\n",
       "      <td>5782091</td>\n",
       "      <td>Black Lagoon, Vol. 6</td>\n",
       "      <td>Books</td>\n",
       "      <td>1</td>\n",
       "      <td>0</td>\n",
       "      <td>0</td>\n",
       "      <td>Y</td>\n",
       "      <td>2015-08-31</td>\n",
       "      <td>positive</td>\n",
       "    </tr>\n",
       "    <tr>\n",
       "      <th>3</th>\n",
       "      <td>32715830</td>\n",
       "      <td>If I Stay</td>\n",
       "      <td>Books</td>\n",
       "      <td>1</td>\n",
       "      <td>0</td>\n",
       "      <td>0</td>\n",
       "      <td>N</td>\n",
       "      <td>2015-08-31</td>\n",
       "      <td>positive</td>\n",
       "    </tr>\n",
       "    <tr>\n",
       "      <th>4</th>\n",
       "      <td>14005703</td>\n",
       "      <td>Stars 'N Strips Forever</td>\n",
       "      <td>Books</td>\n",
       "      <td>1</td>\n",
       "      <td>2</td>\n",
       "      <td>2</td>\n",
       "      <td>Y</td>\n",
       "      <td>2015-08-31</td>\n",
       "      <td>positive</td>\n",
       "    </tr>\n",
       "  </tbody>\n",
       "</table>\n",
       "</div>"
      ],
      "text/plain": [
       "  customer_id                                 product_title product_category  \\\n",
       "0    25933450  There Was an Old Lady Who Swallowed a Shell!            Books   \n",
       "1     1801372                                I Saw a Friend            Books   \n",
       "2     5782091                          Black Lagoon, Vol. 6            Books   \n",
       "3    32715830                                     If I Stay            Books   \n",
       "4    14005703                       Stars 'N Strips Forever            Books   \n",
       "\n",
       "   star_rating  helpful_votes  total_votes verified_purchase review_date  \\\n",
       "0            1              0            0                 Y  2015-08-31   \n",
       "1            1              0            0                 Y  2015-08-31   \n",
       "2            1              0            0                 Y  2015-08-31   \n",
       "3            1              0            0                 N  2015-08-31   \n",
       "4            1              2            2                 Y  2015-08-31   \n",
       "\n",
       "  sentiment  \n",
       "0  positive  \n",
       "1  positive  \n",
       "2  positive  \n",
       "3  positive  \n",
       "4  positive  "
      ]
     },
     "execution_count": 216,
     "metadata": {},
     "output_type": "execute_result"
    }
   ],
   "source": [
    "d_master.head()"
   ]
  },
  {
   "cell_type": "code",
   "execution_count": 220,
   "id": "c6af1dc1",
   "metadata": {
    "papermill": {
     "duration": 0.086895,
     "end_time": "2022-11-03T21:07:09.843898",
     "exception": false,
     "start_time": "2022-11-03T21:07:09.757003",
     "status": "completed"
    },
    "tags": []
   },
   "outputs": [
    {
     "data": {
      "text/html": [
       "<div>\n",
       "<style scoped>\n",
       "    .dataframe tbody tr th:only-of-type {\n",
       "        vertical-align: middle;\n",
       "    }\n",
       "\n",
       "    .dataframe tbody tr th {\n",
       "        vertical-align: top;\n",
       "    }\n",
       "\n",
       "    .dataframe thead th {\n",
       "        text-align: right;\n",
       "    }\n",
       "</style>\n",
       "<table border=\"1\" class=\"dataframe\">\n",
       "  <thead>\n",
       "    <tr style=\"text-align: right;\">\n",
       "      <th></th>\n",
       "      <th>customer_id</th>\n",
       "      <th>product_title</th>\n",
       "      <th>product_category</th>\n",
       "      <th>star_rating</th>\n",
       "      <th>helpful_votes</th>\n",
       "      <th>total_votes</th>\n",
       "      <th>verified_purchase</th>\n",
       "      <th>review_date</th>\n",
       "      <th>sentiment</th>\n",
       "    </tr>\n",
       "  </thead>\n",
       "  <tbody>\n",
       "    <tr>\n",
       "      <th>0</th>\n",
       "      <td>25933450</td>\n",
       "      <td>There Was an Old Lady Who Swallowed a Shell!</td>\n",
       "      <td>Books</td>\n",
       "      <td>1</td>\n",
       "      <td>0</td>\n",
       "      <td>0</td>\n",
       "      <td>Y</td>\n",
       "      <td>2015-08-31</td>\n",
       "      <td>positive</td>\n",
       "    </tr>\n",
       "    <tr>\n",
       "      <th>1</th>\n",
       "      <td>1801372</td>\n",
       "      <td>I Saw a Friend</td>\n",
       "      <td>Books</td>\n",
       "      <td>1</td>\n",
       "      <td>0</td>\n",
       "      <td>0</td>\n",
       "      <td>Y</td>\n",
       "      <td>2015-08-31</td>\n",
       "      <td>positive</td>\n",
       "    </tr>\n",
       "    <tr>\n",
       "      <th>2</th>\n",
       "      <td>5782091</td>\n",
       "      <td>Black Lagoon, Vol. 6</td>\n",
       "      <td>Books</td>\n",
       "      <td>1</td>\n",
       "      <td>0</td>\n",
       "      <td>0</td>\n",
       "      <td>Y</td>\n",
       "      <td>2015-08-31</td>\n",
       "      <td>positive</td>\n",
       "    </tr>\n",
       "    <tr>\n",
       "      <th>3</th>\n",
       "      <td>32715830</td>\n",
       "      <td>If I Stay</td>\n",
       "      <td>Books</td>\n",
       "      <td>1</td>\n",
       "      <td>0</td>\n",
       "      <td>0</td>\n",
       "      <td>N</td>\n",
       "      <td>2015-08-31</td>\n",
       "      <td>positive</td>\n",
       "    </tr>\n",
       "    <tr>\n",
       "      <th>4</th>\n",
       "      <td>14005703</td>\n",
       "      <td>Stars 'N Strips Forever</td>\n",
       "      <td>Books</td>\n",
       "      <td>1</td>\n",
       "      <td>2</td>\n",
       "      <td>2</td>\n",
       "      <td>Y</td>\n",
       "      <td>2015-08-31</td>\n",
       "      <td>positive</td>\n",
       "    </tr>\n",
       "  </tbody>\n",
       "</table>\n",
       "</div>"
      ],
      "text/plain": [
       "  customer_id                                 product_title product_category  \\\n",
       "0    25933450  There Was an Old Lady Who Swallowed a Shell!            Books   \n",
       "1     1801372                                I Saw a Friend            Books   \n",
       "2     5782091                          Black Lagoon, Vol. 6            Books   \n",
       "3    32715830                                     If I Stay            Books   \n",
       "4    14005703                       Stars 'N Strips Forever            Books   \n",
       "\n",
       "   star_rating  helpful_votes  total_votes verified_purchase review_date  \\\n",
       "0            1              0            0                 Y  2015-08-31   \n",
       "1            1              0            0                 Y  2015-08-31   \n",
       "2            1              0            0                 Y  2015-08-31   \n",
       "3            1              0            0                 N  2015-08-31   \n",
       "4            1              2            2                 Y  2015-08-31   \n",
       "\n",
       "  sentiment  \n",
       "0  positive  \n",
       "1  positive  \n",
       "2  positive  \n",
       "3  positive  \n",
       "4  positive  "
      ]
     },
     "execution_count": 220,
     "metadata": {},
     "output_type": "execute_result"
    }
   ],
   "source": [
    "d_master.head()"
   ]
  },
  {
   "cell_type": "code",
   "execution_count": 221,
   "id": "e5105dc9",
   "metadata": {
    "papermill": {
     "duration": 0.081961,
     "end_time": "2022-11-03T21:07:09.994139",
     "exception": false,
     "start_time": "2022-11-03T21:07:09.912178",
     "status": "completed"
    },
    "tags": []
   },
   "outputs": [
    {
     "data": {
      "text/plain": [
       "array([3, 3, 2, 2, 2, 2, 2, 1, 1, 1, 1, 1, 1, 1, 1, 1, 1, 1, 1, 1, 1, 1,\n",
       "       1, 1, 1, 1, 1, 1, 1, 1, 1, 1, 1, 1, 1, 1, 1, 1, 1, 1, 1, 1, 1, 1,\n",
       "       1, 1, 1, 1, 1, 1, 1, 1, 1, 1, 1, 1, 1, 1, 1, 1, 1, 1, 1, 1, 1, 1,\n",
       "       1, 1, 1, 1, 1, 1, 1, 1, 1, 1, 1, 1, 1, 1, 1, 1, 1, 1, 1, 1, 1, 1,\n",
       "       1, 1, 1, 1, 1, 1, 1, 1, 1, 1, 1, 1, 1, 1, 1, 1, 1, 1, 1, 1, 1, 1,\n",
       "       1, 1, 1, 1, 1, 1, 1, 1, 1, 1, 1, 1, 1, 1, 1, 1, 1, 1, 1, 1, 1, 1,\n",
       "       1, 1, 1, 1, 1, 1, 1, 1, 1, 1, 1, 1, 1, 1, 1, 1, 1, 1, 1, 1, 1, 1,\n",
       "       1, 1, 1, 1, 1, 1, 1, 1, 1, 1, 1, 1, 1, 1, 1, 1, 1, 1, 1, 1, 1, 1,\n",
       "       1, 1, 1, 1, 1, 1, 1, 1, 1, 1, 1, 1, 1, 1, 1, 1, 1, 1, 1, 1, 1, 1,\n",
       "       1, 1, 1, 1, 1, 1, 1, 1, 1, 1, 1, 1, 1, 1, 1, 1, 1, 1, 1, 1, 1, 1,\n",
       "       1, 1, 1, 1, 1, 1, 1, 1, 1, 1, 1, 1, 1, 1, 1, 1, 1, 1, 1, 1, 1, 1,\n",
       "       1, 1, 1, 1, 1, 1, 1, 1, 1, 1, 1, 1, 1, 1, 1, 1, 1, 1, 1, 1, 1, 1,\n",
       "       1, 1, 1, 1, 1, 1, 1, 1, 1, 1, 1, 1, 1, 1, 1, 1, 1, 1, 1, 1, 1, 1,\n",
       "       1, 1, 1, 1, 1, 1, 1, 1, 1, 1, 1, 1, 1, 1, 1, 1, 1, 1, 1, 1, 1, 1,\n",
       "       1, 1, 1, 1, 1, 1, 1, 1, 1, 1, 1, 1, 1, 1, 1, 1, 1, 1, 1, 1, 1, 1,\n",
       "       1, 1, 1, 1, 1, 1, 1, 1, 1, 1, 1, 1, 1, 1, 1, 1, 1, 1, 1, 1, 1, 1,\n",
       "       1, 1, 1, 1, 1, 1, 1, 1, 1, 1, 1, 1, 1, 1, 1, 1, 1, 1, 1, 1, 1, 1,\n",
       "       1, 1, 1, 1, 1, 1, 1, 1, 1, 1, 1, 1, 1, 1, 1, 1, 1, 1, 1, 1, 1, 1,\n",
       "       1, 1, 1, 1, 1, 1, 1, 1, 1, 1, 1, 1, 1, 1, 1, 1, 1, 1, 1, 1, 1, 1,\n",
       "       1, 1, 1, 1, 1, 1, 1, 1, 1, 1, 1, 1, 1, 1, 1, 1, 1, 1, 1, 1, 1, 1,\n",
       "       1, 1, 1, 1, 1, 1, 1, 1, 1, 1, 1, 1, 1, 1, 1, 1, 1, 1, 1, 1, 1, 1,\n",
       "       1, 1, 1, 1, 1, 1, 1, 1, 1, 1, 1, 1, 1, 1, 1, 1, 1, 1, 1, 1, 1, 1,\n",
       "       1, 1, 1, 1, 1, 1, 1], dtype=int64)"
      ]
     },
     "execution_count": 221,
     "metadata": {},
     "output_type": "execute_result"
    }
   ],
   "source": [
    "d_master.customer_id.value_counts().values"
   ]
  },
  {
   "cell_type": "code",
   "execution_count": 222,
   "id": "d3b02e13",
   "metadata": {
    "papermill": {
     "duration": 0.082682,
     "end_time": "2022-11-03T21:07:10.143409",
     "exception": false,
     "start_time": "2022-11-03T21:07:10.060727",
     "status": "completed"
    },
    "tags": []
   },
   "outputs": [
    {
     "data": {
      "text/plain": [
       "customer_id\n",
       "5782091     2\n",
       "38430946    2\n",
       "40676812    2\n",
       "22456557    2\n",
       "107642      2\n",
       "Name: count, dtype: int64"
      ]
     },
     "execution_count": 222,
     "metadata": {},
     "output_type": "execute_result"
    }
   ],
   "source": [
    "d_master_2times=d_master['customer_id'].value_counts()[d_master['customer_id'].value_counts()==2]\n",
    "d_master_2times\n",
    "#these customers have bought 2 products, hence their reviews will be more important"
   ]
  },
  {
   "cell_type": "code",
   "execution_count": 223,
   "id": "96ee73ff",
   "metadata": {
    "papermill": {
     "duration": 0.08292,
     "end_time": "2022-11-03T21:07:10.295637",
     "exception": false,
     "start_time": "2022-11-03T21:07:10.212717",
     "status": "completed"
    },
    "tags": []
   },
   "outputs": [
    {
     "name": "stdout",
     "output_type": "stream",
     "text": [
      "customer_id\n",
      "5964071     3\n",
      "41137196    3\n",
      "Name: count, dtype: int64\n"
     ]
    }
   ],
   "source": [
    "d_master_3times=d_master['customer_id'].value_counts()[d_master['customer_id'].value_counts()==3]\n",
    "print(d_master_3times)\n",
    "\n",
    "#these customers have bought 3 products, hence their rewies will be of most priority"
   ]
  },
  {
   "cell_type": "markdown",
   "id": "e123d3e2",
   "metadata": {
    "papermill": {
     "duration": 0.065767,
     "end_time": "2022-11-03T21:07:10.429276",
     "exception": false,
     "start_time": "2022-11-03T21:07:10.363509",
     "status": "completed"
    },
    "tags": []
   },
   "source": [
    "Over here we are able to see customers who have shopped more that one product, hence we can give them special discounts and offer.\n",
    "\n",
    "Their reviews will also be important for us as they are our loyal customers."
   ]
  },
  {
   "cell_type": "markdown",
   "id": "d87e2433",
   "metadata": {
    "papermill": {
     "duration": 0.069678,
     "end_time": "2022-11-03T21:07:10.568566",
     "exception": false,
     "start_time": "2022-11-03T21:07:10.498888",
     "status": "completed"
    },
    "tags": []
   },
   "source": [
    "# Some Extra plots."
   ]
  },
  {
   "cell_type": "code",
   "execution_count": 225,
   "id": "0b094df6",
   "metadata": {
    "papermill": {
     "duration": 2.923067,
     "end_time": "2022-11-03T21:07:13.561776",
     "exception": false,
     "start_time": "2022-11-03T21:07:10.638709",
     "status": "completed"
    },
    "tags": []
   },
   "outputs": [
    {
     "data": {
      "text/plain": [
       "<seaborn.axisgrid.PairGrid at 0x1e6af896580>"
      ]
     },
     "execution_count": 225,
     "metadata": {},
     "output_type": "execute_result"
    },
    {
     "data": {
      "text/plain": [
       "<Figure size 2500x1500 with 0 Axes>"
      ]
     },
     "metadata": {},
     "output_type": "display_data"
    },
    {
     "data": {
      "image/png": "[encoded data removed]",
      "text/plain": [
       "<Figure size 750x750 with 12 Axes>"
      ]
     },
     "metadata": {},
     "output_type": "display_data"
    }
   ],
   "source": [
    "import warnings\n",
    "\n",
    "# Ignore FutureWarning\n",
    "warnings.filterwarnings(\"ignore\", category=FutureWarning)\n",
    "\n",
    "plt.figure(figsize=(25,15))\n",
    "sns.pairplot(d_master)#,palette='rainbow')"
   ]
  },
  {
   "cell_type": "code",
   "execution_count": 226,
   "id": "26116be2",
   "metadata": {
    "papermill": {
     "duration": 1.302701,
     "end_time": "2022-11-03T21:07:14.935690",
     "exception": false,
     "start_time": "2022-11-03T21:07:13.632989",
     "status": "completed"
    },
    "tags": []
   },
   "outputs": [
    {
     "data": {
      "image/png": "[encoded data removed]",
      "text/plain": [
       "<Figure size 1500x2000 with 4 Axes>"
      ]
     },
     "metadata": {},
     "output_type": "display_data"
    }
   ],
   "source": [
    "%matplotlib inline\n",
    "import matplotlib.pyplot as plt\n",
    "d_master.hist(bins=50,figsize=(15,20))\n",
    "plt.show()"
   ]
  },
  {
   "cell_type": "markdown",
   "id": "05059d3c",
   "metadata": {
    "papermill": {
     "duration": 0.072069,
     "end_time": "2022-11-03T21:07:15.081131",
     "exception": false,
     "start_time": "2022-11-03T21:07:15.009062",
     "status": "completed"
    },
    "tags": []
   },
   "source": [
    "# **Thank you.**"
   ]
  },
  {
   "cell_type": "code",
   "execution_count": null,
   "id": "6ec4b273-bea7-4c24-9330-6ebf1e7f4544",
   "metadata": {},
   "outputs": [],
   "source": []
  },
  {
   "cell_type": "code",
   "execution_count": null,
   "id": "16986613-007c-40da-9074-29a0344983da",
   "metadata": {},
   "outputs": [],
   "source": []
  },
  {
   "cell_type": "code",
   "execution_count": null,
   "id": "b4506224-02cd-44c6-adff-6eac99e4b413",
   "metadata": {},
   "outputs": [],
   "source": []
  },
  {
   "cell_type": "code",
   "execution_count": null,
   "id": "823733ba-49ca-4a17-bc37-bbfcd8dc8c3a",
   "metadata": {},
   "outputs": [],
   "source": []
  },
  {
   "cell_type": "code",
   "execution_count": null,
   "id": "a75ba2e9-2067-4685-8a98-7a986ff3807a",
   "metadata": {},
   "outputs": [],
   "source": []
  },
  {
   "cell_type": "code",
   "execution_count": null,
   "id": "ef169757-d97c-4b66-9996-1711100b899b",
   "metadata": {},
   "outputs": [],
   "source": []
  },
  {
   "cell_type": "code",
   "execution_count": null,
   "id": "62f42d58-e6b8-4118-89d8-4951f0115bde",
   "metadata": {},
   "outputs": [],
   "source": []
  },
  {
   "cell_type": "code",
   "execution_count": null,
   "id": "6ce39a9e-559f-4645-bd78-b15b66e0dc5b",
   "metadata": {},
   "outputs": [],
   "source": []
  },
  {
   "cell_type": "code",
   "execution_count": null,
   "id": "fb3df23a-6e22-413f-af96-15d2a667fa8a",
   "metadata": {},
   "outputs": [],
   "source": []
  },
  {
   "cell_type": "code",
   "execution_count": null,
   "id": "95258f0d-26e1-4789-a263-97d575f81517",
   "metadata": {},
   "outputs": [],
   "source": []
  },
  {
   "cell_type": "code",
   "execution_count": null,
   "id": "0f7a1910-d9e2-40bc-8409-9a72913d442e",
   "metadata": {},
   "outputs": [],
   "source": []
  },
  {
   "cell_type": "code",
   "execution_count": null,
   "id": "c620c8e6-cadd-4075-8526-02da2debe940",
   "metadata": {},
   "outputs": [],
   "source": []
  },
  {
   "cell_type": "code",
   "execution_count": null,
   "id": "d9aa5907-d6fc-489c-bb1f-d5789837b865",
   "metadata": {},
   "outputs": [],
   "source": []
  },
  {
   "cell_type": "code",
   "execution_count": null,
   "id": "b580dfe2-14e9-4511-8c9d-26312f7e25d5",
   "metadata": {},
   "outputs": [],
   "source": []
  },
  {
   "cell_type": "code",
   "execution_count": null,
   "id": "068f841e-92d4-4f94-9cad-2cc221a7c7f0",
   "metadata": {},
   "outputs": [],
   "source": []
  },
  {
   "cell_type": "code",
   "execution_count": null,
   "id": "d930452d-0f61-4021-b492-12f3a9ee43e4",
   "metadata": {},
   "outputs": [],
   "source": []
  },
  {
   "cell_type": "code",
   "execution_count": null,
   "id": "0a0d0c8e-19fd-43e5-8485-c5f88d00c687",
   "metadata": {},
   "outputs": [],
   "source": []
  },
  {
   "cell_type": "code",
   "execution_count": null,
   "id": "e4a9a053-115c-40a0-bb26-4d363aec67e0",
   "metadata": {},
   "outputs": [],
   "source": []
  },
  {
   "cell_type": "code",
   "execution_count": null,
   "id": "7fffdfa4-6aea-4a4f-924a-7d7407842775",
   "metadata": {},
   "outputs": [],
   "source": []
  },
  {
   "cell_type": "code",
   "execution_count": null,
   "id": "99eef902-8775-4735-aec5-691e04fc38cf",
   "metadata": {},
   "outputs": [],
   "source": []
  },
  {
   "cell_type": "code",
   "execution_count": null,
   "id": "3e2a6bf8-f654-448b-84ff-e005fac880b8",
   "metadata": {},
   "outputs": [],
   "source": []
  },
  {
   "cell_type": "markdown",
   "id": "56b224a7",
   "metadata": {
    "papermill": {
     "duration": 0.073861,
     "end_time": "2022-11-03T21:07:15.372242",
     "exception": false,
     "start_time": "2022-11-03T21:07:15.298381",
     "status": "completed"
    },
    "tags": []
   },
   "source": []
  }
 ],
 "metadata": {
  "kernelspec": {
   "display_name": "Python 3 (ipykernel)",
   "language": "python",
   "name": "python3"
  },
  "language_info": {
   "codemirror_mode": {
    "name": "ipython",
    "version": 3
   },
   "file_extension": ".py",
   "mimetype": "text/x-python",
   "name": "python",
   "nbconvert_exporter": "python",
   "pygments_lexer": "ipython3",
   "version": "3.9.2"
  },
  "papermill": {
   "default_parameters": {},
   "duration": 47.863679,
   "end_time": "2022-11-03T21:07:16.370953",
   "environment_variables": {},
   "exception": null,
   "input_path": "__notebook__.ipynb",
   "output_path": "__notebook__.ipynb",
   "parameters": {},
   "start_time": "2022-11-03T21:06:28.507274",
   "version": "2.3.4"
  }
 },
 "nbformat": 4,
 "nbformat_minor": 5
}
